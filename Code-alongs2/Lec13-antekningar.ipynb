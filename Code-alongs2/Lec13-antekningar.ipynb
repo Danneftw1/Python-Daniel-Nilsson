{
 "cells": [
  {
   "cell_type": "markdown",
   "metadata": {},
   "source": [
    "## Genrellt\n",
    "- instance attributer är tex metoderna i klassen\n",
    "- Vi börjar med att göra ett objekt som vi sedan instansierar med värden som sedan går igenom klassen\n",
    "- "
   ]
  },
  {
   "cell_type": "code",
   "execution_count": 3,
   "metadata": {},
   "outputs": [
    {
     "name": "stdout",
     "output_type": "stream",
     "text": [
      "21\n"
     ]
    }
   ],
   "source": [
    "year = 2021\n",
    "str(year)\n",
    "print(str(year)[-2:])\n",
    "\n",
    "# Visar hur man kan ändra en int till en string och sedan ändra vad som skrivs ut i print"
   ]
  },
  {
   "cell_type": "code",
   "execution_count": 5,
   "metadata": {},
   "outputs": [
    {
     "data": {
      "text/plain": [
       "452.3893421169302"
      ]
     },
     "execution_count": 5,
     "metadata": {},
     "output_type": "execute_result"
    }
   ],
   "source": [
    "import math\n",
    "\n",
    "class Circle:\n",
    "    def __init__(self, radie):\n",
    "        self.radie = radie\n",
    "    \n",
    "    @property\n",
    "    def area(self):\n",
    "        return math.pi * self.radie**2\n",
    "\n",
    "c = Circle(12)\n",
    "c.area"
   ]
  },
  {
   "cell_type": "code",
   "execution_count": 8,
   "metadata": {},
   "outputs": [],
   "source": [
    "import re\n",
    "\n",
    "class Person:\n",
    "    def __init__(self, name: str, age: int) -> None:\n",
    "        self.age = age\n",
    "        self.name = name\n",
    "    \n",
    "    @property\n",
    "    def age(self) -> int:\n",
    "        return self._age\n",
    "\n",
    "    @age.setter\n",
    "    def age(self, value: int) -> None:\n",
    "        if not isinstance (value, int):\n",
    "            raise TypeError(f\"Age must be int or float not {type(value)}\")\n",
    "        self._age = value\n",
    "    \n",
    "    @property\n",
    "    def name(self) -> str:\n",
    "        return self._name\n",
    "    \n",
    "    @name.setter\n",
    "    def name(self, value) -> str:\n",
    "        if re.search(r'^[A-Ö][-a-öA-Ö]+(\\s[A-Ö][-a-öA-Ö]+)?$', value.strip()) is None:\n",
    "            raise ValueError(f\"{value} is not a valid name\")\n",
    "        \n",
    "        self._name = value\n",
    "    \n",
    "    def say_hi(self) -> None:\n",
    "        print(f\"Person {self.name} says hi\")\n",
    "\n",
    "\n",
    "# Subclass (Superclass), ChildClass(ParentClass), DerivedClass(BaseClass)\n",
    "class student(Person):\n",
    "    pass\n",
    "\n",
    "\n",
    "#student1 uses __init__() from its parent class\n",
    "student1 = Person(\"Ada\", 42)\n",
    "\n",
    "#student1 uses say_hi() fom its parent class\n",
    "student1.sayhi()\n",
    "\n",
    "# so goes up in inheritance chain and finds __repr__ in objekt class\n",
    "\n",
    "\n",
    "\n",
    "try:\n",
    "# should give error\n",
    "    p = Person(\"hej\", 52)\n",
    "except ValueError as err:\n",
    "    print(err)\n",
    "   \n",
    "            "
   ]
  },
  {
   "cell_type": "code",
   "execution_count": 12,
   "metadata": {},
   "outputs": [
    {
     "name": "stdout",
     "output_type": "stream",
     "text": [
      "OldCoinStash(owner='Ivar')\n"
     ]
    }
   ],
   "source": [
    "import re\n",
    "from oldcoins import OldCoinsStash\n",
    "\n",
    "class Person:\n",
    "    def __init__(self, name: str, age: int) -> None:\n",
    "        self.age = age\n",
    "        self.name = name\n",
    "    \n",
    "    @property\n",
    "    def age(self) -> int:\n",
    "        return self._age\n",
    "\n",
    "    @age.setter\n",
    "    def age(self, value: int) -> None:\n",
    "        if not isinstance (value, int):\n",
    "            raise TypeError(f\"Age must be int or float not {type(value)}\")\n",
    "        self._age = value\n",
    "    \n",
    "    @property\n",
    "    def name(self) -> str:\n",
    "        return self._name\n",
    "    \n",
    "    @name.setter\n",
    "    def name(self, value) -> str:\n",
    "        if re.search(r'^[A-Ö][-a-öA-Ö]+(\\s[A-Ö][-a-öA-Ö]+)?$', value.strip()) is None:\n",
    "            raise ValueError(f\"{value} is not a valid name\")\n",
    "        \n",
    "        self._name = value\n",
    "    \n",
    "    def say_hi(self) -> None:\n",
    "        print(f\"Person {self.name} says hi\")\n",
    "\n",
    "\n",
    "\n",
    "class Student(Person):\n",
    "    \"\"\"A Student is a Person that knows a language\"\"\"\n",
    "    # Override __init__()\n",
    "    def __init__(self, name: str, age: int, language: str) -> None:\n",
    "        # with super we look at the parent class and uses their __init__(name, age)\n",
    "        # delegating to parent\n",
    "        super().__init__(name, age)\n",
    "        self.language = language\n",
    "    \n",
    "    # TODO make language into a property \n",
    "\n",
    "    #overriding say_hi() method from Person class\n",
    "    # checks childclass first, then the parent class\n",
    "    def say_hi(self) -> None:\n",
    "        print(f\"Student {self.name} speaks {self.language}\")\n",
    "\n",
    "\n",
    "\n",
    "class Viking(Person):\n",
    "    \"\"\"A viking is a person that has an OldCoinsStash\"\"\"\n",
    "    def __init__(self, name: str, age: int) -> None:\n",
    "        super().__init__(name, age)\n",
    "        # composition has a OldCoinsStash\n",
    "        self.stash = OldCoinsStash(self.name)\n",
    "\n",
    "    \n",
    "\n",
    "student2 = Person(\"Urban Lindström\", 22)\n",
    "person = Student(\"Bodil\", 26, \"Java\")\n",
    "viking = Viking(\"Ivar\", 22)\n",
    "\n",
    "for person in (student2, person, viking):\n",
    "    person.say_hi()\n",
    "    # note Viking has no say_hi defined in teh class, so Python looks up the inheritance chain and finds it in Person Class."
   ]
  }
 ],
 "metadata": {
  "kernelspec": {
   "display_name": "Python 3.9.13 ('Python-Daniel-Nilsson-dM3wHzD4')",
   "language": "python",
   "name": "python3"
  },
  "language_info": {
   "codemirror_mode": {
    "name": "ipython",
    "version": 3
   },
   "file_extension": ".py",
   "mimetype": "text/x-python",
   "name": "python",
   "nbconvert_exporter": "python",
   "pygments_lexer": "ipython3",
   "version": "3.9.13"
  },
  "orig_nbformat": 4,
  "vscode": {
   "interpreter": {
    "hash": "c3a8699ff25c9cbc0813ce7fc610555f4abadcd389eeaf7d4f4aa58333d28396"
   }
  }
 },
 "nbformat": 4,
 "nbformat_minor": 2
}
