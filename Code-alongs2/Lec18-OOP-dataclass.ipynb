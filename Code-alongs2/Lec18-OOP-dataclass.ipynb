{
 "cells": [
  {
   "cell_type": "markdown",
   "metadata": {},
   "source": [
    "## Dataclass\n",
    "\n",
    "- give us some boilerplate code for free\n",
    "- usually used for classes that stores alot of data\n",
    "- in method heavy classes, dataclass might not help much\n",
    "\n",
    "gives free:\n",
    "-`__init__()`\n",
    "-`__repr__()`\n",
    "-`__eq__()`\n",
    "- and more"
   ]
  },
  {
   "cell_type": "code",
   "execution_count": 9,
   "metadata": {},
   "outputs": [
    {
     "name": "stdout",
     "output_type": "stream",
     "text": [
      "Prefix(value=42, unit='unit', prefix_symbol=None)\n"
     ]
    }
   ],
   "source": [
    "from __future__ import annotations\n",
    "from dataclasses import dataclass\n",
    "\n",
    "@dataclass\n",
    "class Prefix:\n",
    "    # fields will go into automatically generated __init__(), __repr__()\n",
    "    # fields - variable: type annotation\n",
    "    value: int | float # positional argument\n",
    "    unit: str = \"unit\" # keyword argument\n",
    "    prefix_symbol: str = None\n",
    "\n",
    "    # bare class attributes, they are not in __init__ or __repr__\n",
    "    # note they don't have type annotation so they are not fields\n",
    "    symbol = \"T G M k h d c m µ n p\".split()\n",
    "    names = \"tera giga mega kilo hekto deci centi milli mikro nano piko\".split()\n",
    "    values = (10**i for i in (12,9,6,3,2,-1,-2,-3,-6,-9,-12))\n",
    "\n",
    "    @property\n",
    "    def value(self):\n",
    "        print(\"value getter\")\n",
    "        return self._value\n",
    "\n",
    "    value.setter\n",
    "    def value(self, value):\n",
    "        print(\"value setter\")\n",
    "        if not isinstance(value, (float, int)):\n",
    "            raise TypeError(f\"value must be int or float, not {type(value).__name__}\")\n",
    "        self._value = value\n",
    "\n",
    "\n",
    "    # def __repr__(self):\n",
    "    #     return \"Custom __repr__()\"\n",
    "\n",
    "# in the __init__(self, value,...)\n",
    "#       self.value = value\n",
    "#       self.unit = unit\n",
    "\n",
    "try:\n",
    "    p1 = Prefix()\n",
    "except TypeError as err:\n",
    "    print(err)\n",
    "\n",
    "p1 = Prefix(42)\n",
    "print(p1) # the __repr__ picks the value which will run the getter\n",
    "\n",
    "\n",
    "\n"
   ]
  }
 ],
 "metadata": {
  "kernelspec": {
   "display_name": "Python 3.9.13 ('Python-Daniel-Nilsson-dM3wHzD4')",
   "language": "python",
   "name": "python3"
  },
  "language_info": {
   "codemirror_mode": {
    "name": "ipython",
    "version": 3
   },
   "file_extension": ".py",
   "mimetype": "text/x-python",
   "name": "python",
   "nbconvert_exporter": "python",
   "pygments_lexer": "ipython3",
   "version": "3.9.13"
  },
  "orig_nbformat": 4,
  "vscode": {
   "interpreter": {
    "hash": "c3a8699ff25c9cbc0813ce7fc610555f4abadcd389eeaf7d4f4aa58333d28396"
   }
  }
 },
 "nbformat": 4,
 "nbformat_minor": 2
}
