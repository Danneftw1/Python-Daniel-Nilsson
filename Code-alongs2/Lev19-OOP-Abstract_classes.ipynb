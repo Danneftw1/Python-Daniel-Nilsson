{
 "cells": [
  {
   "cell_type": "markdown",
   "metadata": {},
   "source": [
    "## abstract classes"
   ]
  },
  {
   "cell_type": "markdown",
   "metadata": {},
   "source": [
    "## Problem description\n",
    "\n",
    "3 developers, the task is to implement a photosynthesis method for 3 different plants"
   ]
  },
  {
   "cell_type": "code",
   "execution_count": null,
   "metadata": {},
   "outputs": [],
   "source": [
    "# developer 1 \n",
    "class VenusFlyTrap:\n",
    "    def venus_photosynthesis(self):\n",
    "        print(\"Venus eating bugs\")\n",
    "        # checks the instance class and its name\n",
    "        print(f\"{self.__class__.__name__} does photosynthesis\")\n",
    "    \n",
    "class Monstera:\n",
    "    def monstera_photosynthesis(self):\n",
    "        print(\"Money hopefully comes in...\")\n",
    "        print(f\"{self.__class__.__name__} does photosynthesis\")\n",
    "\n",
    "venus = VenusFlyTrap\n",
    "venus.venus_photosynthesis()"
   ]
  },
  {
   "cell_type": "code",
   "execution_count": null,
   "metadata": {},
   "outputs": [],
   "source": [
    "# want to use polymoophism and loop through these plants \n",
    "plants = (VenusFlyTrap(), Monstera(), MoneyPlant())"
   ]
  },
  {
   "cell_type": "markdown",
   "metadata": {},
   "source": [
    "## ABC - abstract base class\n",
    "\n",
    "- can make a base class abstract by giving it at least 1 abstract method\n",
    "- can't instantiate from an abstract class\n",
    "- subclasses of this abstract class, must implement the abstract methods in order to be instantiable"
   ]
  },
  {
   "cell_type": "code",
   "execution_count": null,
   "metadata": {},
   "outputs": [],
   "source": [
    "from abc import abstractmethod, ABC\n",
    "\n",
    "# the abstract class must inherit from ABC - abstract base class\n",
    "class Plant(ABC):\n",
    "    @abstractmethod\n",
    "    def photosynthesis(self):\n",
    "        pass\n",
    "\n",
    "# developer 1\n",
    "class VenusFlyTrap(Plant):\n",
    "    def venus_photosynthesis(self):\n",
    "        print(\"Venus eating bugs\")\n",
    "        # checks the instance class and its name\n",
    "        print(f\"{self.__class__.__name__} does photosynthesis\")\n",
    "\n",
    "# developer 2\n",
    "class Monstera(Plant):\n",
    "    def monstera_photosynthesis(self):\n",
    "        print(\"Monstera looking cool ...\")\n",
    "        print(f\"{self.__class__.__name__} does photosynthesis\")\n",
    "\n",
    "# developer 3\n",
    "class MoneyPlant(Plant):\n",
    "    def photosynthesis(self):\n",
    "        print(\"Money hopefully comes in ...\")\n",
    "        print(f\"{self.__class__.__name__} does photosynthesis\")\n",
    "\n"
   ]
  }
 ],
 "metadata": {
  "language_info": {
   "name": "python"
  },
  "orig_nbformat": 4
 },
 "nbformat": 4,
 "nbformat_minor": 2
}
