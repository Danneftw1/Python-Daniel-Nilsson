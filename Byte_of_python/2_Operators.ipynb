{
 "cells": [
  {
   "cell_type": "markdown",
   "metadata": {},
   "source": [
    "# Operators"
   ]
  },
  {
   "cell_type": "markdown",
   "metadata": {},
   "source": [
    "#### Division \"//\" avrundar ner till närmaste helnummer"
   ]
  },
  {
   "cell_type": "code",
   "execution_count": 1,
   "metadata": {},
   "outputs": [
    {
     "name": "stdout",
     "output_type": "stream",
     "text": [
      "4.333333333333333\n",
      "4\n",
      "-5\n"
     ]
    }
   ],
   "source": [
    "x = 13 / 3\n",
    "z = 13 // 3\n",
    "y = -13 // 3\n",
    "\n",
    "print (x)\n",
    "print (z)\n",
    "print (y)"
   ]
  },
  {
   "cell_type": "markdown",
   "metadata": {},
   "source": [
    "#### Modulo ger tillbaka det som återstår från divisionen"
   ]
  },
  {
   "cell_type": "code",
   "execution_count": null,
   "metadata": {},
   "outputs": [],
   "source": [
    "x = 13 % 3"
   ]
  },
  {
   "cell_type": "markdown",
   "metadata": {},
   "source": [
    "#### \"not\" finns som operator, med \"and\" och \"or\" \n",
    "#### Operators är också: <, >, <=, >=, ==, !="
   ]
  },
  {
   "cell_type": "markdown",
   "metadata": {},
   "source": [
    "# Alla operatorer på sida 43-45"
   ]
  },
  {
   "cell_type": "markdown",
   "metadata": {},
   "source": [
    "### Dessutom finns det vilken ordning som operatorer utvärderas på sida 46-47"
   ]
  },
  {
   "cell_type": "markdown",
   "metadata": {},
   "source": [
    "#### Expressions exempel"
   ]
  },
  {
   "cell_type": "code",
   "execution_count": 1,
   "metadata": {},
   "outputs": [
    {
     "name": "stdout",
     "output_type": "stream",
     "text": [
      "Area is 10\n",
      "Perimeter is 14\n"
     ]
    }
   ],
   "source": [
    "length = 5\n",
    "breadth = 2\n",
    "\n",
    "area = length * breadth\n",
    "print('Area is', area)\n",
    "print('Perimeter is', 2 * (length + breadth))"
   ]
  }
 ],
 "metadata": {
  "kernelspec": {
   "display_name": "Python 3.9.13 64-bit",
   "language": "python",
   "name": "python3"
  },
  "language_info": {
   "codemirror_mode": {
    "name": "ipython",
    "version": 3
   },
   "file_extension": ".py",
   "mimetype": "text/x-python",
   "name": "python",
   "nbconvert_exporter": "python",
   "pygments_lexer": "ipython3",
   "version": "3.9.13"
  },
  "orig_nbformat": 4,
  "vscode": {
   "interpreter": {
    "hash": "167998f8c3a05581fbd9ccdd36f349f3264dd01bf05c9e030bf6452b394f7000"
   }
  }
 },
 "nbformat": 4,
 "nbformat_minor": 2
}
