{
 "cells": [
  {
   "cell_type": "markdown",
   "metadata": {},
   "source": [
    "# def"
   ]
  },
  {
   "cell_type": "code",
   "execution_count": 3,
   "metadata": {},
   "outputs": [
    {
     "name": "stdout",
     "output_type": "stream",
     "text": [
      "hello world\n",
      "hello world\n"
     ]
    }
   ],
   "source": [
    "# functions are defined using the 'def' keyword.\n",
    "# after comes an identifier name for the function\n",
    "def say_hello():\n",
    "    # block belonging to the function\n",
    "    print('hello world')\n",
    "# End of function\n",
    "say_hello() # call the function\n",
    "say_hello() # call the function again"
   ]
  },
  {
   "cell_type": "markdown",
   "metadata": {},
   "source": [
    "#### parametrar inom parenteserna på funktionen"
   ]
  },
  {
   "cell_type": "code",
   "execution_count": 8,
   "metadata": {},
   "outputs": [
    {
     "name": "stdout",
     "output_type": "stream",
     "text": [
      "4 is maximum\n",
      "7 is maximum\n"
     ]
    }
   ],
   "source": [
    "def print_max(a, b):\n",
    "    if a > b:\n",
    "        print(a, 'is maximum')\n",
    "    elif a == b:\n",
    "        print(a, 'is equal to', b)\n",
    "    else:\n",
    "        print(b, 'is maximum')\n",
    "# call the function\n",
    "# directly pass literal values\n",
    "print_max(3, 4)\n",
    "x = 5\n",
    "y = 7\n",
    "# pass variables as arguments\n",
    "print_max(x, y)"
   ]
  },
  {
   "cell_type": "markdown",
   "metadata": {},
   "source": [
    "# Local variables\n"
   ]
  },
  {
   "cell_type": "code",
   "execution_count": 9,
   "metadata": {},
   "outputs": [
    {
     "name": "stdout",
     "output_type": "stream",
     "text": [
      "x is 50\n",
      "Changed local x to 2\n",
      "x is still 50\n"
     ]
    }
   ],
   "source": [
    "x = 50\n",
    "\n",
    "\n",
    "def func(x):\n",
    "    print('x is', x)\n",
    "    x = 2\n",
    "    print('Changed local x to', x)\n",
    "\n",
    "\n",
    "func(x)\n",
    "print('x is still', x)\n",
    "\n",
    "# Kolla hur x ändras till 2 lokalt men om du skriver funktionen igen så är den orginella 50 igen"
   ]
  },
  {
   "cell_type": "markdown",
   "metadata": {},
   "source": [
    "# Global statement"
   ]
  },
  {
   "cell_type": "code",
   "execution_count": 10,
   "metadata": {},
   "outputs": [
    {
     "name": "stdout",
     "output_type": "stream",
     "text": [
      "x is 50\n",
      "Changed global x to 2\n",
      "Value of x is 2\n"
     ]
    }
   ],
   "source": [
    "x = 50\n",
    "\n",
    "def func():\n",
    "    global x\n",
    "\n",
    "    print('x is', x)\n",
    "    x = 2\n",
    "    print('Changed global x to', x)\n",
    "\n",
    "func()\n",
    "print('Value of x is', x)\n",
    "\n",
    "# global ändrar värdet utanför blocket också"
   ]
  },
  {
   "cell_type": "markdown",
   "metadata": {},
   "source": [
    "# Default argument value"
   ]
  },
  {
   "cell_type": "code",
   "execution_count": 12,
   "metadata": {},
   "outputs": [
    {
     "name": "stdout",
     "output_type": "stream",
     "text": [
      "Hello\n",
      "WorldWorldWorldWorldWorld\n"
     ]
    }
   ],
   "source": [
    "def say(message, times=1):\n",
    "    print(message * times)\n",
    "\n",
    "say('Hello')\n",
    "say('World', 5)\n",
    "\n",
    "#Den här funktionen är skapad som gör att om vi använder 'say' så kan vi specifera hur många gånger\n",
    "#den ska skriva ut meddelandet, men by default så skrivs den ut endast 1 gång"
   ]
  }
 ],
 "metadata": {
  "kernelspec": {
   "display_name": "Python 3.9.13 ('Python-Daniel-Nilsson-97nbzLRS')",
   "language": "python",
   "name": "python3"
  },
  "language_info": {
   "codemirror_mode": {
    "name": "ipython",
    "version": 3
   },
   "file_extension": ".py",
   "mimetype": "text/x-python",
   "name": "python",
   "nbconvert_exporter": "python",
   "pygments_lexer": "ipython3",
   "version": "3.9.13"
  },
  "orig_nbformat": 4,
  "vscode": {
   "interpreter": {
    "hash": "bc050669da3b02a0dab5c74fea36723f6f6f98ad170411b0b9177bcf895e45d7"
   }
  }
 },
 "nbformat": 4,
 "nbformat_minor": 2
}
