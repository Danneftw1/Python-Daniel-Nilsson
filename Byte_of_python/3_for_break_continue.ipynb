{
 "cells": [
  {
   "cell_type": "markdown",
   "metadata": {},
   "source": [
    "#### Control Flow (if, while, for, break, continue)\n",
    "#### (if & inte nedskrivet här, kolla 'exercises-02)"
   ]
  },
  {
   "cell_type": "markdown",
   "metadata": {},
   "source": [
    "# for-loop:"
   ]
  },
  {
   "cell_type": "code",
   "execution_count": 1,
   "metadata": {},
   "outputs": [
    {
     "name": "stdout",
     "output_type": "stream",
     "text": [
      "1\n",
      "2\n",
      "3\n",
      "4\n",
      "The for loop is over\n"
     ]
    }
   ],
   "source": [
    "# for-loop går igenom en sekvens av object\n",
    "# vi använder range-funktionen\n",
    "for i in range(1, 5):\n",
    "    print(i)\n",
    "else:\n",
    "    print('The for loop is over')"
   ]
  },
  {
   "cell_type": "code",
   "execution_count": 10,
   "metadata": {},
   "outputs": [
    {
     "name": "stdout",
     "output_type": "stream",
     "text": [
      "1\n",
      "3\n",
      "The for loop is over\n"
     ]
    }
   ],
   "source": [
    "# Sätter vi in ett tredje nummer så blir det en step-counter\n",
    "for i in range(1, 5, 2):\n",
    "    print(i)\n",
    "else:\n",
    "    print('The for loop is over')"
   ]
  },
  {
   "cell_type": "code",
   "execution_count": 11,
   "metadata": {},
   "outputs": [
    {
     "name": "stdout",
     "output_type": "stream",
     "text": [
      "0\n",
      "1\n",
      "2\n",
      "3\n",
      "4\n",
      "the for loop is over\n"
     ]
    }
   ],
   "source": [
    "#list börjar från 0 och skriv x antal\n",
    "for i in list(range(5)):\n",
    "    print (i)\n",
    "else:\n",
    "    print(\"the for loop is over\")"
   ]
  },
  {
   "cell_type": "code",
   "execution_count": 14,
   "metadata": {},
   "outputs": [
    {
     "ename": "IndentationError",
     "evalue": "expected an indented block (3737341289.py, line 9)",
     "output_type": "error",
     "traceback": [
      "\u001b[1;36m  Input \u001b[1;32mIn [14]\u001b[1;36m\u001b[0m\n\u001b[1;33m    print(index, name)\u001b[0m\n\u001b[1;37m    ^\u001b[0m\n\u001b[1;31mIndentationError\u001b[0m\u001b[1;31m:\u001b[0m expected an indented block\n"
     ]
    }
   ],
   "source": [
    "names =['Daniel Nilsson', 'Max Liedman', 'William Oinas', 'Maria Händén', 'Jonas Nilsson']\n",
    "\n",
    "index = 1\n",
    "for name in names:\n",
    "    print(index, name)\n",
    "    index += 1"
   ]
  },
  {
   "cell_type": "code",
   "execution_count": 20,
   "metadata": {},
   "outputs": [
    {
     "name": "stdout",
     "output_type": "stream",
     "text": [
      "1 Daniel Nilsson\n",
      "2 Max Liedman\n",
      "3 William Oinas\n",
      "4 Maria Händén\n",
      "5 Jonas Nilsson\n"
     ]
    }
   ],
   "source": [
    "#Koden ovan kan också skrivas på ett enklare sett genom att använda enumerate!\n",
    "\n",
    "names =['Daniel Nilsson', 'Max Liedman', 'William Oinas', 'Maria Händén', 'Jonas Nilsson']\n",
    "\n",
    "for index, name in enumerate(names, start=1): #Du kan använda 'start=1' för att välja vilken siffra som listan ska börja på\n",
    "    print(index, name)"
   ]
  },
  {
   "cell_type": "code",
   "execution_count": null,
   "metadata": {},
   "outputs": [],
   "source": [
    "\n",
    "names =['Daniel Nilsson', 'Max Liedman', 'William Oinas', 'Maria Händén', 'Jonas Nilsson']\n",
    "\n",
    "for index, names in enumerate (names)\n",
    "    print (index, names)"
   ]
  },
  {
   "cell_type": "code",
   "execution_count": null,
   "metadata": {},
   "outputs": [],
   "source": [
    "#For-loop med enumerate (kan printa båda listorna samtidigt)\n",
    "\n",
    "names =['Daniel Nilsson', 'Max Liedman', 'William Oinas', 'Maria Händén', 'Jonas Nilsson']\n",
    "attributer = ['stark','smart', 'omtänksam', 'schysst', 'tuff', 'snäll']\n",
    "\n",
    "for index, name in enumerate(names):\n",
    "    attribut = attributer[index]\n",
    "    print(f'{name} är en {attribut} person')"
   ]
  },
  {
   "cell_type": "code",
   "execution_count": 30,
   "metadata": {},
   "outputs": [
    {
     "name": "stdout",
     "output_type": "stream",
     "text": [
      "Daniel Nilsson är riktigt stark\n",
      "Max Liedman är riktigt smart\n",
      "William Oinas är riktigt omtänksam\n",
      "Maria Händén är riktigt schysst\n",
      "Jonas Nilsson är riktigt tuff\n"
     ]
    }
   ],
   "source": [
    "#For-loop med 'zip' istället för enumerate\n",
    "\n",
    "names =['Daniel Nilsson', 'Max Liedman', 'William Oinas', 'Maria Händén', 'Jonas Nilsson']\n",
    "attributer = ['stark','smart', 'omtänksam', 'schysst', 'tuff', 'snäll']\n",
    "\n",
    "for name, attribut in zip(names, attributer):\n",
    "    print(f\"{name} är riktigt {attribut}\")"
   ]
  },
  {
   "cell_type": "markdown",
   "metadata": {},
   "source": [
    "# break och continue"
   ]
  },
  {
   "cell_type": "code",
   "execution_count": 13,
   "metadata": {},
   "outputs": [
    {
     "name": "stdout",
     "output_type": "stream",
     "text": [
      "Length of the string is 3\n",
      "Length of the string is 8\n",
      "Length of the string is 19\n",
      "Done\n"
     ]
    }
   ],
   "source": [
    "# en while loop som använder 'break' om quit blir skrivet\n",
    "while True:\n",
    "    s = input('Enter something : ')\n",
    "    if s == 'quit':\n",
    "        break\n",
    "    print('Length of the string is', len(s))\n",
    "print('Done')   "
   ]
  },
  {
   "cell_type": "code",
   "execution_count": null,
   "metadata": {},
   "outputs": [],
   "source": [
    "# continue säger python att skippa resten av statements och hoppa till nästa iteration\n",
    "#In this program, we accept input from the user, but we process the input string only if it is at\n",
    "#least 3 characters long. So, we use the built-in len function to get the length and if the\n",
    "#length is less than 3, we skip the rest of the statements in the block by using the continue\n",
    "#statement.\n",
    "\n",
    "while True:\n",
    "    s = input('Enter something : ')\n",
    "    if s == 'quit':\n",
    "        break\n",
    "    if len(s) < 3:\n",
    "        print('Too small')\n",
    "        continue\n",
    "    print('Input is of sufficient length')\n",
    "  "
   ]
  }
 ],
 "metadata": {
  "kernelspec": {
   "display_name": "Python 3.9.13 64-bit",
   "language": "python",
   "name": "python3"
  },
  "language_info": {
   "codemirror_mode": {
    "name": "ipython",
    "version": 3
   },
   "file_extension": ".py",
   "mimetype": "text/x-python",
   "name": "python",
   "nbconvert_exporter": "python",
   "pygments_lexer": "ipython3",
   "version": "3.9.13"
  },
  "orig_nbformat": 4,
  "vscode": {
   "interpreter": {
    "hash": "167998f8c3a05581fbd9ccdd36f349f3264dd01bf05c9e030bf6452b394f7000"
   }
  }
 },
 "nbformat": 4,
 "nbformat_minor": 2
}
