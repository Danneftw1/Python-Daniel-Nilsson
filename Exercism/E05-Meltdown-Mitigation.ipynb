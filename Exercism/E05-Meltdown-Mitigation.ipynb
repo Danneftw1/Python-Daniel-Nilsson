{
 "cells": [
  {
   "cell_type": "markdown",
   "metadata": {},
   "source": [
    "1. Check for criticality\n",
    "\n",
    "The first thing a control system has to do is check if the reactor is balanced in criticality. A reactor is said to be critical if it satisfies the following conditions:\n",
    "\n",
    "    The temperature is less than 800 K.\n",
    "    The number of neutrons emitted per second is greater than 500.\n",
    "    The product of temperature and neutrons emitted per second is less than 500000.\n",
    "\n",
    "Implement the function is_criticality_balanced() that takes temperature measured in kelvin and neutrons_emitted as parameters, and returns True if the criticality conditions are met, False if not.\n",
    "\n",
    ">>> is_criticality_balanced(750, 600)\n",
    "True\n"
   ]
  },
  {
   "cell_type": "code",
   "execution_count": 1,
   "metadata": {},
   "outputs": [
    {
     "data": {
      "text/plain": [
       "True"
      ]
     },
     "execution_count": 1,
     "metadata": {},
     "output_type": "execute_result"
    }
   ],
   "source": [
    "def is_criticality_balanced(temperature_K, neutrons_emitted):\n",
    "    product = temperature_K * neutrons_emitted\n",
    "    if temperature_K < 800 and neutrons_emitted > 500 and product < 500000:\n",
    "        return True\n",
    "    \n",
    "is_criticality_balanced(750, 600)\n"
   ]
  },
  {
   "cell_type": "markdown",
   "metadata": {},
   "source": [
    "2. Determine the Power output range\n",
    "\n",
    "Once the reactor has started producing power its efficiency needs to be determined. Efficiency can be grouped into 4 bands:\n",
    "\n",
    "1.  green -> efficiency of 80% or more,\n",
    "2.  orange -> efficiency of less than 80% but at least 60%,\n",
    "3.  red -> efficiency below 60%, but still 30% or more,\n",
    "4.  black -> less than 30% efficient.\n",
    "\n",
    "The percentage value can be calculated as (generated_power/theoretical_max_power)*100 where generated_power = voltage * current. Note that the percentage value is usually not an integer number, so make sure to consider the proper use of the < and <= comparisons.\n",
    "\n",
    "Implement the function reactor_efficiency(<voltage>, <current>, <theoretical_max_power>), with three parameters: voltage, current, and theoretical_max_power. This function should return the efficiency band of the reactor : 'green', 'orange', 'red', or 'black'.\n",
    "\n",
    ">>> reactor_efficiency(200,50,15000)\n",
    "'orange'\n"
   ]
  },
  {
   "cell_type": "code",
   "execution_count": 1,
   "metadata": {},
   "outputs": [],
   "source": [
    "def reactor_efficiency(voltage, current, theoretical_max_power) -> str:\n",
    "    generated_power = voltage * current\n",
    "    efficiency = (generated_power / theoretical_max_power) * 100\n",
    "    if efficiency >= 80:\n",
    "        return \"green\"\n",
    "    if 60 <= efficiency < 80:\n",
    "        return \"orange\"\n",
    "    if 30 <= efficiency < 60:\n",
    "        return \"red\"\n",
    "    if efficiency < 30:\n",
    "        return \"black\"\n",
    "\n",
    "reactor_efficiency(200, 50, 15000)"
   ]
  },
  {
   "attachments": {},
   "cell_type": "markdown",
   "metadata": {},
   "source": [
    "Your final task involves creating a fail-safe mechanism to avoid overload and meltdown. This mechanism will determine if the reactor is below, at, or above the ideal criticality threshold. Criticality can then be increased, decreased, or stopped by inserting (or removing) control rods into the reactor.\n",
    "\n",
    "Implement the function called fail_safe(), which takes 3 parameters: temperature measured in kelvin, neutrons_produced_per_second, and threshold, and outputs a status code for the reactor.\n",
    "\n",
    "If temperature * neutrons_produced_per_second < 90% of threshold, output a status code of 'LOW' indicating that control rods must be removed to produce power.\n",
    "\n",
    "If temperature * neutrons_produced_per_second are within plus or minus 10% of the threshold the reactor is in criticality and the status code of 'NORMAL' should be output, indicating that the reactor is in optimum condition and control rods are in an ideal position.\n",
    "\n",
    "If temperature * neutrons_produced_per_second is not in the above-stated ranges, the reactor is going into meltdown and a status code of 'DANGER' must be passed to immediately shut down the reactor."
   ]
  },
  {
   "cell_type": "code",
   "execution_count": null,
   "metadata": {},
   "outputs": [],
   "source": [
    "def fail_safe(temperature: (int | float), neutrons_emitted: (int | float), threshold: (int | float)) -> str:\n",
    "    \"\"\"Fail-safe to avoid overload and meltdown. Determines if reactor is below, at, or above ideal criticality threshold\"\"\"\n",
    "    if temperature * neutrons_emitted < threshold * .9:\n",
    "        return \"LOW\"\n",
    "    if threshold * .9 <= temperature * neutrons_emitted <= threshold * 1.1:\n",
    "        return \"NORMAL\"\n",
    "    if temperature * neutrons_emitted > 1.1 * threshold:\n",
    "        return \"DANGER\""
   ]
  }
 ],
 "metadata": {
  "kernelspec": {
   "display_name": "Python 3.9.13 ('Python-Daniel-Nilsson-97nbzLRS')",
   "language": "python",
   "name": "python3"
  },
  "language_info": {
   "codemirror_mode": {
    "name": "ipython",
    "version": 3
   },
   "file_extension": ".py",
   "mimetype": "text/x-python",
   "name": "python",
   "nbconvert_exporter": "python",
   "pygments_lexer": "ipython3",
   "version": "3.9.13"
  },
  "orig_nbformat": 4,
  "vscode": {
   "interpreter": {
    "hash": "bc050669da3b02a0dab5c74fea36723f6f6f98ad170411b0b9177bcf895e45d7"
   }
  }
 },
 "nbformat": 4,
 "nbformat_minor": 2
}
