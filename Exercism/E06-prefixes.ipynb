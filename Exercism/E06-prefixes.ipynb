{
 "cells": [
  {
   "cell_type": "markdown",
   "metadata": {},
   "source": [
    "## 1.\n",
    "Add a prefix to a word\n",
    "One of the most common prefixes in English is un, meaning \"not\". In this activity, your sister needs to make negative, or \"not\" words by adding un to them.\n",
    "\n",
    "Implement the add_prefix_un() function that takes word as a parameter and returns a new un prefixed word:"
   ]
  },
  {
   "cell_type": "code",
   "execution_count": 1,
   "metadata": {},
   "outputs": [
    {
     "data": {
      "text/plain": [
       "'unhappy'"
      ]
     },
     "execution_count": 1,
     "metadata": {},
     "output_type": "execute_result"
    }
   ],
   "source": [
    "def add_prefix_un(word: str) -> str:\n",
    "    return \"un\" + word # lägger till un före ordet\n",
    "\n",
    "add_prefix_un(\"happy\")\n"
   ]
  },
  {
   "cell_type": "markdown",
   "metadata": {},
   "source": [
    "## 2.\n",
    "\n",
    "There are four more common prefixes that your sister's class is studying: en (meaning to 'put into' or 'cover with'), pre (meaning 'before' or 'forward'), auto (meaning 'self' or 'same'), and inter (meaning 'between' or 'among').\n",
    "\n",
    "In this exercise, the class is creating groups of vocabulary words using these prefixes, so they can be studied together. Each prefix comes in a list with common words it's used with. The students need to apply the prefix and produce a string that shows the prefix applied to all of the words.\n",
    "\n",
    "Implement the make_word_groups(<vocab_words>) function that takes a vocab_words as a parameter in the following form: [<prefix>, <word_1>, <word_2> .... <word_n>], and returns a string with the prefix applied to each word that looks like: '<prefix> :: <prefix><word_1> :: <prefix><word_2> :: <prefix><word_n>'"
   ]
  },
  {
   "cell_type": "code",
   "execution_count": 56,
   "metadata": {},
   "outputs": [
    {
     "data": {
      "text/plain": [
       "'en enclose enjoy enlighten'"
      ]
     },
     "execution_count": 56,
     "metadata": {},
     "output_type": "execute_result"
    }
   ],
   "source": [
    "# Skapar en lista med prefixen först, och resten av orden som ska ha prefixen tillagd på sig efteråt\n",
    "\n",
    "\n",
    "# PREFIX 1ST, words without prefix after:\n",
    "vocab_words1 = [\"en\",\"close\", \"joy\", \"lighten\"]\n",
    "\n",
    "# gör det till en funktion som gör att vi lättare kan använda programmet framöver\n",
    "\n",
    "def make_word_groups(vocab_words: list) -> str: # Vi sätter in en lista som har strängar i sig\n",
    "    result = vocab_words[0] # skapar en ny lista som har \"en\" i sig endast\n",
    "    for i in range(len(vocab_words)): # for-loop som går igenom längden av listan (istället för att manuellt skriva längden)\n",
    "        if i > 0: # gör så att \"en\" får första elementet tillagt på sig\n",
    "            result += \" \" + vocab_words[0] + vocab_words[i] #resultat listan lägger till mellanslag, första elementet + i-elementet som ökas på för varje loop\n",
    "    \n",
    "    return result\n",
    "    \n",
    "\n",
    "make_word_groups(vocab_words1)\n"
   ]
  },
  {
   "cell_type": "code",
   "execution_count": 65,
   "metadata": {},
   "outputs": [
    {
     "data": {
      "text/plain": [
       "'heavy'"
      ]
     },
     "execution_count": 65,
     "metadata": {},
     "output_type": "execute_result"
    }
   ],
   "source": [
    "def remove_suffix_ness(word: str) -> str:\n",
    "    return word[:-4] # tar bort dem fyra sista elementen\n",
    "    \n",
    "remove_suffix_ness(\"heavyness\")"
   ]
  },
  {
   "cell_type": "code",
   "execution_count": 67,
   "metadata": {},
   "outputs": [
    {
     "data": {
      "text/plain": [
       "'brighten'"
      ]
     },
     "execution_count": 67,
     "metadata": {},
     "output_type": "execute_result"
    }
   ],
   "source": [
    "def adjective_to_verb(sentence: str, index: int) -> str:\n",
    "    wordlist = sentence.split(\" \")\n",
    "    return wordlist[index].strip(\".\")  + \"en\"\n",
    "\n",
    "adjective_to_verb(\"I need to make that bright.\", -1)"
   ]
  }
 ],
 "metadata": {
  "kernelspec": {
   "display_name": "Python 3.9.13 ('Python-Daniel-Nilsson-97nbzLRS')",
   "language": "python",
   "name": "python3"
  },
  "language_info": {
   "codemirror_mode": {
    "name": "ipython",
    "version": 3
   },
   "file_extension": ".py",
   "mimetype": "text/x-python",
   "name": "python",
   "nbconvert_exporter": "python",
   "pygments_lexer": "ipython3",
   "version": "3.9.13"
  },
  "orig_nbformat": 4,
  "vscode": {
   "interpreter": {
    "hash": "bc050669da3b02a0dab5c74fea36723f6f6f98ad170411b0b9177bcf895e45d7"
   }
  }
 },
 "nbformat": 4,
 "nbformat_minor": 2
}
