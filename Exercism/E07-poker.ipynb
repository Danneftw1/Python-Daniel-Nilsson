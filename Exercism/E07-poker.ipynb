{
 "cells": [
  {
   "cell_type": "markdown",
   "metadata": {},
   "source": [
    "## 1. Tracking Poker Rounds\n",
    "Elyse is especially fond of poker, and wants to track how many rounds she plays - and which rounds those are. Every round has its own number, and every table shows the round number currently being played. Elyse chooses a table and sits down to play her first round. She plans on playing three rounds.\n",
    "\n",
    "Implement a function get_rounds(<round_number>) that takes the current round number and returns a single list with that round and the next two that are coming up:"
   ]
  },
  {
   "cell_type": "code",
   "execution_count": 10,
   "metadata": {},
   "outputs": [
    {
     "name": "stdout",
     "output_type": "stream",
     "text": [
      "[27, 28, 29]\n"
     ]
    }
   ],
   "source": [
    "def get_rounds(round_number: int) -> list:\n",
    "    return [round_number + i for i in range(3)] # list comprehension\n",
    "    # det som man vill retunera kommer först (round_number)\n",
    "\n",
    "print(get_rounds(27))\n",
    "\n"
   ]
  },
  {
   "cell_type": "markdown",
   "metadata": {},
   "source": [
    "## 2. Keeping all Rounds in the Same Place\n",
    "Elyse played a few rounds at the first table, then took a break and played some more rounds at a second table ... but ended up with a different list for each table! She wants to put the two lists together, so she can track all of the poker rounds in the same place.\n",
    "\n",
    "Implement a function concatenate_rounds(<rounds_1>, <rounds_2>) that takes two lists and returns a single list consisting of all the rounds in the first list, followed by all the rounds in the second list:"
   ]
  },
  {
   "cell_type": "code",
   "execution_count": 11,
   "metadata": {},
   "outputs": [
    {
     "name": "stdout",
     "output_type": "stream",
     "text": [
      "[27, 28, 29, 35, 36]\n"
     ]
    }
   ],
   "source": [
    "def concaternate_list(number1: int, number2: int) -> list:\n",
    "    return number1 + number2\n",
    "\n",
    "print(concaternate_list([27, 28, 29], [35, 36]))\n",
    "\n"
   ]
  },
  {
   "cell_type": "markdown",
   "metadata": {},
   "source": [
    "## 3. Finding Prior Rounds\n",
    "Talking about some of the prior Poker rounds, another player remarks how similarly two of them played out. Elyse is not sure if she played those rounds or not.\n",
    "\n",
    "Implement a function list_contains_round(<rounds>, <round_number>) that takes two arguments, a list of rounds played and a round number. The function will return True if the round is in the list of rounds played, False if not:"
   ]
  },
  {
   "cell_type": "code",
   "execution_count": 16,
   "metadata": {},
   "outputs": [
    {
     "data": {
      "text/plain": [
       "False"
      ]
     },
     "execution_count": 16,
     "metadata": {},
     "output_type": "execute_result"
    }
   ],
   "source": [
    "def list_contains_round(rounds: list, round_number: int) -> bool:\n",
    "    if round_number in rounds: # om nummret är med i tidigare listan = true annars false\n",
    "        return True\n",
    "    else:\n",
    "        return False\n",
    "\n",
    "list_contains_round([27, 28, 29, 35, 36], 30)\n"
   ]
  },
  {
   "cell_type": "markdown",
   "metadata": {},
   "source": [
    "## 4. Averaging Card Values\n",
    "Elyse wants to try out a new game called Black Joe. It's similar to Black Jack - where your goal is to have the cards in your hand add up to a target value - but in Black Joe the goal is to get the average of the card values to be 7. The average can be found by summing up all the card values and then dividing that sum by the number of cards in the hand.\n",
    "\n",
    "Implement a function card_average(<hand>) that will return the average value of a hand of Black Joe."
   ]
  },
  {
   "cell_type": "code",
   "execution_count": 17,
   "metadata": {},
   "outputs": [
    {
     "data": {
      "text/plain": [
       "6.0"
      ]
     },
     "execution_count": 17,
     "metadata": {},
     "output_type": "execute_result"
    }
   ],
   "source": [
    "def card_average(hand: list) -> float:\n",
    "    return sum(hand)/len(hand) # summan av listan delat på längden av listan\n",
    "\n",
    "card_average([5, 6, 7])"
   ]
  },
  {
   "cell_type": "markdown",
   "metadata": {},
   "source": [
    "## 5. Alternate Averages\n",
    "In Black Joe, speed is important. Elyse is going to try and find a faster way of finding the average.\n",
    "\n",
    "She has thought of two ways of getting an average-like number:\n",
    "\n",
    "* Take the average of the first and last number in the hand.\n",
    "* Using the median (middle card) of the hand.\n",
    "\n",
    "Implement the function approx_average_is_average(<hand>), given hand, a list containing the values of the cards in your hand.\n",
    "\n",
    "Return True if either one or both of the, above named, strategies result in a number equal to the actual average.\n",
    "\n",
    "Note: The length of all hands are odd, to make finding a median easier.\n",
    "\n",
    ">>> approx_average_is_average([1, 2, 3])\n",
    "True\n",
    "\n",
    ">>> approx_average_is_average([2, 3, 4, 8, 8])\n",
    "True\n",
    "\n",
    ">>> approx_average_is_average([1, 2, 3, 5, 9])\n",
    "False"
   ]
  },
  {
   "cell_type": "code",
   "execution_count": 33,
   "metadata": {},
   "outputs": [
    {
     "name": "stdout",
     "output_type": "stream",
     "text": [
      "True\n",
      "True\n",
      "False\n"
     ]
    }
   ],
   "source": [
    "\n",
    "def approx_average_is_average (hand: list) -> bool:\n",
    "    actual_average = card_average(hand)\n",
    "    hand.sort\n",
    "    if hand[round(len(hand) / 2)] == actual_average:\n",
    "        return True\n",
    "    if (hand[0] + hand[-1]) / 2 == actual_average:\n",
    "        return True\n",
    "    return False\n",
    "\n",
    "print(approx_average_is_average([1, 2, 3]))\n",
    "\n",
    "print(approx_average_is_average([2, 3, 4, 8, 8]))\n",
    "\n",
    "print(approx_average_is_average([1, 2, 3, 5, 9]))"
   ]
  },
  {
   "cell_type": "markdown",
   "metadata": {},
   "source": [
    "## 6. More Averaging Techniques \n",
    "Intrigued by the results of her averaging experiment, Elyse is wondering if taking the average of the cards at the even positions versus the average of the cards at the odd positions would give the same results. Time for another test function!\n",
    "\n",
    "Implement a function average_even_is_average_odd(<hand>) that returns a Boolean indicating if the average of the cards at even indexes is the same as the average of the cards at odd indexes.\n",
    "\n",
    ">>> average_even_is_average_odd([1, 2, 3])\n",
    "True\n",
    "\n",
    ">>> average_even_is_average_odd([1, 2, 3, 4])\n",
    "False"
   ]
  },
  {
   "cell_type": "code",
   "execution_count": 37,
   "metadata": {},
   "outputs": [
    {
     "name": "stdout",
     "output_type": "stream",
     "text": [
      "True\n",
      "False\n"
     ]
    }
   ],
   "source": [
    "\n",
    "def average_even_is_average_odd(hand: list) -> bool:\n",
    "    odd = sum(hand[::2]) / len(hand[::2]) # start stop step (börjar på 0 om det inte står något före \"::\")\n",
    "    even = sum(hand[1::2]) / len(hand[1::2])\n",
    "    \n",
    "    if odd == even:\n",
    "        return True\n",
    "    return False\n",
    "\n",
    "print(average_even_is_average_odd([1, 2, 3]))\n",
    "print(average_even_is_average_odd([1, 2, 3, 4]))"
   ]
  },
  {
   "cell_type": "markdown",
   "metadata": {},
   "source": [
    "## 7. Bonus Round Rules\n",
    "\n",
    "Every 11th hand in Black Joe is a bonus hand with a bonus rule: if the last card you draw is a Jack, you double its value.\n",
    "\n",
    "Implement a function maybe_double_last(<hand>) that takes a hand and checks if the last card is a Jack (11). If the last card is a Jack (11), double its value before returning the hand.\n",
    "\n",
    ">>> hand = [5, 9, 11]\n",
    ">>> maybe_double_last(hand)\n",
    "[5, 9, 22]\n",
    "\n",
    ">>> hand = [5, 9, 10]\n",
    ">>> maybe_double_last(hand)\n",
    "[5, 9, 10]"
   ]
  },
  {
   "cell_type": "code",
   "execution_count": 44,
   "metadata": {},
   "outputs": [
    {
     "data": {
      "text/plain": [
       "[5, 9, 22]"
      ]
     },
     "execution_count": 44,
     "metadata": {},
     "output_type": "execute_result"
    }
   ],
   "source": [
    "hand = [5, 9, 11]\n",
    "\n",
    "def maybe_double_last(hand: list) -> bool:\n",
    "    if hand[-1] == 11:\n",
    "        hand[-1] *= 2 # *= sparar värdet i variabeln också (likamedtecknet)\n",
    "        return hand\n",
    "    return hand\n",
    "\n",
    "maybe_double_last(hand)"
   ]
  }
 ],
 "metadata": {
  "kernelspec": {
   "display_name": "Python 3.9.13 ('Python-Daniel-Nilsson-97nbzLRS')",
   "language": "python",
   "name": "python3"
  },
  "language_info": {
   "codemirror_mode": {
    "name": "ipython",
    "version": 3
   },
   "file_extension": ".py",
   "mimetype": "text/x-python",
   "name": "python",
   "nbconvert_exporter": "python",
   "pygments_lexer": "ipython3",
   "version": "3.9.13"
  },
  "orig_nbformat": 4,
  "vscode": {
   "interpreter": {
    "hash": "bc050669da3b02a0dab5c74fea36723f6f6f98ad170411b0b9177bcf895e45d7"
   }
  }
 },
 "nbformat": 4,
 "nbformat_minor": 2
}
