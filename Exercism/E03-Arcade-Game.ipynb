{
 "cells": [
  {
   "cell_type": "markdown",
   "metadata": {},
   "source": [
    "## 1. Define if Pac-Man eats a ghost\n",
    "\n",
    "Define the eat_ghost() function that takes two parameters (if Pac-Man has a power pellet active and if Pac-Man is touching a ghost) and returns a Boolean value if Pac-Man is able to eat the ghost. The function should return True only if Pac-Man has a power pellet active and is touching a ghost.\n",
    "\n",
    ">>> eat_ghost(False, True)\n",
    "...\n",
    "False"
   ]
  },
  {
   "cell_type": "code",
   "execution_count": 12,
   "metadata": {},
   "outputs": [
    {
     "data": {
      "text/plain": [
       "False"
      ]
     },
     "execution_count": 12,
     "metadata": {},
     "output_type": "execute_result"
    }
   ],
   "source": [
    "def eat_ghost(pellet: bool, ghost_touch: bool) -> bool: \n",
    "    \"\"\"eating pellets and touching ghosts\"\"\"\n",
    "    return pellet and ghost_touch\n",
    "\n",
    "\n",
    "eat_ghost(False, True)\n",
    "\n",
    "def score(pellet, dot):\n",
    "    \"\"\"eating pellets and touching ghosts\"\"\"\n",
    "    return pellet or dot\n",
    "\n",
    "score(True, True)\n",
    "\n",
    "def lose(pellet, ghost):\n",
    "    \"\"\"eating pellets and touching ghosts\"\"\"\n",
    "    return pellet < ghost\n",
    "\n",
    "lose(False, True)\n",
    "\n",
    "def win(all_dots, pellet, ghost):\n",
    "    \"\"\"eating pellets and touching ghosts\"\"\"\n",
    "    return all_dots and not lose(pellet, ghost)\n",
    "\n",
    "win(False, True, False)\n"
   ]
  },
  {
   "cell_type": "code",
   "execution_count": 4,
   "metadata": {},
   "outputs": [
    {
     "data": {
      "text/plain": [
       "False"
      ]
     },
     "execution_count": 4,
     "metadata": {},
     "output_type": "execute_result"
    }
   ],
   "source": [
    "def eat_ghost(pellet: bool, ghost_touch: bool) -> bool:\n",
    "    return pellet and ghost_touch\n",
    "\n",
    "eat_ghost(False, True)"
   ]
  },
  {
   "cell_type": "markdown",
   "metadata": {},
   "source": [
    "## 2. Define if Pac-Man scores\n",
    "\n",
    "Define the score() function that takes two parameters (if Pac-Man is touching a power pellet and if Pac-Man is touching a dot) and returns a Boolean value if Pac-Man scored. The function should return True if Pac-Man is touching a power pellet or a dot.\n",
    "\n",
    ">>> score(True, True)\n",
    "...\n",
    "True\n"
   ]
  },
  {
   "cell_type": "code",
   "execution_count": null,
   "metadata": {},
   "outputs": [],
   "source": [
    "def score(pellet, dot):\n",
    "    return pellet or dot\n",
    "\n",
    "score(True, True)"
   ]
  },
  {
   "cell_type": "markdown",
   "metadata": {},
   "source": [
    "## 3. Define if Pac-Man loses\n",
    "\n",
    "Define the lose() function that takes two parameters (if Pac-Man has a power pellet active and if Pac-Man is touching a ghost) and returns a Boolean value if Pac-Man loses. The function should return True if Pac-Man is touching a ghost and does not have a power pellet active.\n",
    "\n",
    ">>> lose(False, True)\n",
    "...\n",
    "True\n"
   ]
  },
  {
   "cell_type": "code",
   "execution_count": 9,
   "metadata": {},
   "outputs": [
    {
     "data": {
      "text/plain": [
       "True"
      ]
     },
     "execution_count": 9,
     "metadata": {},
     "output_type": "execute_result"
    }
   ],
   "source": [
    "def lose(pellet, ghost):\n",
    "    return pellet < ghost \n",
    "\n",
    "lose(False, True)"
   ]
  },
  {
   "cell_type": "markdown",
   "metadata": {},
   "source": [
    "## 4. Define if Pac-Man wins\n",
    "Define the win() function that takes three parameters (if Pac-Man has eaten all of the dots, if Pac-Man has a power pellet active, and if Pac-Man is touching a ghost) and returns a Boolean value if Pac-Man wins. The function should return True if Pac-Man has eaten all of the dots and has not lost based on the parameters defined in part 3.\n",
    "\n",
    ">>> win(False, True, False)\n",
    "...\n",
    "False\n"
   ]
  },
  {
   "cell_type": "code",
   "execution_count": 11,
   "metadata": {},
   "outputs": [
    {
     "data": {
      "text/plain": [
       "False"
      ]
     },
     "execution_count": 11,
     "metadata": {},
     "output_type": "execute_result"
    }
   ],
   "source": [
    "def win(all_dots, pellet, ghost):\n",
    "    return all_dots and not lose()\n",
    "\n",
    "win(False, True, False)"
   ]
  }
 ],
 "metadata": {
  "kernelspec": {
   "display_name": "Python 3.9.13 ('Python-Daniel-Nilsson-97nbzLRS')",
   "language": "python",
   "name": "python3"
  },
  "language_info": {
   "codemirror_mode": {
    "name": "ipython",
    "version": 3
   },
   "file_extension": ".py",
   "mimetype": "text/x-python",
   "name": "python",
   "nbconvert_exporter": "python",
   "pygments_lexer": "ipython3",
   "version": "3.9.13"
  },
  "orig_nbformat": 4,
  "vscode": {
   "interpreter": {
    "hash": "bc050669da3b02a0dab5c74fea36723f6f6f98ad170411b0b9177bcf895e45d7"
   }
  }
 },
 "nbformat": 4,
 "nbformat_minor": 2
}
