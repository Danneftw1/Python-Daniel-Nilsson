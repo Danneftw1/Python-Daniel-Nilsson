{
 "cells": [
  {
   "cell_type": "code",
   "execution_count": 2,
   "metadata": {},
   "outputs": [],
   "source": [
    "def find_fewest_coins(coins, target):\n",
    "    # coins is int or float\n",
    "    # coins is not negative\n",
    "    # target, att det är en lista (only int)\n",
    "    if not isinstance(coins, int):\n",
    "        raise TypeError(\"Behöver int\")\n",
    "    if not isinstance(target, list):\n",
    "        raise TypeError(\"target ska va lista\")\n",
    "    if coins < 0:\n",
    "        raise TypeError(\"behöver vara över 0\")\n",
    "    for index, value in enumerate(target):\n",
    "        if not isinstance(value, int):\n",
    "            raise TypeError(\"behöver vara int\")\n",
    "        if value < 0:\n",
    "            raise TypeError(\"fel xD\")\n",
    "    \n",
    "    new_list = []\n",
    "    for index, value in enumerate(target):\n",
    "        count = coins % target[index]\n",
    "        for i in range(int(count/value)):\n",
    "            new_list.append(value)\n",
    "    \n",
    "\n",
    "find_fewest_coins(15, [1,5,10,25,100])"
   ]
  },
  {
   "cell_type": "code",
   "execution_count": null,
   "metadata": {},
   "outputs": [],
   "source": [
    "def find_fewest_coins(coins, target):\n",
    "    # coins is int or float\n",
    "    # coins is not negative\n",
    "    # target, att det är en lista (only int)\n",
    "    if not isinstance(coins, int):\n",
    "        raise TypeError(\"Behöver int\")\n",
    "    if not isinstance(target, list):\n",
    "        raise TypeError(\"target ska va lista\")\n",
    "    if coins < 0:\n",
    "        raise TypeError(\"behöver vara över 0\")\n",
    "    for index, value in enumerate(target):\n",
    "        if not isinstance(value, int):\n",
    "            raise TypeError(\"behöver vara int\")\n",
    "        if value < 0:\n",
    "            raise TypeError(\"fel xD\")\n",
    "    \n",
    "    new_list = []\n",
    "    sum = coins\n",
    "    for value in reversed(target):\n",
    "        \n",
    "    return new_list"
   ]
  }
 ],
 "metadata": {
  "kernelspec": {
   "display_name": "Python 3.9.13 ('Python-Daniel-Nilsson-97nbzLRS')",
   "language": "python",
   "name": "python3"
  },
  "language_info": {
   "codemirror_mode": {
    "name": "ipython",
    "version": 3
   },
   "file_extension": ".py",
   "mimetype": "text/x-python",
   "name": "python",
   "nbconvert_exporter": "python",
   "pygments_lexer": "ipython3",
   "version": "3.9.13"
  },
  "orig_nbformat": 4,
  "vscode": {
   "interpreter": {
    "hash": "bc050669da3b02a0dab5c74fea36723f6f6f98ad170411b0b9177bcf895e45d7"
   }
  }
 },
 "nbformat": 4,
 "nbformat_minor": 2
}
