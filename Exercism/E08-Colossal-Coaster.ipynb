{
 "cells": [
  {
   "cell_type": "markdown",
   "metadata": {},
   "source": [
    "Chaitana owns a very popular theme park. She only has one ride in the very center of beautifully landscaped grounds: The Biggest Roller Coaster in the World(TM). Although there is only this one attraction, people travel from all over the world and stand in line for hours for the opportunity to ride Chaitana's hypercoaster.\n",
    "\n",
    "There are two queues for this ride, each represented as a list:\n",
    "\n",
    "    Normal Queue\n",
    "    Express Queue (also known as the Fast-track) - where people pay extra for priority access.\n",
    "\n",
    "You have been asked to write some code to better manage the guests at the park. You need to implement the following functions as soon as possible before the guests (and your boss, Chaitana!) get cranky."
   ]
  },
  {
   "cell_type": "markdown",
   "metadata": {},
   "source": [
    "## 1. Add me to the queue\n",
    "\n",
    "Define the add_me_to_the_queue() function that takes 4 parameters <express_queue>, <normal_queue>, <ticket_type>, <person_name> and returns the appropriate queue updated with the person's name.\n",
    "\n",
    "    <ticket_type> is an int with 1 == express_queue and 0 == normal_queue.\n",
    "    <person_name> is the name (as a str) of the person to be added to the respective queue.\n"
   ]
  },
  {
   "cell_type": "code",
   "execution_count": 6,
   "metadata": {},
   "outputs": [],
   "source": [
    "def add_me_to_the_queue(express_queue: list, normal_queue: list, ticket_type: int, person_name: str) -> list:\n",
    "    if ticket_type == 1:\n",
    "        express_queue.append(person_name)\n",
    "        return express_queue\n",
    "    if ticket_type == 0:\n",
    "        normal_queue.append(person_name)\n",
    "        return normal_queue"
   ]
  },
  {
   "cell_type": "code",
   "execution_count": 2,
   "metadata": {},
   "outputs": [
    {
     "data": {
      "text/plain": [
       "['Tony', 'Bruce', 'RichieRich']"
      ]
     },
     "execution_count": 2,
     "metadata": {},
     "output_type": "execute_result"
    }
   ],
   "source": [
    "add_me_to_the_queue(express_queue=[\"Tony\", \"Bruce\"], normal_queue=[\"RobotGuy\", \"WW\"], ticket_type=1, person_name=\"RichieRich\")"
   ]
  },
  {
   "cell_type": "code",
   "execution_count": 5,
   "metadata": {},
   "outputs": [
    {
     "data": {
      "text/plain": [
       "['RobotGuy', 'WW', 'HawkEye']"
      ]
     },
     "execution_count": 5,
     "metadata": {},
     "output_type": "execute_result"
    }
   ],
   "source": [
    "add_me_to_the_queue(express_queue=[\"Tony\", \"Bruce\"], normal_queue=[\"RobotGuy\", \"WW\"], ticket_type=0, person_name=\"HawkEye\")"
   ]
  },
  {
   "cell_type": "markdown",
   "metadata": {},
   "source": [
    "## 2. Where are my friends?\n",
    "\n",
    "One person arrived late at the park but wants to join the queue where their friends are waiting. But they have no idea where their friends are standing and there isn't any phone reception to call them.\n",
    "\n",
    "Define the find_my_friend() function that takes 2 parameters queue and friend_name and returns the position in the queue of the person's name.\n",
    "\n",
    "    <queue> is the list of people standing in the queue.\n",
    "    <friend_name> is the name of the friend whose index (place in the queue) you need to find.\n",
    "\n",
    "Remember: Indexing starts at 0 from the left, and -1 from the right.\n",
    "\n",
    "find_my_friend(queue=[\"Natasha\", \"Steve\", \"T'challa\", \"Wanda\", \"Rocket\"], friend_name=\"Steve\")"
   ]
  },
  {
   "cell_type": "code",
   "execution_count": 11,
   "metadata": {},
   "outputs": [],
   "source": [
    "def find_my_friend(queue: list, friend_name: str) -> int:\n",
    "    return queue.index(friend_name) # kollar vilken index någon namn har i listan"
   ]
  },
  {
   "cell_type": "code",
   "execution_count": 12,
   "metadata": {},
   "outputs": [
    {
     "data": {
      "text/plain": [
       "1"
      ]
     },
     "execution_count": 12,
     "metadata": {},
     "output_type": "execute_result"
    }
   ],
   "source": [
    "find_my_friend(queue=[\"Natasha\", \"Steve\", \"T'challa\", \"Wanda\", \"Rocket\"], friend_name=\"Steve\")"
   ]
  },
  {
   "cell_type": "markdown",
   "metadata": {},
   "source": [
    "## 3. Can I please join them?\n",
    "\n",
    "Now that their friends have been found (in task #2 above), the late arriver would like to join them at their place in the queue. Define the add_me_with_my_friends() function that takes 3 parameters queue, index, and person_name.\n",
    "\n",
    "    <queue> is the list of people standing in the queue.\n",
    "    <index> is the position at which the new person should be added.\n",
    "    <person_name> is the name of the person to add at the index position.\n",
    "\n",
    "Return the queue updated with the late arrivals name.\n",
    "\n",
    "add_me_with_my_friends(queue=[\"Natasha\", \"Steve\", \"T'challa\", \"Wanda\", \"Rocket\"], index=1, person_name=\"Bucky\")\n",
    "...\n",
    "[\"Natasha\", \"Bucky\", \"Steve\", \"T'challa\", \"Wanda\", \"Rocket\"]"
   ]
  },
  {
   "cell_type": "code",
   "execution_count": 27,
   "metadata": {},
   "outputs": [],
   "source": [
    "\n",
    "def add_me_with_my_friends(queue: list, index: int, person_name: str) -> list:\n",
    "    queue.insert(index, person_name) # insertar något på en specifik element plats\n",
    "    return queue\n"
   ]
  },
  {
   "cell_type": "code",
   "execution_count": 28,
   "metadata": {},
   "outputs": [
    {
     "name": "stdout",
     "output_type": "stream",
     "text": [
      "['Natasha', 'Bucky', 'Steve', \"T'challa\", 'Wanda', 'Rocket']\n"
     ]
    }
   ],
   "source": [
    "print(add_me_with_my_friends(queue=[\"Natasha\", \"Steve\", \"T'challa\", \"Wanda\", \"Rocket\"], index=1, person_name=\"Bucky\"))"
   ]
  },
  {
   "cell_type": "markdown",
   "metadata": {},
   "source": [
    "## 4. Mean person in the queue\n",
    "\n",
    "You just heard from the queue that there is a really mean person shoving, shouting, and making trouble. You need to throw that miscreant out for bad behavior!\n",
    "\n",
    "Define the remove_the_mean_person() function that takes 2 parameters queue and person_name.\n",
    "\n",
    "    <queue> is the list of people standing in the queue.\n",
    "    <person_name> is the name of the person that needs to be kicked out.\n",
    "\n",
    "Return the queue updated without the mean person's name.\n",
    "\n",
    ">>> remove_the_mean_person(queue=[\"Natasha\", \"Steve\", \"Eltran\", \"Wanda\", \"Rocket\"], person_name=\"Eltran\")\n",
    "...\n",
    "[\"Natasha\", \"Steve\", \"Wanda\", \"Rocket\"]"
   ]
  },
  {
   "cell_type": "code",
   "execution_count": 31,
   "metadata": {},
   "outputs": [],
   "source": [
    "def remove_the_mean_person(queue: list, person_name: str) -> list:\n",
    "    queue.remove(person_name) # tar bort en index från listan\n",
    "    return queue"
   ]
  },
  {
   "cell_type": "code",
   "execution_count": 32,
   "metadata": {},
   "outputs": [
    {
     "data": {
      "text/plain": [
       "['Natasha', 'Steve', 'Wanda', 'Rocket']"
      ]
     },
     "execution_count": 32,
     "metadata": {},
     "output_type": "execute_result"
    }
   ],
   "source": [
    "remove_the_mean_person(queue=[\"Natasha\", \"Steve\", \"Eltran\", \"Wanda\", \"Rocket\"], person_name=\"Eltran\")"
   ]
  },
  {
   "cell_type": "markdown",
   "metadata": {},
   "source": [
    "## 5. Namefellows\n",
    "\n",
    "You may not have seen two unrelated people who look exactly the same, but you have definitely seen unrelated people with the exact same name (namefellows)! Today, it looks like there are a lot of them in attendance. You want to know how many times a particular name occurs in the queue.\n",
    "\n",
    "Define the how_many_namefellows() function that takes 2 parameters queue and person_name.\n",
    "\n",
    "    <queue> is the list of people standing in the queue.\n",
    "    <person_name> is the name you think might occur more than once in the queue.\n",
    "\n",
    "Return the number of occurrences of person_name, as an int.\n",
    "\n",
    ">>> how_many_namefellows(queue=[\"Natasha\", \"Steve\", \"Eltran\", \"Natasha\", \"Rocket\"], person_name=\"Natasha\")\n",
    "...\n",
    "2"
   ]
  },
  {
   "cell_type": "code",
   "execution_count": 35,
   "metadata": {},
   "outputs": [],
   "source": [
    "def how_many_namefellows(queue: list, person_name: str) -> int:\n",
    "    return queue.count(person_name)"
   ]
  },
  {
   "cell_type": "code",
   "execution_count": 36,
   "metadata": {},
   "outputs": [
    {
     "data": {
      "text/plain": [
       "2"
      ]
     },
     "execution_count": 36,
     "metadata": {},
     "output_type": "execute_result"
    }
   ],
   "source": [
    "how_many_namefellows(queue=[\"Natasha\", \"Steve\", \"Eltran\", \"Natasha\", \"Rocket\"], person_name=\"Natasha\")"
   ]
  },
  {
   "cell_type": "markdown",
   "metadata": {},
   "source": [
    "## 6. Remove the last person\n",
    "\n",
    "Sadly, it's overcrowded at the park today and you need to remove the last person in the normal line (you will give them a voucher to come back in the fast-track on another day). You will have to define the function remove_the_last_person() that takes 1 parameter queue, which is the list of people standing in the queue.\n",
    "\n",
    "You should update the list and also return the name of the person who was removed, so you can write them a voucher.\n",
    "\n",
    ">>> remove_the_last_person(queue=[\"Natasha\", \"Steve\", \"Eltran\", \"Natasha\", \"Rocket\"])\n",
    "...\n",
    "'Rocket'"
   ]
  },
  {
   "cell_type": "code",
   "execution_count": 37,
   "metadata": {},
   "outputs": [],
   "source": [
    "def remove_the_last_person(queue: list) -> str:\n",
    "    last_person = queue[-1]\n",
    "    queue.remove(last_person)\n",
    "    return last_person\n"
   ]
  },
  {
   "cell_type": "code",
   "execution_count": 38,
   "metadata": {},
   "outputs": [
    {
     "data": {
      "text/plain": [
       "'Rocket'"
      ]
     },
     "execution_count": 38,
     "metadata": {},
     "output_type": "execute_result"
    }
   ],
   "source": [
    "remove_the_last_person(queue=[\"Natasha\", \"Steve\", \"Eltran\", \"Natasha\", \"Rocket\"])"
   ]
  },
  {
   "cell_type": "markdown",
   "metadata": {},
   "source": [
    "## 7. Sort the Queue List\n",
    "\n",
    "For administrative purposes, you need to get all the names in a given queue in alphabetical order.\n",
    "\n",
    "Define the sorted_names() function that takes 1 argument, queue, (the list of people standing in the queue), and returns a sorted copy of the list.\n",
    "\n",
    ">>> sorted_names(queue=[\"Natasha\", \"Steve\", \"Eltran\", \"Natasha\", \"Rocket\"])\n",
    "...\n",
    "['Eltran', 'Natasha', 'Natasha', 'Rocket', 'Steve']"
   ]
  },
  {
   "cell_type": "code",
   "execution_count": 41,
   "metadata": {},
   "outputs": [],
   "source": [
    "def sorted_names(queue: list) -> str:\n",
    "    queue.sort() # kan även skriva \"return sorted(queue)\"\n",
    "    return queue # \"sort\" sorterar bara listan men retunerar ingenting.\n"
   ]
  },
  {
   "cell_type": "code",
   "execution_count": 42,
   "metadata": {},
   "outputs": [
    {
     "data": {
      "text/plain": [
       "['Eltran', 'Natasha', 'Natasha', 'Rocket', 'Steve']"
      ]
     },
     "execution_count": 42,
     "metadata": {},
     "output_type": "execute_result"
    }
   ],
   "source": [
    "sorted_names(queue=[\"Natasha\", \"Steve\", \"Eltran\", \"Natasha\", \"Rocket\"])"
   ]
  }
 ],
 "metadata": {
  "kernelspec": {
   "display_name": "Python 3.9.13 ('Python-Daniel-Nilsson-97nbzLRS')",
   "language": "python",
   "name": "python3"
  },
  "language_info": {
   "codemirror_mode": {
    "name": "ipython",
    "version": 3
   },
   "file_extension": ".py",
   "mimetype": "text/x-python",
   "name": "python",
   "nbconvert_exporter": "python",
   "pygments_lexer": "ipython3",
   "version": "3.9.13"
  },
  "orig_nbformat": 4,
  "vscode": {
   "interpreter": {
    "hash": "bc050669da3b02a0dab5c74fea36723f6f6f98ad170411b0b9177bcf895e45d7"
   }
  }
 },
 "nbformat": 4,
 "nbformat_minor": 2
}
