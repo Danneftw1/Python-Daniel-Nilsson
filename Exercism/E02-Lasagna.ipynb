{
 "cells": [
  {
   "cell_type": "markdown",
   "metadata": {},
   "source": [
    "## 1. Define expected bake time in minutes\n",
    "\n",
    "Define an EXPECTED_BAKE_TIME constant that returns how many minutes the lasagna should bake in the oven. According to your cookbook, the Lasagna should be in the oven for 40 minutes:\n",
    "\n",
    ">>> import lasagna\n",
    ">>> lasagna.EXPECTED_BAKE_TIME\n",
    "40"
   ]
  },
  {
   "cell_type": "code",
   "execution_count": 17,
   "metadata": {},
   "outputs": [
    {
     "name": "stdout",
     "output_type": "stream",
     "text": [
      "10\n",
      "4\n",
      "30\n"
     ]
    }
   ],
   "source": [
    "\"\"\"Baking time in minutes\"\"\"\n",
    "EXPECTED_BAKE_TIME = 40\n",
    "\n",
    "def bake_time_remaining(time: int) -> int:\n",
    "    \"\"\"time spent baking compared to time left baking\"\"\"\n",
    "    return EXPECTED_BAKE_TIME - time\n",
    "\n",
    "print(bake_time_remaining(30))\n",
    "\n",
    "def preparation_time_in_minutes(layer: int) -> int:\n",
    "    \"\"\"Every layer takes 2 extra minutes\"\"\"\n",
    "    return layer * 2\n",
    "\n",
    "print(preparation_time_in_minutes(2))\n",
    "\n",
    "\n",
    "def elapsed_time_in_minutes(number_of_layers: int, elapsed_bake_time: int) -> int:\n",
    "    \"\"\"Calculates amount of layers with bake time\"\"\"\n",
    "    number_of_layers *= 2\n",
    "    return number_of_layers + elapsed_bake_time\n",
    "\n",
    "print(elapsed_time_in_minutes(3, 20))\n"
   ]
  },
  {
   "cell_type": "code",
   "execution_count": 1,
   "metadata": {},
   "outputs": [
    {
     "data": {
      "text/plain": [
       "40"
      ]
     },
     "execution_count": 1,
     "metadata": {},
     "output_type": "execute_result"
    }
   ],
   "source": [
    "expected_bake_time = 40 # bake time in minutes"
   ]
  },
  {
   "cell_type": "markdown",
   "metadata": {},
   "source": [
    "## 2. Calculate remaining bake time in minutes\n",
    "\n",
    "Implement the bake_time_remaining() function that takes the actual minutes the lasagna has been in the oven as an argument and returns how many minutes the lasagna still needs to bake based on the EXPECTED_BAKE_TIME.\n",
    "\n",
    ">>> from lasagna import bake_time_remaining\n",
    ">>> bake_time_remaining(30)\n",
    "10"
   ]
  },
  {
   "cell_type": "code",
   "execution_count": 2,
   "metadata": {},
   "outputs": [
    {
     "data": {
      "text/plain": [
       "10"
      ]
     },
     "execution_count": 2,
     "metadata": {},
     "output_type": "execute_result"
    }
   ],
   "source": [
    "def bake_time_remaining(time: int) -> int:\n",
    "    \"\"\"time spent baking compared to time left baking\"\"\"\n",
    "    return expected_bake_time - time\n",
    "\n",
    "bake_time_remaining(30)"
   ]
  },
  {
   "cell_type": "markdown",
   "metadata": {},
   "source": [
    "## 3. Calculate preparation time in minutes\n",
    "\n",
    "Implement the preparation_time_in_minutes() function that takes the number of layers you want to add to the lasagna as an argument and returns how many minutes you would spend making them. Assume each layer takes 2 minutes to prepare.\n",
    "\n",
    ">>> from lasagna import preparation_time_in_minutes\n",
    ">>> preparation_time_in_minutes(2)\n",
    "4\n"
   ]
  },
  {
   "cell_type": "code",
   "execution_count": 3,
   "metadata": {},
   "outputs": [
    {
     "data": {
      "text/plain": [
       "4"
      ]
     },
     "execution_count": 3,
     "metadata": {},
     "output_type": "execute_result"
    }
   ],
   "source": [
    "def preparation_time_in_minutes(layer: int) -> int:\n",
    "    \"\"\"Every layer takes 2 extra minutes\"\"\"\n",
    "    return layer + 2\n",
    "\n",
    "preparation_time_in_minutes(2)"
   ]
  },
  {
   "cell_type": "markdown",
   "metadata": {},
   "source": [
    "## 4. Calculate total elapsed cooking time (prep + bake) in minutes\n",
    "\n",
    "Implement the elapsed_time_in_minutes() function that has two parameters: number_of_layers (the number of layers added to the lasagna) and elapsed_bake_time (the number of minutes the lasagna has been baking in the oven). This function should return the total number of minutes you've been cooking, or the sum of your preparation time and the time the lasagna has already spent baking in the oven.\n",
    "\n",
    ">>> from lasagna import elapsed_time_in_minutes\n",
    ">>> elapsed_time_in_minutes(3, 20)\n",
    "26\n"
   ]
  },
  {
   "cell_type": "code",
   "execution_count": 10,
   "metadata": {},
   "outputs": [
    {
     "data": {
      "text/plain": [
       "26"
      ]
     },
     "execution_count": 10,
     "metadata": {},
     "output_type": "execute_result"
    }
   ],
   "source": [
    "\n",
    "def elapsed_time_in_minutes(number_of_layers: int, elapsed_bake_time: int) -> int:\n",
    "    \"\"\"Calculates amount of layers with bake time\"\"\"\n",
    "    return number_of_layers * 2 + elapsed_bake_time\n",
    "\n",
    "elapsed_time_in_minutes(3, 20)"
   ]
  }
 ],
 "metadata": {
  "kernelspec": {
   "display_name": "Python 3.9.13 ('Python-Daniel-Nilsson-97nbzLRS')",
   "language": "python",
   "name": "python3"
  },
  "language_info": {
   "codemirror_mode": {
    "name": "ipython",
    "version": 3
   },
   "file_extension": ".py",
   "mimetype": "text/x-python",
   "name": "python",
   "nbconvert_exporter": "python",
   "pygments_lexer": "ipython3",
   "version": "3.9.13"
  },
  "orig_nbformat": 4,
  "vscode": {
   "interpreter": {
    "hash": "bc050669da3b02a0dab5c74fea36723f6f6f98ad170411b0b9177bcf895e45d7"
   }
  }
 },
 "nbformat": 4,
 "nbformat_minor": 2
}
