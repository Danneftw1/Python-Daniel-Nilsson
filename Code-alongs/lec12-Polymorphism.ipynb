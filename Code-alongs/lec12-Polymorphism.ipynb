{
 "cells": [
  {
   "cell_type": "markdown",
   "metadata": {},
   "source": [
    "## Generella anteckningar\n",
    "\n",
    "### Decorator:\n",
    "- ger en extra funktion till vår metod, den blir en property (Python behandlar den lite annorlunda)\n",
    "- ger en getter och en setter\n",
    "    - getter plockar värdet som vi har gett och ger det vidare till en setter\n",
    "    - har vi endast en getter så gör det att vi inte kan ändra värdet på metoden i klassen\n",
    "### Instance:\n",
    "- Det som vi skapar efter alla metoder och klassen har skapats\n",
    "- går igenom metod i klassen\n",
    "- när vi kör en __init__ så kan vi instaciera något\n",
    "- \"self._\" och vi vill gömna något"
   ]
  },
  {
   "cell_type": "markdown",
   "metadata": {},
   "source": [
    "## OOP polymorphism"
   ]
  },
  {
   "cell_type": "code",
   "execution_count": 2,
   "metadata": {},
   "outputs": [
    {
     "ename": "NameError",
     "evalue": "name 'UnitUS' is not defined",
     "output_type": "error",
     "traceback": [
      "\u001b[1;31m---------------------------------------------------------------------------\u001b[0m",
      "\u001b[1;31mNameError\u001b[0m                                 Traceback (most recent call last)",
      "\u001b[1;32me:\\Github sparade filer\\Python-Daniel-Nilsson\\Code-alongs\\lec12-Polymorphism.ipynb Cell 2\u001b[0m in \u001b[0;36m<cell line: 1>\u001b[1;34m()\u001b[0m\n\u001b[1;32m----> <a href='vscode-notebook-cell:/e%3A/Github%20sparade%20filer/Python-Daniel-Nilsson/Code-alongs/lec12-Polymorphism.ipynb#W2sZmlsZQ%3D%3D?line=0'>1</a>\u001b[0m units \u001b[39m=\u001b[39m UnitUS(\u001b[39m5\u001b[39m)\n\u001b[0;32m      <a href='vscode-notebook-cell:/e%3A/Github%20sparade%20filer/Python-Daniel-Nilsson/Code-alongs/lec12-Polymorphism.ipynb#W2sZmlsZQ%3D%3D?line=1'>2</a>\u001b[0m \u001b[39mprint\u001b[39m(\u001b[39mf\u001b[39m\u001b[39m\"\u001b[39m\u001b[39m5 feet = \u001b[39m\u001b[39m{\u001b[39;00munits\u001b[39m.\u001b[39mfoot_to_meters()\u001b[39m}\u001b[39;00m\u001b[39m m\u001b[39m\u001b[39m\"\u001b[39m)\n\u001b[0;32m      <a href='vscode-notebook-cell:/e%3A/Github%20sparade%20filer/Python-Daniel-Nilsson/Code-alongs/lec12-Polymorphism.ipynb#W2sZmlsZQ%3D%3D?line=2'>3</a>\u001b[0m \u001b[39mprint\u001b[39m(\u001b[39mf\u001b[39m\u001b[39m\"\u001b[39m\u001b[39m5 inch = \u001b[39m\u001b[39m{\u001b[39;00munits\u001b[39m.\u001b[39minch_to_cm()\u001b[39m}\u001b[39;00m\u001b[39m cm\u001b[39m\u001b[39m\"\u001b[39m)\n",
      "\u001b[1;31mNameError\u001b[0m: name 'UnitUS' is not defined"
     ]
    }
   ],
   "source": [
    "# example with Python built-in\n",
    "# example of Polymorphic behavior\n",
    "print(f\"{len([1,23,4])=}\")\n",
    "print(f\"{len('1234')=}\")"
   ]
  },
  {
   "cell_type": "code",
   "execution_count": null,
   "metadata": {},
   "outputs": [],
   "source": [
    "class Fish:\n",
    "    def __init__(self, name) -> None:\n",
    "        self.name = name\n",
    "    \n",
    "    def __str__(self):\n",
    "        return f\"I am a fish with name {self.name}\"\n",
    "\n",
    "    def __repr__(self) -> str:\n",
    "        return f\"Fish(name='{self.name}')\"\n",
    "\n",
    "    def speak(self):\n",
    "        print(\"Bluppy bluppy\")\n",
    "\n",
    "class Fox:\n",
    "    def __init__(self, name) -> None:\n",
    "        self.name = name\n",
    "    \n",
    "    def __str__(self) -> str:\n",
    "        return f\"I am a fox with name {self.name}, my sound is mysterious\"\n",
    "\n",
    "    def speak(self):\n",
    "        return NotImplemented"
   ]
  },
  {
   "cell_type": "code",
   "execution_count": null,
   "metadata": {},
   "outputs": [],
   "source": [
    "\n",
    "\n",
    "fish1 = Fish(\"Guppie\")\n",
    "print(fish1)\n",
    "repr(fish1)\n",
    "\n"
   ]
  },
  {
   "cell_type": "code",
   "execution_count": 1,
   "metadata": {},
   "outputs": [
    {
     "ename": "NameError",
     "evalue": "name 'UnitUS' is not defined",
     "output_type": "error",
     "traceback": [
      "\u001b[1;31m---------------------------------------------------------------------------\u001b[0m",
      "\u001b[1;31mNameError\u001b[0m                                 Traceback (most recent call last)",
      "\u001b[1;32me:\\Github sparade filer\\Python-Daniel-Nilsson\\Code-alongs\\lec12-Polymorphism.ipynb Cell 5\u001b[0m in \u001b[0;36m<cell line: 1>\u001b[1;34m()\u001b[0m\n\u001b[1;32m----> <a href='vscode-notebook-cell:/e%3A/Github%20sparade%20filer/Python-Daniel-Nilsson/Code-alongs/lec12-Polymorphism.ipynb#W4sZmlsZQ%3D%3D?line=0'>1</a>\u001b[0m units \u001b[39m=\u001b[39m UnitUS(\u001b[39m5\u001b[39m)\n\u001b[0;32m      <a href='vscode-notebook-cell:/e%3A/Github%20sparade%20filer/Python-Daniel-Nilsson/Code-alongs/lec12-Polymorphism.ipynb#W4sZmlsZQ%3D%3D?line=1'>2</a>\u001b[0m \u001b[39mprint\u001b[39m(\u001b[39mf\u001b[39m\u001b[39m\"\u001b[39m\u001b[39m5 feet = \u001b[39m\u001b[39m{\u001b[39;00munits\u001b[39m.\u001b[39mfoot_to_meters()\u001b[39m}\u001b[39;00m\u001b[39m m\u001b[39m\u001b[39m\"\u001b[39m)\n\u001b[0;32m      <a href='vscode-notebook-cell:/e%3A/Github%20sparade%20filer/Python-Daniel-Nilsson/Code-alongs/lec12-Polymorphism.ipynb#W4sZmlsZQ%3D%3D?line=2'>3</a>\u001b[0m \u001b[39mprint\u001b[39m(\u001b[39mf\u001b[39m\u001b[39m\"\u001b[39m\u001b[39m5 inch = \u001b[39m\u001b[39m{\u001b[39;00munits\u001b[39m.\u001b[39minch_to_cm()\u001b[39m}\u001b[39;00m\u001b[39m cm\u001b[39m\u001b[39m\"\u001b[39m)\n",
      "\u001b[1;31mNameError\u001b[0m: name 'UnitUS' is not defined"
     ]
    }
   ],
   "source": [
    "fox1 = Fox(\"Ylvis\")\n",
    "animals = (fish1, fox1)\n",
    "\n",
    "for animal in animals:\n",
    "    print(animal)\n",
    "    animal.speak()"
   ]
  },
  {
   "cell_type": "markdown",
   "metadata": {},
   "source": [
    "## Operator overloading"
   ]
  },
  {
   "cell_type": "code",
   "execution_count": 37,
   "metadata": {},
   "outputs": [
    {
     "name": "stdout",
     "output_type": "stream",
     "text": [
      "Vector(1.0, 2.0, 3.0)\n",
      "Vectors can't be empty\n",
      "(-1.0, -2.0)\n",
      "len(v3)=2\n",
      "v3[0]=2.0\n",
      "abs(Vector(3,4))=5.0\n"
     ]
    }
   ],
   "source": [
    "from __future__ import annotations\n",
    "import matplotlib.pyplot as plt \n",
    "\n",
    "class Vector:\n",
    "    \"\"\"A class to represent Euclidean vector with magnitude and direction\"\"\"\n",
    "\n",
    "    # *numbers -> arbitrary numbers of positional arguments\n",
    "    def __init__(self, *numbers: float | int) -> None:\n",
    "        \n",
    "        # validation\n",
    "        for number in numbers:\n",
    "            if not isinstance(number, (float, int)):\n",
    "                raise TypeError(f\"{number} is not a valid number\")\n",
    "        \n",
    "        if len(numbers) == 0:\n",
    "            raise ValueError(\"Vectors can't be empty\")\n",
    "\n",
    "        self._numbers = tuple(float(number) for number in numbers)\n",
    "\n",
    "    @property\n",
    "    def numbers(self) -> tuple:\n",
    "        \"\"\"Returns numbers\"\"\"\n",
    "        return self._numbers # tuple\n",
    "\n",
    "    # operator overload +\n",
    "    def __add__(self, other: Vector) -> Vector:\n",
    "        if self.validate_vectors(other):\n",
    "            # (1,2)+(2,3) -> numbers = (1+2, 2+3)\n",
    "            numbers = (a+b for a,b in zip(self.numbers, other.numbers))\n",
    "            return Vector(*numbers)\n",
    "\n",
    "    # operator overload -\n",
    "    def __sub__(self, other: Vector) -> Vector:\n",
    "        if self.validate_vectors(other):\n",
    "            numbers = (a-b for a,b in zip(self.numbers, other.numbers))\n",
    "            return Vector(*numbers)\n",
    "\n",
    "    def validate_vectors(self, other: Vector) -> bool:\n",
    "        \"\"\"Validates if two vectors have same length\"\"\"\n",
    "        if not isinstance(other, Vector) or len(other) != len(self):\n",
    "            raise TypeError(\"Both must be Vector and must have same length\")\n",
    "        return len(self) == len(other) # evaluates to either True or False\n",
    "\n",
    "    # to use len() on Vector we have overload it\n",
    "    def __len__(self) -> int:\n",
    "        \"\"\"Returns number of elements in a Vector not the length of the Vector\"\"\"\n",
    "        return len(self.numbers)\n",
    "    \n",
    "    # operator overload [] operator - __getitem__()\n",
    "    def __getitem__(self, item: int) -> float:\n",
    "        return self.numbers[item]\n",
    "\n",
    "    # overload abs() function\n",
    "    def __abs__(self) -> float:\n",
    "        \"\"\"Returns Euclidean 2nd norm of a Vector\"\"\"\n",
    "        return sum(a**2 for a in self.numbers)**.5\n",
    "    \n",
    "    # overload * operator\n",
    "    def __mul__(self, value: int|float) -> Vector:\n",
    "        print(\"__mul__ called\")\n",
    "        if not isinstance(value, (int, float)):\n",
    "            raise TypeError(f\"The value must be a scalar that is int or float, not {type(value)}\")\n",
    "        numbers = (value*a for a in self.numbers)\n",
    "        return Vector(*numbers)\n",
    "\n",
    "    # reflected multiplication\n",
    "    def __rmul__(self, value: int|float) -> Vector:\n",
    "        print(\"__rmul__ called\")\n",
    "        return self*value\n",
    "\n",
    "    def plot(self, *others: Vector) -> None:\n",
    "        \"\"\" Visualize 2D vectors\"\"\"\n",
    "        X, Y = [], []\n",
    "\n",
    "        for vector in tuple(others):\n",
    "            if Vector.is2D(vector) and Vector.is2D(self):\n",
    "                X.append(vector[0])\n",
    "                Y.append(vector[1])\n",
    "        \n",
    "        X.append(self[0])\n",
    "        Y.append(self[1])\n",
    "\n",
    "        originX = originY = tuple(0 for _ in range(len(X)))\n",
    "\n",
    "        plt.quiver(originX, originY, X, Y, scale=1,\n",
    "                   scale_units=\"xy\", angles=\"xy\")\n",
    "        plt.xlim(-2, 10)\n",
    "        plt.ylim(-2, 10)\n",
    "        plt.xlabel(\"x\")\n",
    "        plt.ylabel(\"y\")\n",
    "        plt.title(f\"{self}, {others}\")\n",
    "        plt.grid()\n",
    "        plt.show()\n",
    "\n",
    "    @staticmethod\n",
    "    def is2D(vector: Vector) -> bool:\n",
    "        return len(vector) == 2\n",
    "\n",
    "    def __repr__(self) -> str:\n",
    "        return f\"Vector{self._numbers}\"\n",
    "\n",
    "#Vector(\"ofs\",2,3)\n",
    "v1 = Vector(1,2,3)\n",
    "print(v1)\n",
    "\n",
    "try:\n",
    "    v2 = Vector()\n",
    "except ValueError as err:\n",
    "    print(err)\n",
    "\n",
    "v2 = Vector(-1,-2)\n",
    "print(v2.numbers)\n",
    "\n",
    "v3 = Vector(2,3)\n",
    "print(f\"{len(v3)=}\")\n",
    "\n",
    "print(f\"{v3[0]=}\")\n",
    "\n",
    "print(f\"{abs(Vector(3,4))=}\")"
   ]
  },
  {
   "cell_type": "code",
   "execution_count": 38,
   "metadata": {},
   "outputs": [
    {
     "data": {
      "image/png": "[encoded data removed]",
      "text/plain": [
       "<Figure size 640x480 with 1 Axes>"
      ]
     },
     "metadata": {},
     "output_type": "display_data"
    }
   ],
   "source": [
    "v1 = Vector(1,2)\n",
    "v2 = Vector(3,1)\n",
    "v3 = v1+v2\n",
    "\n",
    "v3.plot(v1, v2)"
   ]
  },
  {
   "cell_type": "code",
   "execution_count": 28,
   "metadata": {},
   "outputs": [
    {
     "name": "stdout",
     "output_type": "stream",
     "text": [
      "<generator object <genexpr> at 0x00000200909C5CF0>\n",
      "<generator object <genexpr> at 0x00000200909C5B30>\n",
      "0 1 2 3 4 5 6 7 8 9\n"
     ]
    }
   ],
   "source": [
    "gen1 = (i for i in range(10))\n",
    "print(gen1)\n",
    "Vector(*gen1)\n",
    "\n",
    "gen = (i for i in range(10))\n",
    "\n",
    "print(gen)\n",
    "print(*gen)"
   ]
  },
  {
   "cell_type": "code",
   "execution_count": 12,
   "metadata": {},
   "outputs": [
    {
     "name": "stdout",
     "output_type": "stream",
     "text": [
      "1 2 3 4\n"
     ]
    }
   ],
   "source": [
    "def fun(a,b,c,d):\n",
    "    print(a,b,c,d)\n",
    "\n",
    "mylist = [1,2,3,4]\n",
    "\n",
    "fun(*mylist) #måste unpacka, funkar inte annars."
   ]
  },
  {
   "cell_type": "code",
   "execution_count": null,
   "metadata": {},
   "outputs": [],
   "source": [
    "\n",
    "Vector(1,2)+Vector(3,4,2)"
   ]
  },
  {
   "cell_type": "code",
   "execution_count": null,
   "metadata": {},
   "outputs": [],
   "source": [
    "print(f\"{v2=}, {v3=}\")\n",
    "print(v2.__add__(v3))\n",
    "v3+v2\n"
   ]
  },
  {
   "cell_type": "code",
   "execution_count": null,
   "metadata": {},
   "outputs": [],
   "source": [
    "v2-v3"
   ]
  },
  {
   "cell_type": "code",
   "execution_count": null,
   "metadata": {},
   "outputs": [],
   "source": [
    "v2+Vector(1,2,3)"
   ]
  },
  {
   "cell_type": "code",
   "execution_count": 14,
   "metadata": {},
   "outputs": [
    {
     "name": "stdout",
     "output_type": "stream",
     "text": [
      "<generator object <genexpr> at 0x000002009095D3C0>\n"
     ]
    },
    {
     "data": {
      "text/plain": [
       "Vector(0.0, 1.0, 2.0, 3.0, 4.0, 5.0, 6.0, 7.0, 8.0, 9.0)"
      ]
     },
     "execution_count": 14,
     "metadata": {},
     "output_type": "execute_result"
    }
   ],
   "source": [
    "gen = (i for i in range(10))\n",
    "print(gen)\n",
    "Vector(*gen)"
   ]
  },
  {
   "cell_type": "code",
   "execution_count": null,
   "metadata": {},
   "outputs": [],
   "source": [
    "isinstance(fish1, Fish), isinstance(fish1, Fox), isinstance(5, int)"
   ]
  },
  {
   "cell_type": "code",
   "execution_count": 30,
   "metadata": {},
   "outputs": [
    {
     "data": {
      "text/plain": [
       "(2, 3)"
      ]
     },
     "execution_count": 30,
     "metadata": {},
     "output_type": "execute_result"
    }
   ],
   "source": [
    "len(v2), len(v1)"
   ]
  },
  {
   "cell_type": "code",
   "execution_count": 31,
   "metadata": {},
   "outputs": [
    {
     "name": "stdout",
     "output_type": "stream",
     "text": [
      "1 2 3\n",
      "f() missing 2 required positional arguments: 'x2' and 'x3'\n",
      "1 2 3\n",
      "hej Vector(1.0, 2.0) -5\n",
      "hej Vector(1.0, 2.0) -5\n",
      "hej då Vector(1.0, 2.0)\n"
     ]
    }
   ],
   "source": [
    "def f(x1,x2,x3):\n",
    "    print(x1,x2,x3)\n",
    "\n",
    "f(1,2,3)\n",
    "try:\n",
    "    f([1,2,3])\n",
    "except TypeError as err:\n",
    "    print(err)\n",
    "\n",
    "f(*[1,2,3])\n",
    "\n",
    "f(*[\"hej\",Vector(1,2), -5])\n",
    "f(\"hej\",Vector(1,2), -5)\n",
    "\n",
    "f(*[*[\"hej\", \"då\"],Vector(1,2)])"
   ]
  }
 ],
 "metadata": {
  "kernelspec": {
   "display_name": "Python 3.9.13 64-bit",
   "language": "python",
   "name": "python3"
  },
  "language_info": {
   "codemirror_mode": {
    "name": "ipython",
    "version": 3
   },
   "file_extension": ".py",
   "mimetype": "text/x-python",
   "name": "python",
   "nbconvert_exporter": "python",
   "pygments_lexer": "ipython3",
   "version": "3.9.13"
  },
  "orig_nbformat": 4,
  "vscode": {
   "interpreter": {
    "hash": "167998f8c3a05581fbd9ccdd36f349f3264dd01bf05c9e030bf6452b394f7000"
   }
  }
 },
 "nbformat": 4,
 "nbformat_minor": 2
}
