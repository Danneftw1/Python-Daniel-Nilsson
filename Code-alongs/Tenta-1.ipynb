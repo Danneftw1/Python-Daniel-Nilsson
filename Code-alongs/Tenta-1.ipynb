{
 "cells": [
  {
   "cell_type": "markdown",
   "metadata": {},
   "source": [
    "## 1.\n",
    "Förklara vad koden gör och vad som ritas ut."
   ]
  },
  {
   "cell_type": "code",
   "execution_count": null,
   "metadata": {},
   "outputs": [],
   "source": [
    "import matplotlib.pyplot as plt\n",
    "\n",
    "\n",
    "x = list(range(10)) # skapar en lista som går från 0 till 9\n",
    "y = [i**2 for i in x] # räkarn varje tal i x listan upphöjt i 2. 0^2 -> 1^2 -> 2^2 ->...9^2\n",
    "fig = plt.figure()# skapar containern för plotting objekten\n",
    "ax = plt.axes()  # skapar \"bounding box\", ticks och labels för grafen\n",
    "ax.plot(x,y) # plottar ut data i grafen\n",
    "ax.set(title=\"Plot\", xlabel=\"x\", ylabel=\"y\") # titlar för x-axel, y-axel och huvudtitel(längst upp)"
   ]
  },
  {
   "cell_type": "markdown",
   "metadata": {},
   "source": [
    "## 2. \n",
    "Simulera 1000000 tärningskast och beräkna antalet ettor, tvåor, treor, fyror, femmor och sexor. Spara resultatet i en lämplig datastruktur."
   ]
  },
  {
   "cell_type": "code",
   "execution_count": 6,
   "metadata": {},
   "outputs": [
    {
     "name": "stdout",
     "output_type": "stream",
     "text": [
      "166698\n"
     ]
    },
    {
     "data": {
      "text/plain": [
       "166931"
      ]
     },
     "execution_count": 6,
     "metadata": {},
     "output_type": "execute_result"
    }
   ],
   "source": [
    "import random as rnd # importerar random\n",
    "import numpy as np\n",
    "\n",
    "# LÖSNING 1\n",
    "# amount = [sum([1 for roll in dice if roll == i +1]) for i in range(6)]\n",
    "# använder count funktionen separat för varje nummer\n",
    "\n",
    "# använder list comprehension för att få random nummer från 1 till 6 - 1000000 gånger\n",
    "dice = [rnd.randint(1, 6) for i in range(1000000)]\n",
    "\n",
    "# räknar varje siffra individuellt från listan \n",
    "print(dice.count(1))\n",
    "dice.count(2)\n",
    "dice.count(3)\n",
    "dice.count(4)\n",
    "dice.count(5)\n",
    "dice.count(6)\n"
   ]
  },
  {
   "cell_type": "code",
   "execution_count": 14,
   "metadata": {},
   "outputs": [
    {
     "name": "stdout",
     "output_type": "stream",
     "text": [
      "{'1': 166386, '2': 166150, '3': 166897, '4': 167009, '5': 166551, '6': 166163}\n"
     ]
    }
   ],
   "source": [
    "dice_list = {}\n",
    "\n",
    "for i, number in enumerate(\"123456\"):\n",
    "    dices = [rnd.randint(1,6) for i in range(1000000)]\n",
    "    dice_list[number]= dices.count(i+1)\n",
    "print(dice_list)"
   ]
  },
  {
   "cell_type": "markdown",
   "metadata": {},
   "source": [
    "## 3. \n",
    "Skriv en funktion som tar in en radie som inparameter och som returnerar volymen av en sfär. Volymen för en\n",
    "sfär är:\n",
    "\n",
    "Låt användaren mata in ett tal och kör funktionen. Tänk på att ta med lämplig felhantering.\n"
   ]
  },
  {
   "cell_type": "code",
   "execution_count": 15,
   "metadata": {},
   "outputs": [
    {
     "data": {
      "text/plain": [
       "'En sfär med en radie på 12 har 7238m^3'"
      ]
     },
     "execution_count": 15,
     "metadata": {},
     "output_type": "execute_result"
    }
   ],
   "source": [
    "from __future__ import annotations\n",
    "import math\n",
    "\n",
    "\n",
    "def sphere_volume(radius: (float | int)):\n",
    "    \"\"\"Calculates volume of sphere of a given radius\"\"\"\n",
    "    if not isinstance(radius, (float, int)):\n",
    "        raise TypeError(f\"Du måste skriva en ett heltal eller ett tal med decimaler {radius}\")\n",
    "    if radius < 0:\n",
    "        raise ValueError(\"måste vara ett positivt tal\")\n",
    "    volume = (4 * math.pi * radius**3) / 3\n",
    "    return f\"En sfär med en radie på {radius} har {volume:.0f}m^3\"\n",
    "\n",
    "\n",
    "sphere_volume(12)\n"
   ]
  },
  {
   "cell_type": "markdown",
   "metadata": {},
   "source": [
    "## 4. \n",
    "Läs in en textfil som heter bamba.txt och innehåller:\n",
    "\n",
    "v42\n",
    "Chili sin carne\n",
    "Pannkakor\n",
    "Ärtsoppa\n",
    "Kebab\n",
    "Vegetarisk lasagne"
   ]
  },
  {
   "cell_type": "code",
   "execution_count": 14,
   "metadata": {},
   "outputs": [
    {
     "name": "stdout",
     "output_type": "stream",
     "text": [
      "v42\n",
      "Chili sin carne\n",
      "Pannkakor\n",
      "Ã„rtsoppa\n",
      "Kebab\n",
      "Vegetarisk lasagne\n"
     ]
    }
   ],
   "source": [
    "with open (\"../Data/testpoints.txt\", \"r\") as f: # laddar in text-filen som 'read' eftersom vi inte behöver appenda eller skriva över\n",
    "    lista = f.read() # för att skriva ut i terminalen behövs den göras till en variabel\n",
    "\n",
    "print(lista) # printa ut variabeln"
   ]
  },
  {
   "cell_type": "code",
   "execution_count": null,
   "metadata": {},
   "outputs": [],
   "source": [
    "with open (\"../Data/testpoints.txt\", \"r\") as f: # laddar in text-filen som 'read' eftersom vi inte behöver appenda eller skriva över\n",
    " # för att skriva ut i terminalen behövs den göras till en variabel\n",
    "\n",
    "    print(lista) # printa ut variabeln"
   ]
  },
  {
   "cell_type": "markdown",
   "metadata": {},
   "source": [
    "## 5. \n",
    "Skapa en funktion som tar in två punkter i 2D , och som returnerar tillbaka avståndet mellan\n",
    "dessa. Anropa därefter denna funktion för test\n",
    "Det finns en textfil som heter testpunkter.txt som ligger i undermappen testpoints och innehåller:\n",
    "\n",
    "Punkt 1, punkt 2\n",
    "(1,2), (0,0)\n",
    "(2,0), (3,5)\n",
    "...\n",
    "(-2,-2), (9,2)\n",
    "-------------------------------------------------------------------------------\n",
    "Random information om saker i uppgiften\n",
    "\n",
    "--TUPLES--\n",
    "\n",
    "* Tuple is one of 4 built-in data types in Python used to store collections of data, the other 3 are List, Set, and Dictionary, all with different qualities and usage.\n",
    "* Tuple is a collection which is ordered and UNCHANGABLE\n",
    "* written with round brackets\n",
    "* Tuples have index like lists [0] is the first index and so on..\n",
    "* Ordered Tuple: objects have a defined order and will not change\n",
    "* Unchangeable Tuple: Cannot change, add or remove items after creation\n",
    "* Allow Duplicates: can have items with the same value\n",
    "* Tuples can be of any data type, can also contain different data in same tuple\n",
    "-----------------------------------------------------------------------------------\n",
    "---FILE-HANDLING---\n",
    "\n"
   ]
  },
  {
   "cell_type": "code",
   "execution_count": 17,
   "metadata": {},
   "outputs": [
    {
     "name": "stdout",
     "output_type": "stream",
     "text": [
      "[[1.0, 2.0, 0.0, 0.0], [2.0, 0.0, 3.0, 5.0], [-2.0, -2.0, 9.0, 2.0], [1.0, 3.0, 5.0, -2.0], [3.0, 2.0, 5.0, 3.0], [3.0, 5.0, 8.0, 2.0], [6.0, 2.0, 4.0, 0.0]]\n",
      "2.23606797749979\n",
      "5.099019513592785\n",
      "11.704699910719626\n",
      "6.4031242374328485\n",
      "2.23606797749979\n",
      "5.8309518948453\n",
      "2.8284271247461903\n"
     ]
    }
   ],
   "source": [
    "from math import dist\n",
    "\n",
    "def calc_dist(p1, p2, q1, q2):\n",
    "    return dist((p1, p2), (q1, q2))\n",
    "\n",
    "with open(\"../Data/testpunkter.txt\", \"r\") as file_r:\n",
    "    clean = []\n",
    "    for index, row in enumerate(file_r):\n",
    "        if index != 0:\n",
    "            t = [float(i.strip(\"() \\n\")) for i in row.split(\",\")]\n",
    "            clean.append(t)\n",
    "    print(clean)\n",
    "            \n",
    "for point in clean:\n",
    "    print(calc_dist(point[0], point[1], point[2], point[3]))"
   ]
  },
  {
   "cell_type": "code",
   "execution_count": null,
   "metadata": {},
   "outputs": [],
   "source": [
    "import math\n",
    "import matplotlib.pyplot as plt\n",
    "\n",
    "\n",
    "with open(\"../Data/testpunkter.txt\") as f:\n",
    "    lines = f.readlines()\n",
    "    lines.pop(0)\n",
    "\n",
    "    lines_clean = []\n",
    "    for line in lines:\n",
    "        line = line.replace(\"(\", \"\")\n",
    "        line = line.replace(\")\", \"\")\n",
    "        line = line.replace(\" \", \"\")\n",
    "        line = line.replace(\"\\n\", \"\")\n",
    "        lines_clean.append(line)\n",
    "\n",
    "    lines_split = []\n",
    "    for line in lines_clean:\n",
    "        lines_split.append(line.split(\",\"))\n",
    "    \n",
    "    lines_floated = []\n",
    "    for line in lines_split:\n",
    "        for index in line:\n",
    "            lines_floated.append(float(index))\n",
    "\n",
    "\n",
    "\n",
    "def distance(tuple1, tuple2):\n",
    "    plt.plot(tuple1, tuple2, '-o')\n",
    "    return math.dist(tuple1, tuple2)\n",
    "\n",
    "distance(lines_floated[0:2], lines_floated[3:4])\n",
    "\n"
   ]
  },
  {
   "cell_type": "markdown",
   "metadata": {},
   "source": [
    "## LÖSNING NR 2"
   ]
  },
  {
   "cell_type": "code",
   "execution_count": 16,
   "metadata": {},
   "outputs": [
    {
     "data": {
      "text/plain": [
       "[[1.0, 2.0, 0.0, 0.0],\n",
       " [2.0, 0.0, 3.0, 5.0],\n",
       " [-2.0, -2.0, 9.0, 2.0],\n",
       " [1.0, 3.0, 5.0, -2.0],\n",
       " [3.0, 2.0, 5.0, 3.0],\n",
       " [3.0, 5.0, 8.0, 2.0],\n",
       " [6.0, 2.0, 4.0, 0.0]]"
      ]
     },
     "execution_count": 16,
     "metadata": {},
     "output_type": "execute_result"
    }
   ],
   "source": [
    "from math import dist\n",
    "\n",
    "def calc_dist(p, q) -> float:\n",
    "    return dist(p, q)\n",
    "\n",
    "file_path = \"../Data/testpunkter.txt\"\n",
    "with open(file_path, \"r\") as f:\n",
    "    clean = []\n",
    "    for row in f.readlines()[1:]:\n",
    "        temp = [float(i.strip(\"() \\n\")) for i in row.split(\",\")]\n",
    "        clean.append(temp)\n",
    "clean\n",
    "\n",
    "# for points in clean:\n",
    "#     p = (points[0], points[1])\n",
    "#     q = (points[2], points[3])\n",
    "#     print(calc_dist(p, q))"
   ]
  },
  {
   "cell_type": "code",
   "execution_count": null,
   "metadata": {},
   "outputs": [],
   "source": [
    "file_path = \"../Data/testpunkter.txt\"\n",
    "with open(file_path, \"r\") as f:\n",
    "    clean = list()\n",
    "    for row in f.readlines()[1:]:\n",
    "        temp = [float(i.strip(\"() \\n\")) for i in row.split(\",\")]\n",
    "        clean.append(temp)"
   ]
  },
  {
   "cell_type": "markdown",
   "metadata": {},
   "source": [
    "## 6. \n",
    "I den här uppgiften ska du skapa ett blackjack som är ett kortspel. Förenklat är reglerna för blackjack:\n",
    "- dealern tar två kort\n",
    "- dealern visar sitt första kort\n",
    "- spelaren tar två kort\n",
    "- spelaren får välja att ta nytt kort eller stanna\n",
    "- när spelaren stannar räknar man poängen genom:\n",
    "    - J, K, Q värda 10p\n",
    "    - A värd 1 eller 11\n",
    "    - Övriga kort värda deras valör\n",
    "- om spelarens poäng mindre eller lika med 21, vinner spelaren om hens poäng överstiger dealerns,\n",
    "annars vinner dealern"
   ]
  },
  {
   "cell_type": "code",
   "execution_count": 37,
   "metadata": {},
   "outputs": [
    {
     "name": "stdout",
     "output_type": "stream",
     "text": [
      "dealer have 6\n",
      "You have 13\n",
      "You have 15\n",
      "You have 24\n",
      "you lose\n",
      "dealer have 17\n",
      "You win\n"
     ]
    }
   ],
   "source": [
    "import random\n",
    "\n",
    "cards = [2, 3, 4, 5, 6, 7, 8, 9, 10, \"J\", \"Q\", \"K\", \"A\"]\n",
    "\n",
    "def play():\n",
    "    dealer1 = cards[random.randint(0, 12)]\n",
    "    print(f\"dealer have {dealer1}\")\n",
    "    player = []\n",
    "    player.append(cards[random.randint(0, 12)])\n",
    "    player.append(cards[random.randint(0, 12)])\n",
    "\n",
    "    while True:\n",
    "        sum = 0\n",
    "        aces = 0\n",
    "        for card in player:\n",
    "            if card == \"A\":\n",
    "                aces += 1\n",
    "            elif card == \"J\" or card == \"Q\" or card == \"K\":\n",
    "                sum += 10\n",
    "            else:\n",
    "                sum += card\n",
    "            while aces > 0:\n",
    "                if sum > 11 or aces >1:\n",
    "                    sum += 1\n",
    "                    aces -= 1\n",
    "                else:\n",
    "                    sum += 11\n",
    "                    aces -= 1\n",
    "            \n",
    "        print(f\"You have {sum}\")\n",
    "        if sum > 21:\n",
    "            print(\"you lose\")\n",
    "            break\n",
    "\n",
    "            \n",
    "        play_on = input(\"Do you want another card? y/n\")\n",
    "        if play_on == \"y\":\n",
    "            player.append(cards[random.randint(0, 12)])\n",
    "        elif play_on == \"n\":\n",
    "            break\n",
    "        else:\n",
    "            print(\"enter y for yes or n for no\")\n",
    "    \n",
    "        \n",
    "\n",
    "    dealer2 = cards[random.randint(0, 12)]\n",
    "    dealer = [dealer1, dealer2]\n",
    "\n",
    "\n",
    "    deal_sum = 0\n",
    "    aces = 0\n",
    "    for card in dealer:\n",
    "        if card == \"A\":\n",
    "            aces += 1\n",
    "        elif card == \"J\" or card == \"Q\" or card == \"K\":\n",
    "            deal_sum += 10\n",
    "        else:\n",
    "            deal_sum += card\n",
    "        while aces > 0:\n",
    "            if deal_sum > 11 or aces >1:\n",
    "                deal_sum += 1\n",
    "                aces -= 1\n",
    "            else:\n",
    "                deal_sum += 11\n",
    "                aces -= 1\n",
    "\n",
    "    print(f\"dealer have {deal_sum}\")\n",
    "    if deal_sum == sum:\n",
    "        print(\"tie\")\n",
    "    elif deal_sum > sum:\n",
    "        print(\"You lose\")\n",
    "    else:\n",
    "        print(\"You win\")\n",
    "play()"
   ]
  },
  {
   "cell_type": "code",
   "execution_count": null,
   "metadata": {},
   "outputs": [],
   "source": [
    "import random as rnd\n",
    "\n",
    "def pull_card(deck: list) -> str:\n",
    "\t\"\"\"pulls random card from deck\"\"\"\n",
    "\tindex = rnd.randint(0, len(deck)-1)\n",
    "\tcard = deck[index]\n",
    "\tdeck.pop(index)\n",
    "\treturn card\n",
    "\n",
    "def get_hand_value(hand: list) -> int:\n",
    "\t\"\"\"calculates combined value of cards in hand\"\"\"\n",
    "\tsum_cards = 0\n",
    "\tfor key, value in card_value.items():\n",
    "\t\tfor item in hand:\n",
    "\t\t\tif item == key:\n",
    "\t\t\t\tsum_cards += value\n",
    "\t# converting aces from 11 to 1 in value if value of hand is too large\n",
    "\tif sum_cards > 21 and \"A\" in hand:\n",
    "\t\tfor i in (range(hand.count(\"A\"))):\n",
    "\t\t\tsum_cards -= 10\n",
    "\t\t\tif sum_cards <= 21:\n",
    "\t\t\t\tbreak\n",
    "\treturn sum_cards\n",
    "\n",
    "# create dictionary of symbols paired with their value\n",
    "card_value = {\n",
    "\"A\": 11,\n",
    "\"J\": 10,\n",
    "\"K\": 10,\n",
    "\"Q\": 10,\n",
    "\"2\": 2,\n",
    "\"3\": 3,\n",
    "\"4\": 4,\n",
    "\"5\": 5,\n",
    "\"6\": 6,\n",
    "\"7\": 7,\n",
    "\"8\": 8,\n",
    "\"9\": 9,\n",
    "\"10\": 10,\n",
    "}\n",
    "\n",
    "def play():\n",
    "# create a deck list of (decks) decks containing all 52 cards from each deck\n",
    "\n",
    "\n",
    "    deck = []\n",
    "    decks = 1\n",
    "    for i in range(4 * decks):\n",
    "        for key, value in card_value.items():\n",
    "            deck.append(key)\n",
    "\n",
    "    \n",
    "\t# initialize lists to hold the cards of players and dealers hand\n",
    "    my_hand = []\n",
    "    dealers_hand = []\n",
    "\t\n",
    "\t# dealer draws 2 cards\n",
    "    for i in range(2):\n",
    "        dealers_hand.append(pull_card(deck))\n",
    "\t\n",
    "\t# dealer shows first card drawn\n",
    "    print(dealers_hand[0])\n",
    "\n",
    "\t# player draws 2 cards\n",
    "    for i in range(2):\n",
    "        my_hand.append(pull_card(deck))\n",
    "\t\n",
    "\t# show players hand\n",
    "    print(my_hand, get_hand_value(my_hand))\n",
    "\t\n",
    "\t# player choses to pull more cards or stop\n",
    "    while True:\n",
    "        choice = input(\"\\\"H\\\" for hit, \\\"S\\\" for stay\").upper()\n",
    "        if choice == \"H\":\n",
    "            my_hand.append(pull_card(deck))\n",
    "            print(my_hand, get_hand_value(my_hand))\n",
    "            if get_hand_value(my_hand) > 21:\n",
    "                break\n",
    "            elif choice == \"S\":\n",
    "                break\n",
    "            else:\n",
    "                print(f\"Make sure to input \\\"H\\\" or \\\"S\\\", {choice} not accepted\")\n",
    "\t\n",
    "\t# print string based on who wins\n",
    "    if get_hand_value(my_hand) <= 21 and get_hand_value(my_hand) > get_hand_value(dealers_hand):\n",
    "        print(f\"Player wins\\nPlayer hand: {my_hand}, {get_hand_value(my_hand)}\\nDealers hand: {dealers_hand}, {get_hand_value(dealers_hand)}\")\n",
    "    else:\n",
    "        print(f\"Dealer wins\\nPlayer hand: {my_hand}, {get_hand_value(my_hand)}\\nDealers hand: {dealers_hand}, {get_hand_value(dealers_hand)}\")\n",
    "\n",
    "play()"
   ]
  },
  {
   "cell_type": "markdown",
   "metadata": {},
   "source": [
    "## 7.\n",
    "skapa en klass som heter NormalDist som följer detta UML: kolla pdf"
   ]
  },
  {
   "cell_type": "code",
   "execution_count": 5,
   "metadata": {},
   "outputs": [],
   "source": [
    "from __future__ import annotations\n",
    "from math import sqrt, pi, e\n",
    "import numpy as np\n",
    "import matplotlib.pyplot as plt\n",
    "\n",
    "class NormalDist:\n",
    "    def __init__(self, mu: float = 0, sigma: float = 1):\n",
    "        self._mu = mu\n",
    "        self._sigma = sigma\n",
    "    \n",
    "    def pdf(self, x: float) -> float:\n",
    "        return (1/(self._sigma*sqrt(2*pi)))*e**(-(1/2)*((x - self._mu) / self._sigma)**2)\n",
    "    \n",
    "    def plot_pdf(self, x: float, y: float):\n",
    "        interval = np.linspace(x, y)\n",
    "        plt.plot(interval, self.pdf(interval))\n",
    "\n",
    "    def __add__(self, other: NormalDist) -> NormalDist:\n",
    "        return NormalDist(self._mu + other._mu, self._sigma + other._sigma)\n",
    "\n",
    "    def __repr__(self) -> str:\n",
    "        return f\"NormalDist(mu = {self._mu}, sigma = {self._sigma})\"\n"
   ]
  },
  {
   "cell_type": "code",
   "execution_count": 7,
   "metadata": {},
   "outputs": [
    {
     "data": {
      "image/png": "[encoded data removed]",
      "text/plain": [
       "<Figure size 640x480 with 1 Axes>"
      ]
     },
     "metadata": {},
     "output_type": "display_data"
    }
   ],
   "source": [
    "a = NormalDist()\n",
    "b = NormalDist()\n",
    "c = a+b\n",
    "a.plot_pdf(-3,3)\n",
    "c.plot_pdf(-3,3)"
   ]
  }
 ],
 "metadata": {
  "kernelspec": {
   "display_name": "Python-Daniel-Nilsson-97nbzLRS",
   "language": "python",
   "name": "python3"
  },
  "language_info": {
   "codemirror_mode": {
    "name": "ipython",
    "version": 3
   },
   "file_extension": ".py",
   "mimetype": "text/x-python",
   "name": "python",
   "nbconvert_exporter": "python",
   "pygments_lexer": "ipython3",
   "version": "3.9.13"
  },
  "orig_nbformat": 4,
  "vscode": {
   "interpreter": {
    "hash": "bc050669da3b02a0dab5c74fea36723f6f6f98ad170411b0b9177bcf895e45d7"
   }
  }
 },
 "nbformat": 4,
 "nbformat_minor": 2
}
