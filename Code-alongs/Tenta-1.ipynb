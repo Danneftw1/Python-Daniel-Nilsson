{
 "cells": [
  {
   "cell_type": "markdown",
   "metadata": {},
   "source": [
    "## 1.\n",
    "Förklara vad koden gör och vad som ritas ut."
   ]
  },
  {
   "cell_type": "code",
   "execution_count": null,
   "metadata": {},
   "outputs": [],
   "source": [
    "import matplotlib.pyplot as plt\n",
    "\n",
    "\n",
    "x = list(range(10)) # skapar en lista som går från 0 till 9\n",
    "y = [i**2 for i in x] # räkarn varje tal i x listan upphöjt i 2. 0^2 -> 1^2 -> 2^2 ->...9^2\n",
    "fig = plt.figure()# skapar containern för plotting objekten\n",
    "ax = plt.axes()  # skapar \"bounding box\", ticks och labels för grafen\n",
    "ax.plot(x,y) # plottar ut data i grafen\n",
    "ax.set(title=\"Plot\", xlabel=\"x\", ylabel=\"y\") # titlar för x-axel, y-axel och huvudtitel(längst upp)"
   ]
  },
  {
   "cell_type": "markdown",
   "metadata": {},
   "source": [
    "## 2. \n",
    "Simulera 1000000 tärningskast och beräkna antalet ettor, tvåor, treor, fyror, femmor och sexor. Spara resultatet i en lämplig datastruktur."
   ]
  },
  {
   "cell_type": "code",
   "execution_count": 1,
   "metadata": {},
   "outputs": [
    {
     "ename": "TypeError",
     "evalue": "list.count() takes exactly one argument (0 given)",
     "output_type": "error",
     "traceback": [
      "\u001b[1;31m---------------------------------------------------------------------------\u001b[0m",
      "\u001b[1;31mTypeError\u001b[0m                                 Traceback (most recent call last)",
      "\u001b[1;32mc:\\Git Hub filer\\Python-Daniel-Nilsson\\Code-alongs\\Tenta-1.ipynb Cell 4\u001b[0m in \u001b[0;36m<cell line: 10>\u001b[1;34m()\u001b[0m\n\u001b[0;32m      <a href='vscode-notebook-cell:/c%3A/Git%20Hub%20filer/Python-Daniel-Nilsson/Code-alongs/Tenta-1.ipynb#W3sZmlsZQ%3D%3D?line=3'>4</a>\u001b[0m dice \u001b[39m=\u001b[39m [rnd\u001b[39m.\u001b[39mrandint(\u001b[39m1\u001b[39m, \u001b[39m6\u001b[39m) \u001b[39mfor\u001b[39;00m i \u001b[39min\u001b[39;00m \u001b[39mrange\u001b[39m(\u001b[39m1000000\u001b[39m)]\n\u001b[0;32m      <a href='vscode-notebook-cell:/c%3A/Git%20Hub%20filer/Python-Daniel-Nilsson/Code-alongs/Tenta-1.ipynb#W3sZmlsZQ%3D%3D?line=5'>6</a>\u001b[0m \u001b[39m# LÖSNING 1\u001b[39;00m\n\u001b[0;32m      <a href='vscode-notebook-cell:/c%3A/Git%20Hub%20filer/Python-Daniel-Nilsson/Code-alongs/Tenta-1.ipynb#W3sZmlsZQ%3D%3D?line=6'>7</a>\u001b[0m \u001b[39m# amount = [sum([1 for roll in dice if roll == i +1]) for i in range(6)]\u001b[39;00m\n\u001b[0;32m      <a href='vscode-notebook-cell:/c%3A/Git%20Hub%20filer/Python-Daniel-Nilsson/Code-alongs/Tenta-1.ipynb#W3sZmlsZQ%3D%3D?line=7'>8</a>\u001b[0m \u001b[39m# använder count funktionen separat för varje nummer\u001b[39;00m\n\u001b[1;32m---> <a href='vscode-notebook-cell:/c%3A/Git%20Hub%20filer/Python-Daniel-Nilsson/Code-alongs/Tenta-1.ipynb#W3sZmlsZQ%3D%3D?line=9'>10</a>\u001b[0m dice\u001b[39m.\u001b[39;49mcount()\n\u001b[0;32m     <a href='vscode-notebook-cell:/c%3A/Git%20Hub%20filer/Python-Daniel-Nilsson/Code-alongs/Tenta-1.ipynb#W3sZmlsZQ%3D%3D?line=10'>11</a>\u001b[0m dice\u001b[39m.\u001b[39mcount()\n\u001b[0;32m     <a href='vscode-notebook-cell:/c%3A/Git%20Hub%20filer/Python-Daniel-Nilsson/Code-alongs/Tenta-1.ipynb#W3sZmlsZQ%3D%3D?line=11'>12</a>\u001b[0m dice\u001b[39m.\u001b[39mcount()\n",
      "\u001b[1;31mTypeError\u001b[0m: list.count() takes exactly one argument (0 given)"
     ]
    }
   ],
   "source": [
    "import random as rnd # importerar random\n",
    "\n",
    "# använder list comprehension för att få random nummer från 1 till 6 - 1000000 gånger\n",
    "dice = [rnd.randint(1, 6) for i in range(1000000)]\n",
    "\n",
    "# LÖSNING 1\n",
    "# amount = [sum([1 for roll in dice if roll == i +1]) for i in range(6)]\n",
    "# använder count funktionen separat för varje nummer\n",
    "\n",
    "dice.count()\n",
    "dice.count()\n",
    "dice.count()\n",
    "dice.count()\n",
    "dice.count()\n",
    "\n",
    "#"
   ]
  }
 ],
 "metadata": {
  "kernelspec": {
   "display_name": "Python 3.9.13 ('Python-Daniel-Nilsson-dM3wHzD4')",
   "language": "python",
   "name": "python3"
  },
  "language_info": {
   "codemirror_mode": {
    "name": "ipython",
    "version": 3
   },
   "file_extension": ".py",
   "mimetype": "text/x-python",
   "name": "python",
   "nbconvert_exporter": "python",
   "pygments_lexer": "ipython3",
   "version": "3.9.13"
  },
  "orig_nbformat": 4,
  "vscode": {
   "interpreter": {
    "hash": "c3a8699ff25c9cbc0813ce7fc610555f4abadcd389eeaf7d4f4aa58333d28396"
   }
  }
 },
 "nbformat": 4,
 "nbformat_minor": 2
}
