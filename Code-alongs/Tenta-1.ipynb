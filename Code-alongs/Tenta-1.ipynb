{
 "cells": [
  {
   "cell_type": "markdown",
   "metadata": {},
   "source": [
    "## 1.\n",
    "Förklara vad koden gör och vad som ritas ut."
   ]
  },
  {
   "cell_type": "code",
   "execution_count": null,
   "metadata": {},
   "outputs": [],
   "source": [
    "import matplotlib.pyplot as plt\n",
    "\n",
    "\n",
    "x = list(range(10)) # skapar en lista som går från 0 till 9\n",
    "y = [i**2 for i in x] # räkarn varje tal i x listan upphöjt i 2. 0^2 -> 1^2 -> 2^2 ->...9^2\n",
    "fig = plt.figure()# skapar containern för plotting objekten\n",
    "ax = plt.axes()  # skapar \"bounding box\", ticks och labels för grafen\n",
    "ax.plot(x,y) # plottar ut data i grafen\n",
    "ax.set(title=\"Plot\", xlabel=\"x\", ylabel=\"y\") # titlar för x-axel, y-axel och huvudtitel(längst upp)"
   ]
  },
  {
   "cell_type": "markdown",
   "metadata": {},
   "source": [
    "## 2. \n",
    "Simulera 1000000 tärningskast och beräkna antalet ettor, tvåor, treor, fyror, femmor och sexor. Spara resultatet i en lämplig datastruktur."
   ]
  },
  {
   "cell_type": "code",
   "execution_count": 6,
   "metadata": {},
   "outputs": [
    {
     "name": "stdout",
     "output_type": "stream",
     "text": [
      "166698\n"
     ]
    },
    {
     "data": {
      "text/plain": [
       "166931"
      ]
     },
     "execution_count": 6,
     "metadata": {},
     "output_type": "execute_result"
    }
   ],
   "source": [
    "import random as rnd # importerar random\n",
    "import numpy as np\n",
    "\n",
    "# LÖSNING 1\n",
    "# amount = [sum([1 for roll in dice if roll == i +1]) for i in range(6)]\n",
    "# använder count funktionen separat för varje nummer\n",
    "\n",
    "# använder list comprehension för att få random nummer från 1 till 6 - 1000000 gånger\n",
    "dice = [rnd.randint(1, 6) for i in range(1000000)]\n",
    "\n",
    "# räknar varje siffra individuellt från listan \n",
    "print(dice.count(1))\n",
    "dice.count(2)\n",
    "dice.count(3)\n",
    "dice.count(4)\n",
    "dice.count(5)\n",
    "dice.count(6)\n"
   ]
  },
  {
   "cell_type": "code",
   "execution_count": 14,
   "metadata": {},
   "outputs": [
    {
     "name": "stdout",
     "output_type": "stream",
     "text": [
      "{'1': 166386, '2': 166150, '3': 166897, '4': 167009, '5': 166551, '6': 166163}\n"
     ]
    }
   ],
   "source": [
    "dice_list = {}\n",
    "\n",
    "for i, number in enumerate(\"123456\"):\n",
    "    dices = [rnd.randint(1,6) for i in range(1000000)]\n",
    "    dice_list[number]= dices.count(i+1)\n",
    "print(dice_list)"
   ]
  },
  {
   "cell_type": "markdown",
   "metadata": {},
   "source": [
    "## 3. \n",
    "Skriv en funktion som tar in en radie som inparameter och som returnerar volymen av en sfär. Volymen för en\n",
    "sfär är:\n",
    "\n",
    "Låt användaren mata in ett tal och kör funktionen. Tänk på att ta med lämplig felhantering.\n"
   ]
  },
  {
   "cell_type": "code",
   "execution_count": null,
   "metadata": {},
   "outputs": [],
   "source": [
    "from __future__ import annotations\n",
    "import math\n",
    "\n",
    "\n",
    "def sphere_volume(radius: (float | int)):\n",
    "    \"\"\"Calculates volume of sphere of a given radius\"\"\"\n",
    "    if not isinstance(radius, (float, int)):\n",
    "        raise TypeError(f\"Du måste skriva en ett heltal eller ett tal med decimaler {radius}\")\n",
    "    if radius < 0:\n",
    "        raise ValueError(\"måste vara ett positivt tal\")\n",
    "    volume = (4 * math.pi * radius**3) / 3\n",
    "    return volume\n",
    "\n",
    "sphere_volume(12.1)\n"
   ]
  },
  {
   "cell_type": "markdown",
   "metadata": {},
   "source": [
    "## 4. \n",
    "Läs in en textfil som heter bamba.txt och innehåller:\n",
    "\n",
    "v42\n",
    "Chili sin carne\n",
    "Pannkakor\n",
    "Ärtsoppa\n",
    "Kebab\n",
    "Vegetarisk lasagne"
   ]
  },
  {
   "cell_type": "code",
   "execution_count": 47,
   "metadata": {},
   "outputs": [
    {
     "name": "stdout",
     "output_type": "stream",
     "text": [
      "v42\n",
      "Chili sin carne\n",
      "Pannkakor\n",
      "Ã„rtsoppa\n",
      "Kebab\n",
      "Vegetarisk lasagne\n"
     ]
    }
   ],
   "source": [
    "with open (\"../Data/testpoints.txt\", \"r\") as f: # laddar in text-filen som 'read' eftersom vi inte behöver appenda eller skriva över\n",
    "    lista = f.read() # för att skriva ut i terminalen behövs den göras till en variabel\n",
    "\n",
    "print(lista) # printa ut variabeln"
   ]
  },
  {
   "cell_type": "markdown",
   "metadata": {},
   "source": [
    "## 5. \n",
    "Skapa en funktion som tar in två punkter i 2D , och som returnerar tillbaka avståndet mellan\n",
    "dessa. Anropa därefter denna funktion för test\n",
    "Det finns en textfil som heter testpunkter.txt som ligger i undermappen testpoints och innehåller:\n",
    "\n",
    "Punkt 1, punkt 2\n",
    "(1,2), (0,0)\n",
    "(2,0), (3,5)\n",
    "...\n",
    "(-2,-2), (9,2)\n",
    "-------------------------------------------------------------------------------\n",
    "Random information om saker i uppgiften\n",
    "\n",
    "--TUPLES--\n",
    "\n",
    "* Tuple is one of 4 built-in data types in Python used to store collections of data, the other 3 are List, Set, and Dictionary, all with different qualities and usage.\n",
    "* Tuple is a collection which is ordered and UNCHANGABLE\n",
    "* written with round brackets\n",
    "* Tuples have index like lists [0] is the first index and so on..\n",
    "* Ordered Tuple: objects have a defined order and will not change\n",
    "* Unchangeable Tuple: Cannot change, add or remove items after creation\n",
    "* Allow Duplicates: can have items with the same value\n",
    "* Tuples can be of any data type, can also contain different data in same tuple\n",
    "-----------------------------------------------------------------------------------\n",
    "---FILE-HANDLING---\n",
    "\n"
   ]
  },
  {
   "cell_type": "code",
   "execution_count": 57,
   "metadata": {},
   "outputs": [
    {
     "ename": "ValueError",
     "evalue": "could not convert string to float: '(1'",
     "output_type": "error",
     "traceback": [
      "\u001b[1;31m---------------------------------------------------------------------------\u001b[0m",
      "\u001b[1;31mValueError\u001b[0m                                Traceback (most recent call last)",
      "\u001b[1;32me:\\Github sparade filer\\Python-Daniel-Nilsson\\Code-alongs\\Tenta-1.ipynb Cell 11\u001b[0m in \u001b[0;36m<cell line: 1>\u001b[1;34m()\u001b[0m\n\u001b[0;32m     <a href='vscode-notebook-cell:/e%3A/Github%20sparade%20filer/Python-Daniel-Nilsson/Code-alongs/Tenta-1.ipynb#X21sZmlsZQ%3D%3D?line=15'>16</a>\u001b[0m     \u001b[39mfor\u001b[39;00m line \u001b[39min\u001b[39;00m lines_split:\n\u001b[0;32m     <a href='vscode-notebook-cell:/e%3A/Github%20sparade%20filer/Python-Daniel-Nilsson/Code-alongs/Tenta-1.ipynb#X21sZmlsZQ%3D%3D?line=16'>17</a>\u001b[0m         \u001b[39mfor\u001b[39;00m index \u001b[39min\u001b[39;00m line:\n\u001b[1;32m---> <a href='vscode-notebook-cell:/e%3A/Github%20sparade%20filer/Python-Daniel-Nilsson/Code-alongs/Tenta-1.ipynb#X21sZmlsZQ%3D%3D?line=17'>18</a>\u001b[0m             lines_float\u001b[39m.\u001b[39mappend(\u001b[39mfloat\u001b[39;49m(index))\n\u001b[0;32m     <a href='vscode-notebook-cell:/e%3A/Github%20sparade%20filer/Python-Daniel-Nilsson/Code-alongs/Tenta-1.ipynb#X21sZmlsZQ%3D%3D?line=19'>20</a>\u001b[0m \u001b[39mprint\u001b[39m(lines_float)\n",
      "\u001b[1;31mValueError\u001b[0m: could not convert string to float: '(1'"
     ]
    }
   ],
   "source": [
    "with open (\"../Data/testpunkter.txt\", \"r\") as f_read:\n",
    "    lines = f_read.readlines()\n",
    "    lines.pop(0)\n",
    "    \n",
    "    lines_clean = []\n",
    "    for line in lines:\n",
    "        line = line.replace(\" \", \"\")\n",
    "        line = line.replace(\"\\n\", \"\")\n",
    "        lines_clean.append(line)\n",
    "        \n",
    "    lines_split = []\n",
    "    for line in lines_clean:\n",
    "        lines_split.append(line.split(\",\")) # \"1,2,0,0\" -> [\"1\", \"2\", \"0\", \"0\"}\n",
    "\n",
    "    lines_float = []\n",
    "    for line in lines_split:\n",
    "        for index in line:\n",
    "            lines_float.append(float(index))\n",
    "\n",
    "print(lines_float)"
   ]
  },
  {
   "cell_type": "code",
   "execution_count": 51,
   "metadata": {},
   "outputs": [
    {
     "ename": "AttributeError",
     "evalue": "'list' object has no attribute 'replace'",
     "output_type": "error",
     "traceback": [
      "\u001b[1;31m---------------------------------------------------------------------------\u001b[0m",
      "\u001b[1;31mAttributeError\u001b[0m                            Traceback (most recent call last)",
      "\u001b[1;32me:\\Github sparade filer\\Python-Daniel-Nilsson\\Code-alongs\\Tenta-1.ipynb Cell 11\u001b[0m in \u001b[0;36m<cell line: 8>\u001b[1;34m()\u001b[0m\n\u001b[0;32m     <a href='vscode-notebook-cell:/e%3A/Github%20sparade%20filer/Python-Daniel-Nilsson/Code-alongs/Tenta-1.ipynb#X12sZmlsZQ%3D%3D?line=9'>10</a>\u001b[0m line\u001b[39m.\u001b[39mpop(\u001b[39m0\u001b[39m)\n\u001b[0;32m     <a href='vscode-notebook-cell:/e%3A/Github%20sparade%20filer/Python-Daniel-Nilsson/Code-alongs/Tenta-1.ipynb#X12sZmlsZQ%3D%3D?line=11'>12</a>\u001b[0m \u001b[39mfor\u001b[39;00m i \u001b[39min\u001b[39;00m line:\n\u001b[1;32m---> <a href='vscode-notebook-cell:/e%3A/Github%20sparade%20filer/Python-Daniel-Nilsson/Code-alongs/Tenta-1.ipynb#X12sZmlsZQ%3D%3D?line=12'>13</a>\u001b[0m     line\u001b[39m.\u001b[39;49mreplace(\u001b[39m\"\u001b[39m\u001b[39m(\u001b[39m\u001b[39m\"\u001b[39m, \u001b[39m\"\u001b[39m\u001b[39m\"\u001b[39m)\n\u001b[0;32m     <a href='vscode-notebook-cell:/e%3A/Github%20sparade%20filer/Python-Daniel-Nilsson/Code-alongs/Tenta-1.ipynb#X12sZmlsZQ%3D%3D?line=13'>14</a>\u001b[0m     line\u001b[39m.\u001b[39mreplace(\u001b[39m\"\u001b[39m\u001b[39m)\u001b[39m\u001b[39m\"\u001b[39m, \u001b[39m\"\u001b[39m\u001b[39m\"\u001b[39m)\n\u001b[0;32m     <a href='vscode-notebook-cell:/e%3A/Github%20sparade%20filer/Python-Daniel-Nilsson/Code-alongs/Tenta-1.ipynb#X12sZmlsZQ%3D%3D?line=14'>15</a>\u001b[0m     line\u001b[39m.\u001b[39mreplace(\u001b[39m\"\u001b[39m\u001b[39m\\n\u001b[39;00m\u001b[39m\"\u001b[39m, \u001b[39m\"\u001b[39m\u001b[39m\"\u001b[39m)\n",
      "\u001b[1;31mAttributeError\u001b[0m: 'list' object has no attribute 'replace'"
     ]
    }
   ],
   "source": [
    "import math\n",
    "import matplotlib.pyplot as plt\n",
    "\n",
    "tuple10 = (1,3)\n",
    "tuple20 = (2,5)\n",
    "\n",
    "\n",
    "with open (\"../Data/testpunkter.txt\", \"r\") as f:\n",
    "    line = f.readlines()\n",
    "    line.pop(0)\n",
    "\n",
    "    for i in line:\n",
    "        line = line.replace(\"(\", \"\")\n",
    "        line = line.replace(\")\", \"\")\n",
    "        line = line.replace(\"\\n\", \"\")\n",
    "    \n",
    "\n",
    "\n",
    "def distance(tuple1, tuple2):\n",
    "    plt.plot(tuple1, tuple2, '-o')\n",
    "    return math.dist(tuple1, tuple2)\n",
    "\n",
    "distance(tuple10, tuple20 )\n",
    "\n"
   ]
  },
  {
   "cell_type": "markdown",
   "metadata": {},
   "source": [
    "## 6. \n",
    "I den här uppgiften ska du skapa ett blackjack som är ett kortspel. Förenklat är reglerna för blackjack:\n",
    "- dealern tar två kort\n",
    "- dealern visar sitt första kort\n",
    "- spelaren tar två kort\n",
    "- spelaren får välja att ta nytt kort eller stanna\n",
    "- när spelaren stannar räknar man poängen genom:\n",
    "    - J, K, Q värda 10p\n",
    "    - A värd 1 eller 11\n",
    "    - Övriga kort värda deras valör\n",
    "- om spelarens poäng mindre eller lika med 21, vinner spelaren om hens poäng överstiger dealerns,\n",
    "annars vinner dealern"
   ]
  },
  {
   "cell_type": "code",
   "execution_count": null,
   "metadata": {},
   "outputs": [],
   "source": [
    "# oklart kolla med kokchun"
   ]
  },
  {
   "cell_type": "markdown",
   "metadata": {},
   "source": [
    "## 7.\n",
    "skapa en klass som heter NormalDist som följer detta UML: kolla pdf"
   ]
  },
  {
   "cell_type": "code",
   "execution_count": null,
   "metadata": {},
   "outputs": [],
   "source": [
    "class NormalDist()\n",
    "    def __init__(self, mu: float, sigma: float)\n"
   ]
  }
 ],
 "metadata": {
  "kernelspec": {
   "display_name": "Python 3.9.13 ('Python-Daniel-Nilsson-97nbzLRS')",
   "language": "python",
   "name": "python3"
  },
  "language_info": {
   "codemirror_mode": {
    "name": "ipython",
    "version": 3
   },
   "file_extension": ".py",
   "mimetype": "text/x-python",
   "name": "python",
   "nbconvert_exporter": "python",
   "pygments_lexer": "ipython3",
   "version": "3.9.13"
  },
  "orig_nbformat": 4,
  "vscode": {
   "interpreter": {
    "hash": "bc050669da3b02a0dab5c74fea36723f6f6f98ad170411b0b9177bcf895e45d7"
   }
  }
 },
 "nbformat": 4,
 "nbformat_minor": 2
}
