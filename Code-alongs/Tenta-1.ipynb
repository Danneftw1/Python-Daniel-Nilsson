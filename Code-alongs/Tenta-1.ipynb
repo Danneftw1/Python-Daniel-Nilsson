{
 "cells": [
  {
   "cell_type": "markdown",
   "metadata": {},
   "source": [
    "## 1.\n",
    "Förklara vad koden gör och vad som ritas ut."
   ]
  },
  {
   "cell_type": "code",
   "execution_count": null,
   "metadata": {},
   "outputs": [],
   "source": [
    "import matplotlib.pyplot as plt\n",
    "\n",
    "\n",
    "x = list(range(10)) # skapar en lista som går från 0 till 9\n",
    "y = [i**2 for i in x] # räkarn varje tal i x listan upphöjt i 2. 0^2 -> 1^2 -> 2^2 ->...9^2\n",
    "fig = plt.figure()# skapar containern för plotting objekten\n",
    "ax = plt.axes()  # skapar \"bounding box\", ticks och labels för grafen\n",
    "ax.plot(x,y) # plottar ut data i grafen\n",
    "ax.set(title=\"Plot\", xlabel=\"x\", ylabel=\"y\") # titlar för x-axel, y-axel och huvudtitel(längst upp)"
   ]
  },
  {
   "cell_type": "markdown",
   "metadata": {},
   "source": [
    "## 2. \n",
    "Simulera 1000000 tärningskast och beräkna antalet ettor, tvåor, treor, fyror, femmor och sexor. Spara resultatet i en lämplig datastruktur."
   ]
  },
  {
   "cell_type": "code",
   "execution_count": 5,
   "metadata": {},
   "outputs": [
    {
     "data": {
      "text/plain": [
       "0"
      ]
     },
     "execution_count": 5,
     "metadata": {},
     "output_type": "execute_result"
    }
   ],
   "source": [
    "import random as rnd # importerar random\n",
    "\n",
    "# använder list comprehension för att få random nummer från 1 till 6 - 1000000 gånger\n",
    "dice = [rnd.randint(1, 6) for i in range(1000000)]\n",
    "\n",
    "amount = [sum([1 for roll in dice if roll == i +1]) for i in range(6)]\n",
    "# använder count funktionen separat för varje nummer\n",
    "dice.count() \n",
    "\n",
    "#"
   ]
  }
 ],
 "metadata": {
  "kernelspec": {
   "display_name": "Python 3.9.13 ('Python-Daniel-Nilsson-97nbzLRS')",
   "language": "python",
   "name": "python3"
  },
  "language_info": {
   "codemirror_mode": {
    "name": "ipython",
    "version": 3
   },
   "file_extension": ".py",
   "mimetype": "text/x-python",
   "name": "python",
   "nbconvert_exporter": "python",
   "pygments_lexer": "ipython3",
   "version": "3.9.13"
  },
  "orig_nbformat": 4,
  "vscode": {
   "interpreter": {
    "hash": "bc050669da3b02a0dab5c74fea36723f6f6f98ad170411b0b9177bcf895e45d7"
   }
  }
 },
 "nbformat": 4,
 "nbformat_minor": 2
}
