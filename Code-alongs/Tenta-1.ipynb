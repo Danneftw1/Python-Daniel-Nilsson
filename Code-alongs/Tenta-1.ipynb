{
 "cells": [
  {
   "cell_type": "markdown",
   "metadata": {},
   "source": [
    "## 1.\n",
    "Förklara vad koden gör och vad som ritas ut."
   ]
  },
  {
   "cell_type": "code",
   "execution_count": null,
   "metadata": {},
   "outputs": [],
   "source": [
    "import matplotlib.pyplot as plt\n",
    "\n",
    "\n",
    "x = list(range(10)) # skapar en lista som går från 0 till 9\n",
    "y = [i**2 for i in x] # räkarn varje tal i x listan upphöjt i 2. 0^2 -> 1^2 -> 2^2 ->...9^2\n",
    "fig = plt.figure()# skapar containern för plotting objekten\n",
    "ax = plt.axes()  # skapar \"bounding box\", ticks och labels för grafen\n",
    "ax.plot(x,y) # plottar ut data i grafen\n",
    "ax.set(title=\"Plot\", xlabel=\"x\", ylabel=\"y\") # titlar för x-axel, y-axel och huvudtitel(längst upp)"
   ]
  },
  {
   "cell_type": "markdown",
   "metadata": {},
   "source": [
    "## 2. \n",
    "Simulera 1000000 tärningskast och beräkna antalet ettor, tvåor, treor, fyror, femmor och sexor. Spara resultatet i en lämplig datastruktur."
   ]
  },
  {
   "cell_type": "code",
   "execution_count": 21,
   "metadata": {},
   "outputs": [
    {
     "data": {
      "text/plain": [
       "166075"
      ]
     },
     "execution_count": 21,
     "metadata": {},
     "output_type": "execute_result"
    }
   ],
   "source": [
    "import random as rnd # importerar random\n",
    "\n",
    "# LÖSNING 1\n",
    "amount = [sum([1 for roll in dice if roll == i +1]) for i in range(6)]\n",
    "# använder count funktionen separat för varje nummer\n",
    "\n",
    "# använder list comprehension för att få random nummer från 1 till 6 - 1000000 gånger\n",
    "dice = [rnd.randint(1, 6) for i in range(1000000)]\n",
    "\n",
    "# räknar varje siffra individuellt från listan \n",
    "dice.count(1)\n",
    "dice.count(2)\n",
    "dice.count(3)\n",
    "dice.count(4)\n",
    "dice.count(5)\n",
    "dice.count(6)\n"
   ]
  },
  {
   "cell_type": "markdown",
   "metadata": {},
   "source": [
    "## 3. \n",
    "Skriv en funktion som tar in en radie som inparameter och som returnerar volymen av en sfär. Volymen för en\n",
    "sfär är:\n",
    "\n",
    "Låt användaren mata in ett tal och kör funktionen. Tänk på att ta med lämplig felhantering.\n"
   ]
  },
  {
   "cell_type": "code",
   "execution_count": 11,
   "metadata": {},
   "outputs": [
    {
     "data": {
      "text/plain": [
       "7238.229473870882"
      ]
     },
     "execution_count": 11,
     "metadata": {},
     "output_type": "execute_result"
    }
   ],
   "source": [
    "import math\n",
    "\n",
    "def sphere_volume(radius):\n",
    "    if not isinstance(radius, int):\n",
    "        raise TypeError(\"Du måste skriva en float eller int\")\n",
    "    volume = 4/3 * math.pi * radius**3\n",
    "    return volume\n",
    "\n",
    "sphere_volume(12)"
   ]
  },
  {
   "cell_type": "markdown",
   "metadata": {},
   "source": [
    "## 4. \n",
    "Läs in en textfil som heter bamba.txt och innehåller:\n",
    "\n",
    "v42\n",
    "Chili sin carne\n",
    "Pannkakor\n",
    "Ärtsoppa\n",
    "Kebab\n",
    "Vegetarisk lasagne"
   ]
  },
  {
   "cell_type": "code",
   "execution_count": null,
   "metadata": {},
   "outputs": [],
   "source": [
    "with open (\"../Data/testpoints.txt\", \"r\") as f: # laddar in text-filen som 'read' eftersom vi inte behöver appenda eller skriva över\n",
    "    lista = f.read() # för att skriva ut i terminalen behövs den göras till en variabel\n",
    "\n",
    "print(lista) # printa ut variabeln"
   ]
  },
  {
   "cell_type": "markdown",
   "metadata": {},
   "source": [
    "## 5. \n",
    "Skapa en funktion som tar in två punkter i 2D , och som returnerar tillbaka avståndet mellan\n",
    "dessa. Anropa därefter denna funktion för test\n",
    "Det finns en textfil som heter testpunkter.txt som ligger i undermappen testpoints och innehåller:\n",
    "\n",
    "Punkt 1, punkt 2\n",
    "(1,2), (0,0)\n",
    "(2,0), (3,5)\n",
    "...\n",
    "(-2,-2), (9,2)\n",
    "-------------------------------------------------------------------------------\n",
    "Random information om saker i uppgiften\n",
    "\n",
    "--TUPLES--\n",
    "\n",
    "* Tuple is one of 4 built-in data types in Python used to store collections of data, the other 3 are List, Set, and Dictionary, all with different qualities and usage.\n",
    "* Tuple is a collection which is ordered and UNCHANGABLE\n",
    "* written with round brackets\n",
    "* Tuples have index like lists [0] is the first index and so on..\n",
    "* Ordered Tuple: objects have a defined order and will not change\n",
    "* Unchangeable Tuple: Cannot change, add or remove items after creation\n",
    "* Allow Duplicates: can have items with the same value\n",
    "* Tuples can be of any data type, can also contain different data in same tuple\n",
    "-----------------------------------------------------------------------------------\n",
    "---FILE-HANDLING---\n",
    "\n"
   ]
  },
  {
   "cell_type": "code",
   "execution_count": 31,
   "metadata": {},
   "outputs": [
    {
     "data": {
      "text/plain": [
       "'(2,0), (3,5)\\n'"
      ]
     },
     "execution_count": 31,
     "metadata": {},
     "output_type": "execute_result"
    }
   ],
   "source": [
    "import math\n",
    "import matplotlib.pyplot as plt\n",
    "\n",
    "tuple10 = (1,3)\n",
    "tuple20 = (2,5)\n",
    "\n",
    "\n",
    "with open (\"../Data/testpunkter.txt\", \"r\") as f:\n",
    "    line = f.readlines()\n",
    "    line.pop(0)   \n",
    "line[1]\n",
    "\n",
    "\n",
    "def distance(tuple1, tuple2):\n",
    "    plt.plot(tuple1, tuple2, '-o')\n",
    "    return math.dist(tuple1, tuple2)\n",
    "\n",
    "distance(line[1], )\n",
    "\n"
   ]
  },
  {
   "cell_type": "markdown",
   "metadata": {},
   "source": [
    "## 6. \n",
    "I den här uppgiften ska du skapa ett blackjack som är ett kortspel. Förenklat är reglerna för blackjack:\n",
    "- dealern tar två kort\n",
    "- dealern visar sitt första kort\n",
    "- spelaren tar två kort\n",
    "- spelaren får välja att ta nytt kort eller stanna\n",
    "- när spelaren stannar räknar man poängen genom:\n",
    "    - J, K, Q värda 10p\n",
    "    - A värd 1 eller 11\n",
    "    - Övriga kort värda deras valör\n",
    "- om spelarens poäng mindre eller lika med 21, vinner spelaren om hens poäng överstiger dealerns,\n",
    "annars vinner dealern"
   ]
  },
  {
   "cell_type": "code",
   "execution_count": null,
   "metadata": {},
   "outputs": [],
   "source": [
    "# oklart kolla med kokchun"
   ]
  },
  {
   "cell_type": "markdown",
   "metadata": {},
   "source": [
    "## 7.\n",
    "skapa en klass som heter NormalDist som följer detta UML: kolla pdf"
   ]
  },
  {
   "cell_type": "code",
   "execution_count": null,
   "metadata": {},
   "outputs": [],
   "source": [
    "class NormalDist()\n",
    "    def __init__(self, mu: float, sigma: float)\n"
   ]
  }
 ],
 "metadata": {
  "kernelspec": {
   "display_name": "Python 3.9.13 ('Python-Daniel-Nilsson-97nbzLRS')",
   "language": "python",
   "name": "python3"
  },
  "language_info": {
   "codemirror_mode": {
    "name": "ipython",
    "version": 3
   },
   "file_extension": ".py",
   "mimetype": "text/x-python",
   "name": "python",
   "nbconvert_exporter": "python",
   "pygments_lexer": "ipython3",
   "version": "3.9.13"
  },
  "orig_nbformat": 4,
  "vscode": {
   "interpreter": {
    "hash": "bc050669da3b02a0dab5c74fea36723f6f6f98ad170411b0b9177bcf895e45d7"
   }
  }
 },
 "nbformat": 4,
 "nbformat_minor": 2
}
