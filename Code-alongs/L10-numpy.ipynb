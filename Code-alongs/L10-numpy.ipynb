{
 "cells": [
  {
   "cell_type": "code",
   "execution_count": null,
   "metadata": {},
   "outputs": [],
   "source": [
    "hello()\n",
    "\n",
    "def hello():\n",
    "    print (\"hello\")\n",
    "\n",
    "hello()"
   ]
  },
  {
   "cell_type": "code",
   "execution_count": 2,
   "metadata": {},
   "outputs": [
    {
     "name": "stdout",
     "output_type": "stream",
     "text": [
      "[1, 2, 3, 1, 2, 3]\n",
      "[1, 'ett', True, 2.3]\n"
     ]
    }
   ],
   "source": [
    "numbers_list = [1,2,3]\n",
    "numbers_list = numbers_list * 2\n",
    "print (numbers_list)\n",
    "\n",
    "#in a list we can place different data types\n",
    "\n",
    "mixed_list = [1, \"ett\", True, 2.3] # dynamic typing in Python\n",
    "print(mixed_list)\n",
    "# element in the list is an object, it has information on what type it is\n",
    "# this requires some overhead, which slows down the program\n",
    "# note that when we have one data type, it is unnessesary to have this overhead "
   ]
  },
  {
   "cell_type": "code",
   "execution_count": 6,
   "metadata": {},
   "outputs": [
    {
     "name": "stdout",
     "output_type": "stream",
     "text": [
      "[2 5 1]\n",
      "[ 4 10  2]\n",
      "[4 7 3]\n",
      "vector1[2]=1\n",
      "vector1[-1]=1\n",
      "vector1[1]=5\n",
      "[   2 1337    1]\n",
      "vector1=array([   1,    2, 1337])\n"
     ]
    }
   ],
   "source": [
    "# in numpy we have statically typed\n",
    "\n",
    "import numpy as np\n",
    "\n",
    "#create an array from a list\n",
    "\n",
    "vector1 = np.array([2,5,1])\n",
    "print(vector1)\n",
    "\n",
    "# elementwice multiplication\n",
    "vector2 = vector1*2\n",
    "print(vector2)\n",
    "\n",
    "print(f\"{vector1+2}\")\n",
    "\n",
    "#indexing\n",
    "\n",
    "print(f\"{vector1[2]=}\")\n",
    "print(f\"{vector1[-1]=}\")\n",
    "#slicing\n",
    "print(f\"{vector1[1]=}\")\n",
    "\n",
    "vector1[1] = 1337\n",
    "print(vector1)\n",
    "\n",
    "# can't append to an array - can't change its size\n",
    "# can't have different types in an array\n",
    "\n",
    "# sort\n",
    "\n",
    "vector1.sort()\n",
    "print(f\"{vector1=}\")\n",
    "\n",
    "# sum\n",
    "\n",
    "print(f\"{vector1.sum()=}\")\n",
    "print(f\"{vector1.mean()=:.2f}\")\n",
    "\n"
   ]
  },
  {
   "cell_type": "code",
   "execution_count": 12,
   "metadata": {},
   "outputs": [
    {
     "name": "stdout",
     "output_type": "stream",
     "text": [
      "ones_vector=array([1., 1., 1., 1., 1., 1., 1., 1., 1., 1.])\n",
      "matrix_3_3=array([[1., 1., 1.],\n",
      "       [1., 1., 1.],\n",
      "       [1., 1., 1.]])\n"
     ]
    },
    {
     "data": {
      "text/plain": [
       "array([[ 1.,  1.,  1.],\n",
       "       [ 1.,  1.,  1.],\n",
       "       [ 1., 10.,  1.]])"
      ]
     },
     "execution_count": 12,
     "metadata": {},
     "output_type": "execute_result"
    }
   ],
   "source": [
    "ones_vector = np.ones((10))\n",
    "print(f\"{ones_vector=}\")\n",
    "\n",
    "#2d array of shape\n",
    "matrix_3_3 = np.ones((3,3))\n",
    "print(f\"{matrix_3_3=}\")\n",
    "\n",
    "# [row, index] - counts from 0\n",
    "matrix_3_3[2,1] = 10\n",
    "\n",
    "matrix_3_3"
   ]
  },
  {
   "cell_type": "code",
   "execution_count": 13,
   "metadata": {},
   "outputs": [
    {
     "data": {
      "text/plain": [
       "array([[0., 0., 0., 0., 0.],\n",
       "       [0., 0., 0., 0., 0.]])"
      ]
     },
     "execution_count": 13,
     "metadata": {},
     "output_type": "execute_result"
    }
   ],
   "source": [
    "np.zeros((2,5)) # shapelike - takes in tuple or a list"
   ]
  },
  {
   "cell_type": "code",
   "execution_count": 17,
   "metadata": {},
   "outputs": [
    {
     "name": "stdout",
     "output_type": "stream",
     "text": [
      "(3, 3)\n",
      "matrix_3_3[2,:]=array([ 1., 10.,  1.])\n",
      "matrix_3_3[:,1]=array([ 1.,  1., 10.])\n"
     ]
    },
    {
     "data": {
      "text/plain": [
       "array([ 2., 11., 11.])"
      ]
     },
     "execution_count": 17,
     "metadata": {},
     "output_type": "execute_result"
    }
   ],
   "source": [
    "print(matrix_3_3.shape)\n",
    "matrix_3_3[2,:]\n",
    "\n",
    "# slicing operator to get a row\n",
    "print(f\"{matrix_3_3[2,:]=}\")\n",
    "\n",
    "# slicing operator to get a column\n",
    "print(f\"{matrix_3_3[:,1]=}\")\n",
    "\n",
    "# add 2 vectors\n",
    "matrix_3_3[2,:] + matrix_3_3[:,1]\n"
   ]
  }
 ],
 "metadata": {
  "kernelspec": {
   "display_name": "Python 3.9.13 ('Python-Daniel-Nilsson-97nbzLRS')",
   "language": "python",
   "name": "python3"
  },
  "language_info": {
   "codemirror_mode": {
    "name": "ipython",
    "version": 3
   },
   "file_extension": ".py",
   "mimetype": "text/x-python",
   "name": "python",
   "nbconvert_exporter": "python",
   "pygments_lexer": "ipython3",
   "version": "3.9.13"
  },
  "orig_nbformat": 4,
  "vscode": {
   "interpreter": {
    "hash": "bc050669da3b02a0dab5c74fea36723f6f6f98ad170411b0b9177bcf895e45d7"
   }
  }
 },
 "nbformat": 4,
 "nbformat_minor": 2
}
