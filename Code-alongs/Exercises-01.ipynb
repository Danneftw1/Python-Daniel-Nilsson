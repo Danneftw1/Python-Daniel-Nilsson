{
 "cells": [
  {
   "cell_type": "markdown",
   "metadata": {},
   "source": [
    "### Exercise 1"
   ]
  },
  {
   "cell_type": "code",
   "execution_count": 9,
   "metadata": {},
   "outputs": [
    {
     "name": "stdout",
     "output_type": "stream",
     "text": [
      "Ditt nummer är positivt\n"
     ]
    }
   ],
   "source": [
    "\n",
    "num = float (input(\"Skriv ett nummer:\"))\n",
    "\n",
    "if num < 0:\n",
    "    print(\"Ditt nummer är negativt\")\n",
    "elif num == 0:\n",
    "    print(\"Ditt nummer är noll\")\n",
    "else:\n",
    "    print(\"Ditt nummer är positivt\")\n",
    "\n",
    "# elif = if the previous condition weren't true, then try this\n"
   ]
  },
  {
   "cell_type": "markdown",
   "metadata": {},
   "source": [
    "### Exercise 2"
   ]
  },
  {
   "cell_type": "code",
   "execution_count": 11,
   "metadata": {},
   "outputs": [
    {
     "name": "stdout",
     "output_type": "stream",
     "text": [
      "du har skrivit in samma nummer 2 gånger\n"
     ]
    }
   ],
   "source": [
    "\n",
    "num1 = float (input(\"Skriv ett nummer\"))\n",
    "num2 = float (input(\"Skriv ett till nummer\"))\n",
    "\n",
    "if num1 < num2:\n",
    "    print (f\"{num1} är minst\")\n",
    "elif num1 == num2:\n",
    "    print(\"du har skrivit in samma nummer 2 gånger\")\n",
    "else:\n",
    "    print (f\"{num2} är minst\")\n",
    "\n",
    "    # int fungerar bara för heltal, float så kan du ha med kommatecken\n",
    "    # elif funkar så att om du skriver in värde två gånger, så är ingen minst\n"
   ]
  }
 ],
 "metadata": {
  "kernelspec": {
   "display_name": "Python 3.9.13 ('Python-Daniel-Nilsson-97nbzLRS')",
   "language": "python",
   "name": "python3"
  },
  "language_info": {
   "codemirror_mode": {
    "name": "ipython",
    "version": 3
   },
   "file_extension": ".py",
   "mimetype": "text/x-python",
   "name": "python",
   "nbconvert_exporter": "python",
   "pygments_lexer": "ipython3",
   "version": "3.9.13"
  },
  "orig_nbformat": 4,
  "vscode": {
   "interpreter": {
    "hash": "bc050669da3b02a0dab5c74fea36723f6f6f98ad170411b0b9177bcf895e45d7"
   }
  }
 },
 "nbformat": 4,
 "nbformat_minor": 2
}
