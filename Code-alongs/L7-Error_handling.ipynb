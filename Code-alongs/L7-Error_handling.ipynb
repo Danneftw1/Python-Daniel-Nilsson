{
 "cells": [
  {
   "cell_type": "markdown",
   "metadata": {},
   "source": [
    "## Errors\n",
    "\n",
    "- syntax errors - Python parser doesn't understand the code\n",
    "- logical errors - error that occurs when program runs but produces incorrect result\n",
    "- exception errors - errors detected during execution, python parser understand what to do, but can't do it"
   ]
  },
  {
   "cell_type": "code",
   "execution_count": null,
   "metadata": {},
   "outputs": [],
   "source": [
    "# syntax error\n",
    "\n",
    "prin(\"hej hej \")"
   ]
  },
  {
   "cell_type": "markdown",
   "metadata": {},
   "source": [
    "## Traceback"
   ]
  },
  {
   "cell_type": "code",
   "execution_count": 1,
   "metadata": {},
   "outputs": [],
   "source": [
    "def func1():\n",
    "    print(\"Start funvtion1\")\n",
    "    func2()\n",
    "\n",
    "def func1():\n",
    "    print(\"Start funvtion2\")\n",
    "    func3()\n",
    "\n",
    "def func1():\n",
    "    print(\"Start funvtion3\")\n",
    "    3/0 # Exception error\n",
    "\n",
    "func1()\n"
   ]
  },
  {
   "cell_type": "markdown",
   "metadata": {},
   "source": [
    "## Logical error"
   ]
  },
  {
   "cell_type": "code",
   "execution_count": 2,
   "metadata": {},
   "outputs": [
    {
     "name": "stdout",
     "output_type": "stream",
     "text": [
      "<function <lambda> at 0x00000192ADEF4670>\n"
     ]
    }
   ],
   "source": [
    "import math\n",
    "\n",
    "circumference = lambda radius: math.pi*radius**2\n",
    "\n",
    "print(circumference(2))\n",
    "\n",
    "# program does what it has been told\n",
    "# we compute the area instead of the circumference\n",
    "# logical error -> hard to find"
   ]
  },
  {
   "cell_type": "markdown",
   "metadata": {},
   "source": [
    "## Try-except\n",
    "\n",
    "- try block\n",
    "- except block\n",
    "- raise"
   ]
  },
  {
   "cell_type": "code",
   "execution_count": null,
   "metadata": {},
   "outputs": [],
   "source": [
    "age = input(\"ange din ålder\")\n",
    "\n",
    "age = float(age)\n",
    "# logical error with negative age\n",
    "print(f\"Du är {age}år gammal\")"
   ]
  },
  {
   "cell_type": "code",
   "execution_count": 3,
   "metadata": {},
   "outputs": [
    {
     "name": "stdout",
     "output_type": "stream",
     "text": [
      "Du är 32.0år gammal\n"
     ]
    }
   ],
   "source": [
    "age = input(\"ange din ålder\")\n",
    "\n",
    "try:\n",
    "    age = float(age) # tried to convert \"fyrtiotvå\", program throws a valuerror\n",
    "    print(f\"Du är {age}år gammal\")\n",
    "except ValueError as err: # it get caught in the except block\n",
    "    print(err)\n",
    "# logical error with negative age\n",
    "print(f\"Du är {age}år gammal\")"
   ]
  },
  {
   "cell_type": "code",
   "execution_count": null,
   "metadata": {},
   "outputs": [],
   "source": [
    "while True:\n",
    "\n",
    "age = input(\"ange din ålder\")\n",
    "\n",
    "try:\n",
    "    age = float(age) # tried to convert \"fyrtiotvå\", program throws a valuerror\n",
    "    print(f\"Du är {age}år gammal\")\n",
    "    if not 0 <= age <= 125:\n",
    "        raise ValueError(f\"Åldern som du anger måste vara mellan 0 och 125, inte {}\")\n",
    "    break\n",
    "except ValueError as err: # it get caught in the except block\n",
    "    print(err)\n",
    "\n",
    "# logical error with negative age\n",
    "print(f\"Du är {age}år gammal\")"
   ]
  }
 ],
 "metadata": {
  "kernelspec": {
   "display_name": "Python 3.9.13 ('Python-Daniel-Nilsson-97nbzLRS')",
   "language": "python",
   "name": "python3"
  },
  "language_info": {
   "codemirror_mode": {
    "name": "ipython",
    "version": 3
   },
   "file_extension": ".py",
   "mimetype": "text/x-python",
   "name": "python",
   "nbconvert_exporter": "python",
   "pygments_lexer": "ipython3",
   "version": "3.9.13"
  },
  "orig_nbformat": 4,
  "vscode": {
   "interpreter": {
    "hash": "bc050669da3b02a0dab5c74fea36723f6f6f98ad170411b0b9177bcf895e45d7"
   }
  }
 },
 "nbformat": 4,
 "nbformat_minor": 2
}
