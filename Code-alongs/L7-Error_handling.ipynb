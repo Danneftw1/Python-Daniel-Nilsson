{
 "cells": [
  {
   "cell_type": "markdown",
   "metadata": {},
   "source": [
    "## Errors\n",
    "\n",
    "- syntax errors - Python parser doesn't understand the code\n",
    "- logical errors - error that occurs when program runs but produces incorrect result\n",
    "- exception errors - errors detected during execution, python parser understand what to do, but can't do it"
   ]
  },
  {
   "cell_type": "code",
   "execution_count": null,
   "metadata": {},
   "outputs": [],
   "source": [
    "# syntax error\n",
    "\n",
    "prin(\"hej hej \")"
   ]
  },
  {
   "cell_type": "markdown",
   "metadata": {},
   "source": [
    "## Traceback"
   ]
  },
  {
   "cell_type": "code",
   "execution_count": 3,
   "metadata": {},
   "outputs": [
    {
     "name": "stdout",
     "output_type": "stream",
     "text": [
      "Start function 1\n",
      "Start function 2\n",
      "Start function 3\n"
     ]
    },
    {
     "ename": "ZeroDivisionError",
     "evalue": "division by zero",
     "output_type": "error",
     "traceback": [
      "\u001b[1;31m---------------------------------------------------------------------------\u001b[0m",
      "\u001b[1;31mZeroDivisionError\u001b[0m                         Traceback (most recent call last)",
      "\u001b[1;32me:\\Github sparade filer\\Python-Daniel-Nilsson\\Code-alongs\\L7-Error_handling.ipynb Cell 4\u001b[0m in \u001b[0;36m<cell line: 13>\u001b[1;34m()\u001b[0m\n\u001b[0;32m     <a href='vscode-notebook-cell:/e%3A/Github%20sparade%20filer/Python-Daniel-Nilsson/Code-alongs/L7-Error_handling.ipynb#W3sZmlsZQ%3D%3D?line=9'>10</a>\u001b[0m     \u001b[39mprint\u001b[39m(\u001b[39m\"\u001b[39m\u001b[39mStart function 3\u001b[39m\u001b[39m\"\u001b[39m)\n\u001b[0;32m     <a href='vscode-notebook-cell:/e%3A/Github%20sparade%20filer/Python-Daniel-Nilsson/Code-alongs/L7-Error_handling.ipynb#W3sZmlsZQ%3D%3D?line=10'>11</a>\u001b[0m     \u001b[39m3\u001b[39m\u001b[39m/\u001b[39m\u001b[39m0\u001b[39m \u001b[39m# exception error\u001b[39;00m\n\u001b[1;32m---> <a href='vscode-notebook-cell:/e%3A/Github%20sparade%20filer/Python-Daniel-Nilsson/Code-alongs/L7-Error_handling.ipynb#W3sZmlsZQ%3D%3D?line=12'>13</a>\u001b[0m func1()\n",
      "\u001b[1;32me:\\Github sparade filer\\Python-Daniel-Nilsson\\Code-alongs\\L7-Error_handling.ipynb Cell 4\u001b[0m in \u001b[0;36mfunc1\u001b[1;34m()\u001b[0m\n\u001b[0;32m      <a href='vscode-notebook-cell:/e%3A/Github%20sparade%20filer/Python-Daniel-Nilsson/Code-alongs/L7-Error_handling.ipynb#W3sZmlsZQ%3D%3D?line=0'>1</a>\u001b[0m \u001b[39mdef\u001b[39;00m \u001b[39mfunc1\u001b[39m():\n\u001b[0;32m      <a href='vscode-notebook-cell:/e%3A/Github%20sparade%20filer/Python-Daniel-Nilsson/Code-alongs/L7-Error_handling.ipynb#W3sZmlsZQ%3D%3D?line=1'>2</a>\u001b[0m     \u001b[39mprint\u001b[39m(\u001b[39m\"\u001b[39m\u001b[39mStart function 1\u001b[39m\u001b[39m\"\u001b[39m)\n\u001b[1;32m----> <a href='vscode-notebook-cell:/e%3A/Github%20sparade%20filer/Python-Daniel-Nilsson/Code-alongs/L7-Error_handling.ipynb#W3sZmlsZQ%3D%3D?line=2'>3</a>\u001b[0m     func2()\n",
      "\u001b[1;32me:\\Github sparade filer\\Python-Daniel-Nilsson\\Code-alongs\\L7-Error_handling.ipynb Cell 4\u001b[0m in \u001b[0;36mfunc2\u001b[1;34m()\u001b[0m\n\u001b[0;32m      <a href='vscode-notebook-cell:/e%3A/Github%20sparade%20filer/Python-Daniel-Nilsson/Code-alongs/L7-Error_handling.ipynb#W3sZmlsZQ%3D%3D?line=4'>5</a>\u001b[0m \u001b[39mdef\u001b[39;00m \u001b[39mfunc2\u001b[39m():\n\u001b[0;32m      <a href='vscode-notebook-cell:/e%3A/Github%20sparade%20filer/Python-Daniel-Nilsson/Code-alongs/L7-Error_handling.ipynb#W3sZmlsZQ%3D%3D?line=5'>6</a>\u001b[0m     \u001b[39mprint\u001b[39m(\u001b[39m\"\u001b[39m\u001b[39mStart function 2\u001b[39m\u001b[39m\"\u001b[39m)\n\u001b[1;32m----> <a href='vscode-notebook-cell:/e%3A/Github%20sparade%20filer/Python-Daniel-Nilsson/Code-alongs/L7-Error_handling.ipynb#W3sZmlsZQ%3D%3D?line=6'>7</a>\u001b[0m     func3()\n",
      "\u001b[1;32me:\\Github sparade filer\\Python-Daniel-Nilsson\\Code-alongs\\L7-Error_handling.ipynb Cell 4\u001b[0m in \u001b[0;36mfunc3\u001b[1;34m()\u001b[0m\n\u001b[0;32m      <a href='vscode-notebook-cell:/e%3A/Github%20sparade%20filer/Python-Daniel-Nilsson/Code-alongs/L7-Error_handling.ipynb#W3sZmlsZQ%3D%3D?line=8'>9</a>\u001b[0m \u001b[39mdef\u001b[39;00m \u001b[39mfunc3\u001b[39m():\n\u001b[0;32m     <a href='vscode-notebook-cell:/e%3A/Github%20sparade%20filer/Python-Daniel-Nilsson/Code-alongs/L7-Error_handling.ipynb#W3sZmlsZQ%3D%3D?line=9'>10</a>\u001b[0m     \u001b[39mprint\u001b[39m(\u001b[39m\"\u001b[39m\u001b[39mStart function 3\u001b[39m\u001b[39m\"\u001b[39m)\n\u001b[1;32m---> <a href='vscode-notebook-cell:/e%3A/Github%20sparade%20filer/Python-Daniel-Nilsson/Code-alongs/L7-Error_handling.ipynb#W3sZmlsZQ%3D%3D?line=10'>11</a>\u001b[0m     \u001b[39m3\u001b[39;49m\u001b[39m/\u001b[39;49m\u001b[39m0\u001b[39;49m\n",
      "\u001b[1;31mZeroDivisionError\u001b[0m: division by zero"
     ]
    }
   ],
   "source": [
    "def func1():\n",
    "    print(\"Start function 1\")\n",
    "    func2()\n",
    "\n",
    "def func2():\n",
    "    print(\"Start function 2\")\n",
    "    func3()\n",
    "\n",
    "def func3():\n",
    "    print(\"Start function 3\")\n",
    "    3/0 # exception error\n",
    "\n",
    "func1()\n"
   ]
  },
  {
   "cell_type": "markdown",
   "metadata": {},
   "source": [
    "## Logical error"
   ]
  },
  {
   "cell_type": "code",
   "execution_count": 2,
   "metadata": {},
   "outputs": [
    {
     "name": "stdout",
     "output_type": "stream",
     "text": [
      "<function <lambda> at 0x00000192ADEF4670>\n"
     ]
    }
   ],
   "source": [
    "import math\n",
    "\n",
    "circumference = lambda radius: math.pi*radius**2\n",
    "\n",
    "print(circumference(2))\n",
    "\n",
    "# program does what it has been told\n",
    "# we compute the area instead of the circumference\n",
    "# logical error -> hard to find"
   ]
  },
  {
   "cell_type": "markdown",
   "metadata": {},
   "source": [
    "## Try-except\n",
    "\n",
    "- try block\n",
    "- except block\n",
    "- raise"
   ]
  },
  {
   "cell_type": "code",
   "execution_count": null,
   "metadata": {},
   "outputs": [],
   "source": [
    "age = input(\"ange din ålder\")\n",
    "\n",
    "age = float(age)\n",
    "# logical error with negative age\n",
    "print(f\"Du är {age}år gammal\")"
   ]
  },
  {
   "cell_type": "code",
   "execution_count": 3,
   "metadata": {},
   "outputs": [
    {
     "name": "stdout",
     "output_type": "stream",
     "text": [
      "could not convert string to float: 'lol'\n",
      "Du är lolår gammal\n"
     ]
    }
   ],
   "source": [
    "age = input(\"ange din ålder\")\n",
    "\n",
    "try:\n",
    "    age = float(age) # tried to convert \"fyrtiotvå\", program throws a valuerror\n",
    "    print(f\"Du är {age:.0f} år gammal\")\n",
    "except ValueError as err: # it get caught in the except block\n",
    "    print(err)\n",
    "# logical error with negative age\n",
    "print(f\"Du är {age}år gammal\")"
   ]
  },
  {
   "cell_type": "code",
   "execution_count": 2,
   "metadata": {},
   "outputs": [
    {
     "name": "stdout",
     "output_type": "stream",
     "text": [
      "Du är -23.0år gammal\n",
      "Skriv en siffra mellan 1 till 100 -23.0\n",
      "could not convert string to float: 'sdf'\n",
      "could not convert string to float: ''\n",
      "could not convert string to float: ''\n",
      "could not convert string to float: ''\n",
      "could not convert string to float: ''\n",
      "Du är 234.0år gammal\n",
      "Skriv en siffra mellan 1 till 100 234.0\n",
      "Du är 23.0år gammal\n",
      "Du är 23.0år gammal\n"
     ]
    }
   ],
   "source": [
    "while True:\n",
    "\n",
    "    age = input(\"ange din ålder\")\n",
    "\n",
    "    try:\n",
    "        age = float(age) # tried to convert \"fyrtiotvå\", program throws a valuerror\n",
    "        print(f\"Du är {age}år gammal\")\n",
    "        if not 0 <= age <= 125:\n",
    "            raise ValueError(f\"Skriv en siffra mellan 1 till 100 {age}\")\n",
    "        break\n",
    "    except ValueError as err: # it get caught in the except block\n",
    "        print(err)\n",
    "\n",
    "# logical error with negative age\n",
    "print(f\"Du är {age}år gammal\")"
   ]
  }
 ],
 "metadata": {
  "kernelspec": {
   "display_name": "Python 3.9.13 ('Python-Daniel-Nilsson-dM3wHzD4')",
   "language": "python",
   "name": "python3"
  },
  "language_info": {
   "codemirror_mode": {
    "name": "ipython",
    "version": 3
   },
   "file_extension": ".py",
   "mimetype": "text/x-python",
   "name": "python",
   "nbconvert_exporter": "python",
   "pygments_lexer": "ipython3",
   "version": "3.9.13"
  },
  "orig_nbformat": 4,
  "vscode": {
   "interpreter": {
    "hash": "c3a8699ff25c9cbc0813ce7fc610555f4abadcd389eeaf7d4f4aa58333d28396"
   }
  }
 },
 "nbformat": 4,
 "nbformat_minor": 2
}
