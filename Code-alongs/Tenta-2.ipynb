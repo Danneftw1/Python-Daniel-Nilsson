{
 "cells": [
  {
   "cell_type": "markdown",
   "metadata": {},
   "source": [
    "## 1. \n",
    "Beskriv vad koden gör och vad som skrivs ut:"
   ]
  },
  {
   "cell_type": "code",
   "execution_count": 2,
   "metadata": {},
   "outputs": [
    {
     "name": "stdout",
     "output_type": "stream",
     "text": [
      "r\n"
     ]
    }
   ],
   "source": [
    "frukter = [\"jordgubbe\", \"vindruva\", \"grape\"] # gör en lista med 3 element\n",
    "godfrukt = frukter[2] # plockar ut tredje elementet (börjar räkna från 0)\n",
    "print(godfrukt[-1]) # plockar sista bokstaven (elementet)"
   ]
  },
  {
   "cell_type": "markdown",
   "metadata": {},
   "source": [
    "## 2.\n",
    "Skapa en funktion som tar in ett heltal n som parameter och skriver ut följande mönstret nedan.\n",
    "Exempel när n = 5:"
   ]
  },
  {
   "cell_type": "code",
   "execution_count": 68,
   "metadata": {},
   "outputs": [
    {
     "name": "stdout",
     "output_type": "stream",
     "text": [
      "\n",
      "1 \n",
      "2 2 \n",
      "3 3 3 \n",
      "4 4 4 4 \n",
      "5 5 5 5 5 \n"
     ]
    }
   ],
   "source": [
    "def pattern(number: int):\n",
    "    number += 1 # lägger till 1 eftersom 'range' börjar från 0 annars\n",
    "    for i in range(number): # skapar en nestad loop\n",
    "        for j in range(i):\n",
    "            print(i, end=\" \")\n",
    "        print('')\n",
    "\n",
    "pattern(5)"
   ]
  },
  {
   "cell_type": "markdown",
   "metadata": {},
   "source": [
    "## Uppgift 3 (3p)\n",
    "Skriv en funktion som tar in en radie och en höjd som inparametrar och som returnerar volymen av en\n",
    "cylinder. Volymen för en cylinder är:\n",
    "Låt användaren mata in en radie och en höjd och kör funktionen. Tänk på att ta med lämplig felhantering."
   ]
  },
  {
   "cell_type": "code",
   "execution_count": 3,
   "metadata": {},
   "outputs": [
    {
     "data": {
      "text/plain": [
       "282.7433388230814"
      ]
     },
     "execution_count": 3,
     "metadata": {},
     "output_type": "execute_result"
    }
   ],
   "source": [
    "import math\n",
    "\n",
    "def volume(radius, height):\n",
    "    if not isinstance(radius, int):\n",
    "        raise TypeError(\"Must be an int\")\n",
    "    if not isinstance(height, int):\n",
    "        raise TypeError(\"Must be an int\")\n",
    "    calc = math.pi * radius**2 * height\n",
    "    return calc\n",
    "\n",
    "volume(3, 10)\n"
   ]
  },
  {
   "cell_type": "markdown",
   "metadata": {},
   "source": [
    "## Uppgift 4 (3p)\n",
    "Läs in en textfil som heter bamba.txt och innehåller:"
   ]
  },
  {
   "cell_type": "code",
   "execution_count": 8,
   "metadata": {},
   "outputs": [
    {
     "name": "stdout",
     "output_type": "stream",
     "text": [
      " v42\n",
      "\n",
      "mån Chili sin carne\n",
      "\n",
      "tis Pannkakor\n",
      "\n",
      "ons Ã„rtsoppa\n",
      "\n",
      "tors Kebab\n",
      "\n",
      "fre Vegetarisk lasagne\n"
     ]
    }
   ],
   "source": [
    "\n",
    "with open (\"../Data/bamba.txt\", \"r\") as f:\n",
    "    lines = f.readlines()\n",
    "    \n",
    "weekdays = [\"\",\"mån\", \"tis\", \"ons\", \"tors\", \"fre\"]\n",
    "both = [weekdays, lines]\n",
    "\n",
    "for i in zip(*both):\n",
    "    print(*i)\n"
   ]
  },
  {
   "cell_type": "markdown",
   "metadata": {},
   "source": [
    "## Uppgift 5 (4p)\n",
    "Skapa en funktion som tar in en summa pengar. Den ska printa ut en representation av sedlar och mynt som\n",
    "representerar summan.\n",
    "Exempel 3214 ska ge:"
   ]
  },
  {
   "cell_type": "code",
   "execution_count": 131,
   "metadata": {},
   "outputs": [
    {
     "name": "stdout",
     "output_type": "stream",
     "text": [
      " Tusenlapp: 2 \n",
      " Tvåhundralapp: 5 \n",
      " Tiokrona: 10 \n",
      " Enkrona: 1\n"
     ]
    }
   ],
   "source": [
    "def money_splitter(number):\n",
    "    tusenlappar = 0\n",
    "    tvåhundralapp = 0\n",
    "    tiokrona = 0\n",
    "    enkrona = 0\n",
    "    while number > 0:\n",
    "        if number >= 1000:\n",
    "            number -= 1000\n",
    "            tusenlappar += 1\n",
    "        if number > 200:\n",
    "            number -= 200\n",
    "            tvåhundralapp += 1\n",
    "        if number < 200:\n",
    "            number -= 10\n",
    "            tiokrona += 1\n",
    "        if number < 10:\n",
    "            number -= 1\n",
    "            enkrona += 1\n",
    "            \n",
    "    \n",
    "    return print(f\" Tusenlapp: {tusenlappar} \\n Tvåhundralapp: {tvåhundralapp} \\n Tiokrona: {tiokrona} \\n Enkrona: {enkrona}\")\n",
    "\n",
    "money_splitter(3100)"
   ]
  },
  {
   "cell_type": "code",
   "execution_count": 132,
   "metadata": {},
   "outputs": [
    {
     "name": "stdout",
     "output_type": "stream",
     "text": [
      "Tusenlapp: 3 \n",
      "Tvåhundralapp: 2 \n",
      "Tiokrona: 5 \n",
      "Enkrona: 4\n"
     ]
    }
   ],
   "source": [
    "def money_splitter(money: int): # Defining function \n",
    "    tusenlapp , tvåhundralapp, tiokrona, enkrona = 0, 0, 0, 0 # Setting variables for all the different currenceys\n",
    "\n",
    "    while 1000 <= money: # While loop that goes through 1000 currencey\n",
    "        tusenlapp += 1 # adds one to variable tusenlapp.\n",
    "        money -= 1000 # removes 1000 from money\n",
    "    while 200 <= money:\n",
    "        tvåhundralapp += 1\n",
    "        money -= 200\n",
    "    while 10 <= money:\n",
    "        tiokrona += 1\n",
    "        money -= 10\n",
    "    while 1 <= money:\n",
    "        enkrona += 1\n",
    "        money -= 1\n",
    "\n",
    "    return print(f\"Tusenlapp: {tusenlapp} \\nTvåhundralapp: {tvåhundralapp} \\nTiokrona: {tiokrona} \\nEnkrona: {enkrona}\")\n",
    "\n",
    "#Calling the function\n",
    "money_splitter(3454)"
   ]
  }
 ],
 "metadata": {
  "kernelspec": {
   "display_name": "Python 3.9.13 ('Python-Daniel-Nilsson-97nbzLRS')",
   "language": "python",
   "name": "python3"
  },
  "language_info": {
   "codemirror_mode": {
    "name": "ipython",
    "version": 3
   },
   "file_extension": ".py",
   "mimetype": "text/x-python",
   "name": "python",
   "nbconvert_exporter": "python",
   "pygments_lexer": "ipython3",
   "version": "3.9.13"
  },
  "orig_nbformat": 4,
  "vscode": {
   "interpreter": {
    "hash": "bc050669da3b02a0dab5c74fea36723f6f6f98ad170411b0b9177bcf895e45d7"
   }
  }
 },
 "nbformat": 4,
 "nbformat_minor": 2
}
