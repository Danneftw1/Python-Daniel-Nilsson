{
 "cells": [
  {
   "cell_type": "markdown",
   "metadata": {},
   "source": [
    "## 1. \n",
    "Beskriv vad koden gör och vad som skrivs ut:"
   ]
  },
  {
   "cell_type": "code",
   "execution_count": 2,
   "metadata": {},
   "outputs": [
    {
     "name": "stdout",
     "output_type": "stream",
     "text": [
      "r\n"
     ]
    }
   ],
   "source": [
    "frukter = [\"jordgubbe\", \"vindruva\", \"grape\"] # gör en lista med 3 element\n",
    "godfrukt = frukter[2] # plockar ut tredje elementet (börjar räkna från 0)\n",
    "print(godfrukt[-1]) # plockar sista bokstaven (elementet)"
   ]
  },
  {
   "cell_type": "markdown",
   "metadata": {},
   "source": [
    "## 2.\n",
    "Skapa en funktion som tar in ett heltal n som parameter och skriver ut följande mönstret nedan.\n",
    "Exempel när n = 5:"
   ]
  },
  {
   "cell_type": "code",
   "execution_count": 68,
   "metadata": {},
   "outputs": [
    {
     "name": "stdout",
     "output_type": "stream",
     "text": [
      "\n",
      "1 \n",
      "2 2 \n",
      "3 3 3 \n",
      "4 4 4 4 \n",
      "5 5 5 5 5 \n"
     ]
    }
   ],
   "source": [
    "def pattern(number: int):\n",
    "    number += 1 # lägger till 1 eftersom 'range' börjar från 0 annars\n",
    "    for i in range(number): # skapar en nestad loop\n",
    "        for j in range(i):\n",
    "            print(i, end=\" \")\n",
    "        print('')\n",
    "\n",
    "pattern(5)"
   ]
  },
  {
   "cell_type": "code",
   "execution_count": 19,
   "metadata": {},
   "outputs": [
    {
     "name": "stdout",
     "output_type": "stream",
     "text": [
      "x o o o o o o o o o o o o o o o o o o o o o o o o o o \n",
      "x x o o o o o o o o o o o o o o o o o o o o o o o o o \n",
      "x x x o o o o o o o o o o o o o o o o o o o o o o o o \n",
      "x x x x o o o o o o o o o o o o o o o o o o o o o o o \n",
      "x x x x x o o o o o o o o o o o o o o o o o o o o o o \n",
      "x x x x x x o o o o o o o o o o o o o o o o o o o o o \n",
      "x x x x x x x o o o o o o o o o o o o o o o o o o o o \n",
      "x x x x x x x x o o o o o o o o o o o o o o o o o o o \n",
      "x x x x x x x x x o o o o o o o o o o o o o o o o o o \n",
      "x x x x x x x x x x o o o o o o o o o o o o o o o o o \n",
      "x x x x x x x x x x x o o o o o o o o o o o o o o o o \n",
      "x x x x x x x x x x x x o o o o o o o o o o o o o o o \n",
      "x x x x x x x x x x x x x o o o o o o o o o o o o o o \n",
      "x x x x x x x x x x x x x x o o o o o o o o o o o o o \n",
      "x x x x x x x x x x x x x x x o o o o o o o o o o o o \n",
      "x x x x x x x x x x x x x x x x o o o o o o o o o o o \n",
      "x x x x x x x x x x x x x x x x x o o o o o o o o o o \n",
      "x x x x x x x x x x x x x x x x x x o o o o o o o o o \n",
      "x x x x x x x x x x x x x x x x x x x o o o o o o o o \n",
      "x x x x x x x x x x x x x x x x x x x x o o o o o o o \n",
      "x x x x x x x x x x x x x x x x x x x x x o o o o o o \n",
      "x x x x x x x x x x x x x x x x x x x x x x o o o o o \n",
      "x x x x x x x x x x x x x x x x x x x x x x x o o o o \n",
      "x x x x x x x x x x x x x x x x x x x x x x x x o o o \n",
      "x x x x x x x x x x x x x x x x x x x x x x x x x o o \n",
      "x x x x x x x x x x x x x x x x x x x x x x x x x x o \n",
      "x x x x x x x x x x x x x x x x x x x x x x x x x x x \n",
      "\n"
     ]
    }
   ],
   "source": [
    "def my_func(n):\n",
    "    row = \"\"\n",
    "    for i in range(n):\n",
    "        row += (\"x \" * (i + 1) + \n",
    "        \"o \" * \n",
    "        (n -(i + 1)) + \n",
    "        \"\\n\")\n",
    "    print(row)\n",
    "\n",
    "my_func(27)"
   ]
  },
  {
   "cell_type": "markdown",
   "metadata": {},
   "source": [
    "## Uppgift 3 (3p)\n",
    "Skriv en funktion som tar in en radie och en höjd som inparametrar och som returnerar volymen av en\n",
    "cylinder. Volymen för en cylinder är:\n",
    "Låt användaren mata in en radie och en höjd och kör funktionen. Tänk på att ta med lämplig felhantering."
   ]
  },
  {
   "cell_type": "code",
   "execution_count": 3,
   "metadata": {},
   "outputs": [
    {
     "data": {
      "text/plain": [
       "282.7433388230814"
      ]
     },
     "execution_count": 3,
     "metadata": {},
     "output_type": "execute_result"
    }
   ],
   "source": [
    "import math\n",
    "\n",
    "def volume(radius, height):\n",
    "    if not isinstance(radius, int):\n",
    "        raise TypeError(\"Must be an int\")\n",
    "    if not isinstance(height, int):\n",
    "        raise TypeError(\"Must be an int\")\n",
    "    calc = math.pi * radius**2 * height\n",
    "    return calc\n",
    "\n",
    "volume(3, 10)\n"
   ]
  },
  {
   "cell_type": "code",
   "execution_count": 11,
   "metadata": {},
   "outputs": [
    {
     "name": "stdout",
     "output_type": "stream",
     "text": [
      "\n",
      "\n",
      "1\n",
      "\n",
      "2\n",
      "2\n",
      "\n",
      "3\n",
      "3\n",
      "3\n",
      "\n",
      "4\n",
      "4\n",
      "4\n",
      "4\n"
     ]
    }
   ],
   "source": [
    "for i in range(5):\n",
    "    print(\"\")\n",
    "    for j in range(i):\n",
    "        print(i)"
   ]
  },
  {
   "cell_type": "markdown",
   "metadata": {},
   "source": [
    "## Uppgift 4 (3p)\n",
    "Läs in en textfil som heter bamba.txt och innehåller:"
   ]
  },
  {
   "cell_type": "code",
   "execution_count": 9,
   "metadata": {},
   "outputs": [
    {
     "name": "stdout",
     "output_type": "stream",
     "text": [
      " v42\n",
      "\n",
      "mån Chili sin carne\n",
      "\n",
      "tis Pannkakor\n",
      "\n",
      "ons Ã„rtsoppa\n",
      "\n",
      "tors Kebab\n",
      "\n",
      "fre Vegetarisk lasagne\n"
     ]
    }
   ],
   "source": [
    "\n",
    "with open (\"../Data/bamba.txt\", \"r\") as f:\n",
    "    lines = f.readlines()\n",
    "    \n",
    "weekdays = [\"\",\"mån\", \"tis\", \"ons\", \"tors\", \"fre\"]\n",
    "both = [weekdays, lines]\n",
    "\n",
    "for i in zip(weekdays, lines): # *both funkar också\n",
    "    print(*i)\n"
   ]
  },
  {
   "cell_type": "markdown",
   "metadata": {},
   "source": [
    "## Uppgift 5 (4p)\n",
    "Skapa en funktion som tar in en summa pengar. Den ska printa ut en representation av sedlar och mynt som\n",
    "representerar summan.\n",
    "Exempel 3214 ska ge:"
   ]
  },
  {
   "cell_type": "code",
   "execution_count": 131,
   "metadata": {},
   "outputs": [
    {
     "name": "stdout",
     "output_type": "stream",
     "text": [
      " Tusenlapp: 2 \n",
      " Tvåhundralapp: 5 \n",
      " Tiokrona: 10 \n",
      " Enkrona: 1\n"
     ]
    }
   ],
   "source": [
    "def money_splitter(number):\n",
    "    tusenlappar = 0\n",
    "    tvåhundralapp = 0\n",
    "    tiokrona = 0\n",
    "    enkrona = 0\n",
    "    while number > 0:\n",
    "        if number >= 1000:\n",
    "            number -= 1000\n",
    "            tusenlappar += 1\n",
    "        if number > 200:\n",
    "            number -= 200\n",
    "            tvåhundralapp += 1\n",
    "        if number < 200:\n",
    "            number -= 10\n",
    "            tiokrona += 1\n",
    "        if number < 10:\n",
    "            number -= 1\n",
    "            enkrona += 1\n",
    "            \n",
    "    \n",
    "    return print(f\" Tusenlapp: {tusenlappar} \\n Tvåhundralapp: {tvåhundralapp} \\n Tiokrona: {tiokrona} \\n Enkrona: {enkrona}\")\n",
    "\n",
    "money_splitter(3100)"
   ]
  },
  {
   "cell_type": "code",
   "execution_count": 132,
   "metadata": {},
   "outputs": [
    {
     "name": "stdout",
     "output_type": "stream",
     "text": [
      "Tusenlapp: 3 \n",
      "Tvåhundralapp: 2 \n",
      "Tiokrona: 5 \n",
      "Enkrona: 4\n"
     ]
    }
   ],
   "source": [
    "def money_splitter(money: int): # Defining function \n",
    "    tusenlapp , tvåhundralapp, tiokrona, enkrona = 0, 0, 0, 0 # Setting variables for all the different currenceys\n",
    "\n",
    "    while 1000 <= money: # While loop that goes through 1000 currencey\n",
    "        tusenlapp += 1 # adds one to variable tusenlapp.\n",
    "        money -= 1000 # removes 1000 from money\n",
    "    while 200 <= money:\n",
    "        tvåhundralapp += 1\n",
    "        money -= 200\n",
    "    while 10 <= money:\n",
    "        tiokrona += 1\n",
    "        money -= 10\n",
    "    while 1 <= money:\n",
    "        enkrona += 1\n",
    "        money -= 1\n",
    "\n",
    "    return print(f\"Tusenlapp: {tusenlapp} \\nTvåhundralapp: {tvåhundralapp} \\nTiokrona: {tiokrona} \\nEnkrona: {enkrona}\")\n",
    "\n",
    "#Calling the function\n",
    "money_splitter(3454)"
   ]
  },
  {
   "cell_type": "markdown",
   "metadata": {},
   "source": [
    "## 6.\n",
    " Du har följande kod: kolla pdf"
   ]
  },
  {
   "cell_type": "code",
   "execution_count": 20,
   "metadata": {},
   "outputs": [
    {
     "ename": "TypeError",
     "evalue": "",
     "output_type": "error",
     "traceback": [
      "\u001b[1;31m---------------------------------------------------------------------------\u001b[0m",
      "\u001b[1;31mTypeError\u001b[0m                                 Traceback (most recent call last)",
      "\u001b[1;32me:\\Github sparade filer\\Python-Daniel-Nilsson\\Code-alongs\\Tenta-2.ipynb Cell 15\u001b[0m in \u001b[0;36m<cell line: 77>\u001b[1;34m()\u001b[0m\n\u001b[0;32m     <a href='vscode-notebook-cell:/e%3A/Github%20sparade%20filer/Python-Daniel-Nilsson/Code-alongs/Tenta-2.ipynb#X15sZmlsZQ%3D%3D?line=70'>71</a>\u001b[0m         print_string \u001b[39m+\u001b[39m\u001b[39m=\u001b[39m \u001b[39mf\u001b[39m\u001b[39m\"\u001b[39m\u001b[39m\\n\u001b[39;00m\u001b[39m{\u001b[39;00m\u001b[39mself\u001b[39m\u001b[39m.\u001b[39mfishes\u001b[39m}\u001b[39;00m\u001b[39m\"\u001b[39m\n\u001b[0;32m     <a href='vscode-notebook-cell:/e%3A/Github%20sparade%20filer/Python-Daniel-Nilsson/Code-alongs/Tenta-2.ipynb#X15sZmlsZQ%3D%3D?line=75'>76</a>\u001b[0m owner1 \u001b[39m=\u001b[39m PetOwner(\u001b[39m\"\u001b[39m\u001b[39mAda\u001b[39m\u001b[39m\"\u001b[39m,[\u001b[39m\"\u001b[39m\u001b[39mSnoopy\u001b[39m\u001b[39m\"\u001b[39m, \u001b[39m\"\u001b[39m\u001b[39mPluto\u001b[39m\u001b[39m\"\u001b[39m], [\u001b[39m\"\u001b[39m\u001b[39mFishy\u001b[39m\u001b[39m\"\u001b[39m, \u001b[39m\"\u001b[39m\u001b[39mBuppy\u001b[39m\u001b[39m\"\u001b[39m])\n\u001b[1;32m---> <a href='vscode-notebook-cell:/e%3A/Github%20sparade%20filer/Python-Daniel-Nilsson/Code-alongs/Tenta-2.ipynb#X15sZmlsZQ%3D%3D?line=76'>77</a>\u001b[0m owner2 \u001b[39m=\u001b[39m PetOwner(\u001b[39m\"\u001b[39;49m\u001b[39mBeda\u001b[39;49m\u001b[39m\"\u001b[39;49m, [\u001b[39m\"\u001b[39;49m\u001b[39mBarkly\u001b[39;49m\u001b[39m\"\u001b[39;49m] )\n\u001b[0;32m     <a href='vscode-notebook-cell:/e%3A/Github%20sparade%20filer/Python-Daniel-Nilsson/Code-alongs/Tenta-2.ipynb#X15sZmlsZQ%3D%3D?line=78'>79</a>\u001b[0m \u001b[39mprint\u001b[39m(owner1)\n\u001b[0;32m     <a href='vscode-notebook-cell:/e%3A/Github%20sparade%20filer/Python-Daniel-Nilsson/Code-alongs/Tenta-2.ipynb#X15sZmlsZQ%3D%3D?line=79'>80</a>\u001b[0m \u001b[39mprint\u001b[39m(owner2)\n",
      "\u001b[1;32me:\\Github sparade filer\\Python-Daniel-Nilsson\\Code-alongs\\Tenta-2.ipynb Cell 15\u001b[0m in \u001b[0;36mPetOwner.__init__\u001b[1;34m(self, name, dogs, fishes)\u001b[0m\n\u001b[0;32m     <a href='vscode-notebook-cell:/e%3A/Github%20sparade%20filer/Python-Daniel-Nilsson/Code-alongs/Tenta-2.ipynb#X15sZmlsZQ%3D%3D?line=18'>19</a>\u001b[0m \u001b[39mself\u001b[39m\u001b[39m.\u001b[39mname \u001b[39m=\u001b[39m name\n\u001b[0;32m     <a href='vscode-notebook-cell:/e%3A/Github%20sparade%20filer/Python-Daniel-Nilsson/Code-alongs/Tenta-2.ipynb#X15sZmlsZQ%3D%3D?line=19'>20</a>\u001b[0m \u001b[39mself\u001b[39m\u001b[39m.\u001b[39mdogs \u001b[39m=\u001b[39m dogs\n\u001b[1;32m---> <a href='vscode-notebook-cell:/e%3A/Github%20sparade%20filer/Python-Daniel-Nilsson/Code-alongs/Tenta-2.ipynb#X15sZmlsZQ%3D%3D?line=20'>21</a>\u001b[0m \u001b[39mself\u001b[39;49m\u001b[39m.\u001b[39;49mfishes \u001b[39m=\u001b[39m fishes\n",
      "\u001b[1;32me:\\Github sparade filer\\Python-Daniel-Nilsson\\Code-alongs\\Tenta-2.ipynb Cell 15\u001b[0m in \u001b[0;36mPetOwner.fishes\u001b[1;34m(self, fish_names)\u001b[0m\n\u001b[0;32m     <a href='vscode-notebook-cell:/e%3A/Github%20sparade%20filer/Python-Daniel-Nilsson/Code-alongs/Tenta-2.ipynb#X15sZmlsZQ%3D%3D?line=53'>54</a>\u001b[0m \u001b[39m@fishes\u001b[39m\u001b[39m.\u001b[39msetter\n\u001b[0;32m     <a href='vscode-notebook-cell:/e%3A/Github%20sparade%20filer/Python-Daniel-Nilsson/Code-alongs/Tenta-2.ipynb#X15sZmlsZQ%3D%3D?line=54'>55</a>\u001b[0m \u001b[39mdef\u001b[39;00m \u001b[39mfishes\u001b[39m(\u001b[39mself\u001b[39m, fish_names):\n\u001b[0;32m     <a href='vscode-notebook-cell:/e%3A/Github%20sparade%20filer/Python-Daniel-Nilsson/Code-alongs/Tenta-2.ipynb#X15sZmlsZQ%3D%3D?line=55'>56</a>\u001b[0m     \u001b[39mif\u001b[39;00m \u001b[39mtype\u001b[39m(fish_names) \u001b[39m!=\u001b[39m \u001b[39mlist\u001b[39m:\n\u001b[1;32m---> <a href='vscode-notebook-cell:/e%3A/Github%20sparade%20filer/Python-Daniel-Nilsson/Code-alongs/Tenta-2.ipynb#X15sZmlsZQ%3D%3D?line=56'>57</a>\u001b[0m         \u001b[39mraise\u001b[39;00m \u001b[39mTypeError\u001b[39;00m \u001b[39m# message\u001b[39;00m\n\u001b[0;32m     <a href='vscode-notebook-cell:/e%3A/Github%20sparade%20filer/Python-Daniel-Nilsson/Code-alongs/Tenta-2.ipynb#X15sZmlsZQ%3D%3D?line=58'>59</a>\u001b[0m     temp_list \u001b[39m=\u001b[39m []\n\u001b[0;32m     <a href='vscode-notebook-cell:/e%3A/Github%20sparade%20filer/Python-Daniel-Nilsson/Code-alongs/Tenta-2.ipynb#X15sZmlsZQ%3D%3D?line=59'>60</a>\u001b[0m     \u001b[39mfor\u001b[39;00m name \u001b[39min\u001b[39;00m fish_names:\n",
      "\u001b[1;31mTypeError\u001b[0m: "
     ]
    }
   ],
   "source": [
    "class Animal:\n",
    "    def __init__(self, name):\n",
    "        self.name = name\n",
    "    def __str__(self):\n",
    "        return f\"Animal {self.name}\"\n",
    "\n",
    "class Dog(Animal):\n",
    "    # notera att __init__ är nedärvd\n",
    "    def __repr__(self):\n",
    "        return f\"Dog: {self.name}\"\n",
    "\n",
    "class Fish(Animal):\n",
    "    def __repr__(self):\n",
    "        return f\"Fish: {self.name}\"\n",
    "\n",
    "#TODO: implementera PetOwner\n",
    "class PetOwner:\n",
    "    def __init__(self, name: str, dogs: list = None, fishes: list = None):\n",
    "        self.name = name\n",
    "        self.dogs = dogs\n",
    "        self.fishes = fishes\n",
    "    \n",
    "    @property\n",
    "    def name(self):\n",
    "        return self._name\n",
    "\n",
    "    @name.setter\n",
    "    def name(self, value):\n",
    "        # TODO only allow strings with a value\n",
    "        self._name = value\n",
    "    \n",
    "    @property\n",
    "    def dogs(self):\n",
    "        return self._dogs\n",
    "\n",
    "    @dogs.setter\n",
    "    def dogs(self, dog_names):\n",
    "        if type(dog_names) != list:\n",
    "            raise TypeError # message\n",
    "\n",
    "        temp_list = []\n",
    "        for name in dog_names:\n",
    "            if type(name) != str:\n",
    "                raise TypeError # message\n",
    "            if name.strip() == \"\":\n",
    "                raise ValueError # message\n",
    "            temp_list.append(Dog(name))\n",
    "        self._dogs = temp_list\n",
    "\n",
    "    @property\n",
    "    def fishes(self):\n",
    "        return self._fishes\n",
    "\n",
    "    @fishes.setter\n",
    "    def fishes(self, fish_names):\n",
    "        if type(fish_names) != list:\n",
    "            raise TypeError # message\n",
    "\n",
    "        temp_list = []\n",
    "        for name in fish_names:\n",
    "            if type(name) != str:\n",
    "                raise TypeError # message\n",
    "            if name.strip() == \"\":\n",
    "                raise ValueError # message\n",
    "            temp_list.append(Fish(name))\n",
    "        self._fishes = temp_list\n",
    "\n",
    "    def __str__(self):\n",
    "        print_string = f\"{self.name} owns:\"\n",
    "        print_string += f\"\\n{self.dogs}\"\n",
    "        print_string += f\"\\n{self.fishes}\"\n",
    "\n",
    "\n",
    "\n",
    "\n",
    "owner1 = PetOwner(\"Ada\",[\"Snoopy\", \"Pluto\"], [\"Fishy\", \"Buppy\"])\n",
    "owner2 = PetOwner(\"Beda\", [\"Barkly\"] )\n",
    "\n",
    "print(owner1)\n",
    "print(owner2)"
   ]
  },
  {
   "cell_type": "code",
   "execution_count": 21,
   "metadata": {},
   "outputs": [
    {
     "ename": "TypeError",
     "evalue": "",
     "output_type": "error",
     "traceback": [
      "\u001b[1;31m---------------------------------------------------------------------------\u001b[0m",
      "\u001b[1;31mTypeError\u001b[0m                                 Traceback (most recent call last)",
      "\u001b[1;32me:\\Github sparade filer\\Python-Daniel-Nilsson\\Code-alongs\\Tenta-2.ipynb Cell 16\u001b[0m in \u001b[0;36m<cell line: 2>\u001b[1;34m()\u001b[0m\n\u001b[0;32m      <a href='vscode-notebook-cell:/e%3A/Github%20sparade%20filer/Python-Daniel-Nilsson/Code-alongs/Tenta-2.ipynb#X16sZmlsZQ%3D%3D?line=0'>1</a>\u001b[0m owner1 \u001b[39m=\u001b[39m PetOwner(\u001b[39m\"\u001b[39m\u001b[39mAda\u001b[39m\u001b[39m\"\u001b[39m,[\u001b[39m\"\u001b[39m\u001b[39mSnoopy\u001b[39m\u001b[39m\"\u001b[39m, \u001b[39m\"\u001b[39m\u001b[39mPluto\u001b[39m\u001b[39m\"\u001b[39m], [\u001b[39m\"\u001b[39m\u001b[39mFishy\u001b[39m\u001b[39m\"\u001b[39m, \u001b[39m\"\u001b[39m\u001b[39mBuppy\u001b[39m\u001b[39m\"\u001b[39m])\n\u001b[1;32m----> <a href='vscode-notebook-cell:/e%3A/Github%20sparade%20filer/Python-Daniel-Nilsson/Code-alongs/Tenta-2.ipynb#X16sZmlsZQ%3D%3D?line=1'>2</a>\u001b[0m owner2 \u001b[39m=\u001b[39m PetOwner(\u001b[39m\"\u001b[39;49m\u001b[39mBeda\u001b[39;49m\u001b[39m\"\u001b[39;49m, [\u001b[39m\"\u001b[39;49m\u001b[39mBarkly\u001b[39;49m\u001b[39m\"\u001b[39;49m] )\n\u001b[0;32m      <a href='vscode-notebook-cell:/e%3A/Github%20sparade%20filer/Python-Daniel-Nilsson/Code-alongs/Tenta-2.ipynb#X16sZmlsZQ%3D%3D?line=3'>4</a>\u001b[0m \u001b[39mprint\u001b[39m(owner1)\n\u001b[0;32m      <a href='vscode-notebook-cell:/e%3A/Github%20sparade%20filer/Python-Daniel-Nilsson/Code-alongs/Tenta-2.ipynb#X16sZmlsZQ%3D%3D?line=4'>5</a>\u001b[0m \u001b[39mprint\u001b[39m(owner2)\n",
      "\u001b[1;32me:\\Github sparade filer\\Python-Daniel-Nilsson\\Code-alongs\\Tenta-2.ipynb Cell 16\u001b[0m in \u001b[0;36mPetOwner.__init__\u001b[1;34m(self, name, dogs, fishes)\u001b[0m\n\u001b[0;32m     <a href='vscode-notebook-cell:/e%3A/Github%20sparade%20filer/Python-Daniel-Nilsson/Code-alongs/Tenta-2.ipynb#X16sZmlsZQ%3D%3D?line=18'>19</a>\u001b[0m \u001b[39mself\u001b[39m\u001b[39m.\u001b[39mname \u001b[39m=\u001b[39m name\n\u001b[0;32m     <a href='vscode-notebook-cell:/e%3A/Github%20sparade%20filer/Python-Daniel-Nilsson/Code-alongs/Tenta-2.ipynb#X16sZmlsZQ%3D%3D?line=19'>20</a>\u001b[0m \u001b[39mself\u001b[39m\u001b[39m.\u001b[39mdogs \u001b[39m=\u001b[39m dogs\n\u001b[1;32m---> <a href='vscode-notebook-cell:/e%3A/Github%20sparade%20filer/Python-Daniel-Nilsson/Code-alongs/Tenta-2.ipynb#X16sZmlsZQ%3D%3D?line=20'>21</a>\u001b[0m \u001b[39mself\u001b[39;49m\u001b[39m.\u001b[39;49mfishes \u001b[39m=\u001b[39m fishes\n",
      "\u001b[1;32me:\\Github sparade filer\\Python-Daniel-Nilsson\\Code-alongs\\Tenta-2.ipynb Cell 16\u001b[0m in \u001b[0;36mPetOwner.fishes\u001b[1;34m(self, fish_names)\u001b[0m\n\u001b[0;32m     <a href='vscode-notebook-cell:/e%3A/Github%20sparade%20filer/Python-Daniel-Nilsson/Code-alongs/Tenta-2.ipynb#X16sZmlsZQ%3D%3D?line=53'>54</a>\u001b[0m \u001b[39m@fishes\u001b[39m\u001b[39m.\u001b[39msetter\n\u001b[0;32m     <a href='vscode-notebook-cell:/e%3A/Github%20sparade%20filer/Python-Daniel-Nilsson/Code-alongs/Tenta-2.ipynb#X16sZmlsZQ%3D%3D?line=54'>55</a>\u001b[0m \u001b[39mdef\u001b[39;00m \u001b[39mfishes\u001b[39m(\u001b[39mself\u001b[39m, fish_names):\n\u001b[0;32m     <a href='vscode-notebook-cell:/e%3A/Github%20sparade%20filer/Python-Daniel-Nilsson/Code-alongs/Tenta-2.ipynb#X16sZmlsZQ%3D%3D?line=55'>56</a>\u001b[0m     \u001b[39mif\u001b[39;00m \u001b[39mtype\u001b[39m(fish_names) \u001b[39m!=\u001b[39m \u001b[39mlist\u001b[39m:\n\u001b[1;32m---> <a href='vscode-notebook-cell:/e%3A/Github%20sparade%20filer/Python-Daniel-Nilsson/Code-alongs/Tenta-2.ipynb#X16sZmlsZQ%3D%3D?line=56'>57</a>\u001b[0m         \u001b[39mraise\u001b[39;00m \u001b[39mTypeError\u001b[39;00m \u001b[39m# message\u001b[39;00m\n\u001b[0;32m     <a href='vscode-notebook-cell:/e%3A/Github%20sparade%20filer/Python-Daniel-Nilsson/Code-alongs/Tenta-2.ipynb#X16sZmlsZQ%3D%3D?line=58'>59</a>\u001b[0m     temp_list \u001b[39m=\u001b[39m []\n\u001b[0;32m     <a href='vscode-notebook-cell:/e%3A/Github%20sparade%20filer/Python-Daniel-Nilsson/Code-alongs/Tenta-2.ipynb#X16sZmlsZQ%3D%3D?line=59'>60</a>\u001b[0m     \u001b[39mfor\u001b[39;00m name \u001b[39min\u001b[39;00m fish_names:\n",
      "\u001b[1;31mTypeError\u001b[0m: "
     ]
    }
   ],
   "source": [
    "owner1 = PetOwner(\"Ada\",[\"Snoopy\", \"Pluto\"], [\"Fishy\", \"Buppy\"])\n",
    "owner2 = PetOwner(\"Beda\", [\"Barkly\"] )\n",
    "\n",
    "print(owner1)\n",
    "print(owner2)"
   ]
  }
 ],
 "metadata": {
  "kernelspec": {
   "display_name": "Python 3.9.13 ('Python-Daniel-Nilsson-97nbzLRS')",
   "language": "python",
   "name": "python3"
  },
  "language_info": {
   "codemirror_mode": {
    "name": "ipython",
    "version": 3
   },
   "file_extension": ".py",
   "mimetype": "text/x-python",
   "name": "python",
   "nbconvert_exporter": "python",
   "pygments_lexer": "ipython3",
   "version": "3.9.13"
  },
  "orig_nbformat": 4,
  "vscode": {
   "interpreter": {
    "hash": "bc050669da3b02a0dab5c74fea36723f6f6f98ad170411b0b9177bcf895e45d7"
   }
  }
 },
 "nbformat": 4,
 "nbformat_minor": 2
}
