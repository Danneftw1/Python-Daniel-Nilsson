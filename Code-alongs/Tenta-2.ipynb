{
 "cells": [
  {
   "cell_type": "markdown",
   "metadata": {},
   "source": [
    "## 1. \n",
    "Beskriv vad koden gör och vad som skrivs ut:"
   ]
  },
  {
   "cell_type": "code",
   "execution_count": 2,
   "metadata": {},
   "outputs": [
    {
     "name": "stdout",
     "output_type": "stream",
     "text": [
      "r\n"
     ]
    }
   ],
   "source": [
    "frukter = [\"jordgubbe\", \"vindruva\", \"grape\"] # gör en lista med 3 element\n",
    "godfrukt = frukter[2] # plockar ut tredje elementet (börjar räkna från 0)\n",
    "print(godfrukt[-1]) # plockar sista bokstaven (elementet)"
   ]
  },
  {
   "cell_type": "markdown",
   "metadata": {},
   "source": [
    "## 2.\n",
    "Skapa en funktion som tar in ett heltal n som parameter och skriver ut följande mönstret nedan.\n",
    "Exempel när n = 5:"
   ]
  },
  {
   "cell_type": "code",
   "execution_count": 68,
   "metadata": {},
   "outputs": [
    {
     "name": "stdout",
     "output_type": "stream",
     "text": [
      "\n",
      "1 \n",
      "2 2 \n",
      "3 3 3 \n",
      "4 4 4 4 \n",
      "5 5 5 5 5 \n"
     ]
    }
   ],
   "source": [
    "def pattern(number: int):\n",
    "    number += 1 # lägger till 1 eftersom 'range' börjar från 0 annars\n",
    "    for i in range(number): # skapar en nestad loop\n",
    "        for j in range(i):\n",
    "            print(i, end=\" \")\n",
    "        print('')\n",
    "\n",
    "pattern(5)"
   ]
  },
  {
   "cell_type": "markdown",
   "metadata": {},
   "source": [
    "## Uppgift 3 (3p)\n",
    "Skriv en funktion som tar in en radie och en höjd som inparametrar och som returnerar volymen av en\n",
    "cylinder. Volymen för en cylinder är:\n",
    "Låt användaren mata in en radie och en höjd och kör funktionen. Tänk på att ta med lämplig felhantering."
   ]
  },
  {
   "cell_type": "code",
   "execution_count": 3,
   "metadata": {},
   "outputs": [
    {
     "data": {
      "text/plain": [
       "282.7433388230814"
      ]
     },
     "execution_count": 3,
     "metadata": {},
     "output_type": "execute_result"
    }
   ],
   "source": [
    "import math\n",
    "\n",
    "def volume(radius, height):\n",
    "    if not isinstance(radius, int):\n",
    "        raise TypeError(\"Must be an int\")\n",
    "    if not isinstance(height, int):\n",
    "        raise TypeError(\"Must be an int\")\n",
    "    calc = math.pi * radius**2 * height\n",
    "    return calc\n",
    "\n",
    "volume(3, 10)\n"
   ]
  }
 ],
 "metadata": {
  "kernelspec": {
   "display_name": "Python 3.9.13 ('Python-Daniel-Nilsson-97nbzLRS')",
   "language": "python",
   "name": "python3"
  },
  "language_info": {
   "codemirror_mode": {
    "name": "ipython",
    "version": 3
   },
   "file_extension": ".py",
   "mimetype": "text/x-python",
   "name": "python",
   "nbconvert_exporter": "python",
   "pygments_lexer": "ipython3",
   "version": "3.9.13"
  },
  "orig_nbformat": 4,
  "vscode": {
   "interpreter": {
    "hash": "bc050669da3b02a0dab5c74fea36723f6f6f98ad170411b0b9177bcf895e45d7"
   }
  }
 },
 "nbformat": 4,
 "nbformat_minor": 2
}
