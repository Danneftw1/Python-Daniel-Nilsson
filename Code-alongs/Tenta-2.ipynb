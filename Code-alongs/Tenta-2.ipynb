{
 "cells": [
  {
   "cell_type": "markdown",
   "metadata": {},
   "source": [
    "## 1. \n",
    "Beskriv vad koden gör och vad som skrivs ut:"
   ]
  },
  {
   "cell_type": "code",
   "execution_count": 2,
   "metadata": {},
   "outputs": [
    {
     "name": "stdout",
     "output_type": "stream",
     "text": [
      "r\n"
     ]
    }
   ],
   "source": [
    "frukter = [\"jordgubbe\", \"vindruva\", \"grape\"] # gör en lista med 3 element\n",
    "godfrukt = frukter[2] # plockar ut tredje elementet (börjar räkna från 0)\n",
    "print(godfrukt[-1]) # plockar sista bokstaven (elementet)"
   ]
  },
  {
   "cell_type": "markdown",
   "metadata": {},
   "source": [
    "## 2.\n",
    "Skapa en funktion som tar in ett heltal n som parameter och skriver ut följande mönstret nedan.\n",
    "Exempel när n = 5:"
   ]
  },
  {
   "cell_type": "code",
   "execution_count": 68,
   "metadata": {},
   "outputs": [
    {
     "name": "stdout",
     "output_type": "stream",
     "text": [
      "\n",
      "1 \n",
      "2 2 \n",
      "3 3 3 \n",
      "4 4 4 4 \n",
      "5 5 5 5 5 \n"
     ]
    }
   ],
   "source": [
    "def pattern(number: int):\n",
    "    number += 1 # lägger till 1 eftersom 'range' börjar från 0 annars\n",
    "    for i in range(number): # skapar en nestad loop\n",
    "        for j in range(i):\n",
    "            print(i, end=\" \")\n",
    "        print('')\n",
    "\n",
    "pattern(5)"
   ]
  },
  {
   "cell_type": "code",
   "execution_count": 19,
   "metadata": {},
   "outputs": [
    {
     "name": "stdout",
     "output_type": "stream",
     "text": [
      "x o o o o o o o o o o o o o o o o o o o o o o o o o o \n",
      "x x o o o o o o o o o o o o o o o o o o o o o o o o o \n",
      "x x x o o o o o o o o o o o o o o o o o o o o o o o o \n",
      "x x x x o o o o o o o o o o o o o o o o o o o o o o o \n",
      "x x x x x o o o o o o o o o o o o o o o o o o o o o o \n",
      "x x x x x x o o o o o o o o o o o o o o o o o o o o o \n",
      "x x x x x x x o o o o o o o o o o o o o o o o o o o o \n",
      "x x x x x x x x o o o o o o o o o o o o o o o o o o o \n",
      "x x x x x x x x x o o o o o o o o o o o o o o o o o o \n",
      "x x x x x x x x x x o o o o o o o o o o o o o o o o o \n",
      "x x x x x x x x x x x o o o o o o o o o o o o o o o o \n",
      "x x x x x x x x x x x x o o o o o o o o o o o o o o o \n",
      "x x x x x x x x x x x x x o o o o o o o o o o o o o o \n",
      "x x x x x x x x x x x x x x o o o o o o o o o o o o o \n",
      "x x x x x x x x x x x x x x x o o o o o o o o o o o o \n",
      "x x x x x x x x x x x x x x x x o o o o o o o o o o o \n",
      "x x x x x x x x x x x x x x x x x o o o o o o o o o o \n",
      "x x x x x x x x x x x x x x x x x x o o o o o o o o o \n",
      "x x x x x x x x x x x x x x x x x x x o o o o o o o o \n",
      "x x x x x x x x x x x x x x x x x x x x o o o o o o o \n",
      "x x x x x x x x x x x x x x x x x x x x x o o o o o o \n",
      "x x x x x x x x x x x x x x x x x x x x x x o o o o o \n",
      "x x x x x x x x x x x x x x x x x x x x x x x o o o o \n",
      "x x x x x x x x x x x x x x x x x x x x x x x x o o o \n",
      "x x x x x x x x x x x x x x x x x x x x x x x x x o o \n",
      "x x x x x x x x x x x x x x x x x x x x x x x x x x o \n",
      "x x x x x x x x x x x x x x x x x x x x x x x x x x x \n",
      "\n"
     ]
    }
   ],
   "source": [
    "def my_func(n):\n",
    "    row = \"\"\n",
    "    for i in range(n):\n",
    "        row += (\"x \" * (i + 1) + \n",
    "        \"o \" * \n",
    "        (n -(i + 1)) + \n",
    "        \"\\n\")\n",
    "    print(row)\n",
    "\n",
    "my_func(27)"
   ]
  },
  {
   "cell_type": "markdown",
   "metadata": {},
   "source": [
    "## Uppgift 3 (3p)\n",
    "Skriv en funktion som tar in en radie och en höjd som inparametrar och som returnerar volymen av en\n",
    "cylinder. Volymen för en cylinder är:\n",
    "Låt användaren mata in en radie och en höjd och kör funktionen. Tänk på att ta med lämplig felhantering."
   ]
  },
  {
   "cell_type": "code",
   "execution_count": 3,
   "metadata": {},
   "outputs": [
    {
     "data": {
      "text/plain": [
       "282.7433388230814"
      ]
     },
     "execution_count": 3,
     "metadata": {},
     "output_type": "execute_result"
    }
   ],
   "source": [
    "import math\n",
    "\n",
    "def volume(radius, height):\n",
    "    if not isinstance(radius, int):\n",
    "        raise TypeError(\"Must be an int\")\n",
    "    if not isinstance(height, int):\n",
    "        raise TypeError(\"Must be an int\")\n",
    "    calc = math.pi * radius**2 * height\n",
    "    return calc\n",
    "\n",
    "volume(3, 10)\n"
   ]
  },
  {
   "cell_type": "code",
   "execution_count": 11,
   "metadata": {},
   "outputs": [
    {
     "name": "stdout",
     "output_type": "stream",
     "text": [
      "\n",
      "\n",
      "1\n",
      "\n",
      "2\n",
      "2\n",
      "\n",
      "3\n",
      "3\n",
      "3\n",
      "\n",
      "4\n",
      "4\n",
      "4\n",
      "4\n"
     ]
    }
   ],
   "source": [
    "for i in range(5):\n",
    "    print(\"\")\n",
    "    for j in range(i):\n",
    "        print(i)"
   ]
  },
  {
   "cell_type": "markdown",
   "metadata": {},
   "source": [
    "## Uppgift 4 (3p)\n",
    "Läs in en textfil som heter bamba.txt och innehåller:"
   ]
  },
  {
   "cell_type": "code",
   "execution_count": 9,
   "metadata": {},
   "outputs": [
    {
     "name": "stdout",
     "output_type": "stream",
     "text": [
      " v42\n",
      "\n",
      "mån Chili sin carne\n",
      "\n",
      "tis Pannkakor\n",
      "\n",
      "ons Ã„rtsoppa\n",
      "\n",
      "tors Kebab\n",
      "\n",
      "fre Vegetarisk lasagne\n"
     ]
    }
   ],
   "source": [
    "\n",
    "with open (\"../Data/bamba.txt\", \"r\") as f:\n",
    "    lines = f.readlines()\n",
    "    \n",
    "weekdays = [\"\",\"mån\", \"tis\", \"ons\", \"tors\", \"fre\"]\n",
    "both = [weekdays, lines]\n",
    "\n",
    "for i in zip(weekdays, lines): # *both funkar också\n",
    "    print(*i)\n"
   ]
  },
  {
   "cell_type": "markdown",
   "metadata": {},
   "source": [
    "## Uppgift 5 (4p)\n",
    "Skapa en funktion som tar in en summa pengar. Den ska printa ut en representation av sedlar och mynt som\n",
    "representerar summan.\n",
    "Exempel 3214 ska ge:"
   ]
  },
  {
   "cell_type": "code",
   "execution_count": 131,
   "metadata": {},
   "outputs": [
    {
     "name": "stdout",
     "output_type": "stream",
     "text": [
      " Tusenlapp: 2 \n",
      " Tvåhundralapp: 5 \n",
      " Tiokrona: 10 \n",
      " Enkrona: 1\n"
     ]
    }
   ],
   "source": [
    "def money_splitter(number):\n",
    "    tusenlappar = 0\n",
    "    tvåhundralapp = 0\n",
    "    tiokrona = 0\n",
    "    enkrona = 0\n",
    "    while number > 0:\n",
    "        if number >= 1000:\n",
    "            number -= 1000\n",
    "            tusenlappar += 1\n",
    "        if number > 200:\n",
    "            number -= 200\n",
    "            tvåhundralapp += 1\n",
    "        if number < 200:\n",
    "            number -= 10\n",
    "            tiokrona += 1\n",
    "        if number < 10:\n",
    "            number -= 1\n",
    "            enkrona += 1\n",
    "            \n",
    "    \n",
    "    return print(f\" Tusenlapp: {tusenlappar} \\n Tvåhundralapp: {tvåhundralapp} \\n Tiokrona: {tiokrona} \\n Enkrona: {enkrona}\")\n",
    "\n",
    "money_splitter(3100)"
   ]
  },
  {
   "cell_type": "code",
   "execution_count": 132,
   "metadata": {},
   "outputs": [
    {
     "name": "stdout",
     "output_type": "stream",
     "text": [
      "Tusenlapp: 3 \n",
      "Tvåhundralapp: 2 \n",
      "Tiokrona: 5 \n",
      "Enkrona: 4\n"
     ]
    }
   ],
   "source": [
    "def money_splitter(money: int): # Defining function \n",
    "    tusenlapp , tvåhundralapp, tiokrona, enkrona = 0, 0, 0, 0 # Setting variables for all the different currenceys\n",
    "\n",
    "    while 1000 <= money: # While loop that goes through 1000 currencey\n",
    "        tusenlapp += 1 # adds one to variable tusenlapp.\n",
    "        money -= 1000 # removes 1000 from money\n",
    "    while 200 <= money:\n",
    "        tvåhundralapp += 1\n",
    "        money -= 200\n",
    "    while 10 <= money:\n",
    "        tiokrona += 1\n",
    "        money -= 10\n",
    "    while 1 <= money:\n",
    "        enkrona += 1\n",
    "        money -= 1\n",
    "\n",
    "    return print(f\"Tusenlapp: {tusenlapp} \\nTvåhundralapp: {tvåhundralapp} \\nTiokrona: {tiokrona} \\nEnkrona: {enkrona}\")\n",
    "\n",
    "#Calling the function\n",
    "money_splitter(3454)"
   ]
  },
  {
   "cell_type": "markdown",
   "metadata": {},
   "source": [
    "## 6.\n",
    " Du har följande kod: kolla pdf"
   ]
  },
  {
   "cell_type": "code",
   "execution_count": 2,
   "metadata": {},
   "outputs": [
    {
     "name": "stdout",
     "output_type": "stream",
     "text": [
      "Ada owns:\n",
      "[Dog: Snoopy, Dog: Pluto]\n",
      "[Fish: Fishy, Fish: Buppy]\n",
      "Beda owns:\n",
      "[Dog: Barkly]\n"
     ]
    }
   ],
   "source": [
    "class Animal:\n",
    "    def __init__(self, name):\n",
    "        self.name = name\n",
    "    def __str__(self):\n",
    "        return f\"Animal {self.name}\"\n",
    "        \n",
    "class Dog(Animal):\n",
    "    # notera att __init__ är nedärvd\n",
    "    def __repr__(self):\n",
    "        return f\"Dog: {self.name}\"\n",
    "\n",
    "class Fish(Animal):\n",
    "    def __repr__(self):\n",
    "        return f\"Fish: {self.name}\"\n",
    "\n",
    "#-------------------------------UPPGIFTEN------------------------------------\n",
    "\n",
    "class PetOwner:\n",
    "    def __init__(self, name: str, dogs: list = [], fishes: list = []):\n",
    "        self.name = name\n",
    "        self.dogs = dogs\n",
    "        self.fishes = fishes\n",
    "    \n",
    "    @property\n",
    "    def name(self):\n",
    "        return self._name\n",
    "\n",
    "    @name.setter\n",
    "    def name(self, name):\n",
    "        if type(name) != str:\n",
    "            raise TypeError(f\"Name must be a string, not {type(name).__name__}\")\n",
    "        if name.strip() == \"\":\n",
    "            raise ValueError(f\"Name must contain letters, \\\"{name}\\\" not accepted\")\n",
    "        self._name = name\n",
    "\n",
    "    @property\n",
    "    def dogs(self):\n",
    "        return self._dogs\n",
    "\n",
    "    @dogs.setter\n",
    "    def dogs(self, dog_names):\n",
    "        # ----- error handling for dog name list -----\n",
    "        if type(dog_names) != list:\n",
    "            raise TypeError(f\"Dogs must be a list of dog names, not {type(dog_names).__name__}\")\n",
    "        temp_list = [] # creating temp list to store dogs in\n",
    "        for name in dog_names:\n",
    "            # ----- error handling for names in list -----\n",
    "            if type(name) != str:\n",
    "                raise TypeError(f\"Names must be a string, not {type(name).__name__} (\\\"{name}\\\")\")\n",
    "            if name.strip() == \"\":\n",
    "                raise ValueError(f\"Names must contain letters, \\\"{name}\\\" not accepted\")\n",
    "            temp_list.append(Dog(name)) # add Dog with name {name} to temp list\n",
    "        self._dogs = temp_list # set dogs to created list of dogs\n",
    "\n",
    "    @property\n",
    "    def fishes(self):\n",
    "        return self._fishes\n",
    "\n",
    "    @fishes.setter\n",
    "    def fishes(self, fish_names):\n",
    "        # ----- error handling for fish name list -----\n",
    "        if type(fish_names) != list:\n",
    "            raise TypeError(f\"Fishes must be a list of fish names, not {type(fish_names).__name__}\")\n",
    "        temp_list = [] # creating temp list to store fishes in\n",
    "        for name in fish_names:\n",
    "            # ----- error handling for names in list -----\n",
    "            if type(name) != str:\n",
    "                raise TypeError(f\"Names must be a string, not {type(name).__name__} (\\\"{name}\\\")\")\n",
    "            if name.strip() == \"\":\n",
    "                raise ValueError(f\"Names must contain letters, \\\"{name}\\\" not accepted\")\n",
    "            temp_list.append(Fish(name)) # add Fish with name {name} to temp list\n",
    "        self._fishes = temp_list # set fishes to created list of fishes\n",
    "\n",
    "    def __str__(self):\n",
    "        print_string = f\"{self.name} owns:\"\n",
    "        if self.dogs != []: # if owner has at least one dog\n",
    "            print_string += f\"\\n{self.dogs}\"\n",
    "        if self.fishes != []: # if owner has at least one fish\n",
    "            print_string += f\"\\n{self.fishes}\"\n",
    "        return print_string\n",
    "\n",
    "owner1 = PetOwner(\"Ada\",[\"Snoopy\", \"Pluto\"], [\"Fishy\", \"Buppy\"])\n",
    "owner2 = PetOwner(\"Beda\", [\"Barkly\"] )\n",
    "print(owner1)\n",
    "print(owner2)"
   ]
  },
  {
   "cell_type": "code",
   "execution_count": 3,
   "metadata": {},
   "outputs": [
    {
     "name": "stdout",
     "output_type": "stream",
     "text": [
      "Ada owns:\n",
      "[Dog: Snoopy, Dog: Pluto]\n",
      "[Fish: Fishy, Fish: Buppy]\n",
      "Beda owns:\n",
      "[Dog: Barkly]\n"
     ]
    }
   ],
   "source": [
    "owner1 = PetOwner(\"Ada\",[\"Snoopy\", \"Pluto\"], [\"Fishy\", \"Buppy\"])\n",
    "owner2 = PetOwner(\"Beda\", [\"Barkly\"] )\n",
    "\n",
    "print(owner1)\n",
    "print(owner2)"
   ]
  }
 ],
 "metadata": {
  "kernelspec": {
   "display_name": "Python 3.9.13 ('Python-Daniel-Nilsson-97nbzLRS')",
   "language": "python",
   "name": "python3"
  },
  "language_info": {
   "codemirror_mode": {
    "name": "ipython",
    "version": 3
   },
   "file_extension": ".py",
   "mimetype": "text/x-python",
   "name": "python",
   "nbconvert_exporter": "python",
   "pygments_lexer": "ipython3",
   "version": "3.9.13"
  },
  "orig_nbformat": 4,
  "vscode": {
   "interpreter": {
    "hash": "bc050669da3b02a0dab5c74fea36723f6f6f98ad170411b0b9177bcf895e45d7"
   }
  }
 },
 "nbformat": 4,
 "nbformat_minor": 2
}
