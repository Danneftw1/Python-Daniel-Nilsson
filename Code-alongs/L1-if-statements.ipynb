{
 "cells": [
  {
   "cell_type": "markdown",
   "metadata": {},
   "source": [
    "## if-statements"
   ]
  },
  {
   "cell_type": "code",
   "execution_count": 9,
   "metadata": {},
   "outputs": [
    {
     "name": "stdout",
     "output_type": "stream",
     "text": [
      "du är 23 år gammal, gränsen är 18\n",
      "Försvinn gamling, jag gillar bara små pojkar\n"
     ]
    }
   ],
   "source": [
    "# Behövs ändras om till int eftersom den ses som en string annars\n",
    "# kollar om värdet på det du skriver in är mindre än 18 eller inte\n",
    "\n",
    "age = int (input (\"Hur gammal är du?\"))\n",
    "\n",
    "if age < 18:\n",
    "    print(f\"du är {age} år gammal, gränsen är 18\")\n",
    "    print (\"Försvinn din underåriga pest, vi vill bara ha vuxna människor här!\")\n",
    "else:\n",
    "    print (\"välkommen in till puben!\")\n"
   ]
  },
  {
   "cell_type": "markdown",
   "metadata": {},
   "source": []
  },
  {
   "cell_type": "code",
   "execution_count": 10,
   "metadata": {},
   "outputs": [
    {
     "name": "stdout",
     "output_type": "stream",
     "text": [
      "du får åka balder\n"
     ]
    }
   ],
   "source": [
    "age = 15\n",
    "height = 135\n",
    "\n",
    "# 'and' och 'or' ser ut som && i andra programmeringsspråk\n",
    "\n",
    "if age > 10 and height > 130:\n",
    "    print(\"du får åka balder\")\n",
    "else:\n",
    "    print(\"du får inte åka balder\")"
   ]
  },
  {
   "cell_type": "code",
   "execution_count": 12,
   "metadata": {},
   "outputs": [
    {
     "name": "stdout",
     "output_type": "stream",
     "text": [
      "du får åka balder\n"
     ]
    }
   ],
   "source": [
    "age = 15\n",
    "height = 210\n",
    "\n",
    "if age > 10 and 130 < height <= 210:\n",
    "    print(\"du får åka balder\")\n",
    "else:\n",
    "    print(\"du får inte åka balder\")"
   ]
  },
  {
   "cell_type": "markdown",
   "metadata": {},
   "source": [
    "### Modulo operator %"
   ]
  },
  {
   "cell_type": "code",
   "execution_count": 23,
   "metadata": {},
   "outputs": [
    {
     "name": "stdout",
     "output_type": "stream",
     "text": [
      "jämnt tal\n"
     ]
    }
   ],
   "source": [
    "number = 6543\n",
    "\n",
    "# 2 equal signs => checks if left is equal to right\n",
    "if number % 1 == 0:\n",
    "    print(\"ojämnt tal\")"
   ]
  },
  {
   "cell_type": "code",
   "execution_count": 22,
   "metadata": {},
   "outputs": [
    {
     "name": "stdout",
     "output_type": "stream",
     "text": [
      "3==4: False\n",
      "3==3: True\n",
      "3>=4: True\n",
      "3!=3: False\n"
     ]
    }
   ],
   "source": [
    "# f gör att du kan lägga in variabler som är inom curly brackets\n",
    "print(f\"3==4: {3 == 4}\")\n",
    "print(f\"3==3: {3 == 3}\")  # equal operator\n",
    "print(f\"3>=4: {3 >= 3}\")  # larger than or equal operator\n",
    "print(f\"3!=3: {3 != 3}\")  # not equal operator"
   ]
  },
  {
   "cell_type": "markdown",
   "metadata": {},
   "source": [
    "## if -> elif -> else"
   ]
  },
  {
   "cell_type": "code",
   "execution_count": 5,
   "metadata": {},
   "outputs": [
    {
     "name": "stdout",
     "output_type": "stream",
     "text": [
      "weight=56.0\n",
      "give patient 100mg\n"
     ]
    }
   ],
   "source": [
    "\n",
    "weight = float (input(\"Enter patients weight(kg): \"))\n",
    "print(f\"{weight=}\")\n",
    "\n",
    "if weight < 20:\n",
    "    print (\"give patient 50mg\")\n",
    "elif weight < 40:\n",
    "    print (\"give patient 75mg\")\n",
    "else:\n",
    "    print(\"give patient 100mg\")"
   ]
  },
  {
   "cell_type": "markdown",
   "metadata": {},
   "source": [
    "## Nested if-statements"
   ]
  },
  {
   "cell_type": "code",
   "execution_count": 6,
   "metadata": {},
   "outputs": [
    {
     "name": "stdout",
     "output_type": "stream",
     "text": [
      "10 divisible by 5\n",
      "even number\n"
     ]
    }
   ],
   "source": [
    "number = 10\n",
    "\n",
    "if number % 5 == 0:\n",
    "    print(f\"{number} divisible by 5\")\n",
    "    if number % 2 == 0:\n",
    "        print(\"even number\")\n",
    "    else:\n",
    "        print(\"Odd number\")\n",
    "else:\n",
    "    print(\"Not divisible by 5\")"
   ]
  }
 ],
 "metadata": {
  "kernelspec": {
   "display_name": "Python 3.9.13 ('Python-Daniel-Nilsson-97nbzLRS')",
   "language": "python",
   "name": "python3"
  },
  "language_info": {
   "codemirror_mode": {
    "name": "ipython",
    "version": 3
   },
   "file_extension": ".py",
   "mimetype": "text/x-python",
   "name": "python",
   "nbconvert_exporter": "python",
   "pygments_lexer": "ipython3",
   "version": "3.9.13"
  },
  "orig_nbformat": 4,
  "vscode": {
   "interpreter": {
    "hash": "bc050669da3b02a0dab5c74fea36723f6f6f98ad170411b0b9177bcf895e45d7"
   }
  }
 },
 "nbformat": 4,
 "nbformat_minor": 2
}
