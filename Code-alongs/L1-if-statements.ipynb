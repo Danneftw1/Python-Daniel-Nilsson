{
 "cells": [
  {
   "cell_type": "markdown",
   "metadata": {},
   "source": [
    "## if-statements"
   ]
  },
  {
   "cell_type": "code",
   "execution_count": 9,
   "metadata": {},
   "outputs": [
    {
     "name": "stdout",
     "output_type": "stream",
     "text": [
      "du är 23 år gammal, gränsen är 18\n",
      "Försvinn gamling, jag gillar bara små pojkar\n"
     ]
    }
   ],
   "source": [
    "# Behövs ändras om till int eftersom den ses som en string annars\n",
    "# kollar om värdet på det du skriver in är mindre än 18 eller inte\n",
    "\n",
    "age = int (input (\"Hur gammal är du lille pojk?\"))\n",
    "\n",
    "if age > 18:\n",
    "    print(f\"du är {age} år gammal, gränsen är 18\")\n",
    "    print (\"Försvinn gamling, jag gillar bara små pojkar\")\n",
    "else:\n",
    "    print (\"välkommen in till pappas grotta ;)\")\n"
   ]
  },
  {
   "cell_type": "markdown",
   "metadata": {},
   "source": []
  },
  {
   "cell_type": "code",
   "execution_count": 10,
   "metadata": {},
   "outputs": [
    {
     "name": "stdout",
     "output_type": "stream",
     "text": [
      "du får åka balder\n"
     ]
    }
   ],
   "source": [
    "age = 15\n",
    "height = 135\n",
    "\n",
    "if age > 10 and height > 130:\n",
    "    print(\"du får åka balder\")\n",
    "else:\n",
    "    print(\"du får inte åka balder\")"
   ]
  },
  {
   "cell_type": "code",
   "execution_count": 12,
   "metadata": {},
   "outputs": [
    {
     "name": "stdout",
     "output_type": "stream",
     "text": [
      "du får åka balder\n"
     ]
    }
   ],
   "source": [
    "age = 15\n",
    "height = 210\n",
    "\n",
    "if age > 10 and 130 < height <= 210:\n",
    "    print(\"du får åka balder\")\n",
    "else:\n",
    "    print(\"du får inte åka balder\")"
   ]
  },
  {
   "cell_type": "markdown",
   "metadata": {},
   "source": [
    "### Modulo operator %"
   ]
  },
  {
   "cell_type": "code",
   "execution_count": 17,
   "metadata": {},
   "outputs": [],
   "source": [
    "number = 42\n",
    "\n",
    "# 2 equal signs => checks if left is equal to right\n",
    "if number % 2 == 0:\n",
    "    print(\"jämnt tal\")"
   ]
  },
  {
   "cell_type": "code",
   "execution_count": 22,
   "metadata": {},
   "outputs": [
    {
     "name": "stdout",
     "output_type": "stream",
     "text": [
      "3==4: False\n",
      "3==3: True\n",
      "3>=4: True\n",
      "3!=3: False\n"
     ]
    }
   ],
   "source": [
    "# f gör att du kan lägga in variabler som är inom curly brackets\n",
    "print(f\"3==4: {3 == 4}\")\n",
    "print(f\"3==3: {3 == 3}\")\n",
    "print(f\"3>=4: {3 >= 3}\")\n",
    "print(f\"3!=3: {3 != 3}\")"
   ]
  }
 ],
 "metadata": {
  "kernelspec": {
   "display_name": "Python 3.9.13 64-bit",
   "language": "python",
   "name": "python3"
  },
  "language_info": {
   "codemirror_mode": {
    "name": "ipython",
    "version": 3
   },
   "file_extension": ".py",
   "mimetype": "text/x-python",
   "name": "python",
   "nbconvert_exporter": "python",
   "pygments_lexer": "ipython3",
   "version": "3.9.13"
  },
  "orig_nbformat": 4,
  "vscode": {
   "interpreter": {
    "hash": "167998f8c3a05581fbd9ccdd36f349f3264dd01bf05c9e030bf6452b394f7000"
   }
  }
 },
 "nbformat": 4,
 "nbformat_minor": 2
}
