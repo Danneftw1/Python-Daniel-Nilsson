{
 "cells": [
  {
   "cell_type": "markdown",
   "metadata": {},
   "source": [
    "## Access elements"
   ]
  },
  {
   "cell_type": "code",
   "execution_count": 7,
   "metadata": {},
   "outputs": [
    {
     "name": "stdout",
     "output_type": "stream",
     "text": [
      "['pizza', 'lasagne', 'french fries', 'potatoes', 'chocolate', 'grapes']\n",
      "nice_foods[0]='pizza'\n",
      "nice_foods[-1]='grapes'\n",
      "nice_foods[5]='grapes'\n"
     ]
    }
   ],
   "source": [
    "# creates a new list with some elements (things inside)\n",
    "nice_foods = [\"pizza\", \"lasagne\", \"french fries\", \"potatoes\", \"chocolate\", \"grapes\"]\n",
    "\n",
    "print(nice_foods)\n",
    "# get first element in list\n",
    "print(f\"{nice_foods[0]=}\")\n",
    "# gets last element in list\n",
    "print(f\"{nice_foods[-1]=}\") #kan räkna baklänges\n",
    "print(f\"{nice_foods[5]=}\") #-1 är samma som om att vi skriver 5"
   ]
  }
 ],
 "metadata": {
  "kernelspec": {
   "display_name": "Python 3.9.13 ('Python-Daniel-Nilsson-97nbzLRS')",
   "language": "python",
   "name": "python3"
  },
  "language_info": {
   "codemirror_mode": {
    "name": "ipython",
    "version": 3
   },
   "file_extension": ".py",
   "mimetype": "text/x-python",
   "name": "python",
   "nbconvert_exporter": "python",
   "pygments_lexer": "ipython3",
   "version": "3.9.13"
  },
  "orig_nbformat": 4,
  "vscode": {
   "interpreter": {
    "hash": "bc050669da3b02a0dab5c74fea36723f6f6f98ad170411b0b9177bcf895e45d7"
   }
  }
 },
 "nbformat": 4,
 "nbformat_minor": 2
}
