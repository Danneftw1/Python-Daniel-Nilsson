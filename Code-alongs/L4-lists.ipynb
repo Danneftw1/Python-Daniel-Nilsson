{
 "cells": [
  {
   "cell_type": "markdown",
   "metadata": {},
   "source": [
    "## Access elements"
   ]
  },
  {
   "cell_type": "code",
   "execution_count": 9,
   "metadata": {},
   "outputs": [
    {
     "name": "stdout",
     "output_type": "stream",
     "text": [
      "['pizza', 'lasagne', 'french fries', 'potatoes', 'chocolate', 'grapes']\n",
      "nice_foods[0]='pizza'\n",
      "nice_foods[-1]='grapes'\n",
      "nice_foods[5]='grapes'\n",
      "nice_foods[-3]='potatoes'\n"
     ]
    }
   ],
   "source": [
    "# creates a new list with some elements (things inside)\n",
    "nice_foods = [\"pizza\", \"lasagne\", \"french fries\", \"potatoes\", \"chocolate\", \"grapes\"]\n",
    "\n",
    "print(nice_foods)\n",
    "# get first element in list\n",
    "print(f\"{nice_foods[0]=}\")\n",
    "# gets last element in list\n",
    "print(f\"{nice_foods[-1]=}\") #kan räkna baklänges\n",
    "print(f\"{nice_foods[5]=}\") #-1 är samma som om att vi skriver 5\n",
    "\n",
    "\n",
    "# element på index 3\n",
    "print(f\"{nice_foods[-3]=}\")"
   ]
  },
  {
   "cell_type": "markdown",
   "metadata": {},
   "source": [
    "## Slicing"
   ]
  },
  {
   "cell_type": "code",
   "execution_count": 16,
   "metadata": {},
   "outputs": [
    {
     "name": "stdout",
     "output_type": "stream",
     "text": [
      "['pizza', 'lasagne', 'french fries', 'potatoes', 'chocolate', 'grapes']\n",
      "nice_foods[1:4]=['lasagne', 'french fries', 'potatoes']\n",
      "nice_foods[:-1]=['pizza', 'lasagne', 'french fries', 'potatoes', 'chocolate']\n",
      "nice_foods[:4]=['pizza', 'lasagne', 'french fries', 'potatoes']\n",
      "nice_foods[::-1]=['grapes', 'chocolate', 'potatoes', 'french fries', 'lasagne', 'pizza']\n"
     ]
    }
   ],
   "source": [
    "print(nice_foods)\n",
    "print(f\"{nice_foods[1:4]=}\")\n",
    "print(f\"{nice_foods[:-1]=}\") # 0 to -2 \n",
    "print(f\"{nice_foods[:4]=}\") # 0,1,2,3\n",
    "print(f\"{nice_foods[::-1]=}\") # reverses the list\n",
    "print(f\"{nice_foods[::-2]=}\") # reverses the list and removes every other element"
   ]
  },
  {
   "cell_type": "code",
   "execution_count": 19,
   "metadata": {},
   "outputs": [
    {
     "name": "stdout",
     "output_type": "stream",
     "text": [
      "['chocolate', 'french fries', 'grapes', 'lasagne', 'pizza', 'potatoes']\n",
      "[-5, 1, 2, 5]\n"
     ]
    }
   ],
   "source": [
    "# sorting by first letter\n",
    "nice_foods.sort()\n",
    "print(nice_foods)\n",
    "\n",
    "numbers = [2,1,5,-5]\n",
    "numbers.sort() # sorting ascending\n",
    "\n",
    "print(numbers)"
   ]
  },
  {
   "cell_type": "markdown",
   "metadata": {},
   "source": [
    "## For-loop with enumerate"
   ]
  },
  {
   "cell_type": "code",
   "execution_count": 24,
   "metadata": {},
   "outputs": [
    {
     "name": "stdout",
     "output_type": "stream",
     "text": [
      "['chocolate', 'french fries', 'grapes', 'lasagne', 'pizza', 'potatoes']\n",
      "1. chocolate\n",
      "2. french fries\n",
      "3. grapes\n",
      "4. lasagne\n",
      "5. pizza\n",
      "6. potatoes\n"
     ]
    },
    {
     "data": {
      "text/plain": [
       "'\\nfor i in range(len(nice_foods)):\\n    print(f\"{i}. {nice_foods[i]}\")\\n\\n    # enumerate är bättre än att skriva på det här sättet\\n'"
      ]
     },
     "execution_count": 24,
     "metadata": {},
     "output_type": "execute_result"
    }
   ],
   "source": [
    "print(nice_foods)\n",
    "\n",
    "# enumerate -> (index, element) in list\n",
    "for i, food in enumerate(nice_foods, 1):\n",
    "    print(f\"{i}. {food}\")\n",
    "\n",
    "\"\"\"\n",
    "for i in range(len(nice_foods)):\n",
    "    print(f\"{i}. {nice_foods[i]}\")\n",
    "\n",
    "    # enumerate är bättre än att skriva på det här sättet\n",
    "\"\"\"; #; gör att den inte skrivs ut i printen"
   ]
  },
  {
   "cell_type": "markdown",
   "metadata": {},
   "source": [
    "## list comprehension"
   ]
  },
  {
   "cell_type": "code",
   "execution_count": 3,
   "metadata": {},
   "outputs": [
    {
     "data": {
      "text/plain": [
       "[0, 1, 8, 27, 64, 125, 216, 343, 512, 729]"
      ]
     },
     "execution_count": 3,
     "metadata": {},
     "output_type": "execute_result"
    }
   ],
   "source": [
    "# \"normal way\" using append\n",
    "\n",
    "cubes = []\n",
    "\n",
    "for i in range(10):\n",
    "    cubes.append(i**3) # upphöjt till:\n",
    "\n",
    "cubes"
   ]
  },
  {
   "cell_type": "code",
   "execution_count": 28,
   "metadata": {},
   "outputs": [
    {
     "data": {
      "text/plain": [
       "[0, 1, 8, 27, 64, 125, 216, 343, 512, 729]"
      ]
     },
     "execution_count": 28,
     "metadata": {},
     "output_type": "execute_result"
    }
   ],
   "source": [
    "# list comprehension\n",
    "\n",
    "cubes = [i**3 for i in range(10)]\n",
    "cubes\n",
    "\n",
    "# samma som ovan"
   ]
  },
  {
   "cell_type": "code",
   "execution_count": 32,
   "metadata": {},
   "outputs": [
    {
     "data": {
      "text/plain": [
       "[1, 27, 125, 343, 729]"
      ]
     },
     "execution_count": 32,
     "metadata": {},
     "output_type": "execute_result"
    }
   ],
   "source": [
    "# cubes every odd number\n",
    "\n",
    "cubes_odd = [i**3 for i in range(10) if i%2!=0]\n",
    "cubes_odd"
   ]
  },
  {
   "cell_type": "code",
   "execution_count": 2,
   "metadata": {},
   "outputs": [
    {
     "data": {
      "text/plain": [
       "[1, 1, 6, 4, 2, 3, 2, 1, 5, 1]"
      ]
     },
     "execution_count": 2,
     "metadata": {},
     "output_type": "execute_result"
    }
   ],
   "source": [
    "import random as rnd\n",
    "# dice list\n",
    "dices = [rnd.randint(1,6) for _ in range(10)] # convension to use _ when not using the loop variable\n",
    "dices"
   ]
  },
  {
   "cell_type": "markdown",
   "metadata": {},
   "source": [
    "## lists in list - nested lists"
   ]
  },
  {
   "cell_type": "code",
   "execution_count": 1,
   "metadata": {},
   "outputs": [
    {
     "name": "stdout",
     "output_type": "stream",
     "text": [
      "grades[1]=['B', 20]\n",
      "grades[1][0]='B'\n",
      "grades[1][1]=20\n",
      "[['A', 25]]\n"
     ]
    }
   ],
   "source": [
    "grades = [[\"A\", 25], [\"B\", 20],[\"F\", 5]]\n",
    "\n",
    "print(f\"{grades[1]=}\")\n",
    "print(f\"{grades[1][0]=}\")\n",
    "print(f\"{grades[1][1]=}\")\n",
    "print(f\"{grades[:1]}\")"
   ]
  }
 ],
 "metadata": {
  "kernelspec": {
   "display_name": "Python 3.9.13 ('Python-Daniel-Nilsson-dM3wHzD4')",
   "language": "python",
   "name": "python3"
  },
  "language_info": {
   "codemirror_mode": {
    "name": "ipython",
    "version": 3
   },
   "file_extension": ".py",
   "mimetype": "text/x-python",
   "name": "python",
   "nbconvert_exporter": "python",
   "pygments_lexer": "ipython3",
   "version": "3.9.13"
  },
  "orig_nbformat": 4,
  "vscode": {
   "interpreter": {
    "hash": "c3a8699ff25c9cbc0813ce7fc610555f4abadcd389eeaf7d4f4aa58333d28396"
   }
  }
 },
 "nbformat": 4,
 "nbformat_minor": 2
}
