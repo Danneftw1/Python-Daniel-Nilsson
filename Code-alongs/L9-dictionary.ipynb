{
 "cells": [
  {
   "cell_type": "markdown",
   "metadata": {},
   "source": [
    "## Dictionary\n",
    "\n",
    "- datastructure that stores data in key: value pairs"
   ]
  },
  {
   "cell_type": "code",
   "execution_count": 5,
   "metadata": {},
   "outputs": [
    {
     "name": "stdout",
     "output_type": "stream",
     "text": [
      "person dictionary {'name': 'Daniel', 'age': 25, 'work': 'Student', 'interests': ['drums', 'programming', 'music', 'cars'], 'phone': 112}\n",
      "persons work: Student\n",
      "persons age: 25\n",
      "persons interests: ['drums', 'programming']\n",
      "Daniel Likes drums\n",
      "Daniel Likes programming\n",
      "Daniel Likes music\n",
      "Daniel Likes cars\n"
     ]
    }
   ],
   "source": [
    "# create a dictionary with 'dict' keyword\n",
    "# Can save other dictionaries aswell inside a dictionary\n",
    "\n",
    "per = dict(\n",
    "    name = \"Daniel\",\n",
    "    age = 25, \n",
    "    work = \"Student\", \n",
    "    interests = [\"drums\", \"programming\", \"music\", \"cars\"],\n",
    "    phone = 112\n",
    ")\n",
    "\n",
    "print(f\"person dictionary {per}\")\n",
    "print(f\"persons work: {per['work']}\") # needs to use different \"\" and '' for the code to work\n",
    "print(f\"persons age: {per['age']}\")\n",
    "print(f\"persons interests: {per['interests'][:2]}\") # can use list operations\n",
    "\n",
    "for interest in per[\"interests\"]:\n",
    "    print (f\"Daniel Likes {interest}\")"
   ]
  },
  {
   "cell_type": "code",
   "execution_count": 8,
   "metadata": {},
   "outputs": [
    {
     "name": "stdout",
     "output_type": "stream",
     "text": [
      "{'assign': 'assigns a value to a variable', 'dictionary': 'datastructure to store data in key-value pairs', 'method:': 'a function bound to an object'}\n",
      "Vi ska lära oss de här glosorna \n",
      "\n",
      "assign  -  assigns a value to a variable\n",
      "dictionary  -  datastructure to store data in key-value pairs\n",
      "method:  -  a function bound to an object\n"
     ]
    }
   ],
   "source": [
    "# create dictionary with curly braces {}\n",
    "\n",
    "words = {\"assign\": \"assigns a value to a variable\", \n",
    "        \"dictionary\": \"datastructure to store data in key-value pairs\", \n",
    "        \"method:\": \"a function bound to an object\"\n",
    "}\n",
    "\n",
    "print(words)\n",
    "print(\"Vi ska lära oss de här glosorna \\n\")\n",
    "\n",
    "for key in words: # loopar genom nycklarna i dictionary\n",
    "    print(key, \" - \", words[key])"
   ]
  },
  {
   "cell_type": "code",
   "execution_count": 13,
   "metadata": {},
   "outputs": [
    {
     "name": "stdout",
     "output_type": "stream",
     "text": [
      "Glorsor \n",
      "\n",
      "assign               assigns a value to a variable\n",
      "dictionary           datastructure to store data in key-value pairs\n",
      "method:              a function bound to an object\n",
      ".................... x\n"
     ]
    }
   ],
   "source": [
    "print(\"Glorsor \\n\")\n",
    "for key, value in words.items():\n",
    "    print(f\"{key:<20} {value}\") # :<20 -> right align with width 20\n",
    "\n",
    "print(\".\"*20, \"x\")"
   ]
  },
  {
   "cell_type": "code",
   "execution_count": 17,
   "metadata": {},
   "outputs": [
    {
     "name": "stdout",
     "output_type": "stream",
     "text": [
      "{'F': 0, 'E': 10, 'D': 20, 'C': 30, 'B': 40, 'A': 50}\n"
     ]
    },
    {
     "data": {
      "text/plain": [
       "{'F': '<10',\n",
       " 'E': 10,\n",
       " 'D': 20,\n",
       " 'C': 30,\n",
       " 'B': 40,\n",
       " 'A': 50,\n",
       " 'Course': 'Programmering 1'}"
      ]
     },
     "execution_count": 17,
     "metadata": {},
     "output_type": "execute_result"
    }
   ],
   "source": [
    "# F < 10, E: 10, D: 20, C: 30, B: 40, A: 50\n",
    "\n",
    "grade_limit = {}\n",
    "\n",
    "for i, character in enumerate(\"ABCDEF\"[::-1]):\n",
    "    grade_limit[character] = i *10\n",
    "\n",
    "print(grade_limit)\n",
    "\n",
    "# assigns a new value that is associated with the key F\n",
    "grade_limit[\"F\"] = \"<10\"\n",
    "grade_limit[\"Course\"] = \"Programmering 1\"\n",
    "\n",
    "grade_limit"
   ]
  },
  {
   "cell_type": "markdown",
   "metadata": {},
   "source": [
    "## Dictionary comprehension"
   ]
  },
  {
   "cell_type": "code",
   "execution_count": 27,
   "metadata": {},
   "outputs": [
    {
     "name": "stdout",
     "output_type": "stream",
     "text": [
      "grade_limit={'F': 0, 'E': 10, 'D': 20, 'C': 30, 'B': 40, 'A': 50}\n",
      "scores=[39, 59, 34, 45, 23, 36, 37, 46, 10, 49, 52, 21, 24, 40, 50, 23, 58, 19, 25, 44]\n",
      "{'F': 0, 'E': 0, 'D': 0, 'C': 0, 'B': 0, 'A': 0}\n",
      "{'F': 0, 'E': 2, 'D': 5, 'C': 4, 'B': 5, 'A': 4}\n"
     ]
    }
   ],
   "source": [
    "import random as rnd\n",
    "\n",
    "grade_limit = {grade: i*10 for i, grade in enumerate(\"ABCDEF\"[::-1])}\n",
    "\n",
    "def generate_scores(number_students):\n",
    "    rnd.seed(1337)\n",
    "    scores = [rnd.randint(0,60) for _ in range (number_students)]\n",
    "    return scores\n",
    "\n",
    "scores = generate_scores(20)\n",
    "\n",
    "print(f\"{grade_limit=}\")\n",
    "print(f\"{scores=}\")\n",
    "\n",
    "# number of students in each grade category\n",
    "\n",
    "students_in_grade = {key: 0 for key in grade_limit}\n",
    "\n",
    "print(students_in_grade)\n",
    "\n",
    "for score in scores:\n",
    "    for grade, limit in grade_limit.items():\n",
    "        if limit <= score < limit+10:\n",
    "            students_in_grade[grade] += 1\n",
    "\n",
    "print(students_in_grade)"
   ]
  },
  {
   "cell_type": "code",
   "execution_count": 28,
   "metadata": {},
   "outputs": [
    {
     "data": {
      "text/plain": [
       "20"
      ]
     },
     "execution_count": 28,
     "metadata": {},
     "output_type": "execute_result"
    }
   ],
   "source": [
    "total_students = 0\n",
    "\n",
    "for _, number_students in students_in_grade.items():\n",
    "    total_students += number_students\n",
    "\n",
    "total_students"
   ]
  }
 ],
 "metadata": {
  "kernelspec": {
   "display_name": "Python 3.9.13 ('Python-Daniel-Nilsson-dM3wHzD4')",
   "language": "python",
   "name": "python3"
  },
  "language_info": {
   "codemirror_mode": {
    "name": "ipython",
    "version": 3
   },
   "file_extension": ".py",
   "mimetype": "text/x-python",
   "name": "python",
   "nbconvert_exporter": "python",
   "pygments_lexer": "ipython3",
   "version": "3.9.13"
  },
  "orig_nbformat": 4,
  "vscode": {
   "interpreter": {
    "hash": "c3a8699ff25c9cbc0813ce7fc610555f4abadcd389eeaf7d4f4aa58333d28396"
   }
  }
 },
 "nbformat": 4,
 "nbformat_minor": 2
}
