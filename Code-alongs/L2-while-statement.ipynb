{
 "cells": [
  {
   "cell_type": "markdown",
   "metadata": {},
   "source": [
    "# While loop\n",
    "\n",
    "-\"if-loop\"\n",
    "- as long as a condition is True -> the statements inside the while-loop will run.\n",
    "\n",
    "```py\n",
    "while condition: \n",
    "    statements\n",
    "    ...\n",
    "program continues here\n",
    "```"
   ]
  },
  {
   "cell_type": "code",
   "execution_count": 3,
   "metadata": {},
   "outputs": [
    {
     "name": "stdout",
     "output_type": "stream",
     "text": [
      "Hej i=0\n",
      "Hej i=1\n",
      "Hej i=2\n",
      "Hej i=3\n",
      "Program continues here\n"
     ]
    }
   ],
   "source": [
    "i = 0 \n",
    "\n",
    "while i < 4:\n",
    "    print(f\"Hej {i=}\")\n",
    "    i += 1 # adds one to i <=> i = i + 1\n",
    "print(\"Program continues here\")"
   ]
  },
  {
   "cell_type": "markdown",
   "metadata": {},
   "source": [
    "## Example - birds and oil\n",
    "\n",
    "There is an oil leakage cause the bird population in an island to 1/2 in yeach year. From start therer were 80000 bids, how many years does it take for it to have 1/10 remainning?"
   ]
  },
  {
   "cell_type": "markdown",
   "metadata": {},
   "source": [
    "## Min kod"
   ]
  },
  {
   "cell_type": "code",
   "execution_count": 7,
   "metadata": {},
   "outputs": [
    {
     "name": "stdout",
     "output_type": "stream",
     "text": [
      "1 years has gone by\n",
      "2 years has gone by\n",
      "3 years has gone by\n",
      "4 years has gone by\n"
     ]
    }
   ],
   "source": [
    "birds = 80000\n",
    "year = 1\n",
    "\n",
    "while birds >= 8000:\n",
    "    print(f\"{year} years has gone by\")\n",
    "    birds /= 2\n",
    "    year += 1"
   ]
  },
  {
   "cell_type": "markdown",
   "metadata": {},
   "source": [
    "### Kokchun egna kod"
   ]
  },
  {
   "cell_type": "code",
   "execution_count": 8,
   "metadata": {},
   "outputs": [
    {
     "name": "stdout",
     "output_type": "stream",
     "text": [
      "Year 5: number of birds 40000\n",
      "Year 5: number of birds 20000\n",
      "Year 5: number of birds 10000\n",
      "Year 5: number of birds 5000\n"
     ]
    }
   ],
   "source": [
    "birds, years = 80000, 0 # tuple unpacking\n",
    "\n",
    "limit = birds/10\n",
    "\n",
    "while birds >= limit:\n",
    "    birds /= 2\n",
    "    years += 1\n",
    "    print(f\"Year {year}: number of birds {birds:.0f}\")\n",
    "    "
   ]
  },
  {
   "cell_type": "markdown",
   "metadata": {},
   "source": [
    "## Example - Milk\n",
    "\n",
    "Hur många timmar kan mjölk stå om startvärdet på bakterier är 1.500.000 bakterier. Det ökar med 50% i timman, och blir spoiled vid 10.000.000 bakterier.\n",
    "\n",
    "## Min kod"
   ]
  },
  {
   "cell_type": "code",
   "execution_count": 11,
   "metadata": {},
   "outputs": [
    {
     "name": "stdout",
     "output_type": "stream",
     "text": [
      "your milk stood for 1 hours before it spoiled\n",
      "your milk stood for 2 hours before it spoiled\n",
      "your milk stood for 3 hours before it spoiled\n",
      "your milk stood for 4 hours before it spoiled\n",
      "your milk stood for 5 hours before it spoiled\n"
     ]
    }
   ],
   "source": [
    "bacteria = 1500000\n",
    "hours = 1\n",
    "\n",
    "while bacteria <= 10000000:\n",
    "    print(f\"your milk stood for {hours} hours before it spoiled\")\n",
    "    bacteria*=1.5\n",
    "    hours += 1\n"
   ]
  },
  {
   "cell_type": "markdown",
   "metadata": {},
   "source": [
    "## Kokchuns kod"
   ]
  },
  {
   "cell_type": "code",
   "execution_count": 19,
   "metadata": {},
   "outputs": [
    {
     "name": "stdout",
     "output_type": "stream",
     "text": [
      "[1500000.0]\n",
      "[1500000.0, 2250000.0, 3375000.0, 5062500.0, 7593750.0, 11390625.0]\n",
      "Take 5h for milk to get soured\n"
     ]
    },
    {
     "data": {
      "text/plain": [
       "Text(0.5, 1.0, 'Bacterias in milk in room temperature')"
      ]
     },
     "execution_count": 19,
     "metadata": {},
     "output_type": "execute_result"
    },
    {
     "data": {
      "image/png": "[encoded data removed]",
      "text/plain": [
       "<Figure size 640x480 with 1 Axes>"
      ]
     },
     "metadata": {},
     "output_type": "display_data"
    }
   ],
   "source": [
    "import matplotlib.pyplot as plt\n",
    "\n",
    "bacterias = 1.5e6 # 1.5 * 10^6\n",
    "factor = 1.5\n",
    "hours = 0\n",
    "sour = 1e7 # 10^7\n",
    "\n",
    "bacterias_list = [bacterias]\n",
    "print(bacterias_list)\n",
    "\n",
    "while bacterias < sour:\n",
    "    bacterias *= factor\n",
    "    hours += 1\n",
    "    bacterias_list.append(bacterias) # adds element into the list\n",
    "\n",
    "print(bacterias_list)\n",
    "print(f\"Take {hours}h for milk to get soured\")\n",
    "\n",
    "#this creates a range of objects with numbers: 0,1,2,.., hours\n",
    "hours_list = range(0, hours+1)\n",
    "\n",
    "plt.plot(hours_list, bacterias_list, 'o-') # har jag o och inget streck, får man bara prickar osv.\n",
    "plt.plot(hours_list, [sour]*(hours+1))\n",
    "plt.grid()\n",
    "plt.xlabel(\"Hours\")\n",
    "plt.ylabel(\"Number of bacterias\")\n",
    "plt.title (\"Bacterias in milk in room temperature\")"
   ]
  }
 ],
 "metadata": {
  "kernelspec": {
   "display_name": "Python 3.9.13 ('Python-Daniel-Nilsson-97nbzLRS')",
   "language": "python",
   "name": "python3"
  },
  "language_info": {
   "codemirror_mode": {
    "name": "ipython",
    "version": 3
   },
   "file_extension": ".py",
   "mimetype": "text/x-python",
   "name": "python",
   "nbconvert_exporter": "python",
   "pygments_lexer": "ipython3",
   "version": "3.9.13"
  },
  "orig_nbformat": 4,
  "vscode": {
   "interpreter": {
    "hash": "bc050669da3b02a0dab5c74fea36723f6f6f98ad170411b0b9177bcf895e45d7"
   }
  }
 },
 "nbformat": 4,
 "nbformat_minor": 2
}
