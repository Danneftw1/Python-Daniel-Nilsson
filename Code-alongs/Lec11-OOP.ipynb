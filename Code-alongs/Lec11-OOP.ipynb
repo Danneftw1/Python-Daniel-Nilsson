{
 "cells": [
  {
   "cell_type": "code",
   "execution_count": 1,
   "metadata": {},
   "outputs": [
    {
     "data": {
      "text/plain": [
       "<__main__.Person at 0x272edf3bdc0>"
      ]
     },
     "execution_count": 1,
     "metadata": {},
     "output_type": "execute_result"
    }
   ],
   "source": [
    "# created a class called Person\n",
    "class Person: \n",
    "    pass #koden gör ingenting\n",
    "\n",
    "# Instantiates an instance from othe class Person using the callable syntax ()\n",
    "person1 = Person()\n",
    "person1"
   ]
  },
  {
   "cell_type": "code",
   "execution_count": 2,
   "metadata": {},
   "outputs": [
    {
     "data": {
      "text/plain": [
       "'Ada'"
      ]
     },
     "execution_count": 2,
     "metadata": {},
     "output_type": "execute_result"
    }
   ],
   "source": [
    "# creates an instance attribute on the fly\n",
    "person1.name = \"Ada\"\n",
    "person1.name"
   ]
  },
  {
   "cell_type": "code",
   "execution_count": 3,
   "metadata": {},
   "outputs": [
    {
     "data": {
      "text/plain": [
       "<__main__.Person at 0x272edf3b2e0>"
      ]
     },
     "execution_count": 3,
     "metadata": {},
     "output_type": "execute_result"
    }
   ],
   "source": [
    "person2 = Person()\n",
    "person2"
   ]
  },
  {
   "cell_type": "code",
   "execution_count": null,
   "metadata": {},
   "outputs": [],
   "source": [
    "person2.name"
   ]
  },
  {
   "cell_type": "markdown",
   "metadata": {},
   "source": [
    "## `__init()`\n",
    "\n",
    "- dunder init method (special method)\n",
    "- initializer method that runs after the object has been created\n",
    "- used for setting initial values of attributes to an instance object"
   ]
  },
  {
   "cell_type": "code",
   "execution_count": 43,
   "metadata": {},
   "outputs": [
    {
     "name": "stdout",
     "output_type": "stream",
     "text": [
      "person1.name='Kokchun'\n",
      "person2.name='Bella'\n",
      "person1.accept=True\n",
      "person2.accept=False\n",
      "person2.program='Data science'\n"
     ]
    },
    {
     "data": {
      "text/plain": [
       "Antagning('Supa cool school', 'AI', 'Kokchun', 'True')"
      ]
     },
     "execution_count": 43,
     "metadata": {},
     "output_type": "execute_result"
    }
   ],
   "source": [
    "class Antagning:\n",
    "    # initializer\n",
    "    # for methods it's a convention to have first argument as self\n",
    "    def __init__(self, school, program, name, accept):\n",
    "        # assigns arguments to instance attributes\n",
    "        self.school = school\n",
    "        self.program = program\n",
    "        self.name = name\n",
    "        self.accept = accept\n",
    "\n",
    "    # __repr__() a representation for the instance object -> used for other developers \n",
    "    # pronounciation: \"dunder repper\"   \n",
    "    def __repr__(self):\n",
    "        return f\"Antagning('{self.school}', '{self.program}', '{self.name}', '{self.accept}')\"\n",
    "\n",
    "# when a method is called -> the instance itself is injected to the method as the first argument\n",
    "\n",
    "# here we instantiate from the class Antagning\n",
    "person1 = Antagning(\"Supa cool school\", \"AI\", \"Kokchun\", accept = True)\n",
    "person2 = Antagning(\"OKay school\", \"Java\", \"Bella\", False)\n",
    "\n",
    "# accessed instance attributes using the dot notation\n",
    "print(f\"{person1.name=}\")\n",
    "print(f\"{person2.name=}\")\n",
    "\n",
    "print(f\"{person1.accept=}\")\n",
    "print(f\"{person2.accept=}\")\n",
    "\n",
    "# using the dot notation we change an instance attribute of person2\n",
    "person2.program = \"Data science\"\n",
    "print(f\"{person2.program=}\")\n",
    "\n",
    "person1"
   ]
  },
  {
   "cell_type": "code",
   "execution_count": null,
   "metadata": {},
   "outputs": [],
   "source": [
    "# the __repr__ of list gives output [1,2,3]\n",
    "example_list = [1,2,3]\n",
    "example_list\n"
   ]
  },
  {
   "cell_type": "markdown",
   "metadata": {},
   "source": [
    "## Encapsulation\n",
    "\n",
    "- hide information that is used within the class, but shouldn't be accessed from outside the class\n",
    "- so want to create some kind of interface between attributes within the class and to prevent from misuse\n",
    "- in many OOP languages, we can make attributes private this is not possible in Python\n",
    "- all attributes in Python are public\n",
    "- in Python: private by convention, use an underscore before the attribute, e.g: _name\n",
    "- also possible to use double underscore: __name (symbol mangling)\n",
    " "
   ]
  },
  {
   "cell_type": "code",
   "execution_count": 29,
   "metadata": {},
   "outputs": [
    {
     "name": "stdout",
     "output_type": "stream",
     "text": [
      "Patient(name='Ada', diagnosis='Influenza')\n",
      "Patient(name='Beda', diagnosis='Covid')\n",
      "Patient(name='Ceda', diagnosis='Influenza')\n",
      "Patient(name='Ceda', diagnosis='Influenza')\n",
      "{'_name': 'Ceda', '_Patient__diagnosis': 'Influenza', '__diagnosis': 'Migraine'}\n"
     ]
    },
    {
     "data": {
      "text/plain": [
       "'Influenza'"
      ]
     },
     "execution_count": 29,
     "metadata": {},
     "output_type": "execute_result"
    }
   ],
   "source": [
    "class Patient:\n",
    "    def __init__(self, name, diagnosis):\n",
    "        self._name = name\n",
    "        self.__diagnosis = diagnosis\n",
    "    \n",
    "    def __repr__(self):\n",
    "        return f\"Patient(name='{self._name}', diagnosis='{self.__diagnosis}')\"\n",
    "\n",
    "patient1 = Patient(\"Ada\", \"Influenza\")\n",
    "patient2 = Patient(\"Beda\", \"Covid\")\n",
    "\n",
    "print(patient1)\n",
    "print(patient2)\n",
    "\n",
    "# can access the private attribute, but really shouldn't\n",
    "patient1._name = \"Ceda\"\n",
    "print(patient1)\n",
    "\n",
    "# due to name mangling \n",
    "patient1.__diagnosis = \"Migraine\"\n",
    "print(patient1)\n",
    "\n",
    "print(patient1.__dict__)\n",
    "patient1._Patient__diagnosis"
   ]
  },
  {
   "cell_type": "code",
   "execution_count": null,
   "metadata": {},
   "outputs": [],
   "source": [
    "patient1.__diagnosis"
   ]
  },
  {
   "cell_type": "code",
   "execution_count": 41,
   "metadata": {},
   "outputs": [
    {
     "name": "stdout",
     "output_type": "stream",
     "text": [
      "OldCoinsStash(owner='Ragnar Lothbroke')\n",
      "In stash: 0 riksdaler, 0 skillingar\n",
      "In stash: 20 riksdaler, 10 skillingar\n",
      "You can only deposit non-negative values\n",
      "In stash: 20 riksdaler, 10 skillingar\n",
      "Can't withdraw more than in stash\n"
     ]
    }
   ],
   "source": [
    "# another example \n",
    "class OldCoinsStash:\n",
    "    def __init__(self, owner):\n",
    "        self.owner = owner\n",
    "\n",
    "        # private attributes        \n",
    "        self._riksdaler = 0\n",
    "        self._skilling = 0\n",
    "    \n",
    "    def deposit(self, riksdaler, skilling):\n",
    "        if riksdaler < 0 or skilling < 0:\n",
    "            raise ValueError(\"You can only deposit non-negative values\")\n",
    "        self._riksdaler += riksdaler\n",
    "        self._skilling += skilling\n",
    "\n",
    "    def withdraw(self, riksdaler, skilling):\n",
    "        if riksdaler > self._riksdaler or skilling > self._skilling:\n",
    "            raise ValueError(\"Can't withdraw more than in stash\")\n",
    "        \n",
    "        # check also for negative values\n",
    "\n",
    "        self._riksdaler -= riksdaler\n",
    "        self._skilling -= skilling\n",
    "\n",
    "    def balance(self):\n",
    "        return f\"In stash: {self._riksdaler} riksdaler, {self._skilling} skillingar\"\n",
    "\n",
    "    def __repr__(self):\n",
    "        return f\"OldCoinsStash(owner='{self.owner}')\"\n",
    "\n",
    "\n",
    "stash = OldCoinsStash(\"Ragnar Lothbroke\")\n",
    "print(stash)\n",
    "print(stash.balance())\n",
    "\n",
    "stash.deposit(20, 10)\n",
    "print(stash.balance())\n",
    "\n",
    "try:\n",
    "    # can't deposit negative amount\n",
    "    stash.deposit(-5, 10)\n",
    "except ValueError as err:\n",
    "    print(err)\n",
    "print(stash.balance())\n",
    "\n",
    "try:\n",
    "    # can't deposit negative amount\n",
    "    stash.withdraw(50, 10)\n",
    "except ValueError as err:\n",
    "    print(err)"
   ]
  },
  {
   "cell_type": "markdown",
   "metadata": {},
   "source": [
    "## Property\n",
    "\n",
    "- want to expose few to none bare attributes\n",
    "- when wanting to change attributes\n",
    "    - getter and setter (common in many other languages)\n",
    "    - in Python make into property\n",
    "\n",
    "With property: \n",
    "- can include error handling\n",
    "- computed properties\n",
    "- can make read-only and write-only properties"
   ]
  },
  {
   "cell_type": "code",
   "execution_count": 50,
   "metadata": {},
   "outputs": [
    {
     "name": "stdout",
     "output_type": "stream",
     "text": [
      "age setter is running\n",
      "<__main__.Student object at 0x00000272EF55E370>\n"
     ]
    }
   ],
   "source": [
    "class Student:\n",
    "    \"\"\"Student class for representing students with name, age and activity\"\"\" # docstring\n",
    "\n",
    "    # class attribute\n",
    "    number_students = 0\n",
    "\n",
    "    # note type hinting\n",
    "    def __init__(self, name: str, age: int, active: bool) -> None:\n",
    "        # instance attributes\n",
    "        self._name = name\n",
    "        self.age = age\n",
    "        self.active = active\n",
    "        Student.number_students += 1\n",
    "\n",
    "    # read-only property - @ symbol makes it into a decorator\n",
    "    # read only because we haven't defined a setter\n",
    "    @property\n",
    "    def name(self) -> str: \n",
    "        \"\"\"Read-only property, we can't write to name\"\"\"\n",
    "        return self._name\n",
    "    \n",
    "    # getter\n",
    "    @property\n",
    "    def age(self) -> int:\n",
    "        print(\"age getter is running .... \")\n",
    "        return self._age\n",
    "    \n",
    "    # setter\n",
    "    @age.setter\n",
    "    def age(self, value: int):\n",
    "        \"\"\"Setter for age with error handling\"\"\"\n",
    "\n",
    "        print(\"age setter is running\")\n",
    "\n",
    "        # validation code\n",
    "        if not isinstance(value, int):\n",
    "            raise TypeError(f\"Age must be an int, not {type(value)}\")\n",
    "        \n",
    "        if not (0 <= value <= 125):\n",
    "            raise ValueError(\"Age must be between 0 and 125\")\n",
    "        \n",
    "        self._age = value\n",
    "\n",
    "\n",
    "student1 = Student(\"David\", 30, True)\n",
    "print(student1)\n"
   ]
  },
  {
   "cell_type": "code",
   "execution_count": 1,
   "metadata": {},
   "outputs": [
    {
     "name": "stdout",
     "output_type": "stream",
     "text": [
      "40\n"
     ]
    },
    {
     "data": {
      "text/plain": [
       "10"
      ]
     },
     "execution_count": 1,
     "metadata": {},
     "output_type": "execute_result"
    }
   ],
   "source": [
    "# i andra språk använder man getters och setters \n",
    "class Person:\n",
    "    \n",
    "    # type hinting - returns None\n",
    "    def __init__(self, age: float) -> None:\n",
    "        # bare attribute\n",
    "        self._age = age\n",
    "\n",
    "    def get_age(self) -> float:\n",
    "        return self._age\n",
    "    \n",
    "    def set_age(self, value: float) -> None:\n",
    "        # valideringskod\n",
    "        self._age = value\n",
    "\n",
    "person_instance = Person(40)\n",
    "#person_instance.age = -5\n",
    "print(person_instance.get_age())\n",
    "\n",
    "person_instance.set_age(10)\n",
    "person_instance.get_age()"
   ]
  }
 ],
 "metadata": {
  "kernelspec": {
   "display_name": "Python 3.9.13 ('Python-Daniel-Nilsson-97nbzLRS')",
   "language": "python",
   "name": "python3"
  },
  "language_info": {
   "codemirror_mode": {
    "name": "ipython",
    "version": 3
   },
   "file_extension": ".py",
   "mimetype": "text/x-python",
   "name": "python",
   "nbconvert_exporter": "python",
   "pygments_lexer": "ipython3",
   "version": "3.9.13"
  },
  "orig_nbformat": 4,
  "vscode": {
   "interpreter": {
    "hash": "bc050669da3b02a0dab5c74fea36723f6f6f98ad170411b0b9177bcf895e45d7"
   }
  }
 },
 "nbformat": 4,
 "nbformat_minor": 2
}
