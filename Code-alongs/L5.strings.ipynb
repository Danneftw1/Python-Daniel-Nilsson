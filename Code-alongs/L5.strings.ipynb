{
 "cells": [
  {
   "cell_type": "markdown",
   "metadata": {},
   "source": [
    "## Strings"
   ]
  },
  {
   "cell_type": "code",
   "execution_count": 4,
   "metadata": {},
   "outputs": [
    {
     "name": "stdout",
     "output_type": "stream",
     "text": [
      "Daniel Nilsson\n",
      "\n",
      "Name: Daniel Nilsson, \n",
      "Age: 25,\n",
      "Address: Borås,\n",
      "Phone: 112\n",
      "\n"
     ]
    }
   ],
   "source": [
    "first_name = \"Daniel\"\n",
    "last_name = \"Nilsson\"\n",
    "\n",
    "# concatenate strings (lägger ihop strings)\n",
    "\n",
    "name = first_name + \" \" + last_name #Gör ett mellanslag också\n",
    "age = 25\n",
    "address = \"Borås\"\n",
    "phone = \"112\"\n",
    "\n",
    "print(name)\n",
    "\n",
    "# Multiline f-string\n",
    "\n",
    "contact = f\"\"\"\n",
    "Name: {name}\n",
    "Age: {age}\n",
    "Address: {address}\n",
    "Phone: {phone}\n",
    "\"\"\"\n",
    "print(contact)\n"
   ]
  },
  {
   "cell_type": "markdown",
   "metadata": {},
   "source": [
    "## Iterate through lists and concatenates (slår ihop)"
   ]
  },
  {
   "cell_type": "code",
   "execution_count": 11,
   "metadata": {},
   "outputs": [
    {
     "name": "stdout",
     "output_type": "stream",
     "text": [
      "Plan \n",
      "mån: AI intro,\n",
      "tis: python\n",
      "ons: matte\n",
      "tors: självplugg\n",
      "fre: chilla\n",
      "\n"
     ]
    }
   ],
   "source": [
    "# Slår ihop två listar och printar ett element från varje lista på varje rad\n",
    "\n",
    "schedule = [\"AI intro,\", \"python\", \"matte\", \"självplugg\", \"chilla\"]\n",
    "days = [\"mån\", \"tis\", \"ons\", \"tors\", \"fre\"]\n",
    "\n",
    "#\\n => newline\n",
    "week_plan = \"Plan \\n\"\n",
    "\n",
    "#Plan: \n",
    "# Må: AI intro\n",
    "# ti: python\n",
    "# ...\n",
    "\n",
    "for day, task in zip(days, schedule):\n",
    "    week_plan += f\"{day}: {task}\\n\"\n",
    "\n",
    "print(week_plan)"
   ]
  },
  {
   "cell_type": "markdown",
   "metadata": {},
   "source": [
    "## Indexing"
   ]
  },
  {
   "cell_type": "code",
   "execution_count": 17,
   "metadata": {},
   "outputs": [
    {
     "name": "stdout",
     "output_type": "stream",
     "text": [
      "quote[0]='!'\n",
      "quote[:6]='!False'\n",
      "quote[-4:]='true'\n",
      "Backwards: quote[::-1]=\"eurt s'ti esuaceb ynnuf s'ti - eslaF!\"\n",
      "Length of string: 37 characters\n"
     ]
    }
   ],
   "source": [
    "quote = \"!False - it's funny because it's true\"\n",
    "\n",
    "print(f\"{quote[0]=}\") #skriver ut första värdet\n",
    "print(f\"{quote[:6]=}\") #skriver dem 6 första värdena\n",
    "print(f\"{quote[-4:]=}\") #börjar från andra hållet med -\n",
    "\n",
    "print(f\"Backwards: {quote[::-1]=}\")\n",
    "\n",
    "print(f\"Length of string: {len(quote)} characters\")"
   ]
  }
 ],
 "metadata": {
  "kernelspec": {
   "display_name": "Python 3.9.13 ('Python-Daniel-Nilsson-dM3wHzD4')",
   "language": "python",
   "name": "python3"
  },
  "language_info": {
   "codemirror_mode": {
    "name": "ipython",
    "version": 3
   },
   "file_extension": ".py",
   "mimetype": "text/x-python",
   "name": "python",
   "nbconvert_exporter": "python",
   "pygments_lexer": "ipython3",
   "version": "3.9.13"
  },
  "orig_nbformat": 4,
  "vscode": {
   "interpreter": {
    "hash": "c3a8699ff25c9cbc0813ce7fc610555f4abadcd389eeaf7d4f4aa58333d28396"
   }
  }
 },
 "nbformat": 4,
 "nbformat_minor": 2
}
