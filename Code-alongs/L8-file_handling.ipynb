{
 "cells": [
  {
   "cell_type": "markdown",
   "metadata": {},
   "source": [
    "## File handling\n",
    "\n",
    "```py\n",
    "with open (path, option) as name:\n",
    "    statements\n",
    "```\n",
    "\n",
    "options\n",
    "- \"r\" - read\n",
    "- \"a\" - append to a file (if it doesn't exist - it will create the file)\n",
    "- \"w\" - write (if it doesn't exist - it will create the file)\n",
    "- \"x\" - create a file, error if it already exists"
   ]
  },
  {
   "cell_type": "code",
   "execution_count": 1,
   "metadata": {},
   "outputs": [
    {
     "ename": "FileNotFoundError",
     "evalue": "[Errno 2] No such file or directory: '../Data/quotes.txt'",
     "output_type": "error",
     "traceback": [
      "\u001b[1;31m---------------------------------------------------------------------------\u001b[0m",
      "\u001b[1;31mFileNotFoundError\u001b[0m                         Traceback (most recent call last)",
      "\u001b[1;32mc:\\Git Hub filer\\Python-Daniel-Nilsson\\Code-alongs\\L8-file_handling.ipynb Cell 2\u001b[0m in \u001b[0;36m<cell line: 3>\u001b[1;34m()\u001b[0m\n\u001b[0;32m      <a href='vscode-notebook-cell:/c%3A/Git%20Hub%20filer/Python-Daniel-Nilsson/Code-alongs/L8-file_handling.ipynb#W1sZmlsZQ%3D%3D?line=0'>1</a>\u001b[0m \u001b[39m# öppnar filen (I det här fallet om det är något som är skrivit så spelas det upp av compilern)\u001b[39;00m\n\u001b[0;32m      <a href='vscode-notebook-cell:/c%3A/Git%20Hub%20filer/Python-Daniel-Nilsson/Code-alongs/L8-file_handling.ipynb#W1sZmlsZQ%3D%3D?line=1'>2</a>\u001b[0m path \u001b[39m=\u001b[39m \u001b[39m\"\u001b[39m\u001b[39m../Data/quotes.txt\u001b[39m\u001b[39m\"\u001b[39m\n\u001b[1;32m----> <a href='vscode-notebook-cell:/c%3A/Git%20Hub%20filer/Python-Daniel-Nilsson/Code-alongs/L8-file_handling.ipynb#W1sZmlsZQ%3D%3D?line=2'>3</a>\u001b[0m \u001b[39mwith\u001b[39;00m \u001b[39mopen\u001b[39;49m(path, \u001b[39m\"\u001b[39;49m\u001b[39mr\u001b[39;49m\u001b[39m\"\u001b[39;49m) \u001b[39mas\u001b[39;00m f:\n\u001b[0;32m      <a href='vscode-notebook-cell:/c%3A/Git%20Hub%20filer/Python-Daniel-Nilsson/Code-alongs/L8-file_handling.ipynb#W1sZmlsZQ%3D%3D?line=3'>4</a>\u001b[0m     text \u001b[39m=\u001b[39m f\u001b[39m.\u001b[39mread()\n\u001b[0;32m      <a href='vscode-notebook-cell:/c%3A/Git%20Hub%20filer/Python-Daniel-Nilsson/Code-alongs/L8-file_handling.ipynb#W1sZmlsZQ%3D%3D?line=5'>6</a>\u001b[0m \u001b[39mprint\u001b[39m(text)\n",
      "\u001b[1;31mFileNotFoundError\u001b[0m: [Errno 2] No such file or directory: '../Data/quotes.txt'"
     ]
    }
   ],
   "source": [
    "# öppnar filen (I det här fallet om det är något som är skrivit så spelas det upp av compilern)\n",
    "path = \"../Data/quotes.txt\"\n",
    "with open(path, \"r\") as f:\n",
    "    text = f.read()\n",
    "\n",
    "print(text)\n"
   ]
  },
  {
   "cell_type": "markdown",
   "metadata": {},
   "source": [
    "## Cleaning up quotes.txt\n",
    "\n",
    "- inspect txt-file manually (some prankster has added random noise in form of whitespace and new lines)\n",
    "- remove leading and trailing whitespaces\n",
    "- remove execessive white spaces in between word"
   ]
  },
  {
   "cell_type": "code",
   "execution_count": 62,
   "metadata": {},
   "outputs": [
    {
     "name": "stdout",
     "output_type": "stream",
     "text": [
      "1. If we knew what it was we were doing, it would not be called research, would it? - Albert Einstein\n",
      "2. Time is a drug. Too much of it kills you. - Terry Pratchett\n",
      "3. An expert is a person who has made all the mistakes that can be made in a very narrow field - Niels Bohr\n",
      "4. Everything must be made as simple as possible. But not simpler. - Albert Einstein\n",
      "5. Nothing in life is to be feared, it is only to be understood. Now is the time to understand more, so that we may fear less. - Marie Curie\n",
      "6. If I have seen further it is by standing on the shoulders of Giants. - Isaac Newton\n"
     ]
    }
   ],
   "source": [
    "import re\n",
    "\n",
    "with open(path, \"r\") as f_read, open(\"../Data/quotes_clean.txt\", \"w\") as f_write:\n",
    "    quote_number = 1\n",
    "\n",
    "    # loops through each line in the text file\n",
    "    for quote in f_read:\n",
    "        quote = quote.strip(\" \\n\") # removes leading and trailing spaces and newlines\n",
    "        quote = re.sub(\" +\", \" \", quote) # regex to substitute >=1 whitespace with 1 whitespace\n",
    "        \n",
    "        # write to new file if the line is not \"\"\n",
    "        if quote != \"\":\n",
    "            f_write.write(f\"{quote_number}. {quote}\\n\")\n",
    "            print(f\"{quote_number}. {quote}\\n\", end=\"\")\n",
    "            quote_number += 1"
   ]
  },
  {
   "cell_type": "markdown",
   "metadata": {},
   "source": [
    "## Pick out the authors\n",
    "\n",
    "- find digit to find quote\n",
    "- extract first name and last names\n",
    "- join into full name\n",
    "- get unique values"
   ]
  },
  {
   "cell_type": "code",
   "execution_count": 63,
   "metadata": {},
   "outputs": [
    {
     "name": "stdout",
     "output_type": "stream",
     "text": [
      "[['Albert', 'Einstein'], ['Terry', 'Pratchett'], ['Niels', 'Bohr'], ['Albert', 'Einstein'], ['Marie', 'Curie'], ['Isaac', 'Newton']]\n",
      "{'Isaac Newton', 'Albert Einstein', 'Niels Bohr', 'Marie Curie', 'Terry Pratchett'}\n"
     ]
    }
   ],
   "source": [
    "with open (\"../Data/quotes_clean.txt\", \"r\") as f_quotes, open(\"../Data/quotes_clean.txt\", \"a\") as f_append:\n",
    "    # reads in each line as a list\n",
    "    # strips away \"\\n\" (newlines)\n",
    "    quotes = [quote.strip(\"\\n\") for quote in f_quotes.readlines()] # blir en lista (då kan vi köra list comprehension)\n",
    "    authors = [quote.split()[-2:] for quote in quotes]\n",
    "    print(authors)\n",
    "\n",
    "    # set - gives the unique\n",
    "    authors = set([\" \".join(author) for author in authors])\n",
    "    print (authors)\n",
    "\n",
    "    f_append.write(\"\\nAuthors: \")\n",
    "    for author in authors:\n",
    "        f_append.write(f\"{author}\")"
   ]
  },
  {
   "cell_type": "code",
   "execution_count": 46,
   "metadata": {},
   "outputs": [
    {
     "data": {
      "text/plain": [
       "'Daniel Nilsson'"
      ]
     },
     "execution_count": 46,
     "metadata": {},
     "output_type": "execute_result"
    }
   ],
   "source": [
    "name = [[\"Daniel\", \"Nilsson\"]]\n",
    "\" \".join(name[0])"
   ]
  }
 ],
 "metadata": {
  "kernelspec": {
   "display_name": "Python 3.9.13 ('Python-Daniel-Nilsson-dM3wHzD4')",
   "language": "python",
   "name": "python3"
  },
  "language_info": {
   "codemirror_mode": {
    "name": "ipython",
    "version": 3
   },
   "file_extension": ".py",
   "mimetype": "text/x-python",
   "name": "python",
   "nbconvert_exporter": "python",
   "pygments_lexer": "ipython3",
   "version": "3.9.13"
  },
  "orig_nbformat": 4,
  "vscode": {
   "interpreter": {
    "hash": "c3a8699ff25c9cbc0813ce7fc610555f4abadcd389eeaf7d4f4aa58333d28396"
   }
  }
 },
 "nbformat": 4,
 "nbformat_minor": 2
}
