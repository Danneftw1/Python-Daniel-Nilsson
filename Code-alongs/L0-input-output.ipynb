{
 "cells": [
  {
   "cell_type": "markdown",
   "metadata": {},
   "source": [
    "# Code along - input-output"
   ]
  },
  {
   "cell_type": "code",
   "execution_count": 7,
   "metadata": {},
   "outputs": [
    {
     "name": "stdout",
     "output_type": "stream",
     "text": [
      "hej Daniel, du är 25 gammal\n",
      "20\n"
     ]
    }
   ],
   "source": [
    "# Variabel - data type string\n",
    "# Create a variable (\"box\") and assigns a value\n",
    "name = \"Daniel\"\n",
    "\n",
    "# Variabel - data type float\n",
    "age = 25\n",
    "\n",
    "# This is an f-string (formatted strin)\n",
    "print(f\"hej {name}, du är {age} gammal\")\n",
    "\n",
    "# Reassigns\n",
    "# Note: bad practice (använder \"namn\" för att beskriva en siffra, är inte beskrivande för vad det är)\n",
    "name = 20\n",
    "\n",
    "print(name)"
   ]
  },
  {
   "cell_type": "markdown",
   "metadata": {},
   "source": [
    "## Inputs from user"
   ]
  },
  {
   "cell_type": "code",
   "execution_count": 5,
   "metadata": {},
   "outputs": [
    {
     "name": "stdout",
     "output_type": "stream",
     "text": [
      "Hello Hanna, you are 23 old\n"
     ]
    }
   ],
   "source": [
    "name = input(\"What is your name?\")\n",
    "age = input(\"What is your age?\")\n",
    "\n",
    "print(f\"Hello {name}, you are {age} old\")\n"
   ]
  },
  {
   "cell_type": "markdown",
   "metadata": {},
   "source": [
    "## Calculations"
   ]
  },
  {
   "cell_type": "code",
   "execution_count": 8,
   "metadata": {},
   "outputs": [
    {
     "name": "stdout",
     "output_type": "stream",
     "text": [
      "Your force is 608.84 N\n"
     ]
    }
   ],
   "source": [
    "gravity = 9.82\n",
    "mass = 62\n",
    "\n",
    "force = mass*gravity\n",
    "\n",
    "print(f\"Your force is {force} N\")"
   ]
  },
  {
   "cell_type": "code",
   "execution_count": 9,
   "metadata": {},
   "outputs": [
    {
     "ename": "TypeError",
     "evalue": "can't multiply sequence by non-int of type 'float'",
     "output_type": "error",
     "traceback": [
      "\u001b[1;31m---------------------------------------------------------------------------\u001b[0m",
      "\u001b[1;31mTypeError\u001b[0m                                 Traceback (most recent call last)",
      "\u001b[1;32me:\\Github sparade filer\\Python-Daniel-Nilsson\\Code-alongs\\L0-input-output.ipynb Cell 7\u001b[0m in \u001b[0;36m<cell line: 3>\u001b[1;34m()\u001b[0m\n\u001b[0;32m      <a href='vscode-notebook-cell:/e%3A/Github%20sparade%20filer/Python-Daniel-Nilsson/Code-alongs/L0-input-output.ipynb#X14sZmlsZQ%3D%3D?line=0'>1</a>\u001b[0m mass \u001b[39m=\u001b[39m \u001b[39minput\u001b[39m (\u001b[39m\"\u001b[39m\u001b[39mEnter your mass (kg): \u001b[39m\u001b[39m\"\u001b[39m)\n\u001b[1;32m----> <a href='vscode-notebook-cell:/e%3A/Github%20sparade%20filer/Python-Daniel-Nilsson/Code-alongs/L0-input-output.ipynb#X14sZmlsZQ%3D%3D?line=2'>3</a>\u001b[0m force \u001b[39m=\u001b[39m mass\u001b[39m*\u001b[39;49mgravity\n",
      "\u001b[1;31mTypeError\u001b[0m: can't multiply sequence by non-int of type 'float'"
     ]
    }
   ],
   "source": [
    "mass = input (\"Enter your mass (kg): \")\n",
    "\n",
    "force = mass*gravity"
   ]
  }
 ],
 "metadata": {
  "kernelspec": {
   "display_name": "Python 3.9.13 ('Python-Daniel-Nilsson-97nbzLRS')",
   "language": "python",
   "name": "python3"
  },
  "language_info": {
   "codemirror_mode": {
    "name": "ipython",
    "version": 3
   },
   "file_extension": ".py",
   "mimetype": "text/x-python",
   "name": "python",
   "nbconvert_exporter": "python",
   "pygments_lexer": "ipython3",
   "version": "3.9.13"
  },
  "orig_nbformat": 4,
  "vscode": {
   "interpreter": {
    "hash": "bc050669da3b02a0dab5c74fea36723f6f6f98ad170411b0b9177bcf895e45d7"
   }
  }
 },
 "nbformat": 4,
 "nbformat_minor": 2
}
