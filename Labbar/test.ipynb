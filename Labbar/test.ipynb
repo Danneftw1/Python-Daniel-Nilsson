{
 "cells": [
  {
   "cell_type": "code",
   "execution_count": 4,
   "metadata": {},
   "outputs": [
    {
     "name": "stdout",
     "output_type": "stream",
     "text": [
      "{'__module__': 'geometry_shapes', '__doc__': 'Super class for Shapes', '__init__': <function Shapes.__init__ at 0x00000205979A2790>, '__repr__': <function Shapes.__repr__ at 0x00000205979A2820>, '__str__': <function Shapes.__str__ at 0x00000205979A28B0>, 'x_pos': <property object at 0x0000020597962EF0>, 'y_pos': <property object at 0x0000020597044090>, '__lt__': <function Shapes.__lt__ at 0x00000205979A2B80>, '__gt__': <function Shapes.__gt__ at 0x00000205979A2C10>, '__le__': <function Shapes.__le__ at 0x00000205979A2CA0>, '__ge__': <function Shapes.__ge__ at 0x00000205979A2D30>, '__ne__': <function Shapes.__ne__ at 0x00000205979A2DC0>, 'translation_mover': <function Shapes.translation_mover at 0x00000205979A2E50>, '__dict__': <attribute '__dict__' of 'Shapes' objects>, '__weakref__': <attribute '__weakref__' of 'Shapes' objects>}\n"
     ]
    }
   ],
   "source": [
    "from geometry_shapes import Shapes\n",
    "from geometry_shapes import Circle\n",
    "from geometry_shapes import Rectangle\n",
    "\n",
    "rektangel1 = Rectangle(x_pos=4,y_pos=5,base=3, height=4)\n",
    "rektangel2 = Rectangle(x_pos=4,y_pos=6,base=1, height=1)\n",
    "\n",
    "print(Shapes.__dict__)"
   ]
  }
 ],
 "metadata": {
  "kernelspec": {
   "display_name": "Python 3.9.13 ('Python-Daniel-Nilsson-97nbzLRS')",
   "language": "python",
   "name": "python3"
  },
  "language_info": {
   "codemirror_mode": {
    "name": "ipython",
    "version": 3
   },
   "file_extension": ".py",
   "mimetype": "text/x-python",
   "name": "python",
   "nbconvert_exporter": "python",
   "pygments_lexer": "ipython3",
   "version": "3.9.13"
  },
  "orig_nbformat": 4,
  "vscode": {
   "interpreter": {
    "hash": "bc050669da3b02a0dab5c74fea36723f6f6f98ad170411b0b9177bcf895e45d7"
   }
  }
 },
 "nbformat": 4,
 "nbformat_minor": 2
}
