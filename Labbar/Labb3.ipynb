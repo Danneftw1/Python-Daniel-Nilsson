{
 "cells": [
  {
   "cell_type": "code",
   "execution_count": null,
   "metadata": {},
   "outputs": [],
   "source": [
    "from __future__ import annotations\n",
    "import math\n",
    "from matplotlib.pyplot import plot as plt\n",
    "from matplotlib.patches import Rectangle\n",
    "from matplotlib.patches import Circle\n",
    "import numpy as np\n",
    "\n",
    "\n",
    "#TODO extra, plotta allt\n",
    "#TODO kolla med Kokchun ifall translationen fungerar som den ska\n",
    "#TODO testa i .py fil\n",
    "#TODO kommentera allt?\n",
    "\n",
    "#-------------------------------SHAPE CLASS------------------------------------------------------\n",
    "class Shapes: # Super klassen (överklassen)\n",
    "    \"\"\"Super class for Shapes\"\"\"\n",
    "    def __init__ (self, x_pos: (int |float), y_pos: (int | float)):\n",
    "        \"\"\"main attributes\"\"\"\n",
    "        self.x_pos = x_pos\n",
    "        self.y_pos = y_pos\n",
    "\n",
    "    def __repr__(self) -> None:\n",
    "        return f\"{self.x_pos}{self.y_pos}\"\n",
    "\n",
    "    def __str__(self) -> None:\n",
    "        return f\"X-position is: {self.x_pos} and Y-position is: {self.y_pos}\"\n",
    "\n",
    "#---------------------------GETTER & SETTER X_POS--------------------------------------------   \n",
    "    @property #readable\n",
    "    def x_pos(self) -> int:\n",
    "        return self._x_pos\n",
    "\n",
    "    @x_pos.setter # added error handling to setter, if number isnt an int or float: error message. If input is a string: error message\n",
    "    def x_pos(self, value: (int | float)): # All getters and setters have the same foundation as this one\n",
    "        if not isinstance(value, (int, float)):\n",
    "            raise TypeError(f\"Number must be an int or float, not {type(value)}\")\n",
    "        if not (0 <= value <= 10):\n",
    "            raise ValueError(\"Number must be between 0 and 10\")\n",
    "        self._x_pos = value\n",
    " \n",
    "    \n",
    "#----------------------------GETTER & SETTER Y_POS-------------------------------------------\n",
    "    @property\n",
    "    def y_pos(self) -> int:\n",
    "        return self._y_pos\n",
    "\n",
    "    @y_pos.setter\n",
    "    def y_pos(self, value: (int | float)):\n",
    "        if not isinstance(value, (int, float)):\n",
    "            raise TypeError(f\"Number must be an int or float, not {type(value)}\")\n",
    "        if not (0 <= value <= 10):\n",
    "            raise ValueError(\"Number must be between 0 and 10\")\n",
    "        self._y_pos = value  \n",
    "\n",
    "\n",
    "#----------------------------OVERLOADERS-----------------------------------------------------\n",
    "    def __lt__(self, object_2):\n",
    "        \"\"\"Less than\"\"\"\n",
    "        if self.area < object_2.area:\n",
    "            return True\n",
    "        else:\n",
    "            return False\n",
    "\n",
    "    def __gt__(self, object_2):\n",
    "        \"\"\"Greater than\"\"\"\n",
    "        if self.area > object_2.area:\n",
    "            return True\n",
    "        else:\n",
    "            return False\n",
    "\n",
    "    def __le__(self, object_2):\n",
    "        \"\"\"Less or equal\"\"\"\n",
    "        if self.area <= object_2.area:\n",
    "            return True\n",
    "        else:\n",
    "            return False\n",
    "\n",
    "    def __ge__(self, object_2):\n",
    "        \"\"\"Greater or equal\"\"\"\n",
    "        if self.area >= object_2.area:\n",
    "            return True\n",
    "        else:\n",
    "            return False\n",
    "\n",
    "    def __ne__(self, object_2):\n",
    "        \"\"\"Not equal\"\"\"\n",
    "        if self.area != object_2.area:\n",
    "            return True\n",
    "        else:\n",
    "            return False\n",
    "\n",
    "\n",
    "#----------------------------MOVER------------------------------------------------------------\n",
    "\n",
    "    def translation_mover(self, x:(int | float), y:(int |float)):\n",
    "        \"\"\"Moves shape from its original position\"\"\"\n",
    "        if not isinstance(x, (int ,float)): # error handling for string input\n",
    "            raise TypeError(f\"number must be an int(whole number) or float (number with decimals)\")\n",
    "\n",
    "        if not isinstance(y, (int, float)): # error handling for string input\n",
    "            raise TypeError(f\"number must be an int(whole number) or float (number with decimals)\")\n",
    "                    \n",
    "        self.x_pos += x\n",
    "        self.y_pos += y\n",
    "\n",
    "\n",
    "#----------------------------------------------------------------------------------------------------\n",
    "#                                         CIRCLE CLASS\n",
    "#----------------------------------------------------------------------------------------------------\n",
    "class Circle(Shapes):\n",
    "    \"\"\"Circle class\"\"\"\n",
    "    def __init__(self, x_pos: float, y_pos: float, radius: float):\n",
    "        super().__init__(x_pos, y_pos) # what is sent up to super class\n",
    "\n",
    "        self.radius = radius\n",
    "        self._area = math.pi * radius ** 2\n",
    "        self._circumference = 2 * math.pi * radius\n",
    "\n",
    "    \"\"\"String conversion for attributes Circle class\"\"\"\n",
    "    def __repr__(self) -> None:\n",
    "        return f\"{self.x_pos}{self.y_pos}{self.radius}\"\n",
    "\n",
    "    def __str__(self) -> None:\n",
    "        return f\"X-position is: {self.x_pos} Y-position is: {self.y_pos} and radius is: {self.radius}\"\n",
    "\n",
    "#-----------------------------GETTER & SETTER----------------------------------------\n",
    "\n",
    "    @property\n",
    "    def circumference(self) -> (int | float):\n",
    "        return self._circumference\n",
    "\n",
    "    @circumference.setter\n",
    "    def circumference(self, value: (int | float)):\n",
    "        if not isinstance(value, (int, float)): \n",
    "            raise TypeError(f\"Number must be an int or float, not {type(value)}\")\n",
    "        if not (0 <= value <= 10):\n",
    "            raise ValueError(\"Number must be between 0 and 10\")\n",
    "        self._circumference = value \n",
    "\n",
    "    @property\n",
    "    def area(self) -> (int | float):\n",
    "        return self._area\n",
    "\n",
    "    @area.setter\n",
    "    def area(self, value: (int | float)):\n",
    "        if not isinstance(value, (int, float)):\n",
    "            raise TypeError(f\"Number must be an int or float, not {type(value)}\")\n",
    "        if not (0 <= value <= 10):\n",
    "            raise ValueError(\"Number must be between 0 and 10\")\n",
    "        self._area = value \n",
    "\n",
    "    @property\n",
    "    def radius(self) -> int:\n",
    "        return self._radius\n",
    "\n",
    "    @radius.setter\n",
    "    def radius(self, value: (int | float)):\n",
    "        if not isinstance(value, (int, float)):\n",
    "            raise TypeError(f\"Number must be an int or float, not {type(value)}\")\n",
    "        if not (0 <= value <= 10):\n",
    "            raise ValueError(\"Number must be between 0 and 10\")\n",
    "        self._radius = value \n",
    "\n",
    "#---------------------------------METHODS----------------------------------------------\n",
    "    \n",
    "    def circle_checker(self) -> bool: # if the circle has a radius of 1 and mid-point is in origo(x,y = 0) its a unit circle\n",
    "        \"\"\"Check if the circle is a unit circle\"\"\"\n",
    "        if self.radius == 1 and self.x_pos == 0  and self.y_pos == 0:  \n",
    "            return True\n",
    "        else:\n",
    "            return False\n",
    "\n",
    "    def is_inside_circle(self, x, y):\n",
    "        return (x - self.x_pos)**2 + (y - self.y_pos)**2 < self.radius**2 # Source: https://stackoverflow.com/questions/481144/equation-for-testing-if-a-point-is-inside-a-circle\n",
    "        # calculation of euclidian distance of the new points compared to first xy points. Also has radius of circle which tells us how big the circle is.\n",
    "\n",
    "    \n",
    "    def __eq__(self, object_2: int | float):# Checks if the circle area is the same, if it is, it returns true\n",
    "        \"\"\"Check if rectangle has same area\"\"\" \n",
    "        if self.area == object_2:\n",
    "            return True\n",
    "        else:\n",
    "            return False\n",
    "\n",
    "#----------------------------------------------------------------------------------------------------\n",
    "#                                         RECTANGLE CLASS\n",
    "#----------------------------------------------------------------------------------------------------\n",
    "\n",
    "class Rectangle(Shapes):\n",
    "    \"\"\"Rectangle class\"\"\"\n",
    "    def __init__(self, x_pos: float, y_pos: float, base: float, height: float):\n",
    "        super().__init__(x_pos, y_pos)\n",
    "\n",
    "        self.base = base\n",
    "        self.height = height\n",
    "        self.circumference = base + height\n",
    "        self.area = base * height\n",
    "\n",
    "    \"\"\"String conversion for attributes Rectangle class\"\"\"\n",
    "    def __repr__(self) -> None:\n",
    "        return f\"{self.x_pos}{self.y_pos}{self.base}{self.height}\"\n",
    "\n",
    "    def __str__(self) -> None:\n",
    "        return f\"X-position is: {self.x_pos} Y-position is: {self.y_pos} base is: {self.base} and height is: {self.height}\"\n",
    "\n",
    "\n",
    "    @property\n",
    "    def base(self) -> (int | float): \n",
    "        return self._base\n",
    "\n",
    "    @base.setter\n",
    "    def base(self, value: (int | float)):\n",
    "        if not isinstance(value, (int, float)): \n",
    "            raise TypeError(f\"Number must be an int or float, not {type(value)}\")\n",
    "        if not (0 <= value <= 10):\n",
    "            raise ValueError(\"Number must be between 0 and 10\")\n",
    "        self._base = value \n",
    "\n",
    "    @property\n",
    "    def height(self) -> (int | float): \n",
    "        return self._height\n",
    "\n",
    "    @height.setter\n",
    "    def height(self, value: (int | float)):\n",
    "        if not isinstance(value, (int, float)): \n",
    "            raise TypeError(f\"Number must be an int or float, not {type(value)}\")\n",
    "        if not (0 <= value <= 10):\n",
    "            raise ValueError(\"Number must be between 0 and 10\")\n",
    "        self._height = value \n",
    "\n",
    "    @property\n",
    "    def radius(self) -> int:\n",
    "        return self._radius\n",
    "\n",
    "    @radius.setter\n",
    "    def radius(self, value: (int | float)):\n",
    "        if not isinstance(value, (int, float)):\n",
    "            raise TypeError(f\"Number must be an int or float, not {type(value)}\")\n",
    "        if not (0 <= value <= 10):\n",
    "            raise ValueError(\"Number must be between 0 and 10\")\n",
    "        self._radius = value \n",
    "\n",
    "#---------------------------------METHODS----------------------------------------------\n",
    "    def square_checker(self, base, height) -> bool: # checks if the rectangle is a square or not\n",
    "        \"\"\"Checks if rectangle is a square or not\"\"\"\n",
    "        if self.base == self.height: # checks if the base and height are the same measurements, if they are, its a square\n",
    "            return True\n",
    "        else:\n",
    "            return False\n",
    "    \n",
    "    def is_inside_rectangle(self, x, y):\n",
    "        \"\"\"Checks if point is inside rectangle\"\"\"\n",
    "        return (x - self.x_pos)**2 + (y - self.y_pos)**2 < self.area**2 # Euclidian distance (without squareroot)\n",
    "\n",
    "\n",
    "    def __eq__(self, object_2: int | float):# Checks is the area of the rectangles are the same, if so, it return True.\n",
    "        \"\"\"Check if rectangle has same area\"\"\"\n",
    "        if self.area == object_2:\n",
    "            return True\n",
    "        else:\n",
    "            return False\n",
    "\n",
    "\n"
   ]
  },
  {
   "cell_type": "code",
   "execution_count": 4,
   "metadata": {},
   "outputs": [
    {
     "data": {
      "text/plain": [
       "1"
      ]
     },
     "execution_count": 4,
     "metadata": {},
     "output_type": "execute_result"
    }
   ],
   "source": [
    "cirkel1 = Circle(x_pos=0,y_pos=0, radius=1)\n",
    "cirkel1.radius"
   ]
  },
  {
   "cell_type": "code",
   "execution_count": 11,
   "metadata": {},
   "outputs": [
    {
     "data": {
      "text/plain": [
       "3.141592653589793"
      ]
     },
     "execution_count": 11,
     "metadata": {},
     "output_type": "execute_result"
    }
   ],
   "source": [
    "cirkel1.area"
   ]
  },
  {
   "cell_type": "code",
   "execution_count": 5,
   "metadata": {},
   "outputs": [
    {
     "data": {
      "text/plain": [
       "12.566370614359172"
      ]
     },
     "execution_count": 5,
     "metadata": {},
     "output_type": "execute_result"
    }
   ],
   "source": [
    "cirkel1.radius = 2\n",
    "cirkel1.area"
   ]
  },
  {
   "cell_type": "code",
   "execution_count": 3,
   "metadata": {},
   "outputs": [
    {
     "name": "stdout",
     "output_type": "stream",
     "text": [
      "------------circle test----------------------\n",
      "True\n",
      "False\n",
      "True\n",
      "False\n",
      "False\n",
      "------------rectangle test-------------------\n",
      "True\n",
      "False\n"
     ]
    },
    {
     "data": {
      "text/plain": [
       "True"
      ]
     },
     "execution_count": 3,
     "metadata": {},
     "output_type": "execute_result"
    }
   ],
   "source": [
    "from geometry_shapes import Circle\n",
    "from geometry_shapes import Rectangle\n",
    "\n",
    "cirkel1 = Circle(x_pos=0,y_pos=0, radius=1) # enhetscirkel\n",
    "cirkel2 = Circle(x_pos=1,y_pos=1, radius=1)\n",
    "rektangel1 = Rectangle(x_pos=0,y_pos=0,base=1, height=1)\n",
    "rektangel2 = Rectangle(x_pos=1,y_pos=1,base=1, height=1)\n",
    "\n",
    "print(\"------------circle test----------------------\")\n",
    "\n",
    "print(cirkel1==cirkel2) # True\n",
    "print(cirkel2==rektangel1) # False\n",
    "print(cirkel1.is_inside_circle(0.5, 0.5)) # True\n",
    "cirkel1.translation_mover(5,5)\n",
    "print(cirkel1.is_inside_circle(0.5, 0.5)) # False\n",
    "print(cirkel1.circle_checker()) # hur funkar det här?\n",
    "print(cirkel1>cirkel2) # false\n",
    "\n",
    "print(\"------------rectangle test-------------------\")\n",
    "\n",
    "print(rektangel1.is_inside_rectangle(0.5, 0.5)) # True\n",
    "rektangel1.translation_mover(5,5)\n",
    "print(rektangel1.is_inside_rectangle(0.5, 0.5)) # False\n",
    "rektangel1.square_checker(1, 1) # true\n",
    "\n",
    "#cirkel1.translation_mover(\"TRE\",5) # ge ValueError med lämplig kommentar"
   ]
  },
  {
   "cell_type": "code",
   "execution_count": 7,
   "metadata": {},
   "outputs": [
    {
     "name": "stdout",
     "output_type": "stream",
     "text": [
      "False\n"
     ]
    }
   ],
   "source": [
    "print(cirkel1.circle_checker())"
   ]
  },
  {
   "cell_type": "code",
   "execution_count": 4,
   "metadata": {},
   "outputs": [
    {
     "data": {
      "text/plain": [
       "False"
      ]
     },
     "execution_count": 4,
     "metadata": {},
     "output_type": "execute_result"
    }
   ],
   "source": [
    "cirkel1 = Circle(x_pos=0,y_pos=0, radius=1) # enhetscirkel\n",
    "cirkel2 = Circle(x_pos=1,y_pos=1, radius=1)\n",
    "rektangel1 = Rectangle(x_pos=0,y_pos=0,base=1, height=1)\n",
    "rektangel2 = Rectangle(x_pos=1,y_pos=1,base=1, height=1)\n",
    "\n",
    "cirkel1 == cirkel2 # compares area\n",
    "cirkel1.circumference == cirkel2.circumference # compares circumference (using normal ==, not the overrided one, since it's comparing a float with a float)\n",
    "cirkel1.x_pos == cirkel2.x_pos # same thing here, using the value of x_pos so it uses the normal == comparison operator"
   ]
  },
  {
   "cell_type": "code",
   "execution_count": 5,
   "metadata": {},
   "outputs": [
    {
     "name": "stdout",
     "output_type": "stream",
     "text": [
      "omkretsen på cirkeln är 00\n"
     ]
    }
   ],
   "source": [
    "\n",
    "class Circle(Shapes):\n",
    "    def __init__(self, x_pos: float, y_pos: float, radius: int):\n",
    "        super().__init__(x_pos, y_pos) # what is sent up to super class (kan inte skicka med radius)\n",
    "    \n",
    "        self.radius = radius\n",
    "        self.area = math.pi * radius**2\n",
    "        self.circumference = 2 * math.pi * radius**2\n",
    "#-----------------------------GETTER & SETTER----------------------------------------\n",
    "\n",
    "#---------------------------------METHODS----------------------------------------------\n",
    "    \n",
    "    def circle_checker(self, radius) -> bool: # det är en cirkel som har sin mittpunkt i origo (x,y = 0) och radien är 1\n",
    "        if self.radius == 1 and self.x_pos == 0 and self.y_pos == 0:\n",
    "            return True\n",
    "        else:\n",
    "            return False\n",
    "\n",
    "    def circle_circumference(self, radius) -> float:\n",
    "        circumference = math.pi * radius**2\n",
    "        return Circle(self.circumference)\n",
    "    \n",
    "    def circle_area(self) -> float:\n",
    "        pass\n",
    "\n",
    "\n",
    "\n",
    "\n",
    "\n",
    "\n",
    "class Rectangle(Shapes):\n",
    "    def __init__(self, x_pos: float, y_pos: float, base: float, height: float):\n",
    "        super().__init__(x_pos, y_pos)\n",
    "\n",
    "        self.base = base\n",
    "        self.height = height\n",
    "\n",
    "    def rectangle_checker(self, base, height) -> bool:\n",
    "        if self.base == self.height:\n",
    "            return True\n",
    "        else:\n",
    "            return False\n",
    "    \n",
    "    def rectangle_circumference(self, value) -> float:\n",
    "        pass\n",
    "\n",
    "    def rectangle_area(self, value) -> float:\n",
    "        pass"
   ]
  },
  {
   "cell_type": "code",
   "execution_count": 10,
   "metadata": {},
   "outputs": [],
   "source": [
    "class Rectangle(Shapes):\n",
    "    def __init__(self, x_pos: float, y_pos: float, base: float, height: float):\n",
    "        super().__init__(x_pos, y_pos)\n",
    "\n",
    "        self.base = base\n",
    "        self.height = height\n",
    "\n",
    "    def rectangle_checker(self, base, height) -> bool:\n",
    "        if self.base == self.height:\n",
    "            return True\n",
    "        else:\n",
    "            return False\n",
    "    \n",
    "    def rectangle_circumference(self, value) -> float:\n",
    "        pass\n",
    "\n",
    "    def rectangle_area(self, value) -> float:\n",
    "        pass"
   ]
  },
  {
   "cell_type": "markdown",
   "metadata": {},
   "source": [
    "## getter och setter för x, y, radius, bas och höjd"
   ]
  },
  {
   "cell_type": "code",
   "execution_count": null,
   "metadata": {},
   "outputs": [],
   "source": [
    "    @property\n",
    "    def radius(self):\n",
    "        \"\"\"Getter & setter for radius\"\"\"\n",
    "        return self._radius # _ är den privata versionen av radius\n",
    "\n",
    "    @radius.setter\n",
    "    def radius (self, radius: int ):\n",
    "        if not isinstance (radius, int):\n",
    "            raise TypeError (f\"Y-position must be a float, not {type(radius)}\")\n",
    "        \n",
    "        if not (0 < radius < 10):\n",
    "            raise ValueError (\"You must write a number between 1 and 10, not nothing\")\n",
    "\n",
    "\n",
    "\n",
    "        @property\n",
    "    def y_pos(self):\n",
    "        \"\"\"Getter & setter for y_pos\"\"\"\n",
    "        return self._y_pos # _ är den privata versionen av y_pos\n",
    "\n",
    "    @y_pos.setter\n",
    "    def y_pos (self, y_pos: int):\n",
    "\n",
    "        if not isinstance (y_pos, int):\n",
    "            raise TypeError (f\"Y-position must be a float, not {type(y_pos)}\")\n",
    "        \n",
    "        if not (0 < y_pos < 10):\n",
    "            raise ValueError (\"You must write a number between 1 and 10, not nothing\")\n",
    "\n",
    "        self._y_pos = y_pos\n",
    "    \n",
    "\n",
    "        @property\n",
    "    def x_pos(self):\n",
    "        \"\"\"Getter & setter for x_pos\"\"\"\n",
    "        return self._x_pos # _ är den privata versionen av titeln\n",
    "\n",
    "    @x_pos.setter\n",
    "    def x_pos (self, x_pos: int):\n",
    "\n",
    "        if not isinstance (x_pos, int):\n",
    "            raise TypeError (f\"Y-position must be a float, not {type(x_pos)}\")\n",
    "        \n",
    "        if not (0 < x_pos < 10):\n",
    "            raise ValueError (\"You must write a number between 1 and 10, not nothing\")\n",
    "\n",
    "        self._x_pos = x_pos"
   ]
  },
  {
   "cell_type": "code",
   "execution_count": 12,
   "metadata": {},
   "outputs": [
    {
     "data": {
      "image/png": "[encoded data removed]",
      "text/plain": [
       "<Figure size 1000x1000 with 1 Axes>"
      ]
     },
     "metadata": {},
     "output_type": "display_data"
    }
   ],
   "source": [
    "import matplotlib.pyplot as plt\n",
    "from matplotlib.patches import Rectangle\n",
    "from matplotlib.patches import Circle\n",
    "import numpy as np\n",
    "\n",
    "\n",
    "class Draw(Shapes):    \n",
    "    def __init__(self, x_pos: float, y_pos: float, base: float, height: float, plotting):\n",
    "        super().__init__(plotting)\n",
    "        self.plotting = plotting\n",
    "    \n",
    "    def plotshapes(self, plotting):\n",
    "        x = 0\n",
    "        y = 0\n",
    "\n",
    "        bredd = 6\n",
    "        hojd = 6\n",
    "\n",
    "        xbredd = (x - bredd/2)\n",
    "        xhojd = (y - hojd/2)\n",
    "\n",
    "        # (x1 + b/2 * y1 + h/2)\n",
    "\n",
    "        rect = Rectangle((xbredd, xhojd), bredd, hojd, alpha=0.3, fill=True, color=\"b\") #förkortning funkar för färgen\n",
    "        circle = Circle((0,0), 5, alpha=0.3, fill=True, color=\"r\")\n",
    "\n",
    "        plt.figure(figsize=(10, 10))\n",
    "        plt.axis([-10, 10, -10, 10])\n",
    "        plt.gca().add_patch(rect);\n",
    "        plt.gca().add_patch(circle);"
   ]
  },
  {
   "cell_type": "code",
   "execution_count": 19,
   "metadata": {},
   "outputs": [
    {
     "data": {
      "text/plain": [
       "157.07963267948966"
      ]
     },
     "execution_count": 19,
     "metadata": {},
     "output_type": "execute_result"
    }
   ],
   "source": [
    "asd = 2 * math.pi * 5**2\n",
    "asd"
   ]
  }
 ],
 "metadata": {
  "kernelspec": {
   "display_name": "Python 3.9.13 ('Python-Daniel-Nilsson-97nbzLRS')",
   "language": "python",
   "name": "python3"
  },
  "language_info": {
   "codemirror_mode": {
    "name": "ipython",
    "version": 3
   },
   "file_extension": ".py",
   "mimetype": "text/x-python",
   "name": "python",
   "nbconvert_exporter": "python",
   "pygments_lexer": "ipython3",
   "version": "3.9.13"
  },
  "orig_nbformat": 4,
  "vscode": {
   "interpreter": {
    "hash": "bc050669da3b02a0dab5c74fea36723f6f6f98ad170411b0b9177bcf895e45d7"
   }
  }
 },
 "nbformat": 4,
 "nbformat_minor": 2
}
