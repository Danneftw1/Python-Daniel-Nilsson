{
 "cells": [
  {
   "cell_type": "code",
   "execution_count": 41,
   "metadata": {},
   "outputs": [
    {
     "name": "stdout",
     "output_type": "stream",
     "text": [
      "5 feet = 1.524 m\n",
      "5 inch = 12.7 cm\n",
      "5 pounds = 2.27 kg\n"
     ]
    }
   ],
   "source": [
    "\n",
    "class UnitUS:\n",
    "    def __init__(self, value):\n",
    "        self._value = value\n",
    "\n",
    "    def inch_to_cm(self):\n",
    "        \n",
    "        return self._value * 2.54\n",
    "\n",
    "    def foot_to_meters(self):\n",
    "\n",
    "        return self._value * 0.3048\n",
    "\n",
    "    def pound_to_kg(self):\n",
    "        \n",
    "        return self._value * 0.4535\n",
    "       \n",
    "\n",
    "    @property\n",
    "    def value(self) -> int:\n",
    "        print(\"age getter is running .... \")\n",
    "        return self._value\n",
    "    \n",
    "    @value.setter\n",
    "    def value(self, value: int):\n",
    "\n",
    "    # validation code\n",
    "        if not isinstance(value, int):\n",
    "            raise TypeError(f\"number must be an int, not {type(value)}\")\n",
    "    \n",
    "        if not (0 <= value <= 1000):\n",
    "            raise ValueError(\"number must be between 0 and 1000\")\n",
    "\n",
    "\n",
    "units = UnitUS(5)\n",
    "print(f\"5 feet = {units.foot_to_meters()} m\")\n",
    "print(f\"5 inch = {units.inch_to_cm()} cm\")\n",
    "print(f\"5 pounds = {units.pound_to_kg():.2f} kg\")"
   ]
  },
  {
   "cell_type": "code",
   "execution_count": 48,
   "metadata": {},
   "outputs": [
    {
     "name": "stdout",
     "output_type": "stream",
     "text": [
      "<__main__.Person object at 0x000002D810E76310>\n"
     ]
    }
   ],
   "source": [
    "import string\n",
    "\n",
    "\n",
    "class Person:\n",
    "    def __init__(self, name, age, email):\n",
    "        self._name = name\n",
    "        self._age = age\n",
    "        self._email = email\n",
    "   #--------------NAME ERROR HANDLING------------------------    \n",
    "    @property\n",
    "    def name(self) -> str:\n",
    "        return self._name\n",
    "    \n",
    "    @name.setter\n",
    "    def name(self, name: str):\n",
    "\n",
    "        if not isinstance(name, str):\n",
    "            raise TypeError(f\"number must be an string, not {type(name)}\")\n",
    "\n",
    "#--------------AGE ERROR HANDLING------------------------\n",
    "    @property\n",
    "    def age(self) -> int:\n",
    "        return self._age\n",
    "    \n",
    "    @age.setter\n",
    "    def age(self, age: int):\n",
    "\n",
    "        if not isinstance(age, int):\n",
    "            raise TypeError(f\"number must be an int, not {type(age)}\")\n",
    "    \n",
    "        if not (0 <= age <= 125):\n",
    "            raise ValueError(\"number must be between 0 and 125\")\n",
    "    \n",
    "    @property\n",
    "    def email(self) -> str and int:\n",
    "        return self._email\n",
    "\n",
    "    @email.setter\n",
    "    def email(self, email):\n",
    "\n",
    "        if not \n",
    "\n",
    "p = Person(\"Pernilla\", 32, \"pernilla@gmail.com\") \n",
    "\n",
    "try:\n",
    "    p = Person(\"Pernilla\", 32, \"pernillagmail.com\")\n",
    "except TypeError as ex:\n",
    "    print(ex)\n",
    "except ValueError as ex:\n",
    "    print(ex)\n",
    "print(p)"
   ]
  },
  {
   "cell_type": "code",
   "execution_count": null,
   "metadata": {},
   "outputs": [],
   "source": []
  }
 ],
 "metadata": {
  "kernelspec": {
   "display_name": "Python 3.9.13 ('Python-Daniel-Nilsson-97nbzLRS')",
   "language": "python",
   "name": "python3"
  },
  "language_info": {
   "codemirror_mode": {
    "name": "ipython",
    "version": 3
   },
   "file_extension": ".py",
   "mimetype": "text/x-python",
   "name": "python",
   "nbconvert_exporter": "python",
   "pygments_lexer": "ipython3",
   "version": "3.9.13"
  },
  "orig_nbformat": 4,
  "vscode": {
   "interpreter": {
    "hash": "bc050669da3b02a0dab5c74fea36723f6f6f98ad170411b0b9177bcf895e45d7"
   }
  }
 },
 "nbformat": 4,
 "nbformat_minor": 2
}
