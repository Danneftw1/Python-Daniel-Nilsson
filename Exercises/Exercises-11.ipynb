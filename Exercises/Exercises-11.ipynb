{
 "cells": [
  {
   "cell_type": "code",
   "execution_count": 9,
   "metadata": {},
   "outputs": [
    {
     "ename": "ValueError",
     "evalue": "number must be between 0 and 1000",
     "output_type": "error",
     "traceback": [
      "\u001b[1;31m---------------------------------------------------------------------------\u001b[0m",
      "\u001b[1;31mValueError\u001b[0m                                Traceback (most recent call last)",
      "\u001b[1;32me:\\Github sparade filer\\Python-Daniel-Nilsson\\Exercises\\Exercises-11.ipynb Cell 1\u001b[0m in \u001b[0;36m<cell line: 33>\u001b[1;34m()\u001b[0m\n\u001b[0;32m     <a href='vscode-notebook-cell:/e%3A/Github%20sparade%20filer/Python-Daniel-Nilsson/Exercises/Exercises-11.ipynb#W0sZmlsZQ%3D%3D?line=28'>29</a>\u001b[0m             \u001b[39mraise\u001b[39;00m \u001b[39mValueError\u001b[39;00m(\u001b[39m\"\u001b[39m\u001b[39mnumber must be between 0 and 1000\u001b[39m\u001b[39m\"\u001b[39m)\n\u001b[0;32m     <a href='vscode-notebook-cell:/e%3A/Github%20sparade%20filer/Python-Daniel-Nilsson/Exercises/Exercises-11.ipynb#W0sZmlsZQ%3D%3D?line=30'>31</a>\u001b[0m         \u001b[39mself\u001b[39m\u001b[39m.\u001b[39m_value \u001b[39m=\u001b[39m value\n\u001b[1;32m---> <a href='vscode-notebook-cell:/e%3A/Github%20sparade%20filer/Python-Daniel-Nilsson/Exercises/Exercises-11.ipynb#W0sZmlsZQ%3D%3D?line=32'>33</a>\u001b[0m units \u001b[39m=\u001b[39m UnitUS(\u001b[39m786768678\u001b[39;49m)\n\u001b[0;32m     <a href='vscode-notebook-cell:/e%3A/Github%20sparade%20filer/Python-Daniel-Nilsson/Exercises/Exercises-11.ipynb#W0sZmlsZQ%3D%3D?line=33'>34</a>\u001b[0m \u001b[39mprint\u001b[39m(\u001b[39mf\u001b[39m\u001b[39m\"\u001b[39m\u001b[39m5 feet = \u001b[39m\u001b[39m{\u001b[39;00munits\u001b[39m.\u001b[39mfoot_to_meters()\u001b[39m}\u001b[39;00m\u001b[39m m\u001b[39m\u001b[39m\"\u001b[39m)\n\u001b[0;32m     <a href='vscode-notebook-cell:/e%3A/Github%20sparade%20filer/Python-Daniel-Nilsson/Exercises/Exercises-11.ipynb#W0sZmlsZQ%3D%3D?line=34'>35</a>\u001b[0m \u001b[39mprint\u001b[39m(\u001b[39mf\u001b[39m\u001b[39m\"\u001b[39m\u001b[39m5 inch = \u001b[39m\u001b[39m{\u001b[39;00munits\u001b[39m.\u001b[39minch_to_cm()\u001b[39m}\u001b[39;00m\u001b[39m cm\u001b[39m\u001b[39m\"\u001b[39m)\n",
      "\u001b[1;32me:\\Github sparade filer\\Python-Daniel-Nilsson\\Exercises\\Exercises-11.ipynb Cell 1\u001b[0m in \u001b[0;36mUnitUS.__init__\u001b[1;34m(self, value)\u001b[0m\n\u001b[0;32m      <a href='vscode-notebook-cell:/e%3A/Github%20sparade%20filer/Python-Daniel-Nilsson/Exercises/Exercises-11.ipynb#W0sZmlsZQ%3D%3D?line=1'>2</a>\u001b[0m \u001b[39mdef\u001b[39;00m \u001b[39m__init__\u001b[39m(\u001b[39mself\u001b[39m, value):\n\u001b[1;32m----> <a href='vscode-notebook-cell:/e%3A/Github%20sparade%20filer/Python-Daniel-Nilsson/Exercises/Exercises-11.ipynb#W0sZmlsZQ%3D%3D?line=2'>3</a>\u001b[0m     \u001b[39mself\u001b[39;49m\u001b[39m.\u001b[39;49mvalue \u001b[39m=\u001b[39m value\n",
      "\u001b[1;32me:\\Github sparade filer\\Python-Daniel-Nilsson\\Exercises\\Exercises-11.ipynb Cell 1\u001b[0m in \u001b[0;36mUnitUS.value\u001b[1;34m(self, value)\u001b[0m\n\u001b[0;32m     <a href='vscode-notebook-cell:/e%3A/Github%20sparade%20filer/Python-Daniel-Nilsson/Exercises/Exercises-11.ipynb#W0sZmlsZQ%3D%3D?line=25'>26</a>\u001b[0m     \u001b[39mraise\u001b[39;00m \u001b[39mTypeError\u001b[39;00m(\u001b[39mf\u001b[39m\u001b[39m\"\u001b[39m\u001b[39mnumber must be an int, not \u001b[39m\u001b[39m{\u001b[39;00m\u001b[39mtype\u001b[39m(value)\u001b[39m}\u001b[39;00m\u001b[39m\"\u001b[39m)\n\u001b[0;32m     <a href='vscode-notebook-cell:/e%3A/Github%20sparade%20filer/Python-Daniel-Nilsson/Exercises/Exercises-11.ipynb#W0sZmlsZQ%3D%3D?line=27'>28</a>\u001b[0m \u001b[39mif\u001b[39;00m \u001b[39mnot\u001b[39;00m (\u001b[39m0\u001b[39m \u001b[39m<\u001b[39m\u001b[39m=\u001b[39m value \u001b[39m<\u001b[39m\u001b[39m=\u001b[39m \u001b[39m1000\u001b[39m):\n\u001b[1;32m---> <a href='vscode-notebook-cell:/e%3A/Github%20sparade%20filer/Python-Daniel-Nilsson/Exercises/Exercises-11.ipynb#W0sZmlsZQ%3D%3D?line=28'>29</a>\u001b[0m     \u001b[39mraise\u001b[39;00m \u001b[39mValueError\u001b[39;00m(\u001b[39m\"\u001b[39m\u001b[39mnumber must be between 0 and 1000\u001b[39m\u001b[39m\"\u001b[39m)\n\u001b[0;32m     <a href='vscode-notebook-cell:/e%3A/Github%20sparade%20filer/Python-Daniel-Nilsson/Exercises/Exercises-11.ipynb#W0sZmlsZQ%3D%3D?line=30'>31</a>\u001b[0m \u001b[39mself\u001b[39m\u001b[39m.\u001b[39m_value \u001b[39m=\u001b[39m value\n",
      "\u001b[1;31mValueError\u001b[0m: number must be between 0 and 1000"
     ]
    }
   ],
   "source": [
    "\n",
    "class UnitUS:\n",
    "    def __init__(self, value):\n",
    "        self.value = value\n",
    "\n",
    "    def inch_to_cm(self):\n",
    "        \n",
    "        return self._value * 2.54\n",
    "\n",
    "    def foot_to_meters(self):\n",
    "\n",
    "        return self._value * 0.3048\n",
    "\n",
    "    def pound_to_kg(self):\n",
    "        \n",
    "        return self._value * 0.4535\n",
    "       \n",
    "\n",
    "    @property\n",
    "    def value(self) -> int:\n",
    "        return self._value\n",
    "    \n",
    "    @value.setter\n",
    "    def value(self, value: int):\n",
    "\n",
    "        if not isinstance(value, int):\n",
    "            raise TypeError(f\"number must be an int, not {type(value)}\")\n",
    "    \n",
    "        if not (0 <= value <= 1000):\n",
    "            raise ValueError(\"number must be between 0 and 1000\")\n",
    "\n",
    "        self._value = value\n",
    "\n",
    "units = UnitUS(5)\n",
    "print(f\"5 feet = {units.foot_to_meters()} m\")\n",
    "print(f\"5 inch = {units.inch_to_cm()} cm\")\n",
    "print(f\"5 pounds = {units.pound_to_kg():.2f} kg\")"
   ]
  },
  {
   "cell_type": "code",
   "execution_count": 8,
   "metadata": {},
   "outputs": [
    {
     "ename": "TypeError",
     "evalue": "'str' object is not callable",
     "output_type": "error",
     "traceback": [
      "\u001b[1;31m---------------------------------------------------------------------------\u001b[0m",
      "\u001b[1;31mTypeError\u001b[0m                                 Traceback (most recent call last)",
      "\u001b[1;32me:\\Github sparade filer\\Python-Daniel-Nilsson\\Exercises\\Exercises-11.ipynb Cell 2\u001b[0m in \u001b[0;36m<cell line: 53>\u001b[1;34m()\u001b[0m\n\u001b[0;32m     <a href='vscode-notebook-cell:/e%3A/Github%20sparade%20filer/Python-Daniel-Nilsson/Exercises/Exercises-11.ipynb#W1sZmlsZQ%3D%3D?line=47'>48</a>\u001b[0m     \u001b[39mdef\u001b[39;00m \u001b[39m__repr__\u001b[39m(\u001b[39mself\u001b[39m):\n\u001b[0;32m     <a href='vscode-notebook-cell:/e%3A/Github%20sparade%20filer/Python-Daniel-Nilsson/Exercises/Exercises-11.ipynb#W1sZmlsZQ%3D%3D?line=48'>49</a>\u001b[0m         \u001b[39mreturn\u001b[39;00m (\u001b[39mf\u001b[39m\u001b[39m\"\u001b[39m\u001b[39mJag heter \u001b[39m\u001b[39m{\u001b[39;00m\u001b[39mself\u001b[39m\u001b[39m.\u001b[39m_name\u001b[39m}\u001b[39;00m\u001b[39m, är \u001b[39m\u001b[39m{\u001b[39;00m\u001b[39mself\u001b[39m\u001b[39m.\u001b[39m_age\u001b[39m}\u001b[39;00m\u001b[39mår gammal och min email är: \u001b[39m\u001b[39m{\u001b[39;00m\u001b[39mself\u001b[39m\u001b[39m.\u001b[39m_email\u001b[39m}\u001b[39;00m\u001b[39m\"\u001b[39m)\n\u001b[1;32m---> <a href='vscode-notebook-cell:/e%3A/Github%20sparade%20filer/Python-Daniel-Nilsson/Exercises/Exercises-11.ipynb#W1sZmlsZQ%3D%3D?line=52'>53</a>\u001b[0m p \u001b[39m=\u001b[39m Person(\u001b[39m\"\u001b[39;49m\u001b[39mPernilla\u001b[39;49m\u001b[39m\"\u001b[39;49m, \u001b[39m32\u001b[39;49m, \u001b[39m\"\u001b[39;49m\u001b[39mpernillagmail.com\u001b[39;49m\u001b[39m\"\u001b[39;49m) \n\u001b[0;32m     <a href='vscode-notebook-cell:/e%3A/Github%20sparade%20filer/Python-Daniel-Nilsson/Exercises/Exercises-11.ipynb#W1sZmlsZQ%3D%3D?line=54'>55</a>\u001b[0m \u001b[39mtry\u001b[39;00m:\n\u001b[0;32m     <a href='vscode-notebook-cell:/e%3A/Github%20sparade%20filer/Python-Daniel-Nilsson/Exercises/Exercises-11.ipynb#W1sZmlsZQ%3D%3D?line=55'>56</a>\u001b[0m     \u001b[39mprint\u001b[39m(p)\n",
      "\u001b[1;32me:\\Github sparade filer\\Python-Daniel-Nilsson\\Exercises\\Exercises-11.ipynb Cell 2\u001b[0m in \u001b[0;36mPerson.__init__\u001b[1;34m(self, name, age, email)\u001b[0m\n\u001b[0;32m      <a href='vscode-notebook-cell:/e%3A/Github%20sparade%20filer/Python-Daniel-Nilsson/Exercises/Exercises-11.ipynb#W1sZmlsZQ%3D%3D?line=2'>3</a>\u001b[0m \u001b[39mself\u001b[39m\u001b[39m.\u001b[39mname \u001b[39m=\u001b[39m name\n\u001b[0;32m      <a href='vscode-notebook-cell:/e%3A/Github%20sparade%20filer/Python-Daniel-Nilsson/Exercises/Exercises-11.ipynb#W1sZmlsZQ%3D%3D?line=3'>4</a>\u001b[0m \u001b[39mself\u001b[39m\u001b[39m.\u001b[39mage \u001b[39m=\u001b[39m age\n\u001b[1;32m----> <a href='vscode-notebook-cell:/e%3A/Github%20sparade%20filer/Python-Daniel-Nilsson/Exercises/Exercises-11.ipynb#W1sZmlsZQ%3D%3D?line=4'>5</a>\u001b[0m \u001b[39mself\u001b[39;49m\u001b[39m.\u001b[39;49memail \u001b[39m=\u001b[39m email\n",
      "\u001b[1;32me:\\Github sparade filer\\Python-Daniel-Nilsson\\Exercises\\Exercises-11.ipynb Cell 2\u001b[0m in \u001b[0;36mPerson.email\u001b[1;34m(self, email)\u001b[0m\n\u001b[0;32m     <a href='vscode-notebook-cell:/e%3A/Github%20sparade%20filer/Python-Daniel-Nilsson/Exercises/Exercises-11.ipynb#W1sZmlsZQ%3D%3D?line=40'>41</a>\u001b[0m \u001b[39mif\u001b[39;00m \u001b[39mnot\u001b[39;00m \u001b[39misinstance\u001b[39m(email, \u001b[39mstr\u001b[39m):\n\u001b[0;32m     <a href='vscode-notebook-cell:/e%3A/Github%20sparade%20filer/Python-Daniel-Nilsson/Exercises/Exercises-11.ipynb#W1sZmlsZQ%3D%3D?line=41'>42</a>\u001b[0m     \u001b[39mraise\u001b[39;00m \u001b[39mTypeError\u001b[39;00m(\u001b[39m\"\u001b[39m\u001b[39mMust be a string\u001b[39m\u001b[39m\"\u001b[39m)\n\u001b[1;32m---> <a href='vscode-notebook-cell:/e%3A/Github%20sparade%20filer/Python-Daniel-Nilsson/Exercises/Exercises-11.ipynb#W1sZmlsZQ%3D%3D?line=43'>44</a>\u001b[0m \u001b[39mif\u001b[39;00m \u001b[39mnot\u001b[39;00m \u001b[39m\"\u001b[39m\u001b[39m@\u001b[39m\u001b[39m\"\u001b[39m \u001b[39min\u001b[39;00m email(email, \u001b[39mstr\u001b[39;49m):\n\u001b[0;32m     <a href='vscode-notebook-cell:/e%3A/Github%20sparade%20filer/Python-Daniel-Nilsson/Exercises/Exercises-11.ipynb#W1sZmlsZQ%3D%3D?line=44'>45</a>\u001b[0m     \u001b[39mraise\u001b[39;00m \u001b[39mTypeError\u001b[39;00m(\u001b[39m\"\u001b[39m\u001b[39mYour email must contain \u001b[39m\u001b[39m'\u001b[39m\u001b[39m@\u001b[39m\u001b[39m'\u001b[39m\u001b[39m sign\u001b[39m\u001b[39m\"\u001b[39m)\n\u001b[0;32m     <a href='vscode-notebook-cell:/e%3A/Github%20sparade%20filer/Python-Daniel-Nilsson/Exercises/Exercises-11.ipynb#W1sZmlsZQ%3D%3D?line=45'>46</a>\u001b[0m \u001b[39mself\u001b[39m\u001b[39m.\u001b[39m_email \u001b[39m=\u001b[39m email\n",
      "\u001b[1;31mTypeError\u001b[0m: 'str' object is not callable"
     ]
    }
   ],
   "source": [
    "\n",
    "class Person:\n",
    "    def __init__(self, name: str, age: int, email: str):\n",
    "        self.name = name\n",
    "        self.age = age\n",
    "        self.email = email\n",
    "   #--------------NAME ERROR HANDLING------------------------- \n",
    "    @property\n",
    "    def name(self) -> str:\n",
    "        return self._name\n",
    "    \n",
    "    @name.setter\n",
    "    def name(self, name: str):\n",
    "\n",
    "        if not isinstance(name, str):\n",
    "            raise TypeError(f\"number must be an string, not {type(name)}\")\n",
    "        self._name = name\n",
    "\n",
    "#--------------AGE ERROR HANDLING------------------------------\n",
    "    @property\n",
    "    def age(self) -> int:\n",
    "        return self._age\n",
    "    \n",
    "    @age.setter\n",
    "    def age(self, age: int):\n",
    "\n",
    "        if not isinstance(age, int):\n",
    "            raise TypeError(f\"number must be an int, not {type(age)}\")\n",
    "    \n",
    "        if not (0 <= age <= 125):\n",
    "            raise ValueError(\"number must be between 0 and 125\")\n",
    "        self._email = age\n",
    "\n",
    "#---------------EMAIL ERROR HANDLING----------------------------    \n",
    "    @property\n",
    "    def email(self) -> str:\n",
    "        return self._email\n",
    "\n",
    "    @email.setter\n",
    "    def email(self, email: str):\n",
    "\n",
    "        if not isinstance(email, str):\n",
    "            raise TypeError(\"Must be a string\")\n",
    "\n",
    "        if not \"@\" in email(email, str):\n",
    "            raise TypeError(\"Your email must contain '@' sign\")\n",
    "        self._email = email\n",
    "\n",
    "    def __repr__(self):\n",
    "        return (f\"Jag heter {self._name}, är {self._age}år gammal och min email är: {self._email}\")\n",
    "\n",
    "\n",
    "\n",
    "p = Person(\"Pernilla\", 32, \"pernillagmail.com\") \n",
    "\n",
    "try:\n",
    "    print(p)\n",
    "except TypeError as x:\n",
    "    print(x)\n",
    "except ValueError as z:\n",
    "    print(z)\n"
   ]
  },
  {
   "cell_type": "code",
   "execution_count": 12,
   "metadata": {},
   "outputs": [
    {
     "name": "stdout",
     "output_type": "stream",
     "text": [
      "Jag heter Pernil---la456-4-5632645\n"
     ]
    }
   ],
   "source": [
    "class Person:\n",
    "    def __init__(self, name: str):\n",
    "        self._name = name\n",
    "   #--------------NAME ERROR HANDLING------------------------- \n",
    "    @property\n",
    "    def name(self) -> str:\n",
    "        return self._name\n",
    "    \n",
    "    @name.setter\n",
    "    def name(self, name: str) -> None:\n",
    "\n",
    "        if not isinstance(name, str):\n",
    "            raise TypeError(f\"number must be an string, not {type(name)}\")\n",
    "        self.name = name\n",
    "    \n",
    "    def __repr__(self) -> str:\n",
    "        return (f\"Jag heter {self.name}\")\n",
    "\n",
    "\n",
    "p = Person(\"Pernil---la456-4-5632645\") \n",
    "\n",
    "try:\n",
    "    print(p)\n",
    "except TypeError as x:\n",
    "    print(x)"
   ]
  },
  {
   "cell_type": "code",
   "execution_count": 13,
   "metadata": {},
   "outputs": [
    {
     "name": "stdout",
     "output_type": "stream",
     "text": [
      "Person(name = Pernila4345634566)\n"
     ]
    }
   ],
   "source": [
    "\n",
    "class Person: \n",
    "    def __init__(self, name: str): \n",
    "        self.name = name\n",
    "\n",
    "    @property\n",
    "    def name(self) -> str:\n",
    "        return self._name\n",
    "    \n",
    "    @name.setter \n",
    "    def name(self, value: str) -> None:\n",
    "        if not isinstance(value, str):\n",
    "            raise TypeError(f\"Name must be string, not {type(value)}\")\n",
    "\n",
    "        if not (1 < len(value) < 26):\n",
    "            raise ValueError(f\"Name must be between 2 and 25\")\n",
    "        self._name = value\n",
    "\n",
    "    def __repr__(self) -> str:\n",
    "        return f\"Person(name = {self.name})\"\n",
    "\n",
    "p = Person(\"Pernila4345634566\")\n",
    "print(p.__repr__())"
   ]
  },
  {
   "cell_type": "code",
   "execution_count": null,
   "metadata": {},
   "outputs": [],
   "source": [
    "class Converter:\n",
    "\n",
    "    def __init__(self, unit):\n",
    "        self.unit = unit\n",
    "\n",
    "    @property\n",
    "    def unit(self) -> int:\n",
    "        return self._unit\n",
    "\n",
    "\n",
    "    @unit.setter \n",
    "    def unit(self, unit: int) -> None:\n",
    "        if not isinstance(unit, (int, float)):\n",
    "            raise TypeError(f\"Unit must be a number, not {type(unit)}\")\n",
    "\n",
    "\n",
    "        if not (0 < unit < 1000):\n",
    "            raise ValueError(\"Unit must be between 0 and 1000\")\n",
    "\n",
    "        self._unit = unit\n",
    "\n",
    "    def inch_to_cm(self):\n",
    "        return self.unit*2.54\n",
    "        \n",
    "\n",
    "    def foot_to_meters(self,):\n",
    "        return self.unit*0.304\n",
    "\n",
    "    def pound_to_kg(self):\n",
    "        return self.unit*0.453\n",
    "\n",
    "    def __repr__(self):\n",
    "        return f\"Unit = {self.unit}\"\n",
    "\n",
    "\n",
    "\n",
    "unit1 = Converter(234)\n",
    "print(unit1.inch_to_cm())\n",
    "print(unit1.foot_to_meters())\n",
    "print(unit1.pound_to_kg())\n",
    "print(unit1)"
   ]
  }
 ],
 "metadata": {
  "kernelspec": {
   "display_name": "Python 3.9.13 ('Python-Daniel-Nilsson-97nbzLRS')",
   "language": "python",
   "name": "python3"
  },
  "language_info": {
   "codemirror_mode": {
    "name": "ipython",
    "version": 3
   },
   "file_extension": ".py",
   "mimetype": "text/x-python",
   "name": "python",
   "nbconvert_exporter": "python",
   "pygments_lexer": "ipython3",
   "version": "3.9.13"
  },
  "orig_nbformat": 4,
  "vscode": {
   "interpreter": {
    "hash": "bc050669da3b02a0dab5c74fea36723f6f6f98ad170411b0b9177bcf895e45d7"
   }
  }
 },
 "nbformat": 4,
 "nbformat_minor": 2
}
