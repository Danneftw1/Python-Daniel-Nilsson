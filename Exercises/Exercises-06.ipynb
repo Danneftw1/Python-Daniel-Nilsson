{
 "cells": [
  {
   "cell_type": "markdown",
   "metadata": {},
   "source": [
    "## Exercise 1"
   ]
  },
  {
   "cell_type": "code",
   "execution_count": 10,
   "metadata": {},
   "outputs": [
    {
     "name": "stdout",
     "output_type": "stream",
     "text": [
      "10 * 10 / 2 = 50.0\n",
      "None\n"
     ]
    }
   ],
   "source": [
    "\n",
    "def area(basen, hojden):\n",
    "    utrakning = basen * hojden / 2\n",
    "    return print(f\"{basen} * {hojden} / 2 = {utrakning}\")\n",
    "    \n",
    "print(area(10,10))\n"
   ]
  },
  {
   "cell_type": "markdown",
   "metadata": {},
   "source": [
    "## Exercise 2A, B & C"
   ]
  },
  {
   "cell_type": "code",
   "execution_count": 31,
   "metadata": {},
   "outputs": [
    {
     "name": "stdout",
     "output_type": "stream",
     "text": [
      "10.44030650891055\n"
     ]
    }
   ],
   "source": [
    "# Uppgift A och B\n",
    "\n",
    "import math\n",
    "\n",
    "x1 = int(input(\"x1\"))\n",
    "x2 = int(input(\"x2\"))\n",
    "y1 = int(input(\"y1\"))\n",
    "y2 = int(input(\"y2\"))\n",
    "\n",
    "def euclid(x1, x2, y1, y2):       \n",
    "    answer = math.dist([x1, x2], [y1, y2])\n",
    "    return answer\n",
    "\n",
    "print(euclid(x1, x2, y1, y2))\n"
   ]
  },
  {
   "cell_type": "code",
   "execution_count": 132,
   "metadata": {},
   "outputs": [
    {
     "name": "stdout",
     "output_type": "stream",
     "text": [
      "13.45362404707371\n",
      "[10.44030650891055, 9.055385138137417, 14.142135623730951, 4.47213595499958, 13.45362404707371]\n"
     ]
    }
   ],
   "source": [
    "# Uppgift C\n",
    "\n",
    "import math\n",
    "\n",
    "p1 = [0, 0, 0, 0, 0, 0, 0, 0, 0, 0]\n",
    "p2 = [10, 3, -1, -9, 10, -10, 4, -2, 9, -10]\n",
    "list1 = []\n",
    "\n",
    "\n",
    "def calc_distance(pointA, pointB): # simple function\n",
    "    ed = math.sqrt((p1[0]-p2[0])**2+(p1[1]-p2[1])**2)\n",
    "    list1.append(ed)\n",
    "    ed = math.sqrt((p1[2]-p2[2])**2+(p1[3]-p2[3])**2)\n",
    "    list1.append(ed)\n",
    "    ed = math.sqrt((p1[4]-p2[4])**2+(p1[5]-p2[5])**2)\n",
    "    list1.append(ed)\n",
    "    ed = math.sqrt((p1[6]-p2[6])**2+(p1[7]-p2[7])**2)\n",
    "    list1.append(ed)\n",
    "    ed = math.sqrt((p1[8]-p2[8])**2+(p1[9]-p2[9])**2)\n",
    "    list1.append(ed)\n",
    "    return ed\n",
    "\n",
    "\n",
    "print(calc_distance(p1, p2))\n",
    "print(list1)"
   ]
  }
 ],
 "metadata": {
  "kernelspec": {
   "display_name": "Python 3.9.13 64-bit",
   "language": "python",
   "name": "python3"
  },
  "language_info": {
   "codemirror_mode": {
    "name": "ipython",
    "version": 3
   },
   "file_extension": ".py",
   "mimetype": "text/x-python",
   "name": "python",
   "nbconvert_exporter": "python",
   "pygments_lexer": "ipython3",
   "version": "3.9.13"
  },
  "orig_nbformat": 4,
  "vscode": {
   "interpreter": {
    "hash": "167998f8c3a05581fbd9ccdd36f349f3264dd01bf05c9e030bf6452b394f7000"
   }
  }
 },
 "nbformat": 4,
 "nbformat_minor": 2
}
