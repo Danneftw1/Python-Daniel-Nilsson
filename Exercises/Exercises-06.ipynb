{
 "cells": [
  {
   "cell_type": "code",
   "execution_count": null,
   "metadata": {},
   "outputs": [],
   "source": []
  }
 ],
 "metadata": {
  "kernelspec": {
   "display_name": "Python 3.9.13 64-bit",
   "language": "python",
   "name": "python3"
  },
  "language_info": {
   "name": "python",
   "version": "3.9.13"
  },
  "orig_nbformat": 4,
  "vscode": {
   "interpreter": {
    "hash": "8da6bdb9356e5a7e54d4d172fa20b64d1e75e811f5f66310fd3dd338c310a91c"
   }
  }
 },
 "nbformat": 4,
 "nbformat_minor": 2
}
