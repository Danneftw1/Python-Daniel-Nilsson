{
 "cells": [
  {
   "cell_type": "markdown",
   "metadata": {},
   "source": [
    "## Exercise 1"
   ]
  },
  {
   "cell_type": "code",
   "execution_count": 10,
   "metadata": {},
   "outputs": [
    {
     "name": "stdout",
     "output_type": "stream",
     "text": [
      "10 * 10 / 2 = 50.0\n",
      "None\n"
     ]
    }
   ],
   "source": [
    "\n",
    "def area(basen, hojden):\n",
    "    utrakning = basen * hojden / 2\n",
    "    return print(f\"{basen} * {hojden} / 2 = {utrakning}\")\n",
    "    \n",
    "print(area(10,10))\n"
   ]
  },
  {
   "cell_type": "markdown",
   "metadata": {},
   "source": [
    "## Exercise 2"
   ]
  },
  {
   "cell_type": "code",
   "execution_count": 21,
   "metadata": {},
   "outputs": [
    {
     "name": "stdout",
     "output_type": "stream",
     "text": [
      "5.099019513592785\n"
     ]
    }
   ],
   "source": [
    "import math\n",
    "\n",
    "x1 = int(input(\"x1\"))\n",
    "x2 = int(input(\"x2\"))\n",
    "y1 = int(input(\"y1\"))\n",
    "y2 = int(input(\"y2\"))\n",
    "\n",
    "def euclid(x1, x2, y1, y2):       \n",
    "    answer = math.dist([x1, x2], [y1, y2])\n",
    "    return answer\n",
    "\n",
    "print(euclid(x1, x2, y1, y2))\n"
   ]
  },
  {
   "cell_type": "code",
   "execution_count": 30,
   "metadata": {},
   "outputs": [
    {
     "name": "stdout",
     "output_type": "stream",
     "text": [
      "7.0\n"
     ]
    }
   ],
   "source": [
    "import math\n",
    "\n",
    "P = [10]\n",
    "Q = [3]\n",
    "\n",
    "def euclid(P, Q):       \n",
    "    \n",
    "    \n",
    "    answer = math.dist(P, Q)\n",
    "    return answer\n",
    "\n",
    "print(euclid(P, Q))"
   ]
  }
 ],
 "metadata": {
  "kernelspec": {
   "display_name": "Python 3.9.13 64-bit",
   "language": "python",
   "name": "python3"
  },
  "language_info": {
   "codemirror_mode": {
    "name": "ipython",
    "version": 3
   },
   "file_extension": ".py",
   "mimetype": "text/x-python",
   "name": "python",
   "nbconvert_exporter": "python",
   "pygments_lexer": "ipython3",
   "version": "3.9.13"
  },
  "orig_nbformat": 4,
  "vscode": {
   "interpreter": {
    "hash": "167998f8c3a05581fbd9ccdd36f349f3264dd01bf05c9e030bf6452b394f7000"
   }
  }
 },
 "nbformat": 4,
 "nbformat_minor": 2
}
