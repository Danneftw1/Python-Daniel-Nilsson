{
 "cells": [
  {
   "cell_type": "markdown",
   "metadata": {},
   "source": [
    "## Exercise 1"
   ]
  },
  {
   "cell_type": "code",
   "execution_count": 2,
   "metadata": {},
   "outputs": [
    {
     "name": "stdout",
     "output_type": "stream",
     "text": [
      "400\n"
     ]
    }
   ],
   "source": [
    "\n",
    "\n",
    "course = dict(\n",
    "\n",
    "    databaser = 25,\n",
    "    databehandling = 25, \n",
    "    djup_maskininlärning = 40, \n",
    "    examensarbete = 15,\n",
    "    introduktions_till_ai = 5,\n",
    "    lia_1 = 40,\n",
    "    lia_2 = 70, \n",
    "    maskininlärning = 45, \n",
    "    praktisk_maskininlärning = 35,\n",
    "    programmering_med_python = 40,\n",
    "    projektmetodik = 10,\n",
    "    statistiska_metoder = 30, \n",
    "    linjär_algebra = 20 \n",
    ")\n",
    "\n",
    "values = course.values()\n",
    "\n",
    "total = sum(values)\n",
    "\n",
    "print(total)"
   ]
  },
  {
   "cell_type": "markdown",
   "metadata": {},
   "source": [
    "## Exercise 2"
   ]
  },
  {
   "cell_type": "code",
   "execution_count": 21,
   "metadata": {},
   "outputs": [
    {
     "name": "stdout",
     "output_type": "stream",
     "text": [
      "1: 166150\n",
      "2: 165803\n",
      "3: 167175\n",
      "4: 167225\n",
      "5: 166944\n",
      "6: 166703\n"
     ]
    }
   ],
   "source": [
    "import random as rnd\n",
    "\n",
    "dice = [rnd.randint(1,6) for i in range(1000000)]\n",
    "\n",
    "dice_rolls = dict(\n",
    "\n",
    "    count_1 = dice.count(1),\n",
    "    count_2 = dice.count(2),\n",
    "    count_3 = dice.count(3),\n",
    "    count_4 = dice.count(4),\n",
    "    count_5 = dice.count(5),\n",
    "    count_6 = dice.count(6)\n",
    "\n",
    ")\n",
    "\n",
    "print(f\"1: {dice_rolls['count_1']}\")\n",
    "print(f\"2: {dice_rolls['count_2']}\")\n",
    "print(f\"3: {dice_rolls['count_3']}\")\n",
    "print(f\"4: {dice_rolls['count_4']}\")\n",
    "print(f\"5: {dice_rolls['count_5']}\")\n",
    "print(f\"6: {dice_rolls['count_6']}\")"
   ]
  }
 ],
 "metadata": {
  "kernelspec": {
   "display_name": "Python 3.9.13 ('Python-Daniel-Nilsson-dM3wHzD4')",
   "language": "python",
   "name": "python3"
  },
  "language_info": {
   "codemirror_mode": {
    "name": "ipython",
    "version": 3
   },
   "file_extension": ".py",
   "mimetype": "text/x-python",
   "name": "python",
   "nbconvert_exporter": "python",
   "pygments_lexer": "ipython3",
   "version": "3.9.13"
  },
  "orig_nbformat": 4,
  "vscode": {
   "interpreter": {
    "hash": "c3a8699ff25c9cbc0813ce7fc610555f4abadcd389eeaf7d4f4aa58333d28396"
   }
  }
 },
 "nbformat": 4,
 "nbformat_minor": 2
}
