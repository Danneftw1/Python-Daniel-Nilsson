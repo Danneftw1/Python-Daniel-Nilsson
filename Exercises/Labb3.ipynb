{
 "cells": [
  {
   "cell_type": "code",
   "execution_count": 83,
   "metadata": {},
   "outputs": [],
   "source": [
    "from __future__ import annotations\n",
    "import math\n",
    "from matplotlib.pyplot import plot as plt\n",
    "\n",
    "#-------------------------------SHAPE CLASS------------------------------------------------------\n",
    "class Shapes: # Super klassen (överklassen)\n",
    "    \"\"\"Super class for Shapes\"\"\"\n",
    "    def __init__ (self, x_pos: float, y_pos: float):\n",
    "        \"\"\"main attributes for subclasses\"\"\"\n",
    "        self.x_pos = x_pos\n",
    "        self.y_pos = y_pos\n",
    "\n",
    "    def __repr__(self) -> None:\n",
    "        return f\"X-position: {self.x_pos} Y-position: {self.y_pos}\"\n",
    "\n",
    "    def __str__(self) -> None:\n",
    "        return f\"{self.x_pos}{self.y_pos}\"\n",
    "\n",
    "#---------------------------GETTER & SETTER X_POS--------------------------------------------    \n",
    "    \n",
    "#----------------------------GETTER & SETTER Y_POS--------------------------------------------\n",
    "\n",
    "#--------------------------------MOVER, POINT-INSIDE & PLOT----------------------------------------------------\n",
    "\n",
    "    def translation_mover(self, x, y) -> None:\n",
    "        pass\n",
    "\n",
    "    def point_inside(self, point) -> bool:\n",
    "        pass\n",
    "\n",
    "    def plot_shape(self):\n",
    "        pass\n",
    "\n",
    "    def middle_position_x_y(self):\n",
    "        pass\n",
    "\n"
   ]
  },
  {
   "cell_type": "code",
   "execution_count": 85,
   "metadata": {},
   "outputs": [
    {
     "name": "stdout",
     "output_type": "stream",
     "text": [
      "22\n"
     ]
    }
   ],
   "source": [
    "class Circle(Shapes):\n",
    "    def __init__(self, x_pos: float, y_pos: float, radius: int):\n",
    "        super().__init__(x_pos, y_pos) # what is sent up to super class (kan inte skicka med radius)\n",
    "    \n",
    "        self.radius = radius\n",
    "\n",
    "#-----------------------------GETTER & SETTER----------------------------------------\n",
    "\n",
    "#---------------------------------METHODS----------------------------------------------\n",
    "    \n",
    "    def circle_checker(self, radius) -> bool:\n",
    "        pass\n",
    "\n",
    "    def circle_circumference(self, radius) -> float:\n",
    "        circumference = math.pi * radius**2\n",
    "        return Circle(circumference)\n",
    "    \n",
    "    def circle_area(self) -> float:\n",
    "        area = 2 * \n",
    "\n",
    "\n",
    "c = Circle(2,2,2)\n",
    "print(c)"
   ]
  },
  {
   "cell_type": "code",
   "execution_count": 10,
   "metadata": {},
   "outputs": [],
   "source": [
    "class Rectangle(Shapes):\n",
    "    def __init__(self, x_pos: float, y_pos: float, rectangle_base: float, rectangle_height: float):\n",
    "        super().__init__(x_pos, y_pos, rectangle_base, rectangle_height)\n",
    "\n",
    "        self.rectangle_base = rectangle_base\n",
    "        self.rectangle_height = rectangle_height\n",
    "\n",
    "    def rectangle_checker(self) -> bool:\n",
    "        pass\n",
    "    \n",
    "    def rectangle_circumference(self, value) -> float:\n",
    "        pass\n",
    "\n",
    "    def rectangle_area(self, value) -> float:\n",
    "        pass"
   ]
  },
  {
   "cell_type": "markdown",
   "metadata": {},
   "source": [
    "## getter och setter för x, y, radius, bas och höjd"
   ]
  },
  {
   "cell_type": "code",
   "execution_count": null,
   "metadata": {},
   "outputs": [],
   "source": [
    "    @property\n",
    "    def radius(self):\n",
    "        \"\"\"Getter & setter for radius\"\"\"\n",
    "        return self._radius # _ är den privata versionen av radius\n",
    "\n",
    "    @radius.setter\n",
    "    def radius (self, radius: int ):\n",
    "        if not isinstance (radius, int):\n",
    "            raise TypeError (f\"Y-position must be a float, not {type(radius)}\")\n",
    "        \n",
    "        if not (0 < radius < 10):\n",
    "            raise ValueError (\"You must write a number between 1 and 10, not nothing\")\n",
    "\n",
    "\n",
    "\n",
    "        @property\n",
    "    def y_pos(self):\n",
    "        \"\"\"Getter & setter for y_pos\"\"\"\n",
    "        return self._y_pos # _ är den privata versionen av y_pos\n",
    "\n",
    "    @y_pos.setter\n",
    "    def y_pos (self, y_pos: int):\n",
    "\n",
    "        if not isinstance (y_pos, int):\n",
    "            raise TypeError (f\"Y-position must be a float, not {type(y_pos)}\")\n",
    "        \n",
    "        if not (0 < y_pos < 10):\n",
    "            raise ValueError (\"You must write a number between 1 and 10, not nothing\")\n",
    "\n",
    "        self._y_pos = y_pos\n",
    "    \n",
    "\n",
    "        @property\n",
    "    def x_pos(self):\n",
    "        \"\"\"Getter & setter for x_pos\"\"\"\n",
    "        return self._x_pos # _ är den privata versionen av titeln\n",
    "\n",
    "    @x_pos.setter\n",
    "    def x_pos (self, x_pos: int):\n",
    "\n",
    "        if not isinstance (x_pos, int):\n",
    "            raise TypeError (f\"Y-position must be a float, not {type(x_pos)}\")\n",
    "        \n",
    "        if not (0 < x_pos < 10):\n",
    "            raise ValueError (\"You must write a number between 1 and 10, not nothing\")\n",
    "\n",
    "        self._x_pos = x_pos"
   ]
  },
  {
   "cell_type": "code",
   "execution_count": 70,
   "metadata": {},
   "outputs": [
    {
     "data": {
      "image/png": "[encoded data removed]",
      "text/plain": [
       "<Figure size 1000x1000 with 1 Axes>"
      ]
     },
     "metadata": {},
     "output_type": "display_data"
    }
   ],
   "source": [
    "import matplotlib.pyplot as plt\n",
    "from matplotlib.patches import Rectangle\n",
    "from matplotlib.patches import Circle\n",
    "import numpy as np\n",
    "\n",
    "# input1 = float(input(\"x\"))\n",
    "# input2 = float(input(\"y\"))\n",
    "\n",
    "x = 0\n",
    "y = 0\n",
    "\n",
    "bredd = 6\n",
    "hojd = 8\n",
    "bredd = bred/2\n",
    "\n",
    "xbredd = (x - bredd/2 * y - hojd/2)\n",
    "xhojd = (x - bredd/2 * y - hojd/2)\n",
    "\n",
    "# (x1 + b/2 * y1 + h/2)\n",
    "\n",
    "rect = Rectangle((xbredd, xhojd), 6, 6, alpha=0.3, fill=True, color=\"b\") #förkortning funkar för färgen\n",
    "circle = Circle((0,0), 5, alpha=0.3, fill=True, color=\"r\")\n",
    "\n",
    "\n",
    "\n",
    "plt.figure(figsize=(10, 10))\n",
    "\n",
    "plt.axis([-10, 10, -10, 10])\n",
    "plt.gca().add_patch(rect);\n",
    "plt.gca().add_patch(circle);"
   ]
  }
 ],
 "metadata": {
  "kernelspec": {
   "display_name": "Python 3.9.13 ('Python-Daniel-Nilsson-dM3wHzD4')",
   "language": "python",
   "name": "python3"
  },
  "language_info": {
   "codemirror_mode": {
    "name": "ipython",
    "version": 3
   },
   "file_extension": ".py",
   "mimetype": "text/x-python",
   "name": "python",
   "nbconvert_exporter": "python",
   "pygments_lexer": "ipython3",
   "version": "3.9.13"
  },
  "orig_nbformat": 4,
  "vscode": {
   "interpreter": {
    "hash": "c3a8699ff25c9cbc0813ce7fc610555f4abadcd389eeaf7d4f4aa58333d28396"
   }
  }
 },
 "nbformat": 4,
 "nbformat_minor": 2
}
