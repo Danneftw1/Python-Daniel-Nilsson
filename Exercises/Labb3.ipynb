{
 "cells": [
  {
   "cell_type": "code",
   "execution_count": 16,
   "metadata": {},
   "outputs": [],
   "source": [
    "\n",
    "\n",
    "class Video:\n",
    "    def __init__ (self, title: str, genre: str, rating: float) -> None:\n",
    "        \"\"\"main attributes for subclasses\"\"\"\n",
    "        self.title = title\n",
    "        self.genre = genre\n",
    "        self.rating = rating\n",
    "    \n",
    "    @property\n",
    "    def title(self):\n",
    "        \"\"\"Getter for title\"\"\"\n",
    "        return self._title # _ är den privata versionen av titeln\n",
    "\n",
    "    @title.setter\n",
    "    def title(self, value: str) -> str:\n",
    "\n",
    "        if type(value) != str: # om titeln inte är string - error msg\n",
    "            raise TypeError (f\"Movie title must contain a string, not {type(value)}\")\n",
    "        \n",
    "        if value.strip() == \"\": # value cant be null, och tar bort mellanslag\n",
    "            raise ValueError (\"Movie title can't be nothing, requires atleast 1 character\")\n",
    "\n",
    "        value = value.capitalize()\n",
    "        self._title = value\n",
    "\n",
    "    # TODO Getter och setter för genre och rating\n",
    "\n",
    "    @property\n",
    "    def genre(self):\n",
    "        \"\"\"Getter for genre\"\"\"\n",
    "        return self._genre # _ är den privata versionen av titeln\n",
    "\n",
    "    @genre.setter\n",
    "    def genre(self, value: str) -> str:\n",
    "        # will check if the genre input is a valid genre\n",
    "        genre_list = [\"Action\", \"Comedy\", \"Drama\", \"Fantasy\", \"Horror\", \"Mystery\", \"Romance\", \"Thriller\"]\n",
    "        if value.upper() not in genre_list: # checks if input is in the list\n",
    "            raise ValueError (f\"{type(value)} is not a valid genre, try again\")\n",
    "\n",
    "        value = value.capitalize()\n",
    "        self._genre = value\n",
    "\n",
    "    @property\n",
    "    def rating(self):\n",
    "        \"\"\"Getter for genre\"\"\"\n",
    "        return self._rating # _ är den privata versionen av titeln\n",
    "\n",
    "    @rating.setter\n",
    "    def rating(self, value: int) -> int:\n",
    "        # cannot be nothing\n",
    "        # positive number\n",
    "        # int\n",
    "        if type(value) != int:\n",
    "            raise TypeError(f\"Must be an int, try again with a whole number\")\n",
    "        \n",
    "        if type(value) < 0 or type(value) > 10:\n",
    "            raise ValueError (f\"The rating must be whole number from 1 to 10, not {type(value)}\")\n",
    "        self._rating = value\n",
    "\n",
    "# TODO TV-serie class\n",
    "# TODO Movie class\n",
    "# TODO Documentary class\n",
    "        \n"
   ]
  },
  {
   "cell_type": "code",
   "execution_count": 15,
   "metadata": {},
   "outputs": [],
   "source": [
    "\n",
    "title = \"\"\n",
    "\n",
    "try:\n",
    "    title\n",
    "except TypeError as x:\n",
    "    print(x)\n",
    "except ValueError as z:\n",
    "    print(z)"
   ]
  }
 ],
 "metadata": {
  "kernelspec": {
   "display_name": "Python 3.9.13 ('Python-Daniel-Nilsson-97nbzLRS')",
   "language": "python",
   "name": "python3"
  },
  "language_info": {
   "codemirror_mode": {
    "name": "ipython",
    "version": 3
   },
   "file_extension": ".py",
   "mimetype": "text/x-python",
   "name": "python",
   "nbconvert_exporter": "python",
   "pygments_lexer": "ipython3",
   "version": "3.9.13"
  },
  "orig_nbformat": 4,
  "vscode": {
   "interpreter": {
    "hash": "bc050669da3b02a0dab5c74fea36723f6f6f98ad170411b0b9177bcf895e45d7"
   }
  }
 },
 "nbformat": 4,
 "nbformat_minor": 2
}
