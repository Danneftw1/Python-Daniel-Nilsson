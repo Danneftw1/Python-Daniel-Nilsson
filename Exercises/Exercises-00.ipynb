{
 "cells": [
  {
   "cell_type": "markdown",
   "metadata": {},
   "source": [
    "### Exercise 1"
   ]
  },
  {
   "cell_type": "code",
   "execution_count": 5,
   "metadata": {},
   "outputs": [
    {
     "name": "stdout",
     "output_type": "stream",
     "text": [
      "5.0\n",
      "4.9\n"
     ]
    }
   ],
   "source": [
    "from math import sqrt\n",
    "\n",
    "# Exercise a\n",
    "\n",
    "a = 3\n",
    "b = 4\n",
    "\n",
    "print(sqrt(a**2 + b**2))\n",
    "# Svar: 5 lenth units\n",
    "\n",
    "# Exercise b\n",
    "\n",
    "c = 7.0\n",
    "a = 5.0\n",
    "b = sqrt(c**2-a**2)\n",
    "\n",
    "print(f\"{b:.1f}\")\n",
    "\n",
    "# Svar: 4.9 length"
   ]
  },
  {
   "cell_type": "markdown",
   "metadata": {},
   "source": [
    "### Exercise 2"
   ]
  },
  {
   "cell_type": "code",
   "execution_count": 21,
   "metadata": {},
   "outputs": [
    {
     "name": "stdout",
     "output_type": "stream",
     "text": [
      "0.821917808219178\n"
     ]
    }
   ],
   "source": [
    "a = 300\n",
    "b = 365\n",
    "\n",
    "print(a/b)\n",
    "\n",
    "# Svar: Accuracy of ~82.19%"
   ]
  },
  {
   "cell_type": "markdown",
   "metadata": {},
   "source": [
    "### Exercise 3"
   ]
  },
  {
   "cell_type": "code",
   "execution_count": 43,
   "metadata": {},
   "outputs": [
    {
     "name": "stdout",
     "output_type": "stream",
     "text": [
      "0.987\n"
     ]
    }
   ],
   "source": [
    "accuracy = (2+985)/(2+985+2+11)\n",
    "\n",
    "print(accuracy)\n",
    "\n",
    "# Svar: accuracy is 0.987"
   ]
  },
  {
   "cell_type": "markdown",
   "metadata": {},
   "source": [
    "### Exercise 4"
   ]
  },
  {
   "cell_type": "code",
   "execution_count": 6,
   "metadata": {},
   "outputs": [
    {
     "name": "stdout",
     "output_type": "stream",
     "text": [
      "0.75\n",
      "1\n"
     ]
    }
   ],
   "source": [
    "#A = (4,4)\n",
    "#B = (0,1)\n",
    "m = 1\n",
    "\n",
    "K = (1-4)/(0-4)\n",
    "\n",
    "# 4 = 4*0.75 + m\n",
    "# 4 = 3 + m\n",
    "# 1 = m\n",
    "\n",
    "print (K)\n",
    "print(m)\n",
    "\n",
    "# Svar: y = 0.75x + 1\n",
    "\n"
   ]
  },
  {
   "cell_type": "markdown",
   "metadata": {},
   "source": [
    "### Exercise 5"
   ]
  },
  {
   "cell_type": "code",
   "execution_count": 67,
   "metadata": {},
   "outputs": [
    {
     "name": "stdout",
     "output_type": "stream",
     "text": [
      "5.0990195135927845\n"
     ]
    }
   ],
   "source": [
    "#p1 = (3,5)\n",
    "#p2 = (-2,4)\n",
    "\n",
    "x2 = -2\n",
    "x1 = 3\n",
    "y2 = 4\n",
    "y1 = 5\n",
    "\n",
    "print(sqrt((x2-x1)**2+(y2-y1)**2))\n",
    "\n",
    "# Svar: ~5.1 units"
   ]
  },
  {
   "cell_type": "markdown",
   "metadata": {},
   "source": [
    "### Exercise 5 (2)"
   ]
  },
  {
   "cell_type": "code",
   "execution_count": null,
   "metadata": {},
   "outputs": [],
   "source": [
    "import math\n",
    "\n",
    "# gör en lista av dem två punkterna istället\n",
    "point1 = [3,5]\n",
    "point2 = [-2,4]\n",
    "\n",
    "distance = math.sqrt ((point1[0]-point2[0])**2 + (point1[1]-point2[1])**2)"
   ]
  },
  {
   "cell_type": "markdown",
   "metadata": {},
   "source": [
    "### Exercise 6"
   ]
  },
  {
   "cell_type": "code",
   "execution_count": 81,
   "metadata": {},
   "outputs": [
    {
     "name": "stdout",
     "output_type": "stream",
     "text": [
      "4.123105625617661\n"
     ]
    }
   ],
   "source": [
    "# p1 = 2\n",
    "# p2 = 1\n",
    "# p3 = 4\n",
    "# q1 = 3\n",
    "# q2 = 1\n",
    "# q3 = 0\n",
    "\n",
    "distance = (sqrt((2-3)**2+(1-1)**2+(4-0)**2))\n",
    "\n",
    "print(distance)"
   ]
  }
 ],
 "metadata": {
  "kernelspec": {
   "display_name": "Python 3.9.13 ('Python-Daniel-Nilsson-97nbzLRS')",
   "language": "python",
   "name": "python3"
  },
  "language_info": {
   "codemirror_mode": {
    "name": "ipython",
    "version": 3
   },
   "file_extension": ".py",
   "mimetype": "text/x-python",
   "name": "python",
   "nbconvert_exporter": "python",
   "pygments_lexer": "ipython3",
   "version": "3.9.13"
  },
  "orig_nbformat": 4,
  "vscode": {
   "interpreter": {
    "hash": "bc050669da3b02a0dab5c74fea36723f6f6f98ad170411b0b9177bcf895e45d7"
   }
  }
 },
 "nbformat": 4,
 "nbformat_minor": 2
}
