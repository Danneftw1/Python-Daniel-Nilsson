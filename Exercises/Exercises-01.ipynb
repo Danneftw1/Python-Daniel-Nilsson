{
 "cells": [
  {
   "cell_type": "markdown",
   "metadata": {},
   "source": [
    "### Exercise 1"
   ]
  },
  {
   "cell_type": "code",
   "execution_count": 9,
   "metadata": {},
   "outputs": [
    {
     "name": "stdout",
     "output_type": "stream",
     "text": [
      "Ditt nummer är positivt\n"
     ]
    }
   ],
   "source": [
    "\n",
    "num = float (input(\"Skriv ett nummer:\"))\n",
    "\n",
    "if num < 0:\n",
    "    print(\"Ditt nummer är negativt\")\n",
    "elif num == 0:\n",
    "    print(\"Ditt nummer är noll\")\n",
    "else:\n",
    "    print(\"Ditt nummer är positivt\")\n",
    "\n",
    "# elif = if the previous condition weren't true, then try this\n"
   ]
  },
  {
   "cell_type": "markdown",
   "metadata": {},
   "source": [
    "### Exercise 2"
   ]
  },
  {
   "cell_type": "code",
   "execution_count": 11,
   "metadata": {},
   "outputs": [
    {
     "name": "stdout",
     "output_type": "stream",
     "text": [
      "du har skrivit in samma nummer 2 gånger\n"
     ]
    }
   ],
   "source": [
    "\n",
    "num1 = float (input(\"Skriv ett nummer\"))\n",
    "num2 = float (input(\"Skriv ett till nummer\"))\n",
    "\n",
    "if num1 < num2:\n",
    "    print (f\"{num1} är minst\")\n",
    "elif num1 == num2:\n",
    "    print(\"du har skrivit in samma nummer 2 gånger\")\n",
    "else:\n",
    "    print (f\"{num2} är minst\")\n",
    "\n",
    "    # int fungerar bara för heltal, float så kan du ha med kommatecken\n",
    "    # elif funkar så att om du skriver in värde två gånger, så är ingen minst\n"
   ]
  },
  {
   "cell_type": "markdown",
   "metadata": {},
   "source": [
    "### Exercise 3"
   ]
  },
  {
   "cell_type": "code",
   "execution_count": 33,
   "metadata": {},
   "outputs": [
    {
     "name": "stdout",
     "output_type": "stream",
     "text": [
      "It is a triangle with no right angle\n"
     ]
    }
   ],
   "source": [
    "num1 = float (input(\"skriv ett nummer:\"))\n",
    "num2 = float (input(\"skriv ett till nummer:\"))\n",
    "num3 = float (input(\"skriv ett sista nummer:\"))\n",
    "\n",
    "\n",
    "if num1 + num2 + num3 > 180:\n",
    "    print(\"the values you've submitted are too big for a triangle\")\n",
    "elif num1 + num2 + num3 < 180:\n",
    "    print(\"the values you've submitted are not enough for a triangle\")\n",
    "elif num1 + num2 + num3 == 180:\n",
    "    print(\"It is a triangle with no right angle\")\n",
    "elif num1 == 90:\n",
    "    num1 = \"first number\"\n",
    "    print(f\"{num1} has a right angle\")\n",
    "elif num2 == 90:\n",
    "    num2 = \"second number\"\n",
    "    print(f\"{num2} has a right angle\")\n",
    "elif num3 == 90:\n",
    "    num3 = \"third number\"\n",
    "    print(f\"{num3} has a right angle\")\n",
    "else:\n",
    "    print(\"None of the inputs has a right angle\")\n",
    "\n",
    "# kollar också vilken input som är den räta linjen\n"
   ]
  },
  {
   "cell_type": "markdown",
   "metadata": {},
   "source": [
    "### Exercise 4"
   ]
  },
  {
   "cell_type": "code",
   "execution_count": 54,
   "metadata": {},
   "outputs": [
    {
     "name": "stdout",
     "output_type": "stream",
     "text": [
      "weight = 32.0\n",
      "age = 7.0\n",
      "du ska ha 1/2-1 piller\n"
     ]
    }
   ],
   "source": [
    "age = float (input(\"skriv din ålder\"))\n",
    "weight = float (input(\"skriv in vikt\"))\n",
    "\n",
    "print(f\"{weight = }\") #det här behövs inte men ser bra ut när det är utskrivit vad dina inputs är\n",
    "print(f\"{age = }\")\n",
    "\n",
    "if weight > 40 and age >12:\n",
    "    print(\"du ska ha 1-2 piller\")\n",
    "elif weight <= 40 and age >=7:\n",
    "    print(\"du ska ha 1/2-1 piller\")\n",
    "else:\n",
    "    print(\"du ska ha 1/2 piller\")\n"
   ]
  },
  {
   "cell_type": "markdown",
   "metadata": {},
   "source": [
    "### Exercise 5"
   ]
  },
  {
   "cell_type": "code",
   "execution_count": 90,
   "metadata": {},
   "outputs": [
    {
     "name": "stdout",
     "output_type": "stream",
     "text": [
      "Du har skrivt ett udda tal som går att dela med 5\n"
     ]
    }
   ],
   "source": [
    "num = float (input(\"Skriv ett nummer\"))\n",
    "\n",
    "\n",
    "if num % 5 == 0 and num % 2 ==0:\n",
    "    print(\"Du har ett jämnt tal som går att dela med 5\") \n",
    "elif num % 2 == 0:\n",
    "    print(\"Du har skrivit ett jämnt tal\")\n",
    "elif num % 5 == 0:\n",
    "    print(\"Du har skrivt ett udda tal som går att dela med 5\")\n",
    "else:\n",
    "    print(\"Du har skrivit ett udda tal\")\n"
   ]
  },
  {
   "cell_type": "markdown",
   "metadata": {},
   "source": [
    "### Exercise 6"
   ]
  },
  {
   "cell_type": "code",
   "execution_count": 120,
   "metadata": {},
   "outputs": [
    {
     "name": "stdout",
     "output_type": "stream",
     "text": [
      "din väska är för stor\n"
     ]
    }
   ],
   "source": [
    "weight = float (input(\"skriv in vikt (kg)\"))\n",
    "length = float (input(\"skriv in längd (cm)\"))\n",
    "width = float (input(\"skriv in bredd (cm)\"))\n",
    "height = float (input(\"skriv in höjd (cm)\"))\n",
    "\n",
    "if weight > 8:\n",
    "    print(\"din väska väger för mycket\")\n",
    "elif length > 55 or width > 40 or height > 23:\n",
    "    print(\"din väska är för stor\")\n",
    "else:\n",
    "    print(\"Du får ta med dig väskan på planet\")"
   ]
  }
 ],
 "metadata": {
  "kernelspec": {
   "display_name": "Python 3.9.13 ('Python-Daniel-Nilsson-97nbzLRS')",
   "language": "python",
   "name": "python3"
  },
  "language_info": {
   "codemirror_mode": {
    "name": "ipython",
    "version": 3
   },
   "file_extension": ".py",
   "mimetype": "text/x-python",
   "name": "python",
   "nbconvert_exporter": "python",
   "pygments_lexer": "ipython3",
   "version": "3.9.13"
  },
  "orig_nbformat": 4,
  "vscode": {
   "interpreter": {
    "hash": "bc050669da3b02a0dab5c74fea36723f6f6f98ad170411b0b9177bcf895e45d7"
   }
  }
 },
 "nbformat": 4,
 "nbformat_minor": 2
}
