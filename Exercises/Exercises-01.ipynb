{
 "cells": [
  {
   "cell_type": "markdown",
   "metadata": {},
   "source": [
    "### Exercise 1"
   ]
  },
  {
   "cell_type": "code",
   "execution_count": 9,
   "metadata": {},
   "outputs": [
    {
     "name": "stdout",
     "output_type": "stream",
     "text": [
      "Ditt nummer är positivt\n"
     ]
    }
   ],
   "source": [
    "\n",
    "num = float (input(\"Skriv ett nummer:\"))\n",
    "\n",
    "if num < 0:\n",
    "    print(\"Ditt nummer är negativt\")\n",
    "elif num == 0:\n",
    "    print(\"Ditt nummer är noll\")\n",
    "else:\n",
    "    print(\"Ditt nummer är positivt\")\n",
    "\n",
    "# elif = if the previous condition weren't true, then try this\n"
   ]
  },
  {
   "cell_type": "markdown",
   "metadata": {},
   "source": [
    "### Exercise 2"
   ]
  },
  {
   "cell_type": "code",
   "execution_count": 11,
   "metadata": {},
   "outputs": [
    {
     "name": "stdout",
     "output_type": "stream",
     "text": [
      "du har skrivit in samma nummer 2 gånger\n"
     ]
    }
   ],
   "source": [
    "\n",
    "num1 = float (input(\"Skriv ett nummer\"))\n",
    "num2 = float (input(\"Skriv ett till nummer\"))\n",
    "\n",
    "if num1 < num2:\n",
    "    print (f\"{num1} är minst\")\n",
    "elif num1 == num2:\n",
    "    print(\"du har skrivit in samma nummer 2 gånger\")\n",
    "else:\n",
    "    print (f\"{num2} är minst\")\n",
    "\n",
    "    # int fungerar bara för heltal, float så kan du ha med kommatecken\n",
    "    # elif funkar så att om du skriver in värde två gånger, så är ingen minst\n"
   ]
  },
  {
   "cell_type": "markdown",
   "metadata": {},
   "source": [
    "### Exercise 3"
   ]
  },
  {
   "cell_type": "code",
   "execution_count": 25,
   "metadata": {},
   "outputs": [
    {
     "ename": "ValueError",
     "evalue": "could not convert string to float: ''",
     "output_type": "error",
     "traceback": [
      "\u001b[1;31m---------------------------------------------------------------------------\u001b[0m",
      "\u001b[1;31mValueError\u001b[0m                                Traceback (most recent call last)",
      "\u001b[1;32me:\\Github sparade filer\\Python-Daniel-Nilsson\\Exercises\\Exercises-01.ipynb Cell 6\u001b[0m in \u001b[0;36m<cell line: 1>\u001b[1;34m()\u001b[0m\n\u001b[1;32m----> <a href='vscode-notebook-cell:/e%3A/Github%20sparade%20filer/Python-Daniel-Nilsson/Exercises/Exercises-01.ipynb#W5sZmlsZQ%3D%3D?line=0'>1</a>\u001b[0m num1 \u001b[39m=\u001b[39m \u001b[39mfloat\u001b[39;49m (\u001b[39minput\u001b[39;49m(\u001b[39m\"\u001b[39;49m\u001b[39mskriv ett nummer:\u001b[39;49m\u001b[39m\"\u001b[39;49m))\n\u001b[0;32m      <a href='vscode-notebook-cell:/e%3A/Github%20sparade%20filer/Python-Daniel-Nilsson/Exercises/Exercises-01.ipynb#W5sZmlsZQ%3D%3D?line=1'>2</a>\u001b[0m num2 \u001b[39m=\u001b[39m \u001b[39mfloat\u001b[39m (\u001b[39minput\u001b[39m(\u001b[39m\"\u001b[39m\u001b[39mskriv ett till nummer:\u001b[39m\u001b[39m\"\u001b[39m))\n\u001b[0;32m      <a href='vscode-notebook-cell:/e%3A/Github%20sparade%20filer/Python-Daniel-Nilsson/Exercises/Exercises-01.ipynb#W5sZmlsZQ%3D%3D?line=2'>3</a>\u001b[0m num3 \u001b[39m=\u001b[39m \u001b[39mfloat\u001b[39m (\u001b[39minput\u001b[39m(\u001b[39m\"\u001b[39m\u001b[39mskriv ett sista nummer:\u001b[39m\u001b[39m\"\u001b[39m))\n",
      "\u001b[1;31mValueError\u001b[0m: could not convert string to float: ''"
     ]
    }
   ],
   "source": [
    "num1 = float (input(\"skriv ett nummer:\"))\n",
    "num2 = float (input(\"skriv ett till nummer:\"))\n",
    "num3 = float (input(\"skriv ett sista nummer:\"))\n",
    "\n",
    "\n",
    "if num1 + num2 + num3 >= 180:\n",
    "    print(\"Det är en triangel\")\n",
    "    if num1 or num2 or num3 == 90:\n",
    "        print(\"Triangeln har en rät linje\")\n",
    "else:\n",
    "    print(\"Det är inte en triangel\")\n",
    "\n",
    "# kollar också vilken input som är den räta linjen\n"
   ]
  },
  {
   "cell_type": "markdown",
   "metadata": {},
   "source": [
    "### Exercise 4"
   ]
  },
  {
   "cell_type": "code",
   "execution_count": 54,
   "metadata": {},
   "outputs": [
    {
     "name": "stdout",
     "output_type": "stream",
     "text": [
      "weight = 32.0\n",
      "age = 7.0\n",
      "du ska ha 1/2-1 piller\n"
     ]
    }
   ],
   "source": [
    "age = float (input(\"skriv din ålder\"))\n",
    "weight = float (input(\"skriv in vikt\"))\n",
    "\n",
    "print(f\"{weight = }\") #det här behövs inte men ser bra ut när det är utskrivit vad dina inputs är\n",
    "print(f\"{age = }\")\n",
    "\n",
    "if weight > 40 and age >12:\n",
    "    print(\"du ska ha 1-2 piller\")\n",
    "elif weight <= 40 and age >=7:\n",
    "    print(\"du ska ha 1/2-1 piller\")\n",
    "else:\n",
    "    print(\"du ska ha 1/2 piller\")\n"
   ]
  },
  {
   "cell_type": "markdown",
   "metadata": {},
   "source": [
    "### Exercise 5"
   ]
  },
  {
   "cell_type": "code",
   "execution_count": 90,
   "metadata": {},
   "outputs": [
    {
     "name": "stdout",
     "output_type": "stream",
     "text": [
      "Du har skrivt ett udda tal som går att dela med 5\n"
     ]
    }
   ],
   "source": [
    "num = float (input(\"Skriv ett nummer\"))\n",
    "\n",
    "\n",
    "if num % 5 == 0 and num % 2 ==0:\n",
    "    print(\"Du har ett jämnt tal som går att dela med 5\") \n",
    "elif num % 2 == 0:\n",
    "    print(\"Du har skrivit ett jämnt tal\")\n",
    "elif num % 5 == 0:\n",
    "    print(\"Du har skrivt ett udda tal som går att dela med 5\")\n",
    "else:\n",
    "    print(\"Du har skrivit ett udda tal\")\n"
   ]
  },
  {
   "cell_type": "markdown",
   "metadata": {},
   "source": [
    "### Exercise 6"
   ]
  },
  {
   "cell_type": "code",
   "execution_count": 120,
   "metadata": {},
   "outputs": [
    {
     "name": "stdout",
     "output_type": "stream",
     "text": [
      "din väska är för stor\n"
     ]
    }
   ],
   "source": [
    "weight = float (input(\"skriv in vikt (kg)\"))\n",
    "length = float (input(\"skriv in längd (cm)\"))\n",
    "width = float (input(\"skriv in bredd (cm)\"))\n",
    "height = float (input(\"skriv in höjd (cm)\"))\n",
    "\n",
    "if weight > 8:\n",
    "    print(\"din väska väger för mycket\")\n",
    "elif length > 55 or width > 40 or height > 23:\n",
    "    print(\"din väska är för stor\")\n",
    "else:\n",
    "    print(\"Du får ta med dig väskan på planet\")"
   ]
  }
 ],
 "metadata": {
  "kernelspec": {
   "display_name": "Python 3.9.13 ('Python-Daniel-Nilsson-97nbzLRS')",
   "language": "python",
   "name": "python3"
  },
  "language_info": {
   "codemirror_mode": {
    "name": "ipython",
    "version": 3
   },
   "file_extension": ".py",
   "mimetype": "text/x-python",
   "name": "python",
   "nbconvert_exporter": "python",
   "pygments_lexer": "ipython3",
   "version": "3.9.13"
  },
  "orig_nbformat": 4,
  "vscode": {
   "interpreter": {
    "hash": "bc050669da3b02a0dab5c74fea36723f6f6f98ad170411b0b9177bcf895e45d7"
   }
  }
 },
 "nbformat": 4,
 "nbformat_minor": 2
}
