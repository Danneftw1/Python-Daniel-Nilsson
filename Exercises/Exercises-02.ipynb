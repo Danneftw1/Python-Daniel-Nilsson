{
 "cells": [
  {
   "cell_type": "markdown",
   "metadata": {},
   "source": [
    "### Exercise 1"
   ]
  },
  {
   "cell_type": "code",
   "execution_count": 16,
   "metadata": {},
   "outputs": [
    {
     "name": "stdout",
     "output_type": "stream",
     "text": [
      " -10  -9  -8  -7  -6  -5  -4  -3  -2  -1  0  1  2  3  4  5  6  7  8  9  10 "
     ]
    }
   ],
   "source": [
    "\n",
    "i = -10\n",
    "\n",
    "while i <= 10:\n",
    "    print(f\" {i} \",end='')\n",
    "    i += 1"
   ]
  },
  {
   "cell_type": "markdown",
   "metadata": {},
   "source": [
    "### Exercise 2"
   ]
  },
  {
   "cell_type": "code",
   "execution_count": null,
   "metadata": {},
   "outputs": [],
   "source": [
    "# Exercise a\n",
    "i = 1\n",
    "sum = 1\n",
    "\n",
    "while i <= 100:\n",
    "    print(f\"{sum}\")\n",
    "    i = i+1\n",
    "    sum = sum + i\n",
    "# Svar: 5050\n",
    "# Exercise b\n",
    "i = 1\n",
    "sum = 1\n",
    "\n",
    "while i <= 99:\n",
    "    print(f\"{sum}\")\n",
    "    i = i+2\n",
    "    sum = sum + i\n",
    "#Svar 2500"
   ]
  },
  {
   "cell_type": "markdown",
   "metadata": {},
   "source": [
    "### Exercise 3 B"
   ]
  },
  {
   "cell_type": "code",
   "execution_count": 54,
   "metadata": {},
   "outputs": [
    {
     "name": "stdout",
     "output_type": "stream",
     "text": [
      "Datorn gissar på 50\n",
      "Datorn gissar på 25\n",
      "Datorn gissar på 37\n",
      "Datorn gissar på 31\n",
      "Datorn gissar på 28\n",
      "Datorn gissar på 26\n"
     ]
    }
   ],
   "source": [
    "num = float (input(\"skriv ett nummer som datorn ska gissa\"))\n",
    "high = 100\n",
    "low = 1\n",
    "guess = (high + low)//2\n",
    "\n",
    "while guess != num:\n",
    "    guess = (low + high)//2\n",
    "    print(f\"Datorn gissar på {guess}\")\n",
    "    if num < guess:\n",
    "        high = guess\n",
    "    elif guess < num:\n",
    "        low = guess\n",
    "\n",
    "# Binary search algorithm\n",
    "# Fix hjälp av Jonas och google för att hitta ett effektivt sätt att skriva koden\n",
    "    "
   ]
  },
  {
   "cell_type": "markdown",
   "metadata": {},
   "source": [
    "### Exercise 3A"
   ]
  },
  {
   "cell_type": "code",
   "execution_count": null,
   "metadata": {},
   "outputs": [],
   "source": [
    "import random\n",
    "\n",
    "num = random.randint(1, 100)\n",
    "guess = 0\n",
    "\n",
    "while True:\n",
    "    userinput = float (input(\"Gissa ett nummer mellan 1-100\"))\n",
    "    if userinput == num:\n",
    "        guess += 1\n",
    "        (print(f\"Du har gissat rätt! Talet var {userinput:.0f} och du gissade {guess} gånger\"))\n",
    "        break\n",
    "    elif userinput > num:\n",
    "        guess += 1\n",
    "        print(\"Försök med något lägre\")\n",
    "    elif userinput < num:\n",
    "        guess += 1\n",
    "        print(\"försök med något högre\")"
   ]
  },
  {
   "cell_type": "markdown",
   "metadata": {},
   "source": [
    "### Exercise 4"
   ]
  },
  {
   "cell_type": "code",
   "execution_count": 105,
   "metadata": {},
   "outputs": [
    {
     "name": "stdout",
     "output_type": "stream",
     "text": [
      "Tack för att du har spelat, du fick 2 poäng och försökte 2 gånger\n"
     ]
    }
   ],
   "source": [
    "\n",
    "score = 0\n",
    "attempts = 0\n",
    "\n",
    "while True:\n",
    "    x = random.randint(1,10)\n",
    "    y = random.randint(1,10)\n",
    "    z = x*y\n",
    "    userinput = float (input(f\"vad är {x}*{y}\"))\n",
    "    if userinput != z:\n",
    "        userinput = (input(\"Du har gissat fel, försök igen?\"))\n",
    "        attempts += 1\n",
    "        if userinput == \"n\": \n",
    "            break\n",
    "        else:\n",
    "            continue\n",
    "    elif userinput == z:\n",
    "        score += 1\n",
    "        attempts += 1\n",
    "        userinput = (input(\"Du har gissat rätt! Spela igen?\"))\n",
    "        if userinput == \"n\":\n",
    "            break\n",
    "        else:\n",
    "            continue\n",
    "print(f\"Tack för att du har spelat, du fick {score} poäng och försökte {attempts} gånger\")\n",
    "    "
   ]
  },
  {
   "cell_type": "markdown",
   "metadata": {},
   "source": [
    "### Exercise 5a (kolla med kokchun om det är rätt)"
   ]
  },
  {
   "cell_type": "code",
   "execution_count": null,
   "metadata": {},
   "outputs": [],
   "source": [
    "#Exercise a\n",
    "i = 1\n",
    "sum = 1\n",
    "stop = 0\n",
    "\n",
    "while stop < 1024:\n",
    "    print(f\"{sum}\")\n",
    "    i = i*0.5\n",
    "    sum = sum + i\n",
    "    stop += 1\n",
    "\n",
    "#Svar räknar infinite, men slutar som svar på 2.0"
   ]
  },
  {
   "cell_type": "markdown",
   "metadata": {},
   "source": [
    "### Exercise 5b"
   ]
  },
  {
   "cell_type": "code",
   "execution_count": null,
   "metadata": {},
   "outputs": [],
   "source": [
    "i,x = 1,1\n",
    "sum = 1\n",
    "stop = 0\n",
    "\n",
    "while x < 1024:\n",
    "    if stop %2 == 0:\n",
    "        sum = sum - i\n",
    "        print(f\"{1}/{x} = {sum}\")\n",
    "        i = 1/x\n",
    "        x += 2\n",
    "        stop += 1\n",
    "    else:\n",
    "         sum = sum + i\n",
    "         print(f\"{1}/{x} = {sum}\")\n",
    "         i = 1/x\n",
    "         x += 2\n",
    "         stop += 1\n"
   ]
  }
 ],
 "metadata": {
  "kernelspec": {
   "display_name": "Python 3.9.13 ('Python-Daniel-Nilsson-dM3wHzD4')",
   "language": "python",
   "name": "python3"
  },
  "language_info": {
   "codemirror_mode": {
    "name": "ipython",
    "version": 3
   },
   "file_extension": ".py",
   "mimetype": "text/x-python",
   "name": "python",
   "nbconvert_exporter": "python",
   "pygments_lexer": "ipython3",
   "version": "3.9.13"
  },
  "orig_nbformat": 4,
  "vscode": {
   "interpreter": {
    "hash": "c3a8699ff25c9cbc0813ce7fc610555f4abadcd389eeaf7d4f4aa58333d28396"
   }
  }
 },
 "nbformat": 4,
 "nbformat_minor": 2
}
