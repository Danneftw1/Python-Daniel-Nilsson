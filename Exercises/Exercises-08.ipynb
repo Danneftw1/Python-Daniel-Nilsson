{
 "cells": [
  {
   "cell_type": "markdown",
   "metadata": {},
   "source": [
    "## Exercise 1A, B & C"
   ]
  },
  {
   "cell_type": "code",
   "execution_count": 99,
   "metadata": {},
   "outputs": [
    {
     "name": "stdout",
     "output_type": "stream",
     "text": [
      "[6, 3, 3, 3, 3, 5, 6, 2, 3, 2, 4, 1, 3, 4, 1, 6, 6, 4, 4, 3]\n",
      "[1, 1, 2, 2, 3, 3, 3, 3, 3, 3, 3, 4, 4, 4, 4, 5, 6, 6, 6, 6]\n",
      "Number of fours: 4\n"
     ]
    }
   ],
   "source": [
    "import random as rnd\n",
    "import re\n",
    "\n",
    "# Alla print är bara för att se hur det kommer se ut i text filen.\n",
    "\n",
    "with open (\"../Data/Simulated_dice_rolls.txt\", \"w\") as f_write:\n",
    "    # A)\n",
    "    dice = [rnd.randint(1,6) for i in range(20)]\n",
    "    f_write.write(f\"{dice}\\n\")\n",
    "    print(f\"{dice}\")\n",
    "    # B)\n",
    "    dice.sort()\n",
    "    f_write.write(f\"{dice}\\n\")\n",
    "    print(f\"{dice}\")\n",
    "    # C)\n",
    "    count = dice.count(4)\n",
    "    f_write.write(f\"Number of fours: {count}\\n\")\n",
    "    print(f\"Number of fours: {count}\")\n",
    "    "
   ]
  },
  {
   "cell_type": "markdown",
   "metadata": {},
   "source": [
    "## Exercise 2 A & B"
   ]
  },
  {
   "cell_type": "code",
   "execution_count": null,
   "metadata": {},
   "outputs": [],
   "source": [
    "\n",
    "with open(\"../Data/test_result.txt\", \"r\") as f, open(\"../Data/test_result.txt\", \"a\") as a:  \n",
    "\n",
    "    for text in sorted(f):\n",
    "        print(text, end=' ')\n",
    "        # a.write(f\"{text}\")"
   ]
  },
  {
   "cell_type": "code",
   "execution_count": 103,
   "metadata": {},
   "outputs": [
    {
     "name": "stdout",
     "output_type": "stream",
     "text": [
      "25\n",
      "39\n",
      "32\n",
      "41\n",
      "23\n",
      "32\n",
      "31\n",
      "10\n",
      "55\n",
      "\n",
      "24\n",
      "23\n",
      "65\n",
      "42\n",
      "31\n",
      "32\n",
      "41\n",
      "13\n",
      "39\n"
     ]
    }
   ],
   "source": [
    "\n",
    "with open(\"../Data/test_result.txt\", \"r\") as f, open(\"../Data/test_result.txt\", \"a\") as a:\n",
    "    text_test_score = []   \n",
    "    \n",
    "    for text in sorted(f):\n",
    "        text = text.strip(\"\\n\").split(\" \")[-1]\n",
    "        print(text)\n",
    "\n"
   ]
  },
  {
   "cell_type": "code",
   "execution_count": 57,
   "metadata": {},
   "outputs": [
    {
     "name": "stdout",
     "output_type": "stream",
     "text": [
      "Adam Gustafsson 25\n",
      "Emil Johansson 23\n",
      "Sven Erik Karlsson 13\n",
      "Ove Karlsten 41\n",
      "Emma Boden 32\n",
      "Ida HÃ¥kansson 23\n",
      "Ella Ester 41\n",
      "Hanna Karlsson 23\n",
      "Johan Johansson 42\n",
      "Sven Erik Lundin 39\n",
      "BjÃ¶rn BjÃ¶rnsson 39\n",
      "Karl Karlsson 32\n",
      "Bose Bosseson 32\n",
      "HÃ¥kan HÃ¥kanson 24\n",
      "Jonas Jonasson 31\n",
      "Erik Eriksson 31\n",
      "Gore Bord 55\n",
      "Jakob Kallander 65\n",
      "Fredrika Ulven 10\n",
      "\n"
     ]
    }
   ],
   "source": [
    "import re\n",
    "\n",
    "\n",
    "with open(\"../Data/test_result.txt\", \"r\") as f, open(\"../Data/test_result.txt\", \"a\") as a:  \n",
    "\n",
    "    for text in f:\n",
    "        text =  text.strip(\" \\n\") \n",
    "        print(text)\n",
    "\n"
   ]
  }
 ],
 "metadata": {
  "kernelspec": {
   "display_name": "Python 3.9.13 ('Python-Daniel-Nilsson-97nbzLRS')",
   "language": "python",
   "name": "python3"
  },
  "language_info": {
   "codemirror_mode": {
    "name": "ipython",
    "version": 3
   },
   "file_extension": ".py",
   "mimetype": "text/x-python",
   "name": "python",
   "nbconvert_exporter": "python",
   "pygments_lexer": "ipython3",
   "version": "3.9.13"
  },
  "orig_nbformat": 4,
  "vscode": {
   "interpreter": {
    "hash": "bc050669da3b02a0dab5c74fea36723f6f6f98ad170411b0b9177bcf895e45d7"
   }
  }
 },
 "nbformat": 4,
 "nbformat_minor": 2
}
