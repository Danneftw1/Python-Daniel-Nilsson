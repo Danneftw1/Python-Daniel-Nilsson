{
 "cells": [
  {
   "cell_type": "markdown",
   "metadata": {},
   "source": [
    "## Exercise 1A, B & C"
   ]
  },
  {
   "cell_type": "code",
   "execution_count": 99,
   "metadata": {},
   "outputs": [
    {
     "name": "stdout",
     "output_type": "stream",
     "text": [
      "[6, 3, 3, 3, 3, 5, 6, 2, 3, 2, 4, 1, 3, 4, 1, 6, 6, 4, 4, 3]\n",
      "[1, 1, 2, 2, 3, 3, 3, 3, 3, 3, 3, 4, 4, 4, 4, 5, 6, 6, 6, 6]\n",
      "Number of fours: 4\n"
     ]
    }
   ],
   "source": [
    "import random as rnd\n",
    "import re\n",
    "\n",
    "# Alla print är bara för att se hur det kommer se ut i text filen.\n",
    "\n",
    "with open (\"../Data/Simulated_dice_rolls.txt\", \"w\") as f_write:\n",
    "    # A)\n",
    "    dice = [rnd.randint(1,6) for i in range(20)]\n",
    "    f_write.write(f\"{dice}\\n\")\n",
    "    print(f\"{dice}\")\n",
    "    # B)\n",
    "    dice.sort()\n",
    "    f_write.write(f\"{dice}\\n\")\n",
    "    print(f\"{dice}\")\n",
    "    # C)\n",
    "    count = dice.count(4)\n",
    "    f_write.write(f\"Number of fours: {count}\\n\")\n",
    "    print(f\"Number of fours: {count}\")\n",
    "    "
   ]
  },
  {
   "cell_type": "markdown",
   "metadata": {},
   "source": [
    "## Exercise 2 A & B"
   ]
  },
  {
   "cell_type": "code",
   "execution_count": 5,
   "metadata": {},
   "outputs": [
    {
     "name": "stdout",
     "output_type": "stream",
     "text": [
      "\n",
      " Adam Gustafsson 25\n",
      " BjÃ¶rn BjÃ¶rnsson 39\n",
      " Bose Bosseson 32\n",
      " Ella Ester 41\n",
      " Emil Johansson 23\n",
      " Emma Boden 32\n",
      " Erik Eriksson 31\n",
      " Fredrika Ulven 10\n",
      " Gore Bord 55\n",
      " Hanna Karlsson 23 \n",
      " HÃ¥kan HÃ¥kanson 24\n",
      " Ida HÃ¥kansson 23\n",
      " Jakob Kallander 65\n",
      " Johan Johansson 42\n",
      " Jonas Jonasson 31\n",
      " Karl Karlsson 32\n",
      " Ove Karlsten 41\n",
      " Sven Erik Karlsson 13\n",
      " Sven Erik Lundin 39\n",
      " "
     ]
    }
   ],
   "source": [
    "\n",
    "with open(\"../Data/test_result.txt\", \"r\") as f, open(\"../Data/test_result.txt\", \"a\") as a:  \n",
    "\n",
    "    for text in sorted(f):\n",
    "        print(text, end=' ')\n",
    "        a.write(f\"{text}\")"
   ]
  },
  {
   "cell_type": "code",
   "execution_count": 17,
   "metadata": {},
   "outputs": [
    {
     "ename": "IndexError",
     "evalue": "list index out of range",
     "output_type": "error",
     "traceback": [
      "\u001b[1;31m---------------------------------------------------------------------------\u001b[0m",
      "\u001b[1;31mIndexError\u001b[0m                                Traceback (most recent call last)",
      "\u001b[1;32mc:\\Git Hub filer\\Python-Daniel-Nilsson\\Exercises\\Exercises-08.ipynb Cell 5\u001b[0m in \u001b[0;36m<cell line: 1>\u001b[1;34m()\u001b[0m\n\u001b[0;32m      <a href='vscode-notebook-cell:/c%3A/Git%20Hub%20filer/Python-Daniel-Nilsson/Exercises/Exercises-08.ipynb#W4sZmlsZQ%3D%3D?line=0'>1</a>\u001b[0m \u001b[39mwith\u001b[39;00m \u001b[39mopen\u001b[39m(\u001b[39m\"\u001b[39m\u001b[39m../Data/test_result.txt\u001b[39m\u001b[39m\"\u001b[39m, \u001b[39m\"\u001b[39m\u001b[39mr\u001b[39m\u001b[39m\"\u001b[39m) \u001b[39mas\u001b[39;00m f, \u001b[39mopen\u001b[39m(\u001b[39m\"\u001b[39m\u001b[39m../Data/test_result.txt\u001b[39m\u001b[39m\"\u001b[39m, \u001b[39m\"\u001b[39m\u001b[39ma\u001b[39m\u001b[39m\"\u001b[39m) \u001b[39mas\u001b[39;00m a:\n\u001b[0;32m      <a href='vscode-notebook-cell:/c%3A/Git%20Hub%20filer/Python-Daniel-Nilsson/Exercises/Exercises-08.ipynb#W4sZmlsZQ%3D%3D?line=2'>3</a>\u001b[0m     \u001b[39mfor\u001b[39;00m text \u001b[39min\u001b[39;00m \u001b[39msorted\u001b[39m(f):\n\u001b[1;32m----> <a href='vscode-notebook-cell:/c%3A/Git%20Hub%20filer/Python-Daniel-Nilsson/Exercises/Exercises-08.ipynb#W4sZmlsZQ%3D%3D?line=3'>4</a>\u001b[0m       text \u001b[39m=\u001b[39m text\u001b[39m.\u001b[39;49msplit()[\u001b[39m-\u001b[39;49m\u001b[39m1\u001b[39;49m]\n\u001b[0;32m      <a href='vscode-notebook-cell:/c%3A/Git%20Hub%20filer/Python-Daniel-Nilsson/Exercises/Exercises-08.ipynb#W4sZmlsZQ%3D%3D?line=4'>5</a>\u001b[0m       text\u001b[39m.\u001b[39msort()\n",
      "\u001b[1;31mIndexError\u001b[0m: list index out of range"
     ]
    }
   ],
   "source": [
    "\n",
    "with open(\"../Data/test_result.txt\", \"r\") as f, open(\"../Data/test_result.txt\", \"a\") as a:\n",
    "        \n",
    "    for text in sorted(f):\n",
    "      text = text.split()[-1]\n",
    "      text.sort()\n"
   ]
  }
 ],
 "metadata": {
  "kernelspec": {
   "display_name": "Python 3.9.13 ('Python-Daniel-Nilsson-dM3wHzD4')",
   "language": "python",
   "name": "python3"
  },
  "language_info": {
   "codemirror_mode": {
    "name": "ipython",
    "version": 3
   },
   "file_extension": ".py",
   "mimetype": "text/x-python",
   "name": "python",
   "nbconvert_exporter": "python",
   "pygments_lexer": "ipython3",
   "version": "3.9.13"
  },
  "orig_nbformat": 4,
  "vscode": {
   "interpreter": {
    "hash": "c3a8699ff25c9cbc0813ce7fc610555f4abadcd389eeaf7d4f4aa58333d28396"
   }
  }
 },
 "nbformat": 4,
 "nbformat_minor": 2
}
