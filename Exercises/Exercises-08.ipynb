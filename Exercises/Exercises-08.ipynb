{
 "cells": [
  {
   "cell_type": "markdown",
   "metadata": {},
   "source": [
    "## Exercise 1A, B & C"
   ]
  },
  {
   "cell_type": "code",
   "execution_count": 99,
   "metadata": {},
   "outputs": [
    {
     "name": "stdout",
     "output_type": "stream",
     "text": [
      "[6, 3, 3, 3, 3, 5, 6, 2, 3, 2, 4, 1, 3, 4, 1, 6, 6, 4, 4, 3]\n",
      "[1, 1, 2, 2, 3, 3, 3, 3, 3, 3, 3, 4, 4, 4, 4, 5, 6, 6, 6, 6]\n",
      "Number of fours: 4\n"
     ]
    }
   ],
   "source": [
    "import random as rnd\n",
    "import re\n",
    "\n",
    "# Alla print är bara för att se hur det kommer se ut i text filen.\n",
    "\n",
    "with open (\"../Data/Simulated_dice_rolls.txt\", \"w\") as f_write:\n",
    "    # A)\n",
    "    dice = [rnd.randint(1,6) for i in range(20)]\n",
    "    f_write.write(f\"{dice}\\n\")\n",
    "    print(f\"{dice}\")\n",
    "    # B)\n",
    "    dice.sort()\n",
    "    f_write.write(f\"{dice}\\n\")\n",
    "    print(f\"{dice}\")\n",
    "    # C)\n",
    "    count = dice.count(4)\n",
    "    f_write.write(f\"Number of fours: {count}\\n\")\n",
    "    print(f\"Number of fours: {count}\")\n",
    "    "
   ]
  },
  {
   "cell_type": "markdown",
   "metadata": {},
   "source": [
    "## Exercise 2 A & B"
   ]
  },
  {
   "cell_type": "code",
   "execution_count": 7,
   "metadata": {},
   "outputs": [],
   "source": [
    "\n",
    "with open(\"../Data/test_result.txt\", \"r\") as f, open(\"../Data/test_result.txt\", \"a\") as a:  \n",
    "\n",
    "    for text in sorted(f):\n",
    "        print(text, end='')\n",
    "        a.write(f\"{text}\")"
   ]
  },
  {
   "cell_type": "code",
   "execution_count": 55,
   "metadata": {},
   "outputs": [
    {
     "name": "stdout",
     "output_type": "stream",
     "text": [
      "['Adam Gustafsson 25\\n']\n",
      "['BjÃ¶rn BjÃ¶rnsson 39\\n']\n",
      "['Bose Bosseson 32\\n']\n",
      "['Ella Ester 41\\n']\n",
      "['Emil Johansson 23\\n']\n",
      "['Emma Boden 32\\n']\n",
      "['Erik Eriksson 31\\n']\n",
      "['Fredrika Ulven 10']\n",
      "['Gore Bord 55\\n']\n",
      "['Hanna Karlsson 23 \\n']\n",
      "['HÃ¥kan HÃ¥kanson 24\\n']\n",
      "['Ida HÃ¥kansson 23\\n']\n",
      "['Jakob Kallander 65\\n']\n",
      "['Johan Johansson 42\\n']\n",
      "['Jonas Jonasson 31\\n']\n",
      "['Karl Karlsson 32\\n']\n",
      "['Ove Karlsten 41\\n']\n",
      "['Sven Erik Karlsson 13\\n']\n",
      "['Sven Erik Lundin 39\\n']\n"
     ]
    }
   ],
   "source": [
    "\n",
    "with open(\"../Data/test_result.txt\", \"r\") as f, open(\"../Data/test_result.txt\", \"a\") as a:\n",
    "        \n",
    "    for text in sorted(f):\n",
    "        text = text.split(\"   \") \n",
    "        print (text)\n",
    "       \n"
   ]
  }
 ],
 "metadata": {
  "kernelspec": {
   "display_name": "Python 3.9.13 ('Python-Daniel-Nilsson-97nbzLRS')",
   "language": "python",
   "name": "python3"
  },
  "language_info": {
   "codemirror_mode": {
    "name": "ipython",
    "version": 3
   },
   "file_extension": ".py",
   "mimetype": "text/x-python",
   "name": "python",
   "nbconvert_exporter": "python",
   "pygments_lexer": "ipython3",
   "version": "3.9.13"
  },
  "orig_nbformat": 4,
  "vscode": {
   "interpreter": {
    "hash": "bc050669da3b02a0dab5c74fea36723f6f6f98ad170411b0b9177bcf895e45d7"
   }
  }
 },
 "nbformat": 4,
 "nbformat_minor": 2
}
