{
 "cells": [
  {
   "cell_type": "markdown",
   "metadata": {},
   "source": [
    "## Exercise 1 corrected and wrong"
   ]
  },
  {
   "cell_type": "code",
   "execution_count": null,
   "metadata": {},
   "outputs": [],
   "source": [
    "impor numpy as np\n",
    "\n",
    "def distance(x,y)  # saknar colon\n",
    "    reurn np.sqrt(x+y)  #felstavat och inte upphöjt till 2\n",
    "\n",
    "print(distance([0.5, 0.5])) #inga hakparanteser"
   ]
  },
  {
   "cell_type": "code",
   "execution_count": 72,
   "metadata": {},
   "outputs": [
    {
     "name": "stdout",
     "output_type": "stream",
     "text": [
      "0.7071067811865476\n"
     ]
    }
   ],
   "source": [
    "import numpy as np\n",
    "\n",
    "def distance(x, y):\n",
    "    return np.sqrt(x**2+y**2)\n",
    "\n",
    "print(distance(0.5, 0.5))\n"
   ]
  },
  {
   "cell_type": "markdown",
   "metadata": {},
   "source": [
    "## Exercise correct and wrong"
   ]
  },
  {
   "cell_type": "code",
   "execution_count": null,
   "metadata": {},
   "outputs": [],
   "source": [
    "def is_fourdigit(number):\n",
    "    if number//1000 < 10 # needs colon and convert minus to plus with abs\n",
    "        return true # needs to be capital\n",
    "    else # needs colon, changed to elif aswell\n",
    "        return false # needs to be capital\n",
    "\n",
    "# test program\n",
    "test_numbers = [231, 3124, -4124, -1000,-999, 1001, 10000, -10000, 999]\n",
    "\n",
    "for number in test_numbers:\n",
    "    if is_fourdigit(number):\n",
    "        print(f\"{number} is four-digit\")\n",
    "    else:\n",
    "        print(f\"{number} is not four-digit\")"
   ]
  },
  {
   "cell_type": "code",
   "execution_count": 275,
   "metadata": {},
   "outputs": [
    {
     "name": "stdout",
     "output_type": "stream",
     "text": [
      "231 is not four-digit\n",
      "3124 is four-digit\n",
      "-4124 is four-digit\n",
      "-1000 is four-digit\n",
      "-999 is four-digit\n",
      "1001 is four-digit\n",
      "10000 is not four-digit\n",
      "-10000 is not four-digit\n",
      "999 is not four-digit\n"
     ]
    }
   ],
   "source": [
    "def is_fourdigit(number):\n",
    "    if 1 <= abs(number//1000) < 10:\n",
    "        return True\n",
    "    else:\n",
    "        return False\n",
    "\n",
    "# test program\n",
    "test_numbers = [231, 3124, -4124, -1000,-999, 1001, 10000, -10000, 999]\n",
    "\n",
    "for number in test_numbers:\n",
    "    if is_fourdigit(number):\n",
    "        print(f\"{number} is four-digit\")\n",
    "    else:\n",
    "        print(f\"{number} is not four-digit\")"
   ]
  },
  {
   "cell_type": "markdown",
   "metadata": {},
   "source": [
    "## Exercise 3"
   ]
  },
  {
   "cell_type": "code",
   "execution_count": 279,
   "metadata": {},
   "outputs": [],
   "source": [
    "tickets = float (input(\"Hur många gånger vill du åka i månaden\"))\n",
    "monthly = 600\n",
    "single_ticket = tickets * 35\n",
    "\n",
    "while tickets > 0:\n",
    "    if single_ticket < monthly:\n",
    "        print(f\"Om du ska åka {tickets} gånger kostar det {single_ticket}, vilket är billigare än {monthly}\")\n",
    "    else:\n",
    "        print(f\"Om du ska åka {tickets} gånger kostar det {single_ticket}, vilket är dyrare än {monthly}\")"
   ]
  },
  {
   "cell_type": "markdown",
   "metadata": {},
   "source": [
    "## while loop lösning"
   ]
  },
  {
   "cell_type": "code",
   "execution_count": null,
   "metadata": {},
   "outputs": [],
   "source": [
    "\n",
    "while True:\n",
    "    rides = float (input(\"Hur många gånger vill du åka i månaden\"))\n",
    "    if rides < 0 or rides > 100:\n",
    "        print(\"Du måste skriva ett nummer från 1 till 100, försök igen\")\n",
    "        continue\n",
    "    else:\n",
    "        break\n",
    "\n",
    "while True:\n",
    "    tickets = float (input(\"Hur mycket kostar biljetten?\"))\n",
    "    if tickets < 0 or tickets > 1000:\n",
    "        print(\"Du måste skriva ett nummer från 1 till 1000, försök igen\")\n",
    "        continue\n",
    "    else:\n",
    "        break\n",
    "\n",
    "while True: \n",
    "    monthlycard = float (input(\"Hur mycket kostar månadskort?\"))\n",
    "    if monthlycard < 0 or monthlycard > 2500:\n",
    "        print(\"Du måste skriva ett nummer från 1 till 2500, försök igen\")\n",
    "        continue\n",
    "    else:\n",
    "        break\n",
    "\n",
    "while True: \n",
    "    single_ticket = tickets * rides\n",
    "    if single_ticket < monthlycard:\n",
    "        print(f\"Du åker {rides:.0f} i månaden och en biljett kostar {tickets:.0f}, det kostar {single_ticket:.0f} och är billigare än {monthlycard:.0f}, köp inte månadskort\")\n",
    "        break\n",
    "    else:\n",
    "        print(f\"Du åker {rides:.0f} i månaden och en biljett kostar {tickets:.0f}, det kostar {single_ticket:.0f} och är dyrare än {monthlycard:.0f}, köp månadskort\")\n",
    "        break"
   ]
  },
  {
   "cell_type": "code",
   "execution_count": null,
   "metadata": {},
   "outputs": [],
   "source": [
    "rides = float (input(\"Hur många gånger vill du åka i månaden\"))\n",
    "\n",
    "try:\n",
    "    rides = float (rides)\n",
    "except ValueError as err:\n",
    "    print(err)\n",
    "\n",
    "print(\"programmet fortsätter här\")\n",
    "\n",
    "\n",
    "\n"
   ]
  },
  {
   "cell_type": "code",
   "execution_count": null,
   "metadata": {},
   "outputs": [],
   "source": [
    "try: \n",
    "    tickets = float (input(\"Hur mycket kostar biljetten?\"))\n",
    "try:\n",
    "    monthlycard = float (input(\"Hur mycket kostar månadskort?\"))"
   ]
  }
 ],
 "metadata": {
  "kernelspec": {
   "display_name": "Python 3.9.13 ('Python-Daniel-Nilsson-97nbzLRS')",
   "language": "python",
   "name": "python3"
  },
  "language_info": {
   "codemirror_mode": {
    "name": "ipython",
    "version": 3
   },
   "file_extension": ".py",
   "mimetype": "text/x-python",
   "name": "python",
   "nbconvert_exporter": "python",
   "pygments_lexer": "ipython3",
   "version": "3.9.13"
  },
  "orig_nbformat": 4,
  "vscode": {
   "interpreter": {
    "hash": "bc050669da3b02a0dab5c74fea36723f6f6f98ad170411b0b9177bcf895e45d7"
   }
  }
 },
 "nbformat": 4,
 "nbformat_minor": 2
}
