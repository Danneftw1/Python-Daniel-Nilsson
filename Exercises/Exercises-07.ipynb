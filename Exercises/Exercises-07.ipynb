{
 "cells": [
  {
   "cell_type": "markdown",
   "metadata": {},
   "source": [
    "## Exercise 1 corrected and wrong"
   ]
  },
  {
   "cell_type": "code",
   "execution_count": null,
   "metadata": {},
   "outputs": [],
   "source": [
    "impor numpy as np\n",
    "\n",
    "def distance(x,y)  # saknar colon\n",
    "    reurn np.sqrt(x+y)  #felstavat och inte upphöjt till 2\n",
    "\n",
    "print(distance([0.5, 0.5])) #inga hakparanteser"
   ]
  },
  {
   "cell_type": "code",
   "execution_count": 72,
   "metadata": {},
   "outputs": [
    {
     "name": "stdout",
     "output_type": "stream",
     "text": [
      "0.7071067811865476\n"
     ]
    }
   ],
   "source": [
    "import numpy as np\n",
    "\n",
    "def distance(x, y):\n",
    "    return np.sqrt(x**2+y**2)\n",
    "\n",
    "print(distance(0.5, 0.5))\n"
   ]
  },
  {
   "cell_type": "markdown",
   "metadata": {},
   "source": [
    "## Exercise correct and wrong"
   ]
  },
  {
   "cell_type": "code",
   "execution_count": null,
   "metadata": {},
   "outputs": [],
   "source": [
    "def is_fourdigit(number):\n",
    "    if number//1000 < 10 # needs colon and convert minus to plus with abs\n",
    "        return true # needs to be capital\n",
    "    else # needs colon, changed to elif aswell\n",
    "        return false # needs to be capital\n",
    "\n",
    "# test program\n",
    "test_numbers = [231, 3124, -4124, -1000,-999, 1001, 10000, -10000, 999]\n",
    "\n",
    "for number in test_numbers:\n",
    "    if is_fourdigit(number):\n",
    "        print(f\"{number} is four-digit\")\n",
    "    else:\n",
    "        print(f\"{number} is not four-digit\")"
   ]
  },
  {
   "cell_type": "code",
   "execution_count": 275,
   "metadata": {},
   "outputs": [
    {
     "name": "stdout",
     "output_type": "stream",
     "text": [
      "231 is not four-digit\n",
      "3124 is four-digit\n",
      "-4124 is four-digit\n",
      "-1000 is four-digit\n",
      "-999 is four-digit\n",
      "1001 is four-digit\n",
      "10000 is not four-digit\n",
      "-10000 is not four-digit\n",
      "999 is not four-digit\n"
     ]
    }
   ],
   "source": [
    "def is_fourdigit(number):\n",
    "    if 1 <= abs(number//1000) < 10:\n",
    "        return True\n",
    "    else:\n",
    "        return False\n",
    "\n",
    "# test program\n",
    "test_numbers = [231, 3124, -4124, -1000,-999, 1001, 10000, -10000, 999]\n",
    "\n",
    "for number in test_numbers:\n",
    "    if is_fourdigit(number):\n",
    "        print(f\"{number} is four-digit\")\n",
    "    else:\n",
    "        print(f\"{number} is not four-digit\")"
   ]
  }
 ],
 "metadata": {
  "kernelspec": {
   "display_name": "Python 3.9.13 ('Python-Daniel-Nilsson-97nbzLRS')",
   "language": "python",
   "name": "python3"
  },
  "language_info": {
   "codemirror_mode": {
    "name": "ipython",
    "version": 3
   },
   "file_extension": ".py",
   "mimetype": "text/x-python",
   "name": "python",
   "nbconvert_exporter": "python",
   "pygments_lexer": "ipython3",
   "version": "3.9.13"
  },
  "orig_nbformat": 4,
  "vscode": {
   "interpreter": {
    "hash": "bc050669da3b02a0dab5c74fea36723f6f6f98ad170411b0b9177bcf895e45d7"
   }
  }
 },
 "nbformat": 4,
 "nbformat_minor": 2
}
