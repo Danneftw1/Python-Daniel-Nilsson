{
 "cells": [
  {
   "cell_type": "markdown",
   "metadata": {},
   "source": [
    "## Exercise 1 corrected and wrong"
   ]
  },
  {
   "cell_type": "code",
   "execution_count": null,
   "metadata": {},
   "outputs": [],
   "source": [
    "impor numpy as np\n",
    "\n",
    "def distance(x,y)  # saknar colon\n",
    "    reurn np.sqrt(x+y)  #felstavat och inte upphöjt till 2\n",
    "\n",
    "print(distance([0.5, 0.5])) #inga hakparanteser"
   ]
  },
  {
   "cell_type": "code",
   "execution_count": 72,
   "metadata": {},
   "outputs": [
    {
     "name": "stdout",
     "output_type": "stream",
     "text": [
      "0.7071067811865476\n"
     ]
    }
   ],
   "source": [
    "import numpy as np\n",
    "\n",
    "def distance(x, y):\n",
    "    return np.sqrt(x**2+y**2)\n",
    "\n",
    "print(distance(0.5, 0.5))\n"
   ]
  },
  {
   "cell_type": "markdown",
   "metadata": {},
   "source": [
    "## Exercise 2"
   ]
  },
  {
   "cell_type": "code",
   "execution_count": 275,
   "metadata": {},
   "outputs": [
    {
     "name": "stdout",
     "output_type": "stream",
     "text": [
      "231 is not four-digit\n",
      "3124 is four-digit\n",
      "-4124 is four-digit\n",
      "-1000 is four-digit\n",
      "-999 is four-digit\n",
      "1001 is four-digit\n",
      "10000 is not four-digit\n",
      "-10000 is not four-digit\n",
      "999 is not four-digit\n"
     ]
    }
   ],
   "source": [
    "def is_fourdigit(number):\n",
    "    if 1 <= abs(number//1000) < 10: # Konverterar alla siffror till plus som gör att vi kan fördela dem enligt antal digits\n",
    "        return True\n",
    "    else:\n",
    "        return False\n",
    "\n",
    "# test program\n",
    "test_numbers = [231, 3124, -4124, -1000,-999, 1001, 10000, -10000, 999]\n",
    "\n",
    "for number in test_numbers:\n",
    "    if is_fourdigit(number):\n",
    "        print(f\"{number} is four-digit\")\n",
    "    else:\n",
    "        print(f\"{number} is not four-digit\")"
   ]
  },
  {
   "cell_type": "markdown",
   "metadata": {},
   "source": [
    "## Exercise 3, alla försök (första och sista fungerar)"
   ]
  },
  {
   "cell_type": "markdown",
   "metadata": {},
   "source": [
    "### While loop lösning"
   ]
  },
  {
   "cell_type": "code",
   "execution_count": 1,
   "metadata": {},
   "outputs": [
    {
     "ename": "ValueError",
     "evalue": "could not convert string to float: 'sdf'",
     "output_type": "error",
     "traceback": [
      "\u001b[1;31m---------------------------------------------------------------------------\u001b[0m",
      "\u001b[1;31mValueError\u001b[0m                                Traceback (most recent call last)",
      "\u001b[1;32me:\\Github sparade filer\\Python-Daniel-Nilsson\\Exercises\\Exercises-07.ipynb Cell 8\u001b[0m in \u001b[0;36m<cell line: 2>\u001b[1;34m()\u001b[0m\n\u001b[0;32m      <a href='vscode-notebook-cell:/e%3A/Github%20sparade%20filer/Python-Daniel-Nilsson/Exercises/Exercises-07.ipynb#X10sZmlsZQ%3D%3D?line=0'>1</a>\u001b[0m \u001b[39mwhile\u001b[39;00m \u001b[39mTrue\u001b[39;00m:\n\u001b[1;32m----> <a href='vscode-notebook-cell:/e%3A/Github%20sparade%20filer/Python-Daniel-Nilsson/Exercises/Exercises-07.ipynb#X10sZmlsZQ%3D%3D?line=1'>2</a>\u001b[0m     rides \u001b[39m=\u001b[39m \u001b[39mfloat\u001b[39;49m (\u001b[39minput\u001b[39;49m(\u001b[39m\"\u001b[39;49m\u001b[39mHur många gånger vill du åka i månaden\u001b[39;49m\u001b[39m\"\u001b[39;49m))\n\u001b[0;32m      <a href='vscode-notebook-cell:/e%3A/Github%20sparade%20filer/Python-Daniel-Nilsson/Exercises/Exercises-07.ipynb#X10sZmlsZQ%3D%3D?line=2'>3</a>\u001b[0m     \u001b[39mif\u001b[39;00m rides \u001b[39m<\u001b[39m \u001b[39m0\u001b[39m \u001b[39mor\u001b[39;00m rides \u001b[39m>\u001b[39m \u001b[39m100\u001b[39m:\n\u001b[0;32m      <a href='vscode-notebook-cell:/e%3A/Github%20sparade%20filer/Python-Daniel-Nilsson/Exercises/Exercises-07.ipynb#X10sZmlsZQ%3D%3D?line=3'>4</a>\u001b[0m         \u001b[39mprint\u001b[39m(\u001b[39m\"\u001b[39m\u001b[39mDu måste skriva ett nummer från 1 till 100, försök igen\u001b[39m\u001b[39m\"\u001b[39m)\n",
      "\u001b[1;31mValueError\u001b[0m: could not convert string to float: 'sdf'"
     ]
    }
   ],
   "source": [
    "\n",
    "while True:\n",
    "    rides = float (input(\"Hur många gånger vill du åka i månaden\"))\n",
    "    if rides < 0 or rides > 100:\n",
    "        print(\"Du måste skriva ett nummer från 1 till 100, försök igen\")\n",
    "        continue\n",
    "    else:\n",
    "        break\n",
    "\n",
    "while True:\n",
    "    tickets = float (input(\"Hur mycket kostar biljetten?\"))\n",
    "    if tickets < 0 or tickets > 1000:\n",
    "        print(\"Du måste skriva ett nummer från 1 till 1000, försök igen\")\n",
    "        continue\n",
    "    else:\n",
    "        break\n",
    "\n",
    "while True: \n",
    "    monthlycard = float (input(\"Hur mycket kostar månadskort?\"))\n",
    "    if monthlycard < 0 or monthlycard > 2500:\n",
    "        print(\"Du måste skriva ett nummer från 1 till 2500, försök igen\")\n",
    "        continue\n",
    "    else:\n",
    "        break\n",
    "\n",
    "while True: \n",
    "    single_ticket = tickets * rides\n",
    "    if single_ticket < monthlycard:\n",
    "        print(f\"Du åker {rides:.0f} i månaden och en biljett kostar {tickets:.0f}, det kostar {single_ticket:.0f} och är billigare än {monthlycard:.0f}, köp inte månadskort\")\n",
    "        break\n",
    "    else:\n",
    "        print(f\"Du åker {rides:.0f} i månaden och en biljett kostar {tickets:.0f}, det kostar {single_ticket:.0f} och är dyrare än {monthlycard:.0f}, köp månadskort\")\n",
    "        break"
   ]
  },
  {
   "cell_type": "markdown",
   "metadata": {},
   "source": [
    "### Try & except lösning (bättre - funkar korrekt om du skriver bokstäver också)"
   ]
  },
  {
   "cell_type": "code",
   "execution_count": 27,
   "metadata": {},
   "outputs": [
    {
     "name": "stdout",
     "output_type": "stream",
     "text": [
      "Fel, ange ett nummer mellan 1 till 100, inte: -12.0\n",
      "Fel, ange ett nummer mellan 1 till 100, inte: -12.0\n",
      "Fel, ange ett nummer mellan 1 till 100, inte: -12.0\n",
      "Fel, ange ett nummer mellan 1 till 100, inte: -12.0\n",
      "Fel, ange ett nummer mellan 1 till 100, inte: -12.0\n",
      "Fel, ange ett nummer mellan 1 till 100, inte: -12.0\n",
      "Fel, ange ett nummer mellan 1 till 100, inte: -12.0\n",
      "Du åker 12 gånger i månaden och en biljett kostar 25, det kostar 300 och är billigare än 1900, köp inte månadskort\n"
     ]
    }
   ],
   "source": [
    "\n",
    "\n",
    "while True:\n",
    "    rides = float (input(\"Hur många gånger vill du åka i månaden\"))\n",
    "    try:\n",
    "        rides = float(rides)\n",
    "        if rides < 0 or rides > 100:\n",
    "            raise ValueError(f\"Fel, ange ett nummer mellan 1 till 100, inte: {rides}\")\n",
    "    except ValueError as err: \n",
    "        print(err)\n",
    "        continue\n",
    "\n",
    "    tickets = float (input(\"Hur mycket kostar biljetten?\"))\n",
    "    try:\n",
    "        tickets = float(tickets)\n",
    "        if tickets < 0 or tickets > 1000:\n",
    "            raise ValueError(f\"Fel, ange ett nummer mellan 1 till 1000, inte: {tickets}\")\n",
    "    except ValueError as err: \n",
    "        print(err)\n",
    "        continue\n",
    "\n",
    "    monthlycard = float (input(\"Hur mycket ett månadskort?\"))\n",
    "    try:\n",
    "        monthlycard = float(monthlycard)\n",
    "        if monthlycard < 0 or monthlycard > 2500:\n",
    "            raise ValueError(f\"Fel, ange ett nummer mellan 1 till 2500, inte: {monthlycard}\")\n",
    "    except ValueError as err: \n",
    "        print(err)\n",
    "        continue\n",
    "    \n",
    "    single_ticket = tickets * rides\n",
    "    if single_ticket < monthlycard:\n",
    "        print(f\"Du åker {rides:.0f} gånger i månaden och en biljett kostar {tickets:.0f}, det kostar {single_ticket:.0f} och är billigare än {monthlycard:.0f}, köp inte månadskort\")\n",
    "        break\n",
    "    else:\n",
    "        print(f\"Du åker {rides:.0f} gånger i månaden och en biljett kostar {tickets:.0f}, det kostar {single_ticket:.0f} och är dyrare än {monthlycard:.0f}, köp månadskort\")\n",
    "        break\n"
   ]
  },
  {
   "cell_type": "code",
   "execution_count": 3,
   "metadata": {},
   "outputs": [
    {
     "name": "stdout",
     "output_type": "stream",
     "text": [
      "Du åker 12 gånger i månaden och en biljett kostar 12, det kostar 144 och är dyrare än ett månadskort för 12, köp månadskort\n"
     ]
    }
   ],
   "source": [
    "# Min beskrivande lösning\n",
    "\n",
    "while True:\n",
    "    rides = input(\"Hur många gånger vill du åka i månaden\")\n",
    "    try:\n",
    "        rides = float(rides)\n",
    "        if rides < 0 or rides > 100:\n",
    "            raise ValueError(f\"Fel, ange ett nummer mellan 1 till 100, inte: {rides}\")\n",
    "        break\n",
    "    except ValueError as err: \n",
    "        print(f\"{err} funkar inte, skriv med siffror istället\")\n",
    "\n",
    "\n",
    "while True:\n",
    "    tickets = input(\"Hur mycket kostar biljetten?\")\n",
    "    try:\n",
    "        tickets = float(tickets)\n",
    "        if tickets < 0 or tickets > 1000:\n",
    "            raise ValueError(f\"Fel, ange ett nummer mellan 1 till 1000, inte: {tickets}\")\n",
    "        break\n",
    "    except ValueError as err: \n",
    "        print(f\"{err} funkar inte, skriv med siffror istället\")\n",
    "\n",
    "\n",
    "while True:\n",
    "    monthlycard = input(\"Hur mycket ett månadskort?\")\n",
    "    try:\n",
    "        monthlycard = float(monthlycard)\n",
    "        if monthlycard < 0 or monthlycard > 2500:\n",
    "            raise ValueError(f\"Fel, ange ett nummer mellan 1 till 2500, inte: {monthlycard}\")\n",
    "        break\n",
    "    except ValueError as err: \n",
    "        print(f\"{err} funkar inte, skriv med siffror istället\")\n",
    "\n",
    "\n",
    "single_ticket = tickets * rides\n",
    "if single_ticket < monthlycard:\n",
    "    print(f\"Du åker {rides:.0f} gånger i månaden och en biljett kostar {tickets:.0f}, det kostar {single_ticket:.0f} och är billigare än ett månadskort för {monthlycard:.0f}, köp inte månadskort\")\n",
    "else:\n",
    "    print(f\"Du åker {rides:.0f} gånger i månaden och en biljett kostar {tickets:.0f}, det kostar {single_ticket:.0f} och är dyrare än ett månadskort för {monthlycard:.0f}, köp månadskort\")\n"
   ]
  }
 ],
 "metadata": {
  "kernelspec": {
   "display_name": "Python 3.9.13 ('Python-Daniel-Nilsson-dM3wHzD4')",
   "language": "python",
   "name": "python3"
  },
  "language_info": {
   "codemirror_mode": {
    "name": "ipython",
    "version": 3
   },
   "file_extension": ".py",
   "mimetype": "text/x-python",
   "name": "python",
   "nbconvert_exporter": "python",
   "pygments_lexer": "ipython3",
   "version": "3.9.13"
  },
  "orig_nbformat": 4,
  "vscode": {
   "interpreter": {
    "hash": "c3a8699ff25c9cbc0813ce7fc610555f4abadcd389eeaf7d4f4aa58333d28396"
   }
  }
 },
 "nbformat": 4,
 "nbformat_minor": 2
}
