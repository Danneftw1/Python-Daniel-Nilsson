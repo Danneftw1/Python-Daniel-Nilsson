{
 "cells": [
  {
   "cell_type": "markdown",
   "metadata": {},
   "source": [
    "## Exercise 1A & B"
   ]
  },
  {
   "cell_type": "code",
   "execution_count": 7,
   "metadata": {},
   "outputs": [
    {
     "name": "stdout",
     "output_type": "stream",
     "text": [
      "4\n"
     ]
    }
   ],
   "source": [
    "test = input(\"Skriv ett ord\")\n",
    "\n",
    "print(len(test))\n"
   ]
  },
  {
   "cell_type": "code",
   "execution_count": 37,
   "metadata": {},
   "outputs": [
    {
     "name": "stdout",
     "output_type": "stream",
     "text": [
      "Order du skrev har 4 stora bokstäver\n",
      "Order du skrev har 8 stora bokstäver\n"
     ]
    }
   ],
   "source": [
    "import re\n",
    "\n",
    "test = input(\"Skriv ett ord\")\n",
    "\n",
    "uppercase = re.findall(r\"[A-Z]\", test)\n",
    "lowercase = re.findall(r\"[a-z]\", test)\n",
    "\n",
    "print(f\"Ordet du skrev har {len(uppercase)} stora bokstäver\")\n",
    "print(f\"Ordet du skrev har {len(lowercase)} stora bokstäver\")\n"
   ]
  },
  {
   "cell_type": "markdown",
   "metadata": {},
   "source": [
    "## Exercise 2"
   ]
  },
  {
   "cell_type": "code",
   "execution_count": 35,
   "metadata": {},
   "outputs": [
    {
     "name": "stdout",
     "output_type": "stream",
     "text": [
      "There are 17 words in that sentence\n"
     ]
    }
   ],
   "source": [
    "text = \"A picture says more than a thousand words,\\\n",
    "     a mathematical formula says more than a thousand pictures\"\n",
    "\n",
    "words = re.findall(r\"\\S{1,12}\", text)\n",
    "\n",
    "print(f\"There are {len(words)} words in that sentence\")\n",
    "\n"
   ]
  },
  {
   "cell_type": "markdown",
   "metadata": {},
   "source": [
    "## Exercise 3"
   ]
  },
  {
   "cell_type": "code",
   "execution_count": 101,
   "metadata": {},
   "outputs": [
    {
     "name": "stdout",
     "output_type": "stream",
     "text": [
      "nitalarbralatin\n",
      "Det är en palindrom\n"
     ]
    }
   ],
   "source": [
    "\n",
    "text1 = input(\"skriv ett ord eller mening \")\n",
    "text1 = text1.lower() # gör alla stora bokstäver till små bokstäver\n",
    "text1 = text1.replace(\" \", \"\") # tar byter alla mellanrum med icke-mellanrum\n",
    "\n",
    "print(text1)\n",
    "\n",
    "if text1 == text1[::-1]:\n",
    "    print(\"Det är en palindrom\")\n",
    "else:\n",
    "    print(\"Det är inte en palindrom\")\n",
    "\n"
   ]
  },
  {
   "cell_type": "code",
   "execution_count": 99,
   "metadata": {},
   "outputs": [
    {
     "data": {
      "text/plain": [
       "['hejsan', 'jag', 'heter', 'daniel']"
      ]
     },
     "execution_count": 99,
     "metadata": {},
     "output_type": "execute_result"
    }
   ],
   "source": [
    "s = \"hejsan jag heter daniel\"\n",
    "s.split()\n",
    "\n",
    "# exempel på hur split fungerar"
   ]
  },
  {
   "cell_type": "markdown",
   "metadata": {},
   "source": [
    "## Exercise 4"
   ]
  },
  {
   "cell_type": "code",
   "execution_count": 143,
   "metadata": {},
   "outputs": [
    {
     "name": "stdout",
     "output_type": "stream",
     "text": [
      "['Pure', 'mathematics', 'is', 'in', 'its', 'way', 'the', 'poetry', 'of', 'logical', 'ideas']\n"
     ]
    }
   ],
   "source": [
    "text = \"Pure mathematics is, in its way, the poetry of logical ideas\"\n",
    "#vowels = \"aeiou\"\n",
    "\n",
    "amount = re.findall(r\"\\D\", text)\n",
    "\n",
    "print(f\"{amount}\")\n",
    "\n",
    "# https://www.guru99.com/python-regular-expressions-complete-tutorial.html"
   ]
  }
 ],
 "metadata": {
  "kernelspec": {
   "display_name": "Python 3.9.13 ('Python-Daniel-Nilsson-dM3wHzD4')",
   "language": "python",
   "name": "python3"
  },
  "language_info": {
   "codemirror_mode": {
    "name": "ipython",
    "version": 3
   },
   "file_extension": ".py",
   "mimetype": "text/x-python",
   "name": "python",
   "nbconvert_exporter": "python",
   "pygments_lexer": "ipython3",
   "version": "3.9.13"
  },
  "orig_nbformat": 4,
  "vscode": {
   "interpreter": {
    "hash": "c3a8699ff25c9cbc0813ce7fc610555f4abadcd389eeaf7d4f4aa58333d28396"
   }
  }
 },
 "nbformat": 4,
 "nbformat_minor": 2
}
