{
 "cells": [
  {
   "cell_type": "markdown",
   "metadata": {},
   "source": [
    "## 2. Fraction (**)\n",
    "\n",
    "Create a class called Frac to represent mathematical fractions. The class is instantiated with two instance variables: nominator and denominator. Objects instantiated from this class should have methods for addition, subtraction, multiplication, division using the operators +,-,*,/. Note that these implemented methods must be mathematically correct. Also implement the following methods:\n",
    "\n",
    "simplify(self, value = None) # simplifies to most simple form unless value is given \n",
    "\n",
    "__str__(self) # represent the fraction in a neat way for printing\n",
    "\n",
    "mixed(self) # represent the fraction in mixed terms \n",
    "\n",
    "__eq__(self, other) # checks equality by overloading ==\n",
    "\n",
    "Also remember to handle errors and validations.\n",
    "\n",
    "Example of tests that it should handled:\n",
    "\n",
    "    1/2 + 1/3 = 5/6\n",
    "    1/2 - 1/3 = 1/6\n",
    "    7/6 --> 1 1/6 (mixed)\n",
    "    3*1/2 = 3/2\n",
    "    1/2 * 3 = 3/2\n",
    "    1/4 + 2 = 9/4\n",
    "    1/4 / 1/2 = 1/2\n",
    "    2/4 == 1/2 --> True\n",
    "    3/4 += 2 = 11/4\n"
   ]
  },
  {
   "cell_type": "code",
   "execution_count": 81,
   "metadata": {},
   "outputs": [
    {
     "name": "stdout",
     "output_type": "stream",
     "text": [
      "42/36\n",
      "1/6\n"
     ]
    },
    {
     "data": {
      "text/plain": [
       "'1 <__main__.Fraction object at 0x000002CD185D92B0>'"
      ]
     },
     "execution_count": 81,
     "metadata": {},
     "output_type": "execute_result"
    }
   ],
   "source": [
    "\n",
    "class Fraction:\n",
    "    def __init__(self, num: int, den: int) -> None:\n",
    "        self.num = num\n",
    "        self.den = den\n",
    "\n",
    "    def mixed(self): # konverterar till  string format för print\n",
    "        if self.den == 1:\n",
    "            return str(self.num)\n",
    "        elif self.num > self.den:\n",
    "            return str(self.num//self.den) + \" \" + str(Fraction(self.num % self.den, self.den))\n",
    "        else:\n",
    "            return str(self.num) + \"/\" + str(self.den)\n",
    "\n",
    "    def __sub__(self, value):\n",
    "        new_num = self.num * value.den - self.den * value.num\n",
    "        new_den = self.den * value.den\n",
    "        return Fraction(new_num, new_den)\n",
    "\n",
    "\n",
    "    def __add__(self, value):\n",
    "        new_num = self.num * value.den + self.den * value.num\n",
    "        new_den = self.den * value.den\n",
    "        return Fraction(new_num, new_den)\n",
    "    \n",
    "    # def mixed(self):\n",
    "    #     str(self.num//self.den) + str(Fraction(self.num % self.den, self.den))\n",
    "\n",
    "    def show(self):\n",
    "        print(f\"{self.num}/{self.den}\")\n",
    "\n",
    "    # def __eq__(self, value):\n",
    "\n",
    "\n",
    "x = Fraction(4,6)\n",
    "y = Fraction(3,6)\n",
    "z = x+y\n",
    "z.show()\n",
    "\n",
    "x = Fraction(1,2)\n",
    "y = Fraction(1,3)\n",
    "z = x-y\n",
    "z.show()\n",
    "\n",
    "z = Fraction(7,6)\n",
    "z.mixed()\n",
    "\n"
   ]
  },
  {
   "cell_type": "code",
   "execution_count": null,
   "metadata": {},
   "outputs": [],
   "source": [
    "\n",
    "        def __mul__ (self, value: int) -> float:\n",
    "        if not isinstance(value: int) or len(nom) != len(den):\n",
    "            raise TypeError(\"Must be an int and the same length as eachother\")\n",
    "        numbers =  for a in self.numbers)\n",
    "        return Vector(*numbers)\n",
    "    \n",
    "    \n",
    "    def simplify (self, value = None) # simplifies to most simple form unless value is given\n",
    "\n",
    "    def __str__(self): # represent the fraction in a neat way for printing\n",
    "\n",
    "    def mixed(self): # represent the fraction in mixed terms\n",
    "    \n",
    "    def __eq__(self): # checks equality by overloading"
   ]
  },
  {
   "cell_type": "code",
   "execution_count": 44,
   "metadata": {},
   "outputs": [
    {
     "name": "stdout",
     "output_type": "stream",
     "text": [
      "4\n"
     ]
    }
   ],
   "source": [
    "def hcf(a,b): # highest common factor funktion\n",
    "    if a == 0:\n",
    "        return b\n",
    "    else:\n",
    "        return hcf(b % a, a) # modulus ger tillbaka det värdet som är över (vänsterspalk) efter division\n",
    "                             # sedan byter vi ut det större värdet med det lägsta orginella värdet.\n",
    "\n",
    "# exempel som klar gör det visuellt:\n",
    "\n",
    "a = 4\n",
    "b = 8\n",
    "c = a%b\n",
    "print(c) # detta blir då 15\n"
   ]
  },
  {
   "cell_type": "code",
   "execution_count": 57,
   "metadata": {},
   "outputs": [
    {
     "name": "stdout",
     "output_type": "stream",
     "text": [
      "5/7\n",
      "1 3/7\n",
      "5\n"
     ]
    }
   ],
   "source": [
    "\n",
    "class Fraction:\n",
    "    def __init__(self, numerator, denominator):\n",
    "        gcd = hcf(numerator, denominator)\n",
    "        self.top = numerator//gcd\n",
    "        self.bottom = denominator//gcd\n",
    "    \n",
    "    def __str__(self): # konverterar till  string format för print\n",
    "        if self.bottom == 1:\n",
    "            return str(self.top)\n",
    "        elif self.top > self.bottom:\n",
    "            return str(self.top//self.bottom) + \" \" + str(Fraction(self.top % self.bottom, self.bottom))\n",
    "        else:\n",
    "            return str(self.top) + \"/\" + str(self.bottom)\n",
    "    def double(self):\n",
    "        return Fraction(2*self.top, self.bottom)\n",
    "    \n",
    "    def __mul__(self, n):\n",
    "        return Fraction(n*self.top, self.bottom)\n",
    "    \n",
    "    def __add__(self, other):\n",
    "        newtop = \n",
    "    \n",
    "\n",
    "\n",
    "    \n",
    "    \n",
    "a = Fraction(15, 21)\n",
    "print(a)\n",
    "print(a.double())\n",
    "print(a.__mul__(7))"
   ]
  }
 ],
 "metadata": {
  "kernelspec": {
   "display_name": "Python 3.9.13 64-bit",
   "language": "python",
   "name": "python3"
  },
  "language_info": {
   "codemirror_mode": {
    "name": "ipython",
    "version": 3
   },
   "file_extension": ".py",
   "mimetype": "text/x-python",
   "name": "python",
   "nbconvert_exporter": "python",
   "pygments_lexer": "ipython3",
   "version": "3.9.13"
  },
  "orig_nbformat": 4,
  "vscode": {
   "interpreter": {
    "hash": "167998f8c3a05581fbd9ccdd36f349f3264dd01bf05c9e030bf6452b394f7000"
   }
  }
 },
 "nbformat": 4,
 "nbformat_minor": 2
}
