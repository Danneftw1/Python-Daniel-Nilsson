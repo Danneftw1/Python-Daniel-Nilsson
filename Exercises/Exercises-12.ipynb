{
 "cells": [
  {
   "cell_type": "code",
   "execution_count": null,
   "metadata": {},
   "outputs": [],
   "source": [
    "class Fraction:\n",
    "    def __init__(self, nom: int, den: int) -> None:\n",
    "        \n",
    "        \n",
    "    def simplify (self, value = None) # simplifies to most simple form unless value is given\n",
    "\n",
    "\n",
    "    def __str__(self): # represent the fraction in a neat way for printing\n",
    "\n",
    "    def mixed(self): # represent the fraction in mixed terms\n",
    "    \n",
    "    def __eq__(self): # checks equality by overloading\n",
    "\n"
   ]
  },
  {
   "cell_type": "code",
   "execution_count": 6,
   "metadata": {},
   "outputs": [
    {
     "name": "stdout",
     "output_type": "stream",
     "text": [
      "Addition\n",
      "2/3 + 5/7\n",
      "Subtration\n",
      "3/7 - 4/7\n",
      "Multiplikation\n",
      "Subtration\n",
      "3/7 - 4/7\n"
     ]
    }
   ],
   "source": [
    "\n",
    "class Fraction1:\n",
    "    def __init__(self, nom, den):\n",
    "        self.numerator = int(nom)\n",
    "        self.denominator = int(den)\n",
    "    \n",
    "    def __add__(self, other):\n",
    "        if self.denominator == other.denominator:\n",
    "            self.numerator += self.numerator\n",
    "        else:\n",
    "            self.numerator = self.numerator * other.denominator + self.denominator * other.numerator\n",
    "            self.denominator = self.denominator * other.denominator\n",
    "    \n",
    "    def __sub__(self, other):\n",
    "        if self.denominator == other.denominator:\n",
    "            self.numerator -= self.numerator\n",
    "        else:\n",
    "            self.numerator = self.numerator * other.denominator-self.denominator * other.numerator\n",
    "            self.denominator = self.denominator * other.denominator\n",
    "    \n",
    "    def __mul__ (self, other):\n",
    "        self.numerator *= other.numerator\n",
    "        self.denominator *= other.denominator\n",
    "    \n",
    "    def __str__(self):\n",
    "        return str(self.numerator) + \"/\" + str(self.denominator)\n",
    "\n",
    "frac_plus1 = Fraction1(2,3)\n",
    "frac_plus2 = Fraction1(5,7)\n",
    "print(\"Addition\")\n",
    "print(frac_plus1,\"+\", frac_plus2)\n",
    "\n",
    "\n",
    "frac_sub1 = Fraction1(3,7)\n",
    "frac_sub2 = Fraction1(4,7)\n",
    "print(\"Subtration\")\n",
    "print(frac_sub1,\"-\", frac_sub2)\n",
    "\n",
    "print(\"Multiplikation\")\n",
    "frac_sub1 = Fraction1(3,7)\n",
    "frac_sub2 = Fraction1(4,7)\n",
    "print(\"Subtration\")\n",
    "print(frac_sub1,\"-\", frac_sub2)\n",
    "\n"
   ]
  }
 ],
 "metadata": {
  "kernelspec": {
   "display_name": "Python 3.9.13 ('Python-Daniel-Nilsson-97nbzLRS')",
   "language": "python",
   "name": "python3"
  },
  "language_info": {
   "codemirror_mode": {
    "name": "ipython",
    "version": 3
   },
   "file_extension": ".py",
   "mimetype": "text/x-python",
   "name": "python",
   "nbconvert_exporter": "python",
   "pygments_lexer": "ipython3",
   "version": "3.9.13"
  },
  "orig_nbformat": 4,
  "vscode": {
   "interpreter": {
    "hash": "bc050669da3b02a0dab5c74fea36723f6f6f98ad170411b0b9177bcf895e45d7"
   }
  }
 },
 "nbformat": 4,
 "nbformat_minor": 2
}
