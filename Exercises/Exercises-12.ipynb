{
 "cells": [
  {
   "cell_type": "markdown",
   "metadata": {},
   "source": [
    "## 2. Fraction (**)\n",
    "\n",
    "Create a class called Frac to represent mathematical fractions. The class is instantiated with two instance variables: nominator and denominator. Objects instantiated from this class should have methods for addition, subtraction, multiplication, division using the operators +,-,*,/. Note that these implemented methods must be mathematically correct. Also implement the following methods:\n",
    "\n",
    "simplify(self, value = None) # simplifies to most simple form unless value is given \n",
    "\n",
    "__str__(self) # represent the fraction in a neat way for printing\n",
    "\n",
    "mixed(self) # represent the fraction in mixed terms \n",
    "\n",
    "__eq__(self, other) # checks equality by overloading ==\n",
    "\n",
    "Also remember to handle errors and validations.\n",
    "\n",
    "Example of tests that it should handled:\n",
    "\n",
    "    1/2 + 1/3 = 5/6 DONE\n",
    "    1/2 - 1/3 = 1/6 DONE\n",
    "    7/6 --> 1 1/6 (mixed) DONE\n",
    "    3*1/2 = 3/2\n",
    "    1/2 * 3 = 3/2\n",
    "    1/4 + 2 = 9/4\n",
    "    1/4 / 1/2 = 1/2\n",
    "    2/4 == 1/2 --> True\n",
    "    3/4 += 2 = 11/4\n"
   ]
  },
  {
   "cell_type": "code",
   "execution_count": 2,
   "metadata": {},
   "outputs": [],
   "source": [
    "from __future__ import annotations #gör så att vi kan göra \"value\" till flera typer (se add och division)\n",
    "\n",
    "class Fraction:\n",
    "    def __init__(self, num: int, den: int) -> None: # initierar attributerna till klassen\n",
    "        self.num = num\n",
    "        self.den = den\n",
    "\n",
    "#---------------------GETTERS, SETTERS & VALIDATION-------------------------------------------------------------------------------\n",
    "    @property\n",
    "    def num(self) -> int:\n",
    "        return self._num\n",
    "    \n",
    "    @num.setter\n",
    "    def num(self, num: int) -> int:\n",
    "        if not isinstance(num, int): # standard error handling för string inputs och begränsning av längden på nummer\n",
    "            raise TypeError(f\"number must be an int, not {type(num)}\")\n",
    "        if not (0 <= num <= 1000):\n",
    "            raise ValueError(\"number must be between 0 and 1000\")\n",
    "        self._num = num \n",
    "                            #TODO fixa _ på getters och setter\n",
    "    @property\n",
    "    def num(self) -> int:\n",
    "        return self._num\n",
    "    \n",
    "    @num.setter\n",
    "    def num(self, num: int) -> int:\n",
    "        if not isinstance(num, int):\n",
    "            raise TypeError(f\"number must be an int, not {type(num)}\")\n",
    "        if not (0 <= num <= 1000):\n",
    "            raise ValueError(\"number must be between 0 and 1000\")\n",
    "        self._num = num\n",
    "\n",
    "#-----------------------STRING & SIMPLIFY----------------------------------------------------------------------------------------\n",
    "    def __str__(self) -> str: # vi använder __str__ för att representera objektet i en string.\n",
    "        \"\"\"Display fraction in str\"\"\"\n",
    "        return (f\"{self.num}/{self.den}\") # gör vi inte det här så skrivs inte det som vi vill ut korrekt.\n",
    "\n",
    "    def simplify(self, value = None): # simplifieras till den simplaste formen förutom när något värde har tilldelats.\n",
    "        \"\"\"used instead of highest common denomenator calculations\"\"\"\n",
    "        if self.num % self.den == 1: # om det bara kan delas en gång skippas simplify\n",
    "            pass\n",
    "\n",
    "# tips för uppgifter med matte är att förstå matten väl före man börjar\n",
    "# det underlättar uppgiften väldigt mycket och förstår koden snabbare och lättare.    \n",
    "\n",
    "#-----------------------MIXED----------------------------------------------------------------------------------------------------\n",
    "    def mixed(self) -> int:\n",
    "        \"\"\"Display mixed fraction in correct format\"\"\"      \n",
    "        if self.den == 1: # eftersom täljaren inte har ett värde över 1, räknas det inte som ett bråktal längre (ungefär),\n",
    "            return (self.num) # så vi skriver bara ut nämnaren om det är fallet.\n",
    "        elif self.num > self.den: # uträkning för highest common denominator (endast om nämnaren är mindre än täljaren)\n",
    "            return (f\"{self.num//self.den} {self.num % self.den}/{self.den}\") # hcd kollar vilken den lägsta siffran är som båda kan delas med.\n",
    "        else:\n",
    "            return self.show()\n",
    "\n",
    "#-----------------------SUBTRACTION----------------------------------------------------------------------------------------------\n",
    "    def __sub__(self, value) -> int:\n",
    "        \"\"\"calculates substraction fractions\"\"\"\n",
    "        new_num = self.num * value.den - self.den * value.num # skapar den nya nämnaren genom \"kryssuträkning\" från vänster till höger. Det ger oss nämnaren\n",
    "        new_den = self.den * value.den # för att skapa den nya täljaren behöver vi endast gångra täljarna från både bråktalen\n",
    "        return Fraction(new_num, new_den)\n",
    "\n",
    "#-----------------------ADDITION------------------------------------------------------------------------------------------------\n",
    "    def __add__(self, value: (Fraction | int | float )) -> Fraction: # Addition dunder metod\n",
    "        \"\"\"calculates addition fractions\"\"\"\n",
    "        if type(value) == Fraction: # Kollar ifall numrerna är ett bråktal eller ej, alltså såhär: (x,x)\n",
    "            new_num = self.num * value.den + self.den * value.num  # ifall dem är det så görs uträkning precis som med subtration i en kryssuträkning.\n",
    "            new_den = self.den * value.den\n",
    "            return Fraction(new_num, new_den)\n",
    "        else: # annars går det vidare till den här. I detta fallet är \"value\" heltalet som vi skriver jämte bråktalet.\n",
    "            new_num = self.num + self.den * value\n",
    "            return Fraction(new_num, self.den)\n",
    "\n",
    "#----------------------MULTIPLICATION--------------------------------------------------------------------------------------------\n",
    "    def __mul__(self, value) -> int:\n",
    "        \"\"\"calculates multiplication fractions\"\"\"\n",
    "        if type(value) == Fraction: # kollar likadant som uträkning med subtration ifall det är heltal eller bråktal.\n",
    "            new_top = self.num * value.num #uträkningen för multiplikation ser lite annorlunda ut jämnfört med subtration och addition.\n",
    "            new_bot = self.den * value.den\n",
    "            return Fraction(new_top, new_bot)\n",
    "        else:\n",
    "            new_num = self.num * value # samma som addition är \"value\" ett heltal, samt att uträkningen är också annorlunda här.\n",
    "            return Fraction(new_num, self.den)\n",
    "\n",
    "#----------------------DIVISION--------------------------------------------------------------------------------------------------\n",
    "    def __truediv__(self, value) -> int: # funkar för denna uträkning, men hade behövt highest common denominator uträkning för andra uträkningar.\n",
    "        \"\"\"calculates division fractions (true division)\"\"\"\n",
    "        new_sum = self.num * value.den // value.den # gör \n",
    "        new_bot = self.den * value.num // value.den\n",
    "        return Fraction(new_sum, new_bot)\n",
    "\n",
    "#----------------------BOOLEAN(TRUE OR FLASE)-----------------------------------------------------------------------------\n",
    "    def __eq__(self, value) -> bool: # checkar ifall bråktalen är lika mycket, ex: 1/4 & 2/8\n",
    "        \"\"\"checks if the fractions are equal\"\"\"\n",
    "        return (self.num * value.den == value.num * self.den) # är detta fallet skrivs detta ut.\n"
   ]
  },
  {
   "cell_type": "markdown",
   "metadata": {},
   "source": [
    "## Prints for exercise 2"
   ]
  },
  {
   "cell_type": "code",
   "execution_count": null,
   "metadata": {},
   "outputs": [
    {
     "ename": "",
     "evalue": "",
     "output_type": "error",
     "traceback": [
      "\u001b[1;31mCanceled future for execute_request message before replies were done"
     ]
    },
    {
     "ename": "",
     "evalue": "",
     "output_type": "error",
     "traceback": [
      "\u001b[1;31mThe Kernel crashed while executing code in the the current cell or a previous cell. Please review the code in the cell(s) to identify a possible cause of the failure. Click <a href='https://aka.ms/vscodeJupyterKernelCrash'>here</a> for more info. View Jupyter <a href='command:jupyter.viewOutput'>log</a> for further details."
     ]
    }
   ],
   "source": [
    "# add - fractions\n",
    "x = Fraction(1,2)\n",
    "y = Fraction(1,3)\n",
    "print(f\"Addition with fraction: {x} + {y} = {x + y}\")"
   ]
  },
  {
   "cell_type": "code",
   "execution_count": 82,
   "metadata": {},
   "outputs": [
    {
     "name": "stdout",
     "output_type": "stream",
     "text": [
      "Addition with whole numbers: 1/4 + 2 = 3/2\n"
     ]
    }
   ],
   "source": [
    "# division - fractions\n",
    "y = Fraction(1,2) * 3 \n",
    "print(f\"Addition with whole numbers: 1/4 + 2 = {y}\")"
   ]
  },
  {
   "cell_type": "code",
   "execution_count": 83,
   "metadata": {},
   "outputs": [
    {
     "name": "stdout",
     "output_type": "stream",
     "text": [
      "Addition with whole numbers: 1/4 + 2 = 9/4\n"
     ]
    }
   ],
   "source": [
    "# add - fractions with whole numbers\n",
    "y = Fraction(1,4) + 2\n",
    "print(f\"Addition with whole numbers: 1/4 + 2 = {y}\")"
   ]
  },
  {
   "cell_type": "code",
   "execution_count": 108,
   "metadata": {},
   "outputs": [
    {
     "name": "stdout",
     "output_type": "stream",
     "text": [
      "Multiplication with whole numbers 2: 3*1/2 = 3/2\n"
     ]
    }
   ],
   "source": [
    "y = Fraction(1,2) * 3\n",
    "print(f\"Multiplication with whole numbers 2: 3*1/2 = {y}\")"
   ]
  },
  {
   "cell_type": "code",
   "execution_count": 85,
   "metadata": {},
   "outputs": [
    {
     "name": "stdout",
     "output_type": "stream",
     "text": [
      "Multiplication with whole numbers 2: 3*1/2 = 3/2\n"
     ]
    }
   ],
   "source": [
    "# multi - fractions with whole numbers ex2\n",
    "y = Fraction(1,2) * 3\n",
    "print(f\"Multiplication with whole numbers 2: 3*1/2 = {y}\")"
   ]
  },
  {
   "cell_type": "code",
   "execution_count": 86,
   "metadata": {},
   "outputs": [
    {
     "name": "stdout",
     "output_type": "stream",
     "text": [
      "Addition with whole numbers 2: 3/4 + 2 = 11/4\n"
     ]
    }
   ],
   "source": [
    "# add - fractions with whole numbers ex2\n",
    "y = Fraction(3,4) + 2\n",
    "print(f\"Addition with whole numbers 2: 3/4 + 2 = {y}\")"
   ]
  },
  {
   "cell_type": "code",
   "execution_count": 87,
   "metadata": {},
   "outputs": [
    {
     "name": "stdout",
     "output_type": "stream",
     "text": [
      "Mixed fractions: 7/6 = 1 1/6\n"
     ]
    }
   ],
   "source": [
    "# mixed\n",
    "x = Fraction(7,6)\n",
    "print(f\"Mixed fractions: 7/6 = {x.mixed()}\")"
   ]
  },
  {
   "cell_type": "code",
   "execution_count": 88,
   "metadata": {},
   "outputs": [
    {
     "name": "stdout",
     "output_type": "stream",
     "text": [
      "Addition with fraction: 1/2 - 1/3 = 1/6\n"
     ]
    }
   ],
   "source": [
    "# sub\n",
    "x = Fraction(1,2)\n",
    "y = Fraction(1,3)\n",
    "print(f\"Addition with fraction: {x} - {y} = {x - y}\")"
   ]
  },
  {
   "cell_type": "code",
   "execution_count": 111,
   "metadata": {},
   "outputs": [
    {
     "name": "stdout",
     "output_type": "stream",
     "text": [
      "Same fraction numbers: 2/4 == 1/2 --> True\n"
     ]
    }
   ],
   "source": [
    "# True/False\n",
    "x = Fraction(2,4)\n",
    "y = Fraction(1,2)\n",
    "print(f\"Same fraction numbers: {x} == {y} --> {x==y}\")"
   ]
  },
  {
   "cell_type": "code",
   "execution_count": 117,
   "metadata": {},
   "outputs": [
    {
     "name": "stdout",
     "output_type": "stream",
     "text": [
      "Addition with fraction: 1/8 / 1/4 = 1/2\n"
     ]
    }
   ],
   "source": [
    "\n",
    "x = Fraction(1,4)\n",
    "y = Fraction(1,2)\n",
    "print(f\"Addition with fraction: {x} / {y} = {x / y}\")"
   ]
  }
 ],
 "metadata": {
  "kernelspec": {
   "display_name": "Python 3.9.13 ('Python-Daniel-Nilsson-97nbzLRS')",
   "language": "python",
   "name": "python3"
  },
  "language_info": {
   "codemirror_mode": {
    "name": "ipython",
    "version": 3
   },
   "file_extension": ".py",
   "mimetype": "text/x-python",
   "name": "python",
   "nbconvert_exporter": "python",
   "pygments_lexer": "ipython3",
   "version": "3.9.13"
  },
  "orig_nbformat": 4,
  "vscode": {
   "interpreter": {
    "hash": "bc050669da3b02a0dab5c74fea36723f6f6f98ad170411b0b9177bcf895e45d7"
   }
  }
 },
 "nbformat": 4,
 "nbformat_minor": 2
}
