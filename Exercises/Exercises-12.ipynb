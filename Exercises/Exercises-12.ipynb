{
 "cells": [
  {
   "cell_type": "markdown",
   "metadata": {},
   "source": [
    "## 2. Fraction (**)\n",
    "\n",
    "Create a class called Frac to represent mathematical fractions. The class is instantiated with two instance variables: nominator and denominator. Objects instantiated from this class should have methods for addition, subtraction, multiplication, division using the operators +,-,*,/. Note that these implemented methods must be mathematically correct. Also implement the following methods:\n",
    "\n",
    "simplify(self, value = None) # simplifies to most simple form unless value is given \n",
    "\n",
    "__str__(self) # represent the fraction in a neat way for printing\n",
    "\n",
    "mixed(self) # represent the fraction in mixed terms \n",
    "\n",
    "__eq__(self, other) # checks equality by overloading ==\n",
    "\n",
    "Also remember to handle errors and validations.\n",
    "\n",
    "Example of tests that it should handled:\n",
    "\n",
    "    1/2 + 1/3 = 5/6 DONE\n",
    "    1/2 - 1/3 = 1/6 DONE\n",
    "    7/6 --> 1 1/6 (mixed) DONE\n",
    "    3*1/2 = 3/2\n",
    "    1/2 * 3 = 3/2\n",
    "    1/4 + 2 = 9/4\n",
    "    1/4 / 1/2 = 1/2\n",
    "    2/4 == 1/2 --> True\n",
    "    3/4 += 2 = 11/4\n"
   ]
  },
  {
   "cell_type": "code",
   "execution_count": 73,
   "metadata": {},
   "outputs": [],
   "source": [
    "from __future__ import annotations\n",
    "\n",
    "class Fraction:\n",
    "    def __init__(self, num: int, den: int) -> None:\n",
    "        self.num = num\n",
    "        self.den = den\n",
    "\n",
    "    def mixed(self): \n",
    "        if self.den == 1: # Eftersom täljaren inte har ett värde över 1 så är det inte ett bråktal länge, så vi skriver bara ut nämnaren\n",
    "            return (self.num)\n",
    "        elif self.num > self.den:\n",
    "            return (f\"{self.num//self.den} {self.num % self.den}/{self.den}\")\n",
    "        else:\n",
    "            return self.show()\n",
    "\n",
    "    def __sub__(self, value):\n",
    "        new_num = self.num * value.den - self.den * value.num\n",
    "        new_den = self.den * value.den\n",
    "        return Fraction(new_num, new_den)\n",
    "\n",
    "\n",
    "    def __add__(self, value: (Fraction | int | float )) -> Fraction: # Addition dunder method\n",
    "        if type(value) == Fraction: # chceks if the numbers written in parathesis are two numbers eg. (x,x)\n",
    "            new_num = self.num * value.den + self.den * value.num  # creates a new variable after calculation.\n",
    "            new_den = self.den * value.den\n",
    "            return Fraction(new_num, new_den)\n",
    "        else: # value is the whole number\n",
    "            new_num = self.num + self.den * value\n",
    "            return Fraction(new_num, self.den)\n",
    "    \n",
    "    def __mul__(self, value):\n",
    "        new_num = self.num * value.den\n",
    "        new_den = self.den * value.den\n",
    "        return Fraction(new_num, new_den)\n",
    "\n",
    "    def __eq__(self, value) -> bool:\n",
    "        return (self.num * value.den == value.num * self.den)\n",
    "    \n",
    "    def __str__(self) -> str:\n",
    "        \"\"\"Display fraction in str\"\"\"\n",
    "        print(f\"{self.num}/{self.den}\")\n",
    "\n",
    "    # def __eq__(self, value):\n",
    "\n",
    "\n",
    "\n"
   ]
  },
  {
   "cell_type": "code",
   "execution_count": 74,
   "metadata": {},
   "outputs": [
    {
     "name": "stdout",
     "output_type": "stream",
     "text": [
      "1/2\n"
     ]
    },
    {
     "ename": "TypeError",
     "evalue": "__str__ returned non-string (type NoneType)",
     "output_type": "error",
     "traceback": [
      "\u001b[1;31m---------------------------------------------------------------------------\u001b[0m",
      "\u001b[1;31mTypeError\u001b[0m                                 Traceback (most recent call last)",
      "\u001b[1;32me:\\Github sparade filer\\Python-Daniel-Nilsson\\Exercises\\Exercises-12.ipynb Cell 3\u001b[0m in \u001b[0;36m<cell line: 4>\u001b[1;34m()\u001b[0m\n\u001b[0;32m      <a href='vscode-notebook-cell:/e%3A/Github%20sparade%20filer/Python-Daniel-Nilsson/Exercises/Exercises-12.ipynb#W6sZmlsZQ%3D%3D?line=1'>2</a>\u001b[0m x \u001b[39m=\u001b[39m Fraction(\u001b[39m1\u001b[39m,\u001b[39m2\u001b[39m)\n\u001b[0;32m      <a href='vscode-notebook-cell:/e%3A/Github%20sparade%20filer/Python-Daniel-Nilsson/Exercises/Exercises-12.ipynb#W6sZmlsZQ%3D%3D?line=2'>3</a>\u001b[0m y \u001b[39m=\u001b[39m Fraction(\u001b[39m1\u001b[39m,\u001b[39m3\u001b[39m)\n\u001b[1;32m----> <a href='vscode-notebook-cell:/e%3A/Github%20sparade%20filer/Python-Daniel-Nilsson/Exercises/Exercises-12.ipynb#W6sZmlsZQ%3D%3D?line=3'>4</a>\u001b[0m \u001b[39mprint\u001b[39m(\u001b[39mf\u001b[39m\u001b[39m\"\u001b[39m\u001b[39mAddition with fraction: \u001b[39m\u001b[39m{\u001b[39;00mx\u001b[39m}\u001b[39;00m\u001b[39m + \u001b[39m\u001b[39m{\u001b[39;00my\u001b[39m}\u001b[39;00m\u001b[39m = \u001b[39m\u001b[39m{\u001b[39;00mx\u001b[39m+\u001b[39my\u001b[39m}\u001b[39;00m\u001b[39m\"\u001b[39m)\n\u001b[0;32m      <a href='vscode-notebook-cell:/e%3A/Github%20sparade%20filer/Python-Daniel-Nilsson/Exercises/Exercises-12.ipynb#W6sZmlsZQ%3D%3D?line=5'>6</a>\u001b[0m \u001b[39m# sub\u001b[39;00m\n\u001b[0;32m      <a href='vscode-notebook-cell:/e%3A/Github%20sparade%20filer/Python-Daniel-Nilsson/Exercises/Exercises-12.ipynb#W6sZmlsZQ%3D%3D?line=6'>7</a>\u001b[0m x \u001b[39m=\u001b[39m Fraction(\u001b[39m1\u001b[39m,\u001b[39m2\u001b[39m)\n",
      "\u001b[1;31mTypeError\u001b[0m: __str__ returned non-string (type NoneType)"
     ]
    }
   ],
   "source": [
    "\n",
    "# add\n",
    "x = Fraction(1,2)\n",
    "y = Fraction(1,3)\n",
    "print(f\"Addition with fraction: {x} + {y} = {x+y}\")\n",
    "\n",
    "# sub\n",
    "x = Fraction(1,2)\n",
    "y = Fraction(1,3)\n",
    "z = x-y\n",
    "z.show()\n",
    "\n",
    "#multi\n",
    "x = Fraction(1,2)\n",
    "y = Fraction(2,4)\n",
    "z = x*y\n",
    "z.show()\n",
    "\n",
    "# mixed numbers\n",
    "z = Fraction(7,6)\n",
    "z.show()\n",
    "\n",
    "# same numbers\n",
    "x = Fraction(2,4)\n",
    "y = Fraction(1,2)\n",
    "x==y\n",
    "\n",
    "# fractions with whole numbers\n",
    "x = Fraction(1,4) + 2\n",
    "x.show()\n"
   ]
  },
  {
   "cell_type": "code",
   "execution_count": 44,
   "metadata": {},
   "outputs": [
    {
     "name": "stdout",
     "output_type": "stream",
     "text": [
      "4\n"
     ]
    }
   ],
   "source": [
    "def hcf(a,b): # highest common factor funktion\n",
    "    if a == 0:\n",
    "        return b\n",
    "    else:\n",
    "        return hcf(b % a, a) # modulus ger tillbaka det värdet som är över (vänsterspalk) efter division\n",
    "                             # sedan byter vi ut det större värdet med det lägsta orginella värdet.\n",
    "\n",
    "# exempel som klar gör det visuellt:\n",
    "\n",
    "a = 4\n",
    "b = 8\n",
    "c = a%b\n",
    "print(c) # detta blir då 15\n"
   ]
  },
  {
   "cell_type": "code",
   "execution_count": 57,
   "metadata": {},
   "outputs": [
    {
     "name": "stdout",
     "output_type": "stream",
     "text": [
      "5/7\n",
      "1 3/7\n",
      "5\n"
     ]
    }
   ],
   "source": [
    "\n",
    "class Fraction:\n",
    "    def __init__(self, numerator, denominator):\n",
    "        gcd = hcf(numerator, denominator)\n",
    "        self.top = numerator//gcd\n",
    "        self.bottom = denominator//gcd\n",
    "    \n",
    "    def __str__(self): # konverterar till  string format för print\n",
    "        if self.bottom == 1:\n",
    "            return str(self.top)\n",
    "        elif self.top > self.bottom:\n",
    "            return str(self.top//self.bottom) + \" \" + str(Fraction(self.top % self.bottom, self.bottom))\n",
    "        else:\n",
    "            return str(self.top) + \"/\" + str(self.bottom)\n",
    "    def double(self):\n",
    "        return Fraction(2*self.top, self.bottom)\n",
    "    \n",
    "    def __mul__(self, n):\n",
    "        return Fraction(n*self.top, self.bottom)\n",
    "    \n",
    "    def __add__(self, other):\n",
    "        newtop = \n",
    "    \n",
    "\n",
    "\n",
    "    \n",
    "    \n",
    "a = Fraction(15, 21)\n",
    "print(a)\n",
    "print(a.double())\n",
    "print(a.__mul__(7))"
   ]
  }
 ],
 "metadata": {
  "kernelspec": {
   "display_name": "Python 3.9.13 64-bit",
   "language": "python",
   "name": "python3"
  },
  "language_info": {
   "codemirror_mode": {
    "name": "ipython",
    "version": 3
   },
   "file_extension": ".py",
   "mimetype": "text/x-python",
   "name": "python",
   "nbconvert_exporter": "python",
   "pygments_lexer": "ipython3",
   "version": "3.9.13"
  },
  "orig_nbformat": 4,
  "vscode": {
   "interpreter": {
    "hash": "167998f8c3a05581fbd9ccdd36f349f3264dd01bf05c9e030bf6452b394f7000"
   }
  }
 },
 "nbformat": 4,
 "nbformat_minor": 2
}
