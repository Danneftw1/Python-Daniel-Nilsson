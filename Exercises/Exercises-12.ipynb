{
 "cells": [
  {
   "cell_type": "code",
   "execution_count": null,
   "metadata": {},
   "outputs": [],
   "source": [
    "try:\n",
    "    # test 1\n",
    "    # v1 = Video(\"Schindlers list\", \"Comedy\", 10)\n",
    "    \n",
    "    # first exercise code\n",
    "    pokemon = TV_serie(\"Pokemon\", \"Cartoon\", 4.5, 550)\n",
    "\n",
    "    # second exercise code\n",
    "    code = Movie(\"The Code\", \"Math\", 4, 1.32)\n",
    "\n",
    "    print(code.info())\n",
    "    print(pokemon.info())\n",
    "except TypeError as x:\n",
    "    print(x)\n",
    "except ValueError as z:\n",
    "    print(z)"
   ]
  },
  {
   "cell_type": "code",
   "execution_count": null,
   "metadata": {},
   "outputs": [],
   "source": [
    "#---------MAIN------------------VIDEO CLASS-----------------------------------\n",
    "class Video: #Super klassen (överklassen)\n",
    "    \"\"\"Super class for multimedia\"\"\"\n",
    "    def __init__ (self, title: str, genre: str, rating: float):\n",
    "        \"\"\"main attributes for subclasses\"\"\"\n",
    "        self.title = title\n",
    "        self.genre = genre\n",
    "        self.rating = rating\n",
    "    \n",
    "    @property\n",
    "    def title(self):\n",
    "        \"\"\"Getter for title\"\"\"\n",
    "        return self._title # _ är den privata versionen av titeln\n",
    "\n",
    "    @title.setter\n",
    "    def title(self, value: str) -> str:\n",
    "\n",
    "        if type(value) != str: # om titeln inte är string - error msg\n",
    "            raise TypeError (f\"Movie title must contain a string, not {type(value)}\")\n",
    "        \n",
    "        if value.strip() == \"\": # value cant be null, och tar bort mellanslag\n",
    "            raise ValueError (\"Movie title can't be nothing, requires atleast 1 character\")\n",
    "\n",
    "        value = value.capitalize()\n",
    "        self._title = value\n",
    "\n",
    "    @property\n",
    "    def genre(self):\n",
    "        \"\"\"Getter for genre\"\"\"\n",
    "        return self._genre # _ är den privata versionen av titeln\n",
    "\n",
    "    @genre.setter\n",
    "    def genre(self, value: str) -> str:\n",
    "        # will check if the genre input is a valid genre\n",
    "        genre_list = [\"Action\", \"Comedy\", \"Drama\", \"Math\", \"Cartoon\", \"Fantasy\", \"Horror\", \"Mystery\", \"Romance\", \"Thriller\"]\n",
    "        if value not in genre_list: # checks if input is in the list\n",
    "            raise ValueError (f\"{type(value)} is not a valid genre, try again\")\n",
    "\n",
    "        value = value.capitalize()\n",
    "        self._genre = value\n",
    "\n",
    "    @property\n",
    "    def rating(self):\n",
    "        \"\"\"Getter for genre\"\"\"\n",
    "        return self._rating # _ är den privata versionen av titeln\n",
    "\n",
    "    @rating.setter\n",
    "    def rating(self, value: int) -> int:\n",
    "        # cannot be nothing\n",
    "        # positive number\n",
    "        # must be int or float\n",
    "        if not isinstance(value, (int, float)):\n",
    "            raise TypeError(f\"Must be an int or float, try again\")\n",
    "        \n",
    "        if not 0 < value <= 10:\n",
    "            raise ValueError (f\"The rating must be whole number from 1 to 10, not {type(value)}\")\n",
    "        self._rating = round(value, 1) # avrundar till 1 decimal (som imdb)\n",
    "\n",
    "    def __str__(self) -> str: # skriver ut i terminalen på bättre sätt\n",
    "        \"\"\"Displays attributes\"\"\"\n",
    "        return (f\"{self.title} - {self.genre} - {self.rating}\")\n",
    "    \n",
    "    def info(self) -> str:\n",
    "        \"\"\"Return info about video in string format\"\"\"\n",
    "        if type(self) == Video:\n",
    "            return f\"The movie {self.title} is a {self.genre} movie, and has a rating of {self.rating}\"\n",
    "        if type(self) == Movie:\n",
    "            return f\"The movie: {self.title} is a {self.genre}-based movie with a rating of {self.rating} and duration of {self.duration} hours\"\n",
    "\n",
    "\n",
    "#------------------------------------TV-SERIE KLASS--------------------------------------------------------\n",
    "\n",
    "class TV_serie(Video): # sub-klass till överklassen \"Video\"\n",
    "    \"\"\"Class for TV-serie\"\"\"     \n",
    "    def __init__(self, title: str, genre: str, rating: float, episodes: int):\n",
    "        super().__init__(title, genre, rating)\n",
    "        self.episodes = episodes\n",
    "\n",
    "    @property\n",
    "    def episodes(self):\n",
    "        \"\"\"Getter for genre\"\"\"\n",
    "        return self._episodes # _ är den privata versionen av titeln\n",
    "\n",
    "    @episodes.setter\n",
    "    def episodes(self, value: int) -> int:\n",
    "        # cannot be nothing\n",
    "        # positive number\n",
    "        # must be int\n",
    "        if type(value) != int:\n",
    "            raise TypeError(f\"Must be a number, try again\")\n",
    "        \n",
    "        if not 0 < value:\n",
    "            raise ValueError (f\"the amount of episodes of must be more than 0, not {type(value)}\")\n",
    "\n",
    "        self._episodes = value\n",
    "\n",
    "    def info(self):\n",
    "        return f\"TV-series {self.title} is a {self.genre} with a rating of {self.rating} and {self.episodes} episodes\"\n",
    "\n",
    "#-----------------------------------MOVIE SUB-KLASS-----------------------------------------------------------\n",
    "\n",
    "class Movie(Video): # sub-klass till överklassen \"Video\"\n",
    "    \"\"\"Class for TV-serie\"\"\"     \n",
    "    def __init__(self, title: str, genre: str, rating: float, duration: float):\n",
    "        super().__init__(title, genre, rating)\n",
    "        self.duration = duration\n",
    "\n",
    "    @property\n",
    "    def duration(self):\n",
    "        \"\"\"Getter for genre\"\"\"\n",
    "        return self._duration # _ är den privata versionen av titeln\n",
    "\n",
    "    @duration.setter\n",
    "    def duration(self, value: float) -> float:\n",
    "        # cannot be nothing\n",
    "        # positive number\n",
    "        # must be float\n",
    "\n",
    "        if type(value) != float:\n",
    "            raise TypeError(f\"Must be a number (float), try again\")\n",
    "        \n",
    "        if not 0 < value:\n",
    "            raise ValueError (f\"the amount of duration of must be more than 0, not {type(value)}\")\n",
    "\n",
    "        self._duration = value\n",
    "\n",
    "    def info(self):\n",
    "        return f\"The movie: {self.title} is a {self.genre}-based movie with a rating of {self.rating} and duration of {self.duration} hours\"\n",
    "\n",
    "\n",
    "# TODO Movie class\n",
    "# TODO Documentary class\n",
    "        \n"
   ]
  },
  {
   "cell_type": "markdown",
   "metadata": {},
   "source": [
    "## 2. Fraction (**)\n",
    "\n",
    "Create a class called Frac to represent mathematical fractions. The class is instantiated with two instance variables: nominator and denominator. Objects instantiated from this class should have methods for addition, subtraction, multiplication, division using the operators +,-,*,/. Note that these implemented methods must be mathematically correct. Also implement the following methods:\n",
    "\n",
    "simplify(self, value = None) # simplifies to most simple form unless value is given \n",
    "\n",
    "__str__(self) # represent the fraction in a neat way for printing\n",
    "\n",
    "mixed(self) # represent the fraction in mixed terms \n",
    "\n",
    "__eq__(self, other) # checks equality by overloading ==\n",
    "\n",
    "Also remember to handle errors and validations.\n",
    "\n",
    "Example of tests that it should handled:\n",
    "\n",
    "    1/2 + 1/3 = 5/6 DONE\n",
    "    1/2 - 1/3 = 1/6 DONE\n",
    "    7/6 --> 1 1/6 (mixed) DONE\n",
    "    3*1/2 = 3/2\n",
    "    1/2 * 3 = 3/2\n",
    "    1/4 + 2 = 9/4\n",
    "    1/4 / 1/2 = 1/2\n",
    "    2/4 == 1/2 --> True\n",
    "    3/4 += 2 = 11/4\n"
   ]
  },
  {
   "cell_type": "code",
   "execution_count": 5,
   "metadata": {},
   "outputs": [],
   "source": [
    "from __future__ import annotations #gör så att vi kan göra \"value\" till flera typer (se add och division)\n",
    "\n",
    "class Fraction:\n",
    "    def __init__(self, num: int, den: int) -> None: # initierar attributerna till klassen\n",
    "        self.num = num\n",
    "        self.den = den\n",
    "\n",
    "#---------------------GETTERS, SETTERS & VALIDATION-------------------------------------------------------------------------------\n",
    "    @property\n",
    "    def num(self) -> int:\n",
    "        return self._num\n",
    "    \n",
    "    @num.setter\n",
    "    def num(self, num: int) -> int:\n",
    "        if not isinstance(num, int): # standard error handling för string inputs och begränsning av längden på nummer\n",
    "            raise TypeError(f\"number must be an int, not {type(num)}\")\n",
    "        if not (0 <= num <= 1000):\n",
    "            raise ValueError(\"number must be between 0 and 1000\")\n",
    "        self._num = num \n",
    "                            #TODO fixa _ på getters och setter\n",
    "    @property\n",
    "    def num(self) -> int:\n",
    "        return self._num\n",
    "    \n",
    "    @num.setter\n",
    "    def num(self, num: int) -> int:\n",
    "        if not isinstance(num, int):\n",
    "            raise TypeError(f\"number must be an int, not {type(num)}\")\n",
    "        if not (0 <= num <= 1000):\n",
    "            raise ValueError(\"number must be between 0 and 1000\")\n",
    "        self._num = num\n",
    "\n",
    "#-----------------------STRING & SIMPLIFY----------------------------------------------------------------------------------------\n",
    "    def __str__(self) -> str: # vi använder __str__ för att representera objektet i en string.\n",
    "        \"\"\"Display fraction in str\"\"\"\n",
    "        return (f\"{self.num}/{self.den}\") # gör vi inte det här så skrivs inte det som vi vill ut korrekt.\n",
    "\n",
    "    def simplify(self, value = None): # simplifieras till den simplaste formen förutom när något värde har tilldelats.\n",
    "        \"\"\"used instead of highest common denomenator calculations\"\"\"\n",
    "        if self.num % self.den == 1: # om det bara kan delas en gång skippas simplify\n",
    "            pass\n",
    "\n",
    "# tips för uppgifter med matte är att förstå matten väl före man börjar\n",
    "# det underlättar uppgiften väldigt mycket och förstår koden snabbare och lättare.    \n",
    "\n",
    "#-----------------------MIXED----------------------------------------------------------------------------------------------------\n",
    "    def mixed(self) -> int:\n",
    "        \"\"\"Display mixed fraction in correct format\"\"\"      \n",
    "        if self.den == 1: # eftersom täljaren inte har ett värde över 1, räknas det inte som ett bråktal längre (ungefär),\n",
    "            return (self.num) # så vi skriver bara ut nämnaren om det är fallet.\n",
    "        elif self.num > self.den: # uträkning för highest common denominator (endast om nämnaren är mindre än täljaren)\n",
    "            return (f\"{self.num//self.den} {self.num % self.den}/{self.den}\") # hcd kollar vilken den lägsta siffran är som båda kan delas med.\n",
    "        else:\n",
    "            return self.show()\n",
    "\n",
    "#-----------------------SUBTRACTION----------------------------------------------------------------------------------------------\n",
    "    def __sub__(self, value) -> int:\n",
    "        \"\"\"calculates substraction fractions\"\"\"\n",
    "        new_num = self.num * value.den - self.den * value.num # skapar den nya nämnaren genom \"kryssuträkning\" från vänster till höger. Det ger oss nämnaren\n",
    "        new_den = self.den * value.den # för att skapa den nya täljaren behöver vi endast gångra täljarna från både bråktalen\n",
    "        return Fraction(new_num, new_den)\n",
    "\n",
    "#-----------------------ADDITION------------------------------------------------------------------------------------------------\n",
    "    def __add__(self, value: (Fraction | int | float )) -> Fraction: # Addition dunder metod\n",
    "        \"\"\"calculates addition fractions\"\"\"\n",
    "        if type(value) == Fraction: # Kollar ifall numrerna är ett bråktal eller ej, alltså såhär: (x,x)\n",
    "            new_num = self.num * value.den + self.den * value.num  # ifall dem är det så görs uträkning precis som med subtration i en kryssuträkning.\n",
    "            new_den = self.den * value.den\n",
    "            return Fraction(new_num, new_den)\n",
    "        else: # annars går det vidare till den här. I detta fallet är \"value\" heltalet som vi skriver jämte bråktalet.\n",
    "            new_num = self.num + self.den * value\n",
    "            return Fraction(new_num, self.den)\n",
    "\n",
    "#----------------------MULTIPLICATION--------------------------------------------------------------------------------------------\n",
    "    def __mul__(self, value) -> int:\n",
    "        \"\"\"calculates multiplication fractions\"\"\"\n",
    "        if type(value) == Fraction: # kollar likadant som uträkning med subtration ifall det är heltal eller bråktal.\n",
    "            new_top = self.num * value.num #uträkningen för multiplikation ser lite annorlunda ut jämnfört med subtration och addition.\n",
    "            new_bot = self.den * value.den\n",
    "            return Fraction(new_top, new_bot)\n",
    "        else:\n",
    "            new_num = self.num * value # samma som addition är \"value\" ett heltal, samt att uträkningen är också annorlunda här.\n",
    "            return Fraction(new_num, self.den)\n",
    "\n",
    "#----------------------DIVISION--------------------------------------------------------------------------------------------------\n",
    "    def __truediv__(self, value) -> int: # funkar för denna uträkning, men hade behövt highest common denominator uträkning för andra uträkningar.\n",
    "        \"\"\"calculates division fractions (true division)\"\"\"\n",
    "        new_sum = self.num * value.den // value.den # gör \n",
    "        new_bot = self.den * value.num // value.den\n",
    "        return Fraction(new_sum, new_bot)\n",
    "\n",
    "#----------------------BOOLEAN(TRUE OR FLASE)-----------------------------------------------------------------------------\n",
    "    def __eq__(self, value) -> bool: # checkar ifall bråktalen är lika mycket, ex: 1/4 & 2/8\n",
    "        \"\"\"checks if the fractions are equal\"\"\"\n",
    "        return (self.num * value.den == value.num * self.den) # är detta fallet skrivs detta ut.\n",
    "    \n",
    "    #def __radd__ -- LÄGG TILL FÖR ATT FÅ UPPGIFTEN 100%\n"
   ]
  },
  {
   "cell_type": "markdown",
   "metadata": {},
   "source": [
    "## Prints for exercise 2"
   ]
  },
  {
   "cell_type": "code",
   "execution_count": 8,
   "metadata": {},
   "outputs": [
    {
     "name": "stdout",
     "output_type": "stream",
     "text": [
      "Addition with fraction: 1/2 + 1/3 = 5/6\n"
     ]
    }
   ],
   "source": [
    "# add - fractions\n",
    "x = Fraction(1,2)\n",
    "y = Fraction(1,3)\n",
    "print(f\"Addition with fraction: {x} + {y} = {x + y}\")"
   ]
  },
  {
   "cell_type": "code",
   "execution_count": 82,
   "metadata": {},
   "outputs": [
    {
     "name": "stdout",
     "output_type": "stream",
     "text": [
      "Addition with whole numbers: 1/4 + 2 = 3/2\n"
     ]
    }
   ],
   "source": [
    "# division - fractions\n",
    "y = Fraction(1,2) * 3 \n",
    "print(f\"Addition with whole numbers: 1/4 + 2 = {y}\")"
   ]
  },
  {
   "cell_type": "code",
   "execution_count": 83,
   "metadata": {},
   "outputs": [
    {
     "name": "stdout",
     "output_type": "stream",
     "text": [
      "Addition with whole numbers: 1/4 + 2 = 9/4\n"
     ]
    }
   ],
   "source": [
    "# add - fractions with whole numbers\n",
    "y = Fraction(1,4) + 2\n",
    "print(f\"Addition with whole numbers: 1/4 + 2 = {y}\")"
   ]
  },
  {
   "cell_type": "code",
   "execution_count": 108,
   "metadata": {},
   "outputs": [
    {
     "name": "stdout",
     "output_type": "stream",
     "text": [
      "Multiplication with whole numbers 2: 3*1/2 = 3/2\n"
     ]
    }
   ],
   "source": [
    "y = Fraction(1,2) * 3\n",
    "print(f\"Multiplication with whole numbers 2: 3*1/2 = {y}\")"
   ]
  },
  {
   "cell_type": "code",
   "execution_count": 85,
   "metadata": {},
   "outputs": [
    {
     "name": "stdout",
     "output_type": "stream",
     "text": [
      "Multiplication with whole numbers 2: 3*1/2 = 3/2\n"
     ]
    }
   ],
   "source": [
    "# multi - fractions with whole numbers ex2\n",
    "y = Fraction(1,2) * 3\n",
    "print(f\"Multiplication with whole numbers 2: 3*1/2 = {y}\")"
   ]
  },
  {
   "cell_type": "code",
   "execution_count": 86,
   "metadata": {},
   "outputs": [
    {
     "name": "stdout",
     "output_type": "stream",
     "text": [
      "Addition with whole numbers 2: 3/4 + 2 = 11/4\n"
     ]
    }
   ],
   "source": [
    "# add - fractions with whole numbers ex2\n",
    "y = Fraction(3,4) + 2\n",
    "print(f\"Addition with whole numbers 2: 3/4 + 2 = {y}\")"
   ]
  },
  {
   "cell_type": "code",
   "execution_count": 87,
   "metadata": {},
   "outputs": [
    {
     "name": "stdout",
     "output_type": "stream",
     "text": [
      "Mixed fractions: 7/6 = 1 1/6\n"
     ]
    }
   ],
   "source": [
    "# mixed\n",
    "x = Fraction(7,6)\n",
    "print(f\"Mixed fractions: 7/6 = {x.mixed()}\")"
   ]
  },
  {
   "cell_type": "code",
   "execution_count": 88,
   "metadata": {},
   "outputs": [
    {
     "name": "stdout",
     "output_type": "stream",
     "text": [
      "Addition with fraction: 1/2 - 1/3 = 1/6\n"
     ]
    }
   ],
   "source": [
    "# sub\n",
    "x = Fraction(1,2)\n",
    "y = Fraction(1,3)\n",
    "print(f\"Addition with fraction: {x} - {y} = {x - y}\")"
   ]
  },
  {
   "cell_type": "code",
   "execution_count": 111,
   "metadata": {},
   "outputs": [
    {
     "name": "stdout",
     "output_type": "stream",
     "text": [
      "Same fraction numbers: 2/4 == 1/2 --> True\n"
     ]
    }
   ],
   "source": [
    "# True/False\n",
    "x = Fraction(2,4)\n",
    "y = Fraction(1,2)\n",
    "print(f\"Same fraction numbers: {x} == {y} --> {x==y}\")"
   ]
  },
  {
   "cell_type": "code",
   "execution_count": 117,
   "metadata": {},
   "outputs": [
    {
     "name": "stdout",
     "output_type": "stream",
     "text": [
      "Addition with fraction: 1/8 / 1/4 = 1/2\n"
     ]
    }
   ],
   "source": [
    "\n",
    "x = Fraction(1,4)\n",
    "y = Fraction(1,2)\n",
    "print(f\"Addition with fraction: {x} / {y} = {x / y}\")"
   ]
  }
 ],
 "metadata": {
  "kernelspec": {
   "display_name": "Python 3.9.13 ('Python-Daniel-Nilsson-dM3wHzD4')",
   "language": "python",
   "name": "python3"
  },
  "language_info": {
   "codemirror_mode": {
    "name": "ipython",
    "version": 3
   },
   "file_extension": ".py",
   "mimetype": "text/x-python",
   "name": "python",
   "nbconvert_exporter": "python",
   "pygments_lexer": "ipython3",
   "version": "3.9.13"
  },
  "orig_nbformat": 4,
  "vscode": {
   "interpreter": {
    "hash": "c3a8699ff25c9cbc0813ce7fc610555f4abadcd389eeaf7d4f4aa58333d28396"
   }
  }
 },
 "nbformat": 4,
 "nbformat_minor": 2
}
