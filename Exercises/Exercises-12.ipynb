{
 "cells": [
  {
   "cell_type": "markdown",
   "metadata": {},
   "source": [
    "## 2. Fraction (**)\n",
    "\n",
    "Create a class called Frac to represent mathematical fractions. The class is instantiated with two instance variables: nominator and denominator. Objects instantiated from this class should have methods for addition, subtraction, multiplication, division using the operators +,-,*,/. Note that these implemented methods must be mathematically correct. Also implement the following methods:\n",
    "\n",
    "simplify(self, value = None) # simplifies to most simple form unless value is given \n",
    "\n",
    "__str__(self) # represent the fraction in a neat way for printing\n",
    "\n",
    "mixed(self) # represent the fraction in mixed terms \n",
    "\n",
    "__eq__(self, other) # checks equality by overloading ==\n",
    "\n",
    "Also remember to handle errors and validations.\n",
    "\n",
    "Example of tests that it should handled:\n",
    "\n",
    "    1/2 + 1/3 = 5/6\n",
    "    1/2 - 1/3 = 1/6\n",
    "    7/6 --> 1 1/6 (mixed)\n",
    "    3*1/2 = 3/2\n",
    "    1/2 * 3 = 3/2\n",
    "    1/4 + 2 = 9/4\n",
    "    1/4 / 1/2 = 1/2\n",
    "    2/4 == 1/2 --> True\n",
    "    3/4 += 2 = 11/4\n"
   ]
  },
  {
   "cell_type": "code",
   "execution_count": null,
   "metadata": {},
   "outputs": [],
   "source": [
    "class Fraction:\n",
    "    def __init__(self, nom: int, den: int) -> None:\n",
    "        \n",
    "        \n",
    "    def simplify (self, value = None) # simplifies to most simple form unless value is given\n",
    "\n",
    "\n",
    "    def __str__(self): # represent the fraction in a neat way for printing\n",
    "\n",
    "    def mixed(self): # represent the fraction in mixed terms\n",
    "    \n",
    "    def __eq__(self): # checks equality by overloading\n",
    "\n"
   ]
  },
  {
   "cell_type": "code",
   "execution_count": 6,
   "metadata": {},
   "outputs": [
    {
     "name": "stdout",
     "output_type": "stream",
     "text": [
      "Addition\n",
      "2/3 + 5/7\n",
      "Subtration\n",
      "3/7 - 4/7\n",
      "Multiplikation\n",
      "Subtration\n",
      "3/7 - 4/7\n"
     ]
    }
   ],
   "source": [
    "\n",
    "class Fraction1:\n",
    "    def __init__(self, nom, den):\n",
    "        self.numerator = int(nom)\n",
    "        self.denominator = int(den)\n",
    "    \n",
    "    def __add__(self, other):\n",
    "        if self.denominator == other.denominator:\n",
    "            self.numerator += self.numerator\n",
    "        else:\n",
    "            self.numerator = self.numerator * other.denominator + self.denominator * other.numerator\n",
    "            self.denominator = self.denominator * other.denominator\n",
    "    \n",
    "    def __sub__(self, other):\n",
    "        if self.denominator == other.denominator:\n",
    "            self.numerator -= self.numerator\n",
    "        else:\n",
    "            self.numerator = self.numerator * other.denominator-self.denominator * other.numerator\n",
    "            self.denominator = self.denominator * other.denominator\n",
    "    \n",
    "    def __mul__ (self, other):\n",
    "        self.numerator *= other.numerator\n",
    "        self.denominator *= other.denominator\n",
    "    \n",
    "    def __str__(self):\n",
    "        return str(self.numerator) + \"/\" + str(self.denominator)\n",
    "\n",
    "frac_plus1 = Fraction1(2,3)\n",
    "frac_plus2 = Fraction1(5,7)\n",
    "print(\"Addition\")\n",
    "print(frac_plus1,\"+\", frac_plus2)\n",
    "\n",
    "\n",
    "frac_sub1 = Fraction1(3,7)\n",
    "frac_sub2 = Fraction1(4,7)\n",
    "print(\"Subtration\")\n",
    "print(frac_sub1,\"-\", frac_sub2)\n",
    "\n",
    "print(\"Multiplikation\")\n",
    "frac_sub1 = Fraction1(3,7)\n",
    "frac_sub2 = Fraction1(4,7)\n",
    "print(\"Subtration\")\n",
    "print(frac_sub1,\"-\", frac_sub2)\n",
    "\n"
   ]
  }
 ],
 "metadata": {
  "kernelspec": {
   "display_name": "Python 3.9.13 64-bit",
   "language": "python",
   "name": "python3"
  },
  "language_info": {
   "codemirror_mode": {
    "name": "ipython",
    "version": 3
   },
   "file_extension": ".py",
   "mimetype": "text/x-python",
   "name": "python",
   "nbconvert_exporter": "python",
   "pygments_lexer": "ipython3",
   "version": "3.9.13"
  },
  "orig_nbformat": 4,
  "vscode": {
   "interpreter": {
    "hash": "167998f8c3a05581fbd9ccdd36f349f3264dd01bf05c9e030bf6452b394f7000"
   }
  }
 },
 "nbformat": 4,
 "nbformat_minor": 2
}
