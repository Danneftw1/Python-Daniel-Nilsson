{
 "cells": [
  {
   "cell_type": "markdown",
   "metadata": {},
   "source": [
    "## 2. Fraction (**)\n",
    "\n",
    "Create a class called Frac to represent mathematical fractions. The class is instantiated with two instance variables: nominator and denominator. Objects instantiated from this class should have methods for addition, subtraction, multiplication, division using the operators +,-,*,/. Note that these implemented methods must be mathematically correct. Also implement the following methods:\n",
    "\n",
    "simplify(self, value = None) # simplifies to most simple form unless value is given \n",
    "\n",
    "__str__(self) # represent the fraction in a neat way for printing\n",
    "\n",
    "mixed(self) # represent the fraction in mixed terms \n",
    "\n",
    "__eq__(self, other) # checks equality by overloading ==\n",
    "\n",
    "Also remember to handle errors and validations.\n",
    "\n",
    "Example of tests that it should handled:\n",
    "\n",
    "    1/2 + 1/3 = 5/6\n",
    "    1/2 - 1/3 = 1/6\n",
    "    7/6 --> 1 1/6 (mixed)\n",
    "    3*1/2 = 3/2\n",
    "    1/2 * 3 = 3/2\n",
    "    1/4 + 2 = 9/4\n",
    "    1/4 / 1/2 = 1/2\n",
    "    2/4 == 1/2 --> True\n",
    "    3/4 += 2 = 11/4\n"
   ]
  },
  {
   "cell_type": "code",
   "execution_count": 28,
   "metadata": {},
   "outputs": [
    {
     "ename": "IndentationError",
     "evalue": "expected an indented block (973913473.py, line 35)",
     "output_type": "error",
     "traceback": [
      "\u001b[1;36m  Input \u001b[1;32mIn [28]\u001b[1;36m\u001b[0m\n\u001b[1;33m    z = Fraction(7,6)\u001b[0m\n\u001b[1;37m                     ^\u001b[0m\n\u001b[1;31mIndentationError\u001b[0m\u001b[1;31m:\u001b[0m expected an indented block\n"
     ]
    }
   ],
   "source": [
    "class Fraction:\n",
    "    def __init__(self, num: int, den: int) -> None:\n",
    "        self.num = num\n",
    "        self.den = den\n",
    "\n",
    "    def __sub__(self, value):\n",
    "        new_num = self.num * value.den - self.den * value.num\n",
    "        new_den = self.den * value.den\n",
    "        return Fraction(new_num, new_den)\n",
    "\n",
    "    def __add__(self, value):\n",
    "        new_num = self.num * value.den + self.den * value.num\n",
    "        new_den = self.den * value.den\n",
    "        return Fraction(new_num, new_den)\n",
    "    \n",
    "    def mixed(self):\n",
    "        print(f\" 1 {self.num - self.den}/{self.den}\")\n",
    "\n",
    "    def show(self):\n",
    "        print(f\"{self.num}/{self.den}\")\n",
    "\n",
    "    def __eq__(self, value):\n",
    "\n",
    "\n",
    "# x = Fraction(4,6)\n",
    "# y = Fraction(3,6)\n",
    "# z = x+y\n",
    "# z.show()\n",
    "\n",
    "# x = Fraction(1,2)\n",
    "# y = Fraction(1,3)\n",
    "# z = x-y\n",
    "# z.show()\n",
    "\n",
    "z = Fraction(7,6)\n",
    "z.mixed()\n",
    "\n"
   ]
  },
  {
   "cell_type": "code",
   "execution_count": null,
   "metadata": {},
   "outputs": [],
   "source": [
    "\n",
    "        def __mul__ (self, value: int) -> float:\n",
    "        if not isinstance(value: int) or len(nom) != len(den):\n",
    "            raise TypeError(\"Must be an int and the same length as eachother\")\n",
    "        numbers =  for a in self.numbers)\n",
    "        return Vector(*numbers)\n",
    "    \n",
    "    \n",
    "    def simplify (self, value = None) # simplifies to most simple form unless value is given\n",
    "\n",
    "    def __str__(self): # represent the fraction in a neat way for printing\n",
    "\n",
    "    def mixed(self): # represent the fraction in mixed terms\n",
    "    \n",
    "    def __eq__(self): # checks equality by overloading"
   ]
  },
  {
   "cell_type": "code",
   "execution_count": 6,
   "metadata": {},
   "outputs": [
    {
     "name": "stdout",
     "output_type": "stream",
     "text": [
      "Addition\n",
      "2/3 + 5/7\n",
      "Subtration\n",
      "3/7 - 4/7\n",
      "Multiplikation\n",
      "Subtration\n",
      "3/7 - 4/7\n"
     ]
    }
   ],
   "source": [
    "\n",
    "class Fraction1:\n",
    "    def __init__(self, nom, den):\n",
    "        self.numerator = int(nom)\n",
    "        self.denominator = int(den)\n",
    "    \n",
    "    def __add__(self, other):\n",
    "        if self.denominator == other.denominator:\n",
    "            self.numerator += self.numerator\n",
    "        else:\n",
    "            self.numerator = self.numerator * other.denominator + self.denominator * other.numerator\n",
    "            self.denominator = self.denominator * other.denominator\n",
    "    \n",
    "    def __sub__(self, other):\n",
    "        if self.denominator == other.denominator:\n",
    "            self.numerator -= self.numerator\n",
    "        else:\n",
    "            self.numerator = self.numerator * other.denominator-self.denominator * other.numerator\n",
    "            self.denominator = self.denominator * other.denominator\n",
    "    \n",
    "    def __mul__ (self, other):\n",
    "        self.numerator *= other.numerator\n",
    "        self.denominator *= other.denominator\n",
    "    \n",
    "    def __str__(self):\n",
    "        return str(self.numerator) + \"/\" + str(self.denominator)\n",
    "\n",
    "frac_plus1 = Fraction1(2,3)\n",
    "frac_plus2 = Fraction1(5,7)\n",
    "print(\"Addition\")\n",
    "print(frac_plus1,\"+\", frac_plus2)\n",
    "\n",
    "\n",
    "frac_sub1 = Fraction1(3,7)\n",
    "frac_sub2 = Fraction1(4,7)\n",
    "print(\"Subtration\")\n",
    "print(frac_sub1,\"-\", frac_sub2)\n",
    "\n",
    "print(\"Multiplikation\")\n",
    "frac_sub1 = Fraction1(3,7)\n",
    "frac_sub2 = Fraction1(4,7)\n",
    "print(\"Subtration\")\n",
    "print(frac_sub1,\"-\", frac_sub2)\n",
    "\n"
   ]
  }
 ],
 "metadata": {
  "kernelspec": {
   "display_name": "Python 3.9.13 ('Python-Daniel-Nilsson-dM3wHzD4')",
   "language": "python",
   "name": "python3"
  },
  "language_info": {
   "codemirror_mode": {
    "name": "ipython",
    "version": 3
   },
   "file_extension": ".py",
   "mimetype": "text/x-python",
   "name": "python",
   "nbconvert_exporter": "python",
   "pygments_lexer": "ipython3",
   "version": "3.9.13"
  },
  "orig_nbformat": 4,
  "vscode": {
   "interpreter": {
    "hash": "c3a8699ff25c9cbc0813ce7fc610555f4abadcd389eeaf7d4f4aa58333d28396"
   }
  }
 },
 "nbformat": 4,
 "nbformat_minor": 2
}
