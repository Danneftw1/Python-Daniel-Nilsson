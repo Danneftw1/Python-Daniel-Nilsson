{
 "cells": [
  {
   "cell_type": "markdown",
   "metadata": {},
   "source": [
    "## Exercise 1A & B"
   ]
  },
  {
   "cell_type": "code",
   "execution_count": 1,
   "metadata": {},
   "outputs": [
    {
     "name": "stdout",
     "output_type": "stream",
     "text": [
      "-10 -9 -8 -7 -6 -5 -4 -3 -2 -1 0 1 2 3 4 5 6 7 8 9 "
     ]
    }
   ],
   "source": [
    "for i in range(-10, 10):\n",
    "    print(i, end=\" \")"
   ]
  },
  {
   "cell_type": "code",
   "execution_count": 3,
   "metadata": {},
   "outputs": [
    {
     "name": "stdout",
     "output_type": "stream",
     "text": [
      "-10 -8 -6 -4 -2 0 2 4 6 8 10 "
     ]
    }
   ],
   "source": [
    "\n",
    "for i in range(-10, 11, 2):\n",
    "    print(i, end=\" \")"
   ]
  },
  {
   "cell_type": "markdown",
   "metadata": {},
   "source": [
    "## Exercise 2A & B"
   ]
  },
  {
   "cell_type": "code",
   "execution_count": 73,
   "metadata": {},
   "outputs": [
    {
     "name": "stdout",
     "output_type": "stream",
     "text": [
      "0+1+2+....+100 = 5050\n"
     ]
    }
   ],
   "source": [
    "my_sum = 0 \n",
    "\n",
    "for i in range(101): #101 för man börjar från 0\n",
    "    my_sum += i\n",
    "\n",
    "print(f\"0+1+2+....+100 = {my_sum}\")"
   ]
  },
  {
   "cell_type": "code",
   "execution_count": null,
   "metadata": {},
   "outputs": [],
   "source": [
    "my_sum = 0\n",
    "\n",
    "for i in range(1, 101, 2):\n",
    "    my_sum += i\n",
    "\n",
    "    print(f\"{my_sum}\")"
   ]
  },
  {
   "cell_type": "markdown",
   "metadata": {},
   "source": [
    "## Exercise 3A, B & C"
   ]
  },
  {
   "cell_type": "code",
   "execution_count": 72,
   "metadata": {},
   "outputs": [
    {
     "name": "stdout",
     "output_type": "stream",
     "text": [
      "0 6 12 18 24 30 36 42 48 54 60 "
     ]
    }
   ],
   "source": [
    "for i in range(11):\n",
    "    i = i*6\n",
    "    print(f\"{i}\",end=\" \")"
   ]
  },
  {
   "cell_type": "code",
   "execution_count": 86,
   "metadata": {},
   "outputs": [
    {
     "name": "stdout",
     "output_type": "stream",
     "text": [
      "8 x 8 = 64\n",
      "9 x 8 = 72\n",
      "10 x 8 = 80\n"
     ]
    }
   ],
   "source": [
    "user = int (input(\"Which table are you interested in?\"))\n",
    "user1 = int (input(\"Specify start of table\"))\n",
    "user2 = int (input(\"Specify end of table\"))\n",
    "\n",
    "for user in range(user1, user2+1):\n",
    "    product = user * user1\n",
    "    print (f\"{user} x {user1} = {product}\")"
   ]
  },
  {
   "cell_type": "code",
   "execution_count": 41,
   "metadata": {},
   "outputs": [
    {
     "name": "stdout",
     "output_type": "stream",
     "text": [
      "0   0   0   0   0   0   0   0   0   0   0   0   0   0   0   0   0   0   0   0   0   0   0   0   0   0   0   0   \n",
      "0   1   2   3   4   5   6   7   8   9   10  11  12  13  14  15  16  17  18  19  20  21  22  23  24  25  26  27  \n",
      "0   2   4   6   8   10  12  14  16  18  20  22  24  26  28  30  32  34  36  38  40  42  44  46  48  50  52  54  \n",
      "0   3   6   9   12  15  18  21  24  27  30  33  36  39  42  45  48  51  54  57  60  63  66  69  72  75  78  81  \n",
      "0   4   8   12  16  20  24  28  32  36  40  44  48  52  56  60  64  68  72  76  80  84  88  92  96  100 104 108 \n",
      "0   5   10  15  20  25  30  35  40  45  50  55  60  65  70  75  80  85  90  95  100 105 110 115 120 125 130 135 \n",
      "0   6   12  18  24  30  36  42  48  54  60  66  72  78  84  90  96  102 108 114 120 126 132 138 144 150 156 162 \n",
      "0   7   14  21  28  35  42  49  56  63  70  77  84  91  98  105 112 119 126 133 140 147 154 161 168 175 182 189 \n",
      "0   8   16  24  32  40  48  56  64  72  80  88  96  104 112 120 128 136 144 152 160 168 176 184 192 200 208 216 \n",
      "0   9   18  27  36  45  54  63  72  81  90  99  108 117 126 135 144 153 162 171 180 189 198 207 216 225 234 243 \n",
      "0   10  20  30  40  50  60  70  80  90  100 110 120 130 140 150 160 170 180 190 200 210 220 230 240 250 260 270 \n",
      "0   11  22  33  44  55  66  77  88  99  110 121 132 143 154 165 176 187 198 209 220 231 242 253 264 275 286 297 \n",
      "0   12  24  36  48  60  72  84  96  108 120 132 144 156 168 180 192 204 216 228 240 252 264 276 288 300 312 324 \n",
      "0   13  26  39  52  65  78  91  104 117 130 143 156 169 182 195 208 221 234 247 260 273 286 299 312 325 338 351 \n",
      "0   14  28  42  56  70  84  98  112 126 140 154 168 182 196 210 224 238 252 266 280 294 308 322 336 350 364 378 \n",
      "0   15  30  45  60  75  90  105 120 135 150 165 180 195 210 225 240 255 270 285 300 315 330 345 360 375 390 405 \n",
      "0   16  32  48  64  80  96  112 128 144 160 176 192 208 224 240 256 272 288 304 320 336 352 368 384 400 416 432 \n",
      "0   17  34  51  68  85  102 119 136 153 170 187 204 221 238 255 272 289 306 323 340 357 374 391 408 425 442 459 \n",
      "0   18  36  54  72  90  108 126 144 162 180 198 216 234 252 270 288 306 324 342 360 378 396 414 432 450 468 486 \n",
      "0   19  38  57  76  95  114 133 152 171 190 209 228 247 266 285 304 323 342 361 380 399 418 437 456 475 494 513 \n",
      "0   20  40  60  80  100 120 140 160 180 200 220 240 260 280 300 320 340 360 380 400 420 440 460 480 500 520 540 \n",
      "0   21  42  63  84  105 126 147 168 189 210 231 252 273 294 315 336 357 378 399 420 441 462 483 504 525 546 567 \n",
      "0   22  44  66  88  110 132 154 176 198 220 242 264 286 308 330 352 374 396 418 440 462 484 506 528 550 572 594 \n",
      "0   23  46  69  92  115 138 161 184 207 230 253 276 299 322 345 368 391 414 437 460 483 506 529 552 575 598 621 \n",
      "0   24  48  72  96  120 144 168 192 216 240 264 288 312 336 360 384 408 432 456 480 504 528 552 576 600 624 648 \n",
      "0   25  50  75  100 125 150 175 200 225 250 275 300 325 350 375 400 425 450 475 500 525 550 575 600 625 650 675 \n",
      "0   26  52  78  104 130 156 182 208 234 260 286 312 338 364 390 416 442 468 494 520 546 572 598 624 650 676 702 \n",
      "0   27  54  81  108 135 162 189 216 243 270 297 324 351 378 405 432 459 486 513 540 567 594 621 648 675 702 729 \n"
     ]
    }
   ],
   "source": [
    "#Koden funkar också med 10x10 såklart, men ser ännu coolare ut med 28x28 :D\n",
    "\n",
    "for row in range (28):\n",
    "    for col in range (28):\n",
    "        product = row * col\n",
    "        print(f\"{product}\",end=\" \")\n",
    "        if len(str(product)) == 1: #påverkar spacing baserat på längden av nummret\n",
    "            print (\"  \", end = \"\")  \n",
    "        elif len(str(product)) == 2: #påverkar också spacing\n",
    "            print(\" \", end = \"\")\n",
    "    print() # new line (hamnar på ny rad)"
   ]
  },
  {
   "cell_type": "markdown",
   "metadata": {},
   "source": [
    "## Exercise 4"
   ]
  },
  {
   "cell_type": "code",
   "execution_count": 34,
   "metadata": {},
   "outputs": [
    {
     "name": "stdout",
     "output_type": "stream",
     "text": [
      "3628800\n"
     ]
    }
   ],
   "source": [
    "user = int (input(\"Skriv ett nummer\"))\n",
    "my_sum = 1\n",
    "\n",
    "for i in range(1, user+1):\n",
    "    my_sum = my_sum * i\n",
    "\n",
    "print(f\"{my_sum}\")"
   ]
  },
  {
   "cell_type": "markdown",
   "metadata": {},
   "source": [
    "## Exercise 5"
   ]
  },
  {
   "cell_type": "code",
   "execution_count": 35,
   "metadata": {},
   "outputs": [
    {
     "name": "stdout",
     "output_type": "stream",
     "text": [
      "Your guess is too high, you're 3272 from the right number\n",
      "Your guess is too high, you're 1100 from the right number\n",
      "Your guess is too high, you're -28 from the right number\n",
      "1728 är rätt gissat!\n"
     ]
    }
   ],
   "source": [
    "number = rnd.randint(1000,9999)\n",
    "guess = float(input(\"guess a number between 1000, 9999\"))\n",
    "\n",
    "# När du gissar säger koden hur långt ifrån du är rätt svar\n",
    "# som såklart gör att du gissar rätt på andra försöket i stort sett\n",
    "# JAG VET INTE OM DET HÄR RÄKNAS SOM KORREKT******\n",
    "\n",
    "for i in range (number):\n",
    "    if guess < number:\n",
    "        help = guess - number\n",
    "        print(f\"Your guess is too high, you're {help:.0f} from the right number\")\n",
    "        guess = float(input(\"guess a number\"))\n",
    "    elif guess > number:\n",
    "        help = guess - number\n",
    "        print(f\"Your guess is too high, you're {help:.0f} from the right number\")\n",
    "        guess = float(input(\"guess a number\"))\n",
    "    else:\n",
    "        break\n",
    "    \n",
    "print(f\"{number} är rätt gissat!\")\n",
    "\n",
    "\n",
    "# Kanske kollar igen en gång till sen"
   ]
  },
  {
   "cell_type": "markdown",
   "metadata": {},
   "source": [
    "## Exercise 6"
   ]
  },
  {
   "cell_type": "code",
   "execution_count": 9,
   "metadata": {},
   "outputs": [
    {
     "name": "stdout",
     "output_type": "stream",
     "text": [
      "1\n",
      "3\n",
      "7\n",
      "15\n",
      "31\n",
      "63\n",
      "127\n",
      "255\n",
      "511\n",
      "1023\n",
      "2047\n",
      "4095\n",
      "8191\n",
      "16383\n",
      "32767\n",
      "65535\n",
      "131071\n",
      "262143\n",
      "524287\n",
      "1048575\n",
      "2097151\n",
      "4194303\n",
      "8388607\n",
      "16777215\n",
      "33554431\n",
      "67108863\n",
      "134217727\n",
      "268435455\n",
      "536870911\n",
      "1073741823\n",
      "2147483647\n",
      "4294967295\n",
      "8589934591\n",
      "17179869183\n",
      "34359738367\n",
      "68719476735\n",
      "137438953471\n",
      "274877906943\n",
      "549755813887\n",
      "1099511627775\n",
      "2199023255551\n",
      "4398046511103\n",
      "8796093022207\n",
      "17592186044415\n",
      "35184372088831\n",
      "70368744177663\n",
      "140737488355327\n",
      "281474976710655\n",
      "562949953421311\n",
      "1125899906842623\n",
      "2251799813685247\n",
      "4503599627370495\n",
      "9007199254740991\n",
      "18014398509481983\n",
      "36028797018963967\n",
      "72057594037927935\n",
      "144115188075855871\n",
      "288230376151711743\n",
      "576460752303423487\n",
      "1152921504606846975\n",
      "2305843009213693951\n",
      "4611686018427387903\n",
      "9223372036854775807\n",
      "18446744073709551615\n"
     ]
    }
   ],
   "source": [
    "my_sum = 0\n",
    "rice = 1\n",
    "\n",
    "for i in range(64):\n",
    "    my_sum += rice\n",
    "    print(f\"{my_sum}\")\n",
    "    rice *= 2\n",
    "# Svar: 18446744073709551615 riskorn på sista fyrkanten\n"
   ]
  }
 ],
 "metadata": {
  "kernelspec": {
   "display_name": "Python 3.9.13 ('Python-Daniel-Nilsson-97nbzLRS')",
   "language": "python",
   "name": "python3"
  },
  "language_info": {
   "codemirror_mode": {
    "name": "ipython",
    "version": 3
   },
   "file_extension": ".py",
   "mimetype": "text/x-python",
   "name": "python",
   "nbconvert_exporter": "python",
   "pygments_lexer": "ipython3",
   "version": "3.9.13"
  },
  "orig_nbformat": 4,
  "vscode": {
   "interpreter": {
    "hash": "bc050669da3b02a0dab5c74fea36723f6f6f98ad170411b0b9177bcf895e45d7"
   }
  }
 },
 "nbformat": 4,
 "nbformat_minor": 2
}
