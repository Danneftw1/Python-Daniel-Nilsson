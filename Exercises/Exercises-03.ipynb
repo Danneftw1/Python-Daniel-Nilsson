{
 "cells": [
  {
   "cell_type": "markdown",
   "metadata": {},
   "source": [
    "## Exercise 1A & B"
   ]
  },
  {
   "cell_type": "code",
   "execution_count": 10,
   "metadata": {},
   "outputs": [
    {
     "name": "stdout",
     "output_type": "stream",
     "text": [
      "1 3 5 "
     ]
    }
   ],
   "source": [
    "for i in range(-10, 10):\n",
    "    print(i, end=\" \")"
   ]
  },
  {
   "cell_type": "code",
   "execution_count": null,
   "metadata": {},
   "outputs": [],
   "source": [
    "\n",
    "for i in range(-10, 11, 2):\n",
    "    print(i)"
   ]
  },
  {
   "cell_type": "markdown",
   "metadata": {},
   "source": [
    "## Exercise 2A & B"
   ]
  },
  {
   "cell_type": "code",
   "execution_count": 73,
   "metadata": {},
   "outputs": [
    {
     "name": "stdout",
     "output_type": "stream",
     "text": [
      "0+1+2+....+100 = 5050\n"
     ]
    }
   ],
   "source": [
    "my_sum = 0 \n",
    "\n",
    "for i in range(101): #101 för man börjar från 0\n",
    "    my_sum += i\n",
    "\n",
    "print(f\"0+1+2+....+100 = {my_sum}\")"
   ]
  },
  {
   "cell_type": "code",
   "execution_count": null,
   "metadata": {},
   "outputs": [],
   "source": [
    "my_sum = 0\n",
    "\n",
    "for i in range(1, 101, 2):\n",
    "    my_sum += i\n",
    "\n",
    "    print(f\"1+3+5+....+99 = {my_sum}\")"
   ]
  },
  {
   "cell_type": "markdown",
   "metadata": {},
   "source": [
    "## Exercise 3A, B & C"
   ]
  },
  {
   "cell_type": "code",
   "execution_count": 72,
   "metadata": {},
   "outputs": [
    {
     "name": "stdout",
     "output_type": "stream",
     "text": [
      "0 6 12 18 24 30 36 42 48 54 60 "
     ]
    }
   ],
   "source": [
    "for i in range(11):\n",
    "    i = i*6\n",
    "    print(f\"{i}\",end=\" \")"
   ]
  },
  {
   "cell_type": "code",
   "execution_count": 86,
   "metadata": {},
   "outputs": [
    {
     "name": "stdout",
     "output_type": "stream",
     "text": [
      "8 x 8 = 64\n",
      "9 x 8 = 72\n",
      "10 x 8 = 80\n"
     ]
    }
   ],
   "source": [
    "user = int (input(\"Which table are you interested in?\"))\n",
    "user1 = int (input(\"Specify start of table\"))\n",
    "user2 = int (input(\"Specify end of table\"))\n",
    "\n",
    "for user in range(user1, user2+1):\n",
    "    product = user * user1\n",
    "    print (f\"{user} x {user1} = {product}\")"
   ]
  },
  {
   "cell_type": "code",
   "execution_count": 117,
   "metadata": {},
   "outputs": [
    {
     "name": "stdout",
     "output_type": "stream",
     "text": [
      "0 0 0 0 0 0 0 0 0 0 0 \n",
      "0 1 2 3 4 5 6 7 8 9 10 \n",
      "0 2 4 6 8 10 12 14 16 18 20 \n",
      "0 3 6 9 12 15 18 21 24 27 30 \n",
      "0 4 8 12 16 20 24 28 32 36 40 \n",
      "0 5 10 15 20 25 30 35 40 45 50 \n",
      "0 6 12 18 24 30 36 42 48 54 60 \n",
      "0 7 14 21 28 35 42 49 56 63 70 \n",
      "0 8 16 24 32 40 48 56 64 72 80 \n",
      "0 9 18 27 36 45 54 63 72 81 90 \n",
      "0 10 20 30 40 50 60 70 80 90 100 \n"
     ]
    }
   ],
   "source": [
    "\n",
    "\n",
    "for row in range (11):\n",
    "    for col in range (11):\n",
    "        product = row * col\n",
    "        print(f\"{product}\",end=\" \")\n",
    "    print() # new line (hamnar på ny rad)"
   ]
  },
  {
   "cell_type": "markdown",
   "metadata": {},
   "source": [
    "## Exercise 4"
   ]
  },
  {
   "cell_type": "code",
   "execution_count": 168,
   "metadata": {},
   "outputs": [
    {
     "name": "stdout",
     "output_type": "stream",
     "text": [
      "3628800\n"
     ]
    }
   ],
   "source": [
    "user = int (input(\"Skriv ett nummer\"))\n",
    "my_sum = 1\n",
    "\n",
    "for i in range(1, user+1):\n",
    "    my_sum = my_sum * i\n",
    "\n",
    "print(f\"{my_sum}\")"
   ]
  },
  {
   "cell_type": "code",
   "execution_count": null,
   "metadata": {},
   "outputs": [],
   "source": [
    "import random as rnd\n",
    "\n",
    "number = rnd.randint(1000,9999)\n",
    "high = 9999\n",
    "low = 1000\n",
    "guess = (high + low)//2\n",
    "\n",
    "for guess in range(number):\n",
    "    guess = (low + high)//2\n",
    "    print(f\"datorn gissar på {guess}\")\n",
    "    if number < guess:\n",
    "        high = guess\n",
    "    elif guess < num:\n",
    "        low = guess\n",
    "print(number)\n"
   ]
  },
  {
   "cell_type": "code",
   "execution_count": null,
   "metadata": {},
   "outputs": [],
   "source": [
    "number = rnd.randint(1000,9999)\n",
    "guess = float(input(\"guess a number between 1000, 9999\"))\n",
    "\n",
    "for total_guesses in range(5):\n",
    "    guess = int(input())    \n",
    "    if guess < number:\n",
    "        print(\"Your guess is below the number, please guess again\")\n",
    "    elif guess > number:\n",
    "              print(\"Your guess is above the number, please guess again\")\n",
    "    else: \n",
    "        break\n",
    "    "
   ]
  },
  {
   "cell_type": "code",
   "execution_count": null,
   "metadata": {},
   "outputs": [],
   "source": [
    "number = rnd.randint(1000,9999)\n",
    "guess = float(input(\"guess a number between 1000, 9999\"))\n",
    "\n",
    "# När du gissar säger koden hur långt ifrån du är rätt svar\n",
    "# som såklart gör att du gissar rätt på andra försöket i stort sett\n",
    "\n",
    "for i in range (number):\n",
    "    if guess < number:\n",
    "        help = guess - number\n",
    "        print(f\"Your guess is too high, you're {help:.0f} from the right number\")\n",
    "        guess = float(input(\"guess a number\"))\n",
    "    elif guess > number:\n",
    "        help = guess - number\n",
    "        print(f\"Your guess is too high, you're {help:.0f} from the right number\")\n",
    "        guess = float(input(\"guess a number\"))\n",
    "    else:\n",
    "        break\n",
    "    \n",
    "print(\"du har gissat rätt\")\n",
    "print(number)\n",
    "\n",
    "# Kanske kollar igen en gång till sen"
   ]
  },
  {
   "cell_type": "markdown",
   "metadata": {},
   "source": [
    "## Exercise 6"
   ]
  },
  {
   "cell_type": "code",
   "execution_count": null,
   "metadata": {},
   "outputs": [],
   "source": [
    "my_sum = 0\n",
    "rice = 1\n",
    "\n",
    "for square in range(64):\n",
    "    my_sum += rice\n",
    "    print(f\"{my_sum}\")\n",
    "    rice *= 2\n",
    "# Svar: 18446744073709551615 riskorn på sista fyrkanten\n"
   ]
  }
 ],
 "metadata": {
  "kernelspec": {
   "display_name": "Python 3.9.13 64-bit",
   "language": "python",
   "name": "python3"
  },
  "language_info": {
   "codemirror_mode": {
    "name": "ipython",
    "version": 3
   },
   "file_extension": ".py",
   "mimetype": "text/x-python",
   "name": "python",
   "nbconvert_exporter": "python",
   "pygments_lexer": "ipython3",
   "version": "3.9.13"
  },
  "orig_nbformat": 4,
  "vscode": {
   "interpreter": {
    "hash": "167998f8c3a05581fbd9ccdd36f349f3264dd01bf05c9e030bf6452b394f7000"
   }
  }
 },
 "nbformat": 4,
 "nbformat_minor": 2
}
