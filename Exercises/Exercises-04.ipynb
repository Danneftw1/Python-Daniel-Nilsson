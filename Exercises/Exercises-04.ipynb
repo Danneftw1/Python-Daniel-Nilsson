{
 "cells": [
  {
   "cell_type": "markdown",
   "metadata": {},
   "source": [
    "## Exercise 1A, B & 3\n",
    "* Simulate 10 dice rolls and append the rolls to a list or use list comprehension\n",
    "* A) sort the list in ascending order\n",
    "* B) sort the list in descending order\n",
    "* C) find the maximum and minimum value in the list"
   ]
  },
  {
   "cell_type": "code",
   "execution_count": 218,
   "metadata": {},
   "outputs": [
    {
     "data": {
      "text/plain": [
       "[1, 1, 2, 2, 2, 3, 4, 5, 5, 5]"
      ]
     },
     "execution_count": 218,
     "metadata": {},
     "output_type": "execute_result"
    }
   ],
   "source": [
    "import random as rnd\n",
    "#Sorts the random numbers from \"randint\" in ascending order\n",
    "\n",
    "diceroll = [rnd.randint(1,6) for i in range(10)]\n",
    "diceroll.sort()\n",
    "diceroll"
   ]
  },
  {
   "cell_type": "code",
   "execution_count": 235,
   "metadata": {},
   "outputs": [
    {
     "name": "stdout",
     "output_type": "stream",
     "text": [
      "[1, 2, 3, 4, 4, 4, 5, 5, 5, 6]\n"
     ]
    }
   ],
   "source": [
    "# Hur man kan skriva med append\n",
    "# INTE A UPPGIFTEN*****************\n",
    "import random \n",
    "\n",
    "dices = [] \n",
    "for _ in range (10):\n",
    "    dices.append(random.randint(1,6))\n",
    "    dices.sort()\n",
    "print(dices)"
   ]
  },
  {
   "cell_type": "code",
   "execution_count": 217,
   "metadata": {},
   "outputs": [
    {
     "data": {
      "text/plain": [
       "[5, 4, 4, 3, 3, 2, 2, 2, 1, 1]"
      ]
     },
     "execution_count": 217,
     "metadata": {},
     "output_type": "execute_result"
    }
   ],
   "source": [
    "import random as rnd\n",
    "#Sorts the random numbers from \"randint\" in descending order\n",
    "\n",
    "diceroll = [rnd.randint(1,6) for i in range(10)]\n",
    "diceroll.sort(reverse=1)\n",
    "diceroll"
   ]
  },
  {
   "cell_type": "code",
   "execution_count": 314,
   "metadata": {},
   "outputs": [
    {
     "name": "stdout",
     "output_type": "stream",
     "text": [
      "6\n",
      "1\n"
     ]
    }
   ],
   "source": [
    "import random \n",
    "\n",
    "dices = [] \n",
    "for _ in range (10):\n",
    "    dices.append(random.randint(1,6))\n",
    "    dices.append\n",
    "print(max(dices)) #finds the maximum\n",
    "print(min(dices)) #finds the minimum"
   ]
  },
  {
   "cell_type": "markdown",
   "metadata": {},
   "source": [
    "## Exercise 2"
   ]
  },
  {
   "cell_type": "code",
   "execution_count": 380,
   "metadata": {},
   "outputs": [
    {
     "name": "stdout",
     "output_type": "stream",
     "text": [
      "monday: vegetarisk lasagne\n",
      "tuesday: spaghetti\n",
      "wednesday: fisk\n",
      "thursday: grönsakssoppa\n",
      "friday: pannkakor\n"
     ]
    }
   ],
   "source": [
    "#Listan måste ha \"argument\" på varje sida av listan för att det ska printas ut\n",
    "# även fast jag har lagt till \"saturday\" så printar den inte det eftersom det är nr\n",
    "# 6 när den andra listan bara går till 5\n",
    "\n",
    "nice_foods = [\"vegetarisk lasagne\", \"spaghetti\", \"fisk\", \"grönsakssoppa\", \"pannkakor\"]\n",
    "weekdays = [\"monday:\", \"tuesday:\", \"wednesday:\", \"thursday:\", \"friday:\", \"saturday\"]\n",
    "both = [weekdays, nice_foods]\n",
    "\n",
    "for i in zip(*both):\n",
    "    print(*i)\n"
   ]
  },
  {
   "cell_type": "markdown",
   "metadata": {},
   "source": [
    "## Exercise 3A & B"
   ]
  },
  {
   "cell_type": "code",
   "execution_count": 19,
   "metadata": {},
   "outputs": [
    {
     "data": {
      "text/plain": [
       "Text(0.5, 0, 'x')"
      ]
     },
     "execution_count": 19,
     "metadata": {},
     "output_type": "execute_result"
    },
    {
     "data": {
      "image/png": "[encoded data removed]",
      "text/plain": [
       "<Figure size 640x480 with 1 Axes>"
      ]
     },
     "metadata": {},
     "output_type": "display_data"
    }
   ],
   "source": [
    "import matplotlib.pyplot as plt\n",
    "\n",
    "cubes = [i**2 for i in range(-10, 11)]\n",
    "plt.plot(cubes)\n",
    "plt.title(\"Squaring -10 to 10\")\n",
    "plt.ylabel(\"y\")\n",
    "plt.xlabel(\"x\")\n"
   ]
  },
  {
   "cell_type": "markdown",
   "metadata": {},
   "source": [
    "## Exercise 4"
   ]
  },
  {
   "cell_type": "code",
   "execution_count": 2,
   "metadata": {},
   "outputs": [
    {
     "data": {
      "text/plain": [
       "[['A1', 'B1', 'C1', 'D1', 'E1', 'F1', 'G1', 'H1'],\n",
       " ['A2', 'B2', 'C2', 'D2', 'E2', 'F2', 'G2', 'H2'],\n",
       " ['A3', 'B3', 'C3', 'D3', 'E3', 'F3', 'G3', 'H3'],\n",
       " ['A4', 'B4', 'C4', 'D4', 'E4', 'F4', 'G4', 'H4'],\n",
       " ['A5', 'B5', 'C5', 'D5', 'E5', 'F5', 'G5', 'H5'],\n",
       " ['A6', 'B6', 'C6', 'D6', 'E6', 'F6', 'G6', 'H6'],\n",
       " ['A7', 'B7', 'C7', 'D7', 'E7', 'F7', 'G7', 'H7'],\n",
       " ['A8', 'B8', 'C8', 'D8', 'E8', 'F8', 'G8', 'H8']]"
      ]
     },
     "execution_count": 2,
     "metadata": {},
     "output_type": "execute_result"
    }
   ],
   "source": [
    "alfabetet = \"ABCDEFGH\"\n",
    "chessboard = []\n",
    "\n",
    "for row in range(1,9):\n",
    "    matrix = [alfabetet[i]+str (row) for i in range(8)]\n",
    "    chessboard.append(matrix)\n",
    "\n",
    "chessboard\n"
   ]
  },
  {
   "cell_type": "markdown",
   "metadata": {},
   "source": [
    "## Exercise 5A, B & C"
   ]
  },
  {
   "cell_type": "code",
   "execution_count": 86,
   "metadata": {},
   "outputs": [
    {
     "name": "stdout",
     "output_type": "stream",
     "text": [
      "[1, 21, 161, 1642, 16560, 166406]\n",
      "[0.1, 0.21, 0.161, 0.1642, 0.16560000000000002, 0.166406]\n"
     ]
    },
    {
     "data": {
      "text/plain": [
       "Text(0.5, 1.0, 'Probability compared to amount dices thrown')"
      ]
     },
     "execution_count": 86,
     "metadata": {},
     "output_type": "execute_result"
    },
    {
     "data": {
      "image/png": "[encoded data removed]",
      "text/plain": [
       "<Figure size 640x480 with 1 Axes>"
      ]
     },
     "metadata": {},
     "output_type": "display_data"
    }
   ],
   "source": [
    "import matplotlib.pyplot as plt\n",
    "import random as rnd\n",
    "import re\n",
    "\n",
    "list = []\n",
    "multi_list = []\n",
    "dice_outcome = 0\n",
    "rnd.seed(1)\n",
    "\n",
    "# Loop A\n",
    "for i in range(10):\n",
    "    dice = rnd.randint(1,6)\n",
    "    if dice == 6:\n",
    "        dice_outcome += 1\n",
    "list.append(dice_outcome)\n",
    "multi_list.append(dice_outcome*0.1)\n",
    "\n",
    "dice_outcome = 0\n",
    "# Loop B\n",
    "for i in range(100):\n",
    "    dice = rnd.randint(1,6)\n",
    "    if dice == 6:\n",
    "        dice_outcome += 1\n",
    "list.append(dice_outcome)\n",
    "multi_list.append(dice_outcome*0.01)\n",
    "\n",
    "dice_outcome = 0\n",
    "# Loop C\n",
    "for i in range(1000):\n",
    "    dice = rnd.randint(1,6)\n",
    "    if dice == 6:\n",
    "        dice_outcome += 1\n",
    "list.append(dice_outcome)\n",
    "multi_list.append(dice_outcome* 0.001)\n",
    "\n",
    "dice_outcome = 0\n",
    "# Loop D\n",
    "for i in range(10000):\n",
    "    dice = rnd.randint(1,6)\n",
    "    if dice == 6:\n",
    "        dice_outcome += 1\n",
    "list.append(dice_outcome)\n",
    "multi_list.append(dice_outcome* 0.0001)\n",
    "\n",
    "dice_outcome = 0\n",
    "# Loop E\n",
    "for i in range(100000):\n",
    "    dice = rnd.randint(1,6)\n",
    "    if dice == 6:\n",
    "        dice_outcome += 1\n",
    "list.append(dice_outcome)\n",
    "multi_list.append(dice_outcome* 0.00001)\n",
    "\n",
    "dice_outcome = 0\n",
    "# Loop F\n",
    "for i in range(1000000):\n",
    "    dice = rnd.randint(1,6)\n",
    "    if dice == 6:\n",
    "        dice_outcome += 1\n",
    "\n",
    "list.append(dice_outcome)\n",
    "multi_list.append(dice_outcome* 0.000001)\n",
    "\n",
    "print(list)\n",
    "\n",
    "print(f\"{multi_list}\")\n",
    "\n",
    "x = ['10','100','1000','10000','100000','1000000']\n",
    "range_x = range(len(x))\n",
    "\n",
    "plt.plot(multi_list, color=\"blue\", marker='o')\n",
    "plt.xticks(range_x, x)\n",
    "plt.ylabel(\"Probability\")\n",
    "plt.xlabel('Amount of thrown dices')\n",
    "plt.title('Probability compared to amount dices thrown')\n",
    "\n"
   ]
  },
  {
   "cell_type": "markdown",
   "metadata": {},
   "source": [
    "## Exercise 6\n",
    "\n",
    "Monte Carlo simulation (**)\n",
    "\n",
    "  a) Simulate 5000 uniformly distributed points between -1 and 1, X∼U(−1,1). Now calculate the Euclidean distances between each point and the origin (0,0), di=x2i+y2i−−−−−−√. For di<1 plot the point with one color, and for di>1 plot the point in another color, i={1,…,5000}. (**)\n",
    "\n",
    "  b) Calculate the fraction between number of inner points and number of outer points. What do you this will converge to when number of points reaches infinity? (**)"
   ]
  },
  {
   "cell_type": "code",
   "execution_count": 1,
   "metadata": {},
   "outputs": [],
   "source": [
    "import random\n",
    "import math\n",
    "import matplotlib.pyplot as plt\n",
    "\n",
    "number1 = 0\n",
    "number = 0\n",
    "\n",
    "for i in range(5000):\n",
    "    x = random.uniform(-1,1)\n",
    "    y = random.uniform(-1,1)\n",
    "    if math.sqrt((x**2)+(y**2)>1):\n",
    "        number1 += 1\n",
    "    else:\n",
    "        number += 1\n"
   ]
  }
 ],
 "metadata": {
  "kernelspec": {
   "display_name": "Python 3.9.13 64-bit",
   "language": "python",
   "name": "python3"
  },
  "language_info": {
   "codemirror_mode": {
    "name": "ipython",
    "version": 3
   },
   "file_extension": ".py",
   "mimetype": "text/x-python",
   "name": "python",
   "nbconvert_exporter": "python",
   "pygments_lexer": "ipython3",
   "version": "3.9.13"
  },
  "orig_nbformat": 4,
  "vscode": {
   "interpreter": {
    "hash": "167998f8c3a05581fbd9ccdd36f349f3264dd01bf05c9e030bf6452b394f7000"
   }
  }
 },
 "nbformat": 4,
 "nbformat_minor": 2
}
