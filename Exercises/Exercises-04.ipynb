{
 "cells": [
  {
   "cell_type": "markdown",
   "metadata": {},
   "source": [
    "## Exercise 1A, B & 3\n",
    "* Simulate 10 dice rolls and append the rolls to a list or use list comprehension\n",
    "* A) sort the list in ascending order\n",
    "* B) sort the list in descending order\n",
    "* C) find the maximum and minimum value in the list"
   ]
  },
  {
   "cell_type": "code",
   "execution_count": 218,
   "metadata": {},
   "outputs": [
    {
     "data": {
      "text/plain": [
       "[1, 1, 2, 2, 2, 3, 4, 5, 5, 5]"
      ]
     },
     "execution_count": 218,
     "metadata": {},
     "output_type": "execute_result"
    }
   ],
   "source": [
    "import random as rnd\n",
    "#Sorts the random numbers from \"randint\" in ascending order\n",
    "\n",
    "diceroll = [rnd.randint(1,6) for i in range(10)]\n",
    "diceroll.sort()\n",
    "diceroll"
   ]
  },
  {
   "cell_type": "code",
   "execution_count": 235,
   "metadata": {},
   "outputs": [
    {
     "name": "stdout",
     "output_type": "stream",
     "text": [
      "[1, 2, 3, 4, 4, 4, 5, 5, 5, 6]\n"
     ]
    }
   ],
   "source": [
    "# Hur man kan skriva med append\n",
    "# INTE A UPPGIFTEN*****************\n",
    "import random \n",
    "\n",
    "dices = [] \n",
    "for _ in range (10):\n",
    "    dices.append(random.randint(1,6))\n",
    "    dices.sort()\n",
    "print(dices)"
   ]
  },
  {
   "cell_type": "code",
   "execution_count": 217,
   "metadata": {},
   "outputs": [
    {
     "data": {
      "text/plain": [
       "[5, 4, 4, 3, 3, 2, 2, 2, 1, 1]"
      ]
     },
     "execution_count": 217,
     "metadata": {},
     "output_type": "execute_result"
    }
   ],
   "source": [
    "import random as rnd\n",
    "#Sorts the random numbers from \"randint\" in descending order\n",
    "\n",
    "diceroll = [rnd.randint(1,6) for i in range(10)]\n",
    "diceroll.sort(reverse=1)\n",
    "diceroll"
   ]
  },
  {
   "cell_type": "code",
   "execution_count": 314,
   "metadata": {},
   "outputs": [
    {
     "name": "stdout",
     "output_type": "stream",
     "text": [
      "6\n",
      "1\n"
     ]
    }
   ],
   "source": [
    "import random \n",
    "\n",
    "dices = [] \n",
    "for _ in range (10):\n",
    "    dices.append(random.randint(1,6))\n",
    "    dices.append\n",
    "print(max(dices)) #finds the maximum\n",
    "print(min(dices)) #finds the minimum"
   ]
  },
  {
   "cell_type": "markdown",
   "metadata": {},
   "source": [
    "## Exercise 2"
   ]
  },
  {
   "cell_type": "code",
   "execution_count": 380,
   "metadata": {},
   "outputs": [
    {
     "name": "stdout",
     "output_type": "stream",
     "text": [
      "monday: vegetarisk lasagne\n",
      "tuesday: spaghetti\n",
      "wednesday: fisk\n",
      "thursday: grönsakssoppa\n",
      "friday: pannkakor\n"
     ]
    }
   ],
   "source": [
    "#Listan måste ha \"argument\" på varje sida av listan för att det ska printas ut\n",
    "# även fast jag har lagt till \"saturday\" så printar den inte det eftersom det är nr\n",
    "# 6 när den andra listan bara går till 5\n",
    "\n",
    "nice_foods = [\"vegetarisk lasagne\", \"spaghetti\", \"fisk\", \"grönsakssoppa\", \"pannkakor\"]\n",
    "weekdays = [\"monday:\", \"tuesday:\", \"wednesday:\", \"thursday:\", \"friday:\", \"saturday\"]\n",
    "both = [weekdays, nice_foods]\n",
    "\n",
    "for i in zip(*both):\n",
    "    print(*i)\n"
   ]
  },
  {
   "cell_type": "code",
   "execution_count": 1,
   "metadata": {},
   "outputs": [
    {
     "name": "stdout",
     "output_type": "stream",
     "text": [
      "Hello world\n"
     ]
    }
   ],
   "source": []
  }
 ],
 "metadata": {
  "kernelspec": {
   "display_name": "Python 3.9.13 ('Python-Daniel-Nilsson-97nbzLRS')",
   "language": "python",
   "name": "python3"
  },
  "language_info": {
   "codemirror_mode": {
    "name": "ipython",
    "version": 3
   },
   "file_extension": ".py",
   "mimetype": "text/x-python",
   "name": "python",
   "nbconvert_exporter": "python",
   "pygments_lexer": "ipython3",
   "version": "3.9.13"
  },
  "orig_nbformat": 4,
  "vscode": {
   "interpreter": {
    "hash": "bc050669da3b02a0dab5c74fea36723f6f6f98ad170411b0b9177bcf895e45d7"
   }
  }
 },
 "nbformat": 4,
 "nbformat_minor": 2
}
