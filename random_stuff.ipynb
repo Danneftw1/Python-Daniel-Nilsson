{
 "cells": [
  {
   "cell_type": "code",
   "execution_count": 2,
   "metadata": {},
   "outputs": [
    {
     "name": "stdout",
     "output_type": "stream",
     "text": [
      "['Adam Gustafsson 25\\n', 'Emil Johansson 23\\n', 'Sven Erik Karlsson 13\\n', 'Ove Karlsten 41\\n', 'Emma Boden 32\\n', 'Ida HÃ¥kansson 23\\n', 'Ella Ester 41\\n', 'Hanna Karlsson 23 \\n', 'Johan Johansson 42\\n', 'Sven Erik Lundin 39\\n', 'BjÃ¶rn BjÃ¶rnsson 39\\n', 'Karl Karlsson 32\\n', 'Bose Bosseson 32\\n', 'HÃ¥kan HÃ¥kanson 24\\n', 'Jonas Jonasson 31\\n', 'Erik Eriksson 31\\n', 'Gore Bord 55\\n', 'Jakob Kallander 65\\n', 'Fredrika Ulven 10']\n",
      "Adam Gustafsson 25\n",
      "Emil Johansson 23\n",
      "Sven Erik Karlsson 13\n",
      "Ove Karlsten 41\n",
      "Emma Boden 32\n",
      "Ida HÃ¥kansson 23\n",
      "Ella Ester 41\n",
      "Hanna Karlsson 23 \n",
      "Johan Johansson 42\n",
      "Sven Erik Lundin 39\n",
      "BjÃ¶rn BjÃ¶rnsson 39\n",
      "Karl Karlsson 32\n",
      "Bose Bosseson 32\n",
      "HÃ¥kan HÃ¥kanson 24\n",
      "Jonas Jonasson 31\n",
      "Erik Eriksson 31\n",
      "Gore Bord 55\n",
      "Jakob Kallander 65\n",
      "Fredrika Ulven 10"
     ]
    }
   ],
   "source": [
    "with open (\"data/test_result.txt\") as f_read: # om man inte skriver något efter filen så är det \"read\" by default\n",
    "    # each line is stored in a list\n",
    "    # each line is a string and it has \\n in the end\n",
    "    lines = f_read.readlines()\n",
    "\n",
    "    print(lines)\n",
    "\n",
    "    for line in lines:\n",
    "        print(line, end=\"\")"
   ]
  },
  {
   "cell_type": "code",
   "execution_count": 1,
   "metadata": {},
   "outputs": [],
   "source": [
    "from __future__ import annotations #gör så att vi kan göra \"value\" till flera typer (se add och division)\n",
    "\n",
    "class Fraction:\n",
    "    def __init__(self, num: int, den: int) -> None: # initierar attributerna till klassen\n",
    "        self.num = num\n",
    "        self.den = den\n",
    "\n",
    "    @property\n",
    "    def num(self) -> int:\n",
    "        return self.num\n",
    "    \n",
    "    @num.setter\n",
    "    def num(self, num: int) -> int:\n",
    "\n",
    "        if not isinstance(num, int):\n",
    "            raise TypeError(f\"number must be an int, not {type(num)}\")\n",
    "    \n",
    "        if not (0 <= num <= 1000):\n",
    "            raise ValueError(\"number must be between 0 and 1000\")\n",
    "        self._num = num\n",
    "\n",
    "    def __str__(self) -> str: # vi använder __str__ för att representera objektet i en string.\n",
    "        \"\"\"Display fraction in str\"\"\"\n",
    "        return (f\"{self.num}/{self.den}\") # gör vi inte det här så skrivs inte det som vi vill ut korrekt.\n",
    "\n",
    "    def simplify(self, value = None): # simplifieras till den simplaste formen förutom när något värde har tilldelats.\n",
    "        if self.num % self.den == 1: # om det bara kan delas en gång skippas simplify\n",
    "            pass\n",
    "\n",
    "# tips för uppgifter med matte är att förstå matten väl före man börjar\n",
    "# det underlättar uppgiften väldigt mycket och förstår koden snabbare och lättare.    \n",
    "\n",
    "#-----------------------MIXED----------------------------------------------------------------------------------------------------\n",
    "    def mixed(self) -> int:      \n",
    "        if self.den == 1: # eftersom täljaren inte har ett värde över 1, räknas det inte som ett bråktal längre (ungefär),\n",
    "            return (self.num) # så vi skriver bara ut nämnaren om det är fallet.\n",
    "        elif self.num > self.den: # uträkning för highest common denominator (endast om nämnaren är mindre än täljaren)\n",
    "            return (f\"{self.num//self.den} {self.num % self.den}/{self.den}\") # hcd kollar vilken den lägsta siffran är som båda kan delas med.\n",
    "        else:\n",
    "            return self.show()\n",
    "\n",
    "#-----------------------SUBTRACTION----------------------------------------------------------------------------------------------\n",
    "    def __sub__(self, value) -> int:\n",
    "        new_num = self.num * value.den - self.den * value.num # skapar den nya nämnaren genom \"kryssuträkning\" från vänster till höger. Det ger oss nämnaren\n",
    "        new_den = self.den * value.den # för att skapa den nya täljaren behöver vi endast gångra täljarna från både bråktalen\n",
    "        return Fraction(new_num, new_den)\n",
    "\n",
    "#-----------------------ADDITION------------------------------------------------------------------------------------------------\n",
    "    def __add__(self, value: (Fraction | int | float )) -> Fraction: # Addition dunder metod\n",
    "        if type(value) == Fraction: # Kollar ifall numrerna är ett bråktal eller ej, alltså såhär: (x,x)\n",
    "            new_num = self.num * value.den + self.den * value.num  # ifall dem är det så görs uträkning precis som med subtration i en kryssuträkning.\n",
    "            new_den = self.den * value.den\n",
    "            return Fraction(new_num, new_den)\n",
    "        else: # annars går det vidare till den här. I detta fallet är \"value\" heltalet som vi skriver jämte bråktalet.\n",
    "            new_num = self.num + self.den * value\n",
    "            return Fraction(new_num, self.den)\n",
    "\n",
    "#----------------------MULTIPLICATION--------------------------------------------------------------------------------------------\n",
    "    def __mul__(self, value) -> int:\n",
    "        if type(value) == Fraction: # kollar likadant som uträkning med subtration ifall det är heltal eller bråktal.\n",
    "            new_top = self.num * value.num #uträkningen för multiplikation ser lite annorlunda ut jämnfört med subtration och addition.\n",
    "            new_bot = self.den * value.den\n",
    "            return Fraction(new_top, new_bot)\n",
    "        else:\n",
    "            new_num = self.num * value # samma som addition är \"value\" ett heltal, samt att uträkningen är också annorlunda här.\n",
    "            return Fraction(new_num, self.den)\n",
    "\n",
    "#----------------------DIVISION--------------------------------------------------------------------------------------------------\n",
    "    def __truediv__(self, value) -> int: # funkar för denna uträkning, men hade behövt highest common denominator uträkning för andra uträkningar.\n",
    "        new_sum = self.num * value.den // value.den\n",
    "        new_bot = self.den * value.num // value.den\n",
    "        return Fraction(new_sum, new_bot)\n",
    "\n",
    "#----------------------BOOLEAN(TRUE OR FLASE)-----------------------------------------------------------------------------\n",
    "    def __eq__(self, value) -> bool: # checkar ifall bråktalen är lika mycket, ex: 1/4 & 2/8\n",
    "        return (self.num * value.den == value.num * self.den) # är detta fallet skrivs detta ut.\n"
   ]
  },
  {
   "cell_type": "code",
   "execution_count": 1,
   "metadata": {},
   "outputs": [
    {
     "ename": "NameError",
     "evalue": "name 'Fraction' is not defined",
     "output_type": "error",
     "traceback": [
      "\u001b[1;31m---------------------------------------------------------------------------\u001b[0m",
      "\u001b[1;31mNameError\u001b[0m                                 Traceback (most recent call last)",
      "\u001b[1;32me:\\Github sparade filer\\Python-Daniel-Nilsson\\random_stuff.ipynb Cell 3\u001b[0m in \u001b[0;36m<cell line: 2>\u001b[1;34m()\u001b[0m\n\u001b[0;32m      <a href='vscode-notebook-cell:/e%3A/Github%20sparade%20filer/Python-Daniel-Nilsson/random_stuff.ipynb#W4sZmlsZQ%3D%3D?line=0'>1</a>\u001b[0m \u001b[39m# add - fractions\u001b[39;00m\n\u001b[1;32m----> <a href='vscode-notebook-cell:/e%3A/Github%20sparade%20filer/Python-Daniel-Nilsson/random_stuff.ipynb#W4sZmlsZQ%3D%3D?line=1'>2</a>\u001b[0m x \u001b[39m=\u001b[39m Fraction(\u001b[39m1\u001b[39m,\u001b[39m2\u001b[39m)\n\u001b[0;32m      <a href='vscode-notebook-cell:/e%3A/Github%20sparade%20filer/Python-Daniel-Nilsson/random_stuff.ipynb#W4sZmlsZQ%3D%3D?line=2'>3</a>\u001b[0m y \u001b[39m=\u001b[39m Fraction(\u001b[39m1\u001b[39m,\u001b[39m3\u001b[39m)\n\u001b[0;32m      <a href='vscode-notebook-cell:/e%3A/Github%20sparade%20filer/Python-Daniel-Nilsson/random_stuff.ipynb#W4sZmlsZQ%3D%3D?line=3'>4</a>\u001b[0m \u001b[39mprint\u001b[39m(\u001b[39mf\u001b[39m\u001b[39m\"\u001b[39m\u001b[39mAddition with fraction: \u001b[39m\u001b[39m{\u001b[39;00mx\u001b[39m}\u001b[39;00m\u001b[39m + \u001b[39m\u001b[39m{\u001b[39;00my\u001b[39m}\u001b[39;00m\u001b[39m = \u001b[39m\u001b[39m{\u001b[39;00mx \u001b[39m+\u001b[39m y\u001b[39m}\u001b[39;00m\u001b[39m\"\u001b[39m)\n",
      "\u001b[1;31mNameError\u001b[0m: name 'Fraction' is not defined"
     ]
    }
   ],
   "source": [
    "# add - fractions\n",
    "x = Fraction(1,2)\n",
    "y = Fraction(1,3)\n",
    "print(f\"Addition with fraction: {x} + {y} = {x + y}\")"
   ]
  },
  {
   "cell_type": "code",
   "execution_count": null,
   "metadata": {},
   "outputs": [],
   "source": [
    "# b) and c)\n",
    "with open(\"data/test_result.txt\", \"r\") as f_read, open(\"data/test_result.txt\", \"a\") as f_write:\n",
    "    lines = f_read.readlines()\n",
    "\n",
    "    lines[-1] += \"\\n\"\n",
    "\n",
    "    f_write.write(\"\\n\\nAlfabetisk ordning\\n\")\n",
    "\n",
    "    # ----------------------------b)--------------------------\n",
    "    lines_sorted_alphabetically = sorted(lines)\n",
    "\n",
    "    for line in lines_sorted_alphabetically:\n",
    "        f_write.write(line)\n",
    "\n",
    "\n",
    "    f_write.write(\"\\n\\nSorterat efter betyg\\n\\n\")\n",
    "\n",
    "    # ----------------------------c)--------------------------\n",
    "    # need to split and find the score for each line\n",
    "    # put them in grade order\n",
    "\n",
    "    grades = \"ABCDEF\"[::-1]\n",
    "    print(grades)\n",
    "\n",
    "    for grade, limit in zip(grades, range(20, 71, 10)):\n",
    "\n",
    "        f_write.write(f\"\\nBetyg {grade}\\n\")\n",
    "\n",
    "        for line in lines:\n",
    "            #print(line.split()) # this gives a list for each line \n",
    "            print(line.split()[-1])\n",
    "\n",
    "            point = int(line.split()[-1]) # type converts string to int\n",
    "            # if statement requires test between same types\n",
    "            \n",
    "            # handle F separately in order not to miss those lower than 10\n",
    "\n",
    "            if limit-10 <= point < limit:\n",
    "                f_write.write(f\"{line}\") # type converts int to string, in order to write it to a txt file"
   ]
  },
  {
   "cell_type": "code",
   "execution_count": 32,
   "metadata": {},
   "outputs": [
    {
     "name": "stdout",
     "output_type": "stream",
     "text": [
      "F 20\n",
      "E 30\n",
      "D 40\n",
      "C 50\n",
      "B 60\n"
     ]
    }
   ],
   "source": [
    "for grade, limit in zip(grades, range(20,61,10)):\n",
    "    print(grade, limit)"
   ]
  }
 ],
 "metadata": {
  "kernelspec": {
   "display_name": "Python 3.9.13 ('Python-Daniel-Nilsson-97nbzLRS')",
   "language": "python",
   "name": "python3"
  },
  "language_info": {
   "codemirror_mode": {
    "name": "ipython",
    "version": 3
   },
   "file_extension": ".py",
   "mimetype": "text/x-python",
   "name": "python",
   "nbconvert_exporter": "python",
   "pygments_lexer": "ipython3",
   "version": "3.9.13"
  },
  "orig_nbformat": 4,
  "vscode": {
   "interpreter": {
    "hash": "bc050669da3b02a0dab5c74fea36723f6f6f98ad170411b0b9177bcf895e45d7"
   }
  }
 },
 "nbformat": 4,
 "nbformat_minor": 2
}
