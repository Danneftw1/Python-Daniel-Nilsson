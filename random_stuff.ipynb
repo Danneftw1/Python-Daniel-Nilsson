{
 "cells": [
  {
   "cell_type": "code",
   "execution_count": null,
   "metadata": {},
   "outputs": [],
   "source": [
    "def round_scores(list: list) -> list:\n",
    "    new_list = [round(item) for item in list]\n",
    "    return new_list\n",
    "    \n",
    "\n",
    "student_scores = [90.33, 40.5, 55.44, 70.05, 30.55, 25.45, 80.45, 95.3, 38.7, 40.3]\n",
    "round_scores(student_scores)"
   ]
  },
  {
   "cell_type": "code",
   "execution_count": 9,
   "metadata": {},
   "outputs": [
    {
     "data": {
      "text/plain": [
       "5"
      ]
     },
     "execution_count": 9,
     "metadata": {},
     "output_type": "execute_result"
    }
   ],
   "source": [
    "def count_failed_students(student_scores: list):\n",
    "    new_list = [1 for score in student_scores if score <= 40] # list generator\n",
    "    return sum(new_list)\n",
    "\n",
    "# vad är skillanden mellan lista och generator????????\n",
    "\n",
    "count_failed_students(student_scores=[90,40,55,70,30,25,80,95,38,40])\n"
   ]
  },
  {
   "cell_type": "code",
   "execution_count": 1,
   "metadata": {},
   "outputs": [
    {
     "ename": "ModuleNotFoundError",
     "evalue": "No module named 'geometry_shapes'",
     "output_type": "error",
     "traceback": [
      "\u001b[1;31m---------------------------------------------------------------------------\u001b[0m",
      "\u001b[1;31mModuleNotFoundError\u001b[0m                       Traceback (most recent call last)",
      "\u001b[1;32me:\\Github sparade filer\\Python-Daniel-Nilsson\\random_stuff.ipynb Cell 3\u001b[0m in \u001b[0;36m<cell line: 1>\u001b[1;34m()\u001b[0m\n\u001b[1;32m----> <a href='vscode-notebook-cell:/e%3A/Github%20sparade%20filer/Python-Daniel-Nilsson/random_stuff.ipynb#X22sZmlsZQ%3D%3D?line=0'>1</a>\u001b[0m \u001b[39mfrom\u001b[39;00m \u001b[39mgeometry_shapes\u001b[39;00m \u001b[39mimport\u001b[39;00m Circle\n\u001b[0;32m      <a href='vscode-notebook-cell:/e%3A/Github%20sparade%20filer/Python-Daniel-Nilsson/random_stuff.ipynb#X22sZmlsZQ%3D%3D?line=1'>2</a>\u001b[0m \u001b[39mfrom\u001b[39;00m \u001b[39mgeometry_shapes\u001b[39;00m \u001b[39mimport\u001b[39;00m Rectangle\n",
      "\u001b[1;31mModuleNotFoundError\u001b[0m: No module named 'geometry_shapes'"
     ]
    }
   ],
   "source": []
  },
  {
   "cell_type": "code",
   "execution_count": null,
   "metadata": {},
   "outputs": [],
   "source": [
    "def letter_grades(highest_score: list):\n",
    "\tnew_list = [item for item in range(5)]\n",
    "    return new_list\n",
    "\n",
    "letter_grades(highest=100)"
   ]
  },
  {
   "cell_type": "code",
   "execution_count": 19,
   "metadata": {},
   "outputs": [],
   "source": [
    "\n",
    "def letter_grades(highest: list):\n",
    "    step = (highest - 40)/4\n",
    "    base = 41\n",
    "    score_list = [base + (step * i) for i in range(4)]\n",
    "    return score_list"
   ]
  },
  {
   "cell_type": "code",
   "execution_count": null,
   "metadata": {},
   "outputs": [],
   "source": [
    "\n",
    "def student_ranking(student_scores: list, student_names: list) -> list:\n",
    "    return reduce(operator.add) # kolla hur man gör här\n",
    "\n",
    "\n",
    "\n",
    "student_scores = [100, 99, 90, 84, 66, 53, 47]\n",
    "student_names =  ['Joci', 'Sara','Kora','Jan','John','Bern', 'Fred']\n",
    "student_ranking(student_scores, student_names)"
   ]
  },
  {
   "cell_type": "markdown",
   "metadata": {},
   "source": [
    "6. A \"Perfect\" Score\n",
    "\n",
    "Although a \"perfect\" score of 100 is rare on an exam, it is interesting to know if at least one student has achieved it.\n",
    "\n",
    "Create the function perfect_score() with parameter student_info. student_info is a list of lists containing the name and score of each student: [[\"Charles\", 90], [\"Tony\", 80]]. The function should return the first [<name>, <score>] pair of the student who scored 100 on the exam.\n",
    "\n",
    "If no 100 scores are found in student_info, an empty list [] should be returned.\n",
    "\n",
    ">>> perfect_score(student_info=[[\"Charles\", 90], [\"Tony\", 80], [\"Alex\", 100]])\n",
    "[\"Alex\", 100]\n",
    "\n",
    ">>> perfect_score(student_info=[[\"Charles\", 90], [\"Tony\", 80]])\n",
    "[]\n"
   ]
  },
  {
   "cell_type": "code",
   "execution_count": 37,
   "metadata": {},
   "outputs": [
    {
     "data": {
      "text/plain": [
       "[]"
      ]
     },
     "execution_count": 37,
     "metadata": {},
     "output_type": "execute_result"
    }
   ],
   "source": [
    "def perfect_score(student_info: list):\n",
    "    new_list = [x for x in student_info if 100 in x]\n",
    "    return new_list\n",
    "\n",
    "perfect_score(student_info=[[\"Charles\", 90], [\"Tony\", 80]])"
   ]
  },
  {
   "cell_type": "markdown",
   "metadata": {},
   "source": [
    "## Classes and instances"
   ]
  },
  {
   "cell_type": "code",
   "execution_count": 24,
   "metadata": {},
   "outputs": [
    {
     "name": "stdout",
     "output_type": "stream",
     "text": [
      "Daniel Nilsson\n",
      "Petrus Johansson\n",
      "50000\n"
     ]
    }
   ],
   "source": [
    "class Employee:\n",
    "\n",
    "    raise_ammount = 1.04 # class variabel\n",
    "\n",
    "    def __init__(self, f_name, l_name, pay):\n",
    "        self.f_name = f_name\n",
    "        self.l_name = l_name\n",
    "        self.pay = pay\n",
    "        # self.email = f\"{self.f_name}.{self.l_name}@company.com\" - kan lägga in attributer såhär också\n",
    "        # funkar endast om vi inte har getters\n",
    "\n",
    "#-------------------------------GETTERS & SETTERS----------------------------------------------------\n",
    "    # lägger jag in detta i getter så behöver det inte stå uppe hos attributerna längre\n",
    "    @property # denna behöver också bara vara getter eftersom vi inte vill kunna ändra upplägget\n",
    "    def email(self):\n",
    "        return f\"{self.f_name}.{self.l_name}@company.com\"\n",
    "\n",
    "    @property\n",
    "    def f_name(self): # getter behöver bara \"self\"\n",
    "        return self._f_name\n",
    "    # glöm inte \"_\" efter \"self.\" - SKA VARA PÅ BÅDE GETTER OCH SETTER MEN INTE UTANFÖR.\n",
    "    @f_name.setter\n",
    "    def f_name(self, name):\n",
    "        if type(name) != str:\n",
    "            raise TypeError(f\"Måste vara string inte {type(name).__name__}\") #__name__ förkortar förklaringen av misstaget (behövs nog inte)\n",
    "        self._f_name = name # gör name till self.f_name\n",
    "\n",
    "#-----------------------------------METHODS-----------------------------------------------------------    \n",
    "    def full_name(self):\n",
    "        return f\"{self.f_name} {self.l_name}\"\n",
    "\n",
    "    def apply_raise(self): # int gör bara att det är helnummer\n",
    "        self.pay = int(self.pay * self.raise_ammount)\n",
    "\n",
    "emp_1 = Employee(\"Daniel\", \"Nilsson\", 50000)\n",
    "emp_2 = Employee(\"Petrus\", \"Johansson\", 40000)\n",
    "\n",
    "print(emp_1.full_name()) # om du inte har \"()\" utan repr eller str så kommer objektet skrivas ut istället\n",
    "print(emp_2.full_name())\n",
    "\n",
    "print(emp_1.pay)"
   ]
  },
  {
   "cell_type": "code",
   "execution_count": 1,
   "metadata": {},
   "outputs": [
    {
     "data": {
      "text/plain": [
       "166354"
      ]
     },
     "execution_count": 1,
     "metadata": {},
     "output_type": "execute_result"
    }
   ],
   "source": [
    "import random as rnd\n",
    "\n",
    "dice = [rnd.randint(1,6) for i in range(1000000)]\n",
    "\n",
    "ones = dice.count(1)\n",
    "twos = dice.count(2)\n",
    "threes = dice.count(3)\n",
    "fours = dice.count(4)\n",
    "fives = dice.count(5)\n",
    "sixes = dice.count(6)\n",
    "\n",
    "sixes"
   ]
  }
 ],
 "metadata": {
  "kernelspec": {
   "display_name": "Python 3.9.13 ('Python-Daniel-Nilsson-97nbzLRS')",
   "language": "python",
   "name": "python3"
  },
  "language_info": {
   "codemirror_mode": {
    "name": "ipython",
    "version": 3
   },
   "file_extension": ".py",
   "mimetype": "text/x-python",
   "name": "python",
   "nbconvert_exporter": "python",
   "pygments_lexer": "ipython3",
   "version": "3.9.13"
  },
  "orig_nbformat": 4,
  "vscode": {
   "interpreter": {
    "hash": "bc050669da3b02a0dab5c74fea36723f6f6f98ad170411b0b9177bcf895e45d7"
   }
  }
 },
 "nbformat": 4,
 "nbformat_minor": 2
}
